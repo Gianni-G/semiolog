{
 "cells": [
  {
   "cell_type": "code",
   "execution_count": 1,
   "metadata": {},
   "outputs": [],
   "source": [
    "import semiolog as slg\n",
    "\n",
    "import random"
   ]
  },
  {
   "cell_type": "code",
   "execution_count": 2,
   "metadata": {},
   "outputs": [],
   "source": [
    "semiotic = slg.load(\"en_bnc\")"
   ]
  },
  {
   "cell_type": "code",
   "execution_count": 3,
   "metadata": {},
   "outputs": [],
   "source": [
    "test_sents = semiotic.test_sents()"
   ]
  },
  {
   "cell_type": "code",
   "execution_count": 4,
   "metadata": {},
   "outputs": [
    {
     "name": "stdout",
     "output_type": "stream",
     "text": [
      "this chapter rounds off the section of genesis centring on jacob\n"
     ]
    }
   ],
   "source": [
    "test_sent = random.choice(test_sents)\n",
    "\n",
    "print(test_sent)\n",
    "test = semiotic(test_sent)"
   ]
  },
  {
   "cell_type": "code",
   "execution_count": 5,
   "metadata": {},
   "outputs": [
    {
     "data": {
      "text/plain": [
       "[(0.753831798559986, 3.079737568004487, 'this'),\n",
       " (0.5218123708618805, 3.492509027157342, 'chapter'),\n",
       " (0.9171955216443166, 3.498575079989402, 'rounds'),\n",
       " (0.8649033067631535, 2.7036008082399685, 'off'),\n",
       " (0.9516495249554282, 2.1282450256354797, 'the'),\n",
       " (0.6595850315643474, 4.014109932779134, 'section'),\n",
       " (0.48077566211577505, 3.775797661361956, 'of'),\n",
       " (0.2232454566983506, 4.479613296738523, 'genesis'),\n",
       " (0.6755900220014155, 3.413310629641756, 'centring'),\n",
       " (0.35481970210094005, 4.130806232751574, 'on'),\n",
       " (0.2622241408098489, 3.7040740616701164, 'jacob')]"
      ]
     },
     "execution_count": 5,
     "metadata": {},
     "output_type": "execute_result"
    }
   ],
   "source": [
    "[(p.mass,p.entropy,l) for l,p in zip(test.chain.split,test.paradigm)]"
   ]
  }
 ],
 "metadata": {
  "interpreter": {
   "hash": "ac2eaa0ea0ebeafcc7822e65e46aa9d4f966f30b695406963e145ea4a91cd4fc"
  },
  "kernelspec": {
   "display_name": "Python 3.9.5 64-bit",
   "name": "python3"
  },
  "language_info": {
   "codemirror_mode": {
    "name": "ipython",
    "version": 3
   },
   "file_extension": ".py",
   "mimetype": "text/x-python",
   "name": "python",
   "nbconvert_exporter": "python",
   "pygments_lexer": "ipython3",
   "version": "3.9.5"
  },
  "metadata": {
   "interpreter": {
    "hash": "ac2eaa0ea0ebeafcc7822e65e46aa9d4f966f30b695406963e145ea4a91cd4fc"
   }
  },
  "orig_nbformat": 4
 },
 "nbformat": 4,
 "nbformat_minor": 2
}