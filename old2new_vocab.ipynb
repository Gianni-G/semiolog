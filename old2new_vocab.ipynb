{
    "cells": [
        {
            "cell_type": "code",
            "execution_count": null,
            "source": [
                "# transform old vocabularies into new framework\n",
                "\n",
                "\n",
                "import csv\n",
                "from collections import Counter\n",
                "\n",
                "with open(\"/Users/Gianni/semiolog/examples/en_bnc_test/vocabularies/bncnorm_30000_p24.csv\", \"r\") as f:\n",
                "    csv_reader = csv.reader(f)\n",
                "    freq = Counter()\n",
                "    for line in csv_reader:\n",
                "        freq[line[0]] = int(line[1])\n",
                "    freq = dict(freq)\n",
                "    \n",
                "with open(\"/Users/Gianni/semiolog/examples/en_bnc_test/vocabularies/Alphabet.csv\", \"r\") as f:\n",
                "    csv_reader = csv.reader(f)\n",
                "    alpha = Counter()\n",
                "    for line in csv_reader:\n",
                "        freq[line[0]] = int(line[1])\n",
                "    alpha = dict(freq)\n",
                "\n",
                "for key in semiotic.config.vocabulary.special_tokens:\n",
                "    freq[key] = 0\n",
                "    \n",
                "vocab = {k:i for i,(k,v) in enumerate(freq.items())}\n",
                "slg.util.dict2json(freq,\"freq\",semiotic.paths.vocabulary)\n",
                "slg.util.dict2json(alpha,\"alpha\",semiotic.paths.vocabulary)\n",
                "slg.util.dict2json(vocab,\"vocab\",semiotic.paths.vocabulary)\n",
                "slg.util.list2txt([],\"merges\",semiotic.paths.vocabulary)"
            ],
            "outputs": [],
            "metadata": {}
        }
    ],
    "metadata": {
        "orig_nbformat": 4,
        "language_info": {
            "name": "python"
        }
    },
    "nbformat": 4,
    "nbformat_minor": 2
}