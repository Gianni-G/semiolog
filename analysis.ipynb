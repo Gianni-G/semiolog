{
 "cells": [
  {
   "cell_type": "code",
   "execution_count": 1,
   "metadata": {},
   "outputs": [],
   "source": [
    "import semiolog as slg\n",
    "\n",
    "import random"
   ]
  },
  {
   "cell_type": "code",
   "execution_count": 2,
   "metadata": {},
   "outputs": [],
   "source": [
    "semiotic = slg.load(\"en_bnc_test\")"
   ]
  },
  {
   "cell_type": "code",
   "execution_count": 24,
   "metadata": {},
   "outputs": [],
   "source": [
    "test_sent = random.choice(semiotic.test_sents())\n",
    "# test_sent = \"I have made My Plans, and I must stick: to them!\"\n",
    "\n",
    "text = semiotic(test_sent)"
   ]
  },
  {
   "cell_type": "code",
   "execution_count": 25,
   "metadata": {},
   "outputs": [
    {
     "data": {
      "text/plain": [
       "[None,\n",
       " None,\n",
       " None,\n",
       " None,\n",
       " None,\n",
       " None,\n",
       " ['knew',\n",
       "  ('realiz', 'ed'),\n",
       "  ('realis', 'ed'),\n",
       "  ('sens', 'ed'),\n",
       "  ('understoo', 'd'),\n",
       "  'saw',\n",
       "  ('recogniz', 'ed'),\n",
       "  ('believ', 'ed'),\n",
       "  ('suspect', 'ed'),\n",
       "  ('assum', 'ed'),\n",
       "  ('fear', 'ed'),\n",
       "  'felt',\n",
       "  ('learn', 'ed'),\n",
       "  ('doubt', 'ed'),\n",
       "  ('remember', 'ed'),\n",
       "  ('recognis', 'ed'),\n",
       "  'thought',\n",
       "  ('discover', 'ed'),\n",
       "  ('imagin', 'ed'),\n",
       "  'forgot',\n",
       "  ('guess', 'ed'),\n",
       "  ('notic', 'ed')],\n",
       " None,\n",
       " None,\n",
       " None,\n",
       " None,\n",
       " [('tight', 'ly'),\n",
       "  ('mental', 'ly'),\n",
       "  ('careful', 'ly'),\n",
       "  'most',\n",
       "  'best',\n",
       "  ('on', 'ly'),\n",
       "  'remote',\n",
       "  'least',\n",
       "  ('fine', 'ly'),\n",
       "  ('ver', 'y'),\n",
       "  ('remote', 'ly'),\n",
       "  ('over', 'ly'),\n",
       "  ('perfect', 'ly'),\n",
       "  ('bare', 'ly'),\n",
       "  ('emotional', 'ly'),\n",
       "  'strongest',\n",
       "  ('strict', 'ly'),\n",
       "  ('high', 'ly')],\n",
       " None,\n",
       " None,\n",
       " None,\n",
       " None,\n",
       " None,\n",
       " None,\n",
       " None]"
      ]
     },
     "execution_count": 25,
     "metadata": {},
     "output_type": "execute_result"
    }
   ],
   "source": [
    "[token.paradigm.productivity for token in text.chain.tokens]"
   ]
  },
  {
   "cell_type": "code",
   "execution_count": 26,
   "metadata": {},
   "outputs": [
    {
     "name": "stdout",
     "output_type": "stream",
     "text": [
      "Chain(but even in this tumult she felt that mark was the sane controlled life guard trying to calm her)\n",
      "['in', 'felt', 'was', 'sane', 'life', 'trying', 'calm']\n"
     ]
    },
    {
     "data": {
      "application/vnd.plotly.v1+json": {
       "config": {
        "plotlyServerURL": "https://plot.ly"
       },
       "data": [
        {
         "line": {
          "shape": "spline"
         },
         "mode": "lines+markers",
         "name": "Func. Scores",
         "type": "scatter",
         "x": [
          "but_0",
          "even_1",
          "in_2",
          "this_3",
          "tumult_4",
          "she_5",
          "felt_6",
          "that_7",
          "mark_8",
          "was_9",
          "the_10",
          "sane_11",
          "controlled_12",
          "life_13",
          "guard_14",
          "trying_15",
          "to_16",
          "calm_17",
          "her_18"
         ],
         "y": [
          0.00006199187163815501,
          0.000047482003648297976,
          0.00003993142566802459,
          0.00006363899356838322,
          0.000006757800005301426,
          0.000001948827267690484,
          0.0000016823984397358621,
          0.00007302162484613609,
          0.0000515908263856716,
          0.000027679318489154158,
          0.00008681260814887777,
          0.000008009454671756412,
          0.00002546906952399657,
          0.0000029517924655627466,
          0.00007005409580510119,
          0.000012841124750595175,
          0.00013338387922683803,
          0.0000029275792208560714,
          0.00004654698487313373
         ]
        },
        {
         "line": {
          "shape": "spline"
         },
         "mode": "lines+markers",
         "name": "Probs.",
         "type": "scatter",
         "x": [
          "but_0",
          "even_1",
          "in_2",
          "this_3",
          "tumult_4",
          "she_5",
          "felt_6",
          "that_7",
          "mark_8",
          "was_9",
          "the_10",
          "sane_11",
          "controlled_12",
          "life_13",
          "guard_14",
          "trying_15",
          "to_16",
          "calm_17",
          "her_18"
         ],
         "y": [
          0.000059000449559824084,
          0.000013236090399195315,
          0.00010703021547596725,
          0.00005505130173819609,
          0,
          0.00001283552941162258,
          0.0000029573332486752944,
          0.00008019902123924682,
          0.000005551658102362798,
          0.00007934782914065475,
          0.00013338387922683803,
          0,
          8.471971419340878e-7,
          0.000007578432780174307,
          0.0000017268865980196872,
          4.996359126904586e-7,
          0.00011697073296277893,
          5.321282268419703e-7,
          0.000028143404333642564
         ]
        }
       ],
       "layout": {
        "shapes": [
         {
          "line": {
           "color": "LightSeaGreen",
           "dash": "dash",
           "width": 2
          },
          "type": "line",
          "x0": 0,
          "x1": 18,
          "y0": 0.00004024850940227727,
          "y1": 0.00004024850940227727
         }
        ],
        "template": {
         "data": {
          "bar": [
           {
            "error_x": {
             "color": "#2a3f5f"
            },
            "error_y": {
             "color": "#2a3f5f"
            },
            "marker": {
             "line": {
              "color": "#E5ECF6",
              "width": 0.5
             }
            },
            "type": "bar"
           }
          ],
          "barpolar": [
           {
            "marker": {
             "line": {
              "color": "#E5ECF6",
              "width": 0.5
             }
            },
            "type": "barpolar"
           }
          ],
          "carpet": [
           {
            "aaxis": {
             "endlinecolor": "#2a3f5f",
             "gridcolor": "white",
             "linecolor": "white",
             "minorgridcolor": "white",
             "startlinecolor": "#2a3f5f"
            },
            "baxis": {
             "endlinecolor": "#2a3f5f",
             "gridcolor": "white",
             "linecolor": "white",
             "minorgridcolor": "white",
             "startlinecolor": "#2a3f5f"
            },
            "type": "carpet"
           }
          ],
          "choropleth": [
           {
            "colorbar": {
             "outlinewidth": 0,
             "ticks": ""
            },
            "type": "choropleth"
           }
          ],
          "contour": [
           {
            "colorbar": {
             "outlinewidth": 0,
             "ticks": ""
            },
            "colorscale": [
             [
              0,
              "#0d0887"
             ],
             [
              0.1111111111111111,
              "#46039f"
             ],
             [
              0.2222222222222222,
              "#7201a8"
             ],
             [
              0.3333333333333333,
              "#9c179e"
             ],
             [
              0.4444444444444444,
              "#bd3786"
             ],
             [
              0.5555555555555556,
              "#d8576b"
             ],
             [
              0.6666666666666666,
              "#ed7953"
             ],
             [
              0.7777777777777778,
              "#fb9f3a"
             ],
             [
              0.8888888888888888,
              "#fdca26"
             ],
             [
              1,
              "#f0f921"
             ]
            ],
            "type": "contour"
           }
          ],
          "contourcarpet": [
           {
            "colorbar": {
             "outlinewidth": 0,
             "ticks": ""
            },
            "type": "contourcarpet"
           }
          ],
          "heatmap": [
           {
            "colorbar": {
             "outlinewidth": 0,
             "ticks": ""
            },
            "colorscale": [
             [
              0,
              "#0d0887"
             ],
             [
              0.1111111111111111,
              "#46039f"
             ],
             [
              0.2222222222222222,
              "#7201a8"
             ],
             [
              0.3333333333333333,
              "#9c179e"
             ],
             [
              0.4444444444444444,
              "#bd3786"
             ],
             [
              0.5555555555555556,
              "#d8576b"
             ],
             [
              0.6666666666666666,
              "#ed7953"
             ],
             [
              0.7777777777777778,
              "#fb9f3a"
             ],
             [
              0.8888888888888888,
              "#fdca26"
             ],
             [
              1,
              "#f0f921"
             ]
            ],
            "type": "heatmap"
           }
          ],
          "heatmapgl": [
           {
            "colorbar": {
             "outlinewidth": 0,
             "ticks": ""
            },
            "colorscale": [
             [
              0,
              "#0d0887"
             ],
             [
              0.1111111111111111,
              "#46039f"
             ],
             [
              0.2222222222222222,
              "#7201a8"
             ],
             [
              0.3333333333333333,
              "#9c179e"
             ],
             [
              0.4444444444444444,
              "#bd3786"
             ],
             [
              0.5555555555555556,
              "#d8576b"
             ],
             [
              0.6666666666666666,
              "#ed7953"
             ],
             [
              0.7777777777777778,
              "#fb9f3a"
             ],
             [
              0.8888888888888888,
              "#fdca26"
             ],
             [
              1,
              "#f0f921"
             ]
            ],
            "type": "heatmapgl"
           }
          ],
          "histogram": [
           {
            "marker": {
             "colorbar": {
              "outlinewidth": 0,
              "ticks": ""
             }
            },
            "type": "histogram"
           }
          ],
          "histogram2d": [
           {
            "colorbar": {
             "outlinewidth": 0,
             "ticks": ""
            },
            "colorscale": [
             [
              0,
              "#0d0887"
             ],
             [
              0.1111111111111111,
              "#46039f"
             ],
             [
              0.2222222222222222,
              "#7201a8"
             ],
             [
              0.3333333333333333,
              "#9c179e"
             ],
             [
              0.4444444444444444,
              "#bd3786"
             ],
             [
              0.5555555555555556,
              "#d8576b"
             ],
             [
              0.6666666666666666,
              "#ed7953"
             ],
             [
              0.7777777777777778,
              "#fb9f3a"
             ],
             [
              0.8888888888888888,
              "#fdca26"
             ],
             [
              1,
              "#f0f921"
             ]
            ],
            "type": "histogram2d"
           }
          ],
          "histogram2dcontour": [
           {
            "colorbar": {
             "outlinewidth": 0,
             "ticks": ""
            },
            "colorscale": [
             [
              0,
              "#0d0887"
             ],
             [
              0.1111111111111111,
              "#46039f"
             ],
             [
              0.2222222222222222,
              "#7201a8"
             ],
             [
              0.3333333333333333,
              "#9c179e"
             ],
             [
              0.4444444444444444,
              "#bd3786"
             ],
             [
              0.5555555555555556,
              "#d8576b"
             ],
             [
              0.6666666666666666,
              "#ed7953"
             ],
             [
              0.7777777777777778,
              "#fb9f3a"
             ],
             [
              0.8888888888888888,
              "#fdca26"
             ],
             [
              1,
              "#f0f921"
             ]
            ],
            "type": "histogram2dcontour"
           }
          ],
          "mesh3d": [
           {
            "colorbar": {
             "outlinewidth": 0,
             "ticks": ""
            },
            "type": "mesh3d"
           }
          ],
          "parcoords": [
           {
            "line": {
             "colorbar": {
              "outlinewidth": 0,
              "ticks": ""
             }
            },
            "type": "parcoords"
           }
          ],
          "pie": [
           {
            "automargin": true,
            "type": "pie"
           }
          ],
          "scatter": [
           {
            "marker": {
             "colorbar": {
              "outlinewidth": 0,
              "ticks": ""
             }
            },
            "type": "scatter"
           }
          ],
          "scatter3d": [
           {
            "line": {
             "colorbar": {
              "outlinewidth": 0,
              "ticks": ""
             }
            },
            "marker": {
             "colorbar": {
              "outlinewidth": 0,
              "ticks": ""
             }
            },
            "type": "scatter3d"
           }
          ],
          "scattercarpet": [
           {
            "marker": {
             "colorbar": {
              "outlinewidth": 0,
              "ticks": ""
             }
            },
            "type": "scattercarpet"
           }
          ],
          "scattergeo": [
           {
            "marker": {
             "colorbar": {
              "outlinewidth": 0,
              "ticks": ""
             }
            },
            "type": "scattergeo"
           }
          ],
          "scattergl": [
           {
            "marker": {
             "colorbar": {
              "outlinewidth": 0,
              "ticks": ""
             }
            },
            "type": "scattergl"
           }
          ],
          "scattermapbox": [
           {
            "marker": {
             "colorbar": {
              "outlinewidth": 0,
              "ticks": ""
             }
            },
            "type": "scattermapbox"
           }
          ],
          "scatterpolar": [
           {
            "marker": {
             "colorbar": {
              "outlinewidth": 0,
              "ticks": ""
             }
            },
            "type": "scatterpolar"
           }
          ],
          "scatterpolargl": [
           {
            "marker": {
             "colorbar": {
              "outlinewidth": 0,
              "ticks": ""
             }
            },
            "type": "scatterpolargl"
           }
          ],
          "scatterternary": [
           {
            "marker": {
             "colorbar": {
              "outlinewidth": 0,
              "ticks": ""
             }
            },
            "type": "scatterternary"
           }
          ],
          "surface": [
           {
            "colorbar": {
             "outlinewidth": 0,
             "ticks": ""
            },
            "colorscale": [
             [
              0,
              "#0d0887"
             ],
             [
              0.1111111111111111,
              "#46039f"
             ],
             [
              0.2222222222222222,
              "#7201a8"
             ],
             [
              0.3333333333333333,
              "#9c179e"
             ],
             [
              0.4444444444444444,
              "#bd3786"
             ],
             [
              0.5555555555555556,
              "#d8576b"
             ],
             [
              0.6666666666666666,
              "#ed7953"
             ],
             [
              0.7777777777777778,
              "#fb9f3a"
             ],
             [
              0.8888888888888888,
              "#fdca26"
             ],
             [
              1,
              "#f0f921"
             ]
            ],
            "type": "surface"
           }
          ],
          "table": [
           {
            "cells": {
             "fill": {
              "color": "#EBF0F8"
             },
             "line": {
              "color": "white"
             }
            },
            "header": {
             "fill": {
              "color": "#C8D4E3"
             },
             "line": {
              "color": "white"
             }
            },
            "type": "table"
           }
          ]
         },
         "layout": {
          "annotationdefaults": {
           "arrowcolor": "#2a3f5f",
           "arrowhead": 0,
           "arrowwidth": 1
          },
          "autotypenumbers": "strict",
          "coloraxis": {
           "colorbar": {
            "outlinewidth": 0,
            "ticks": ""
           }
          },
          "colorscale": {
           "diverging": [
            [
             0,
             "#8e0152"
            ],
            [
             0.1,
             "#c51b7d"
            ],
            [
             0.2,
             "#de77ae"
            ],
            [
             0.3,
             "#f1b6da"
            ],
            [
             0.4,
             "#fde0ef"
            ],
            [
             0.5,
             "#f7f7f7"
            ],
            [
             0.6,
             "#e6f5d0"
            ],
            [
             0.7,
             "#b8e186"
            ],
            [
             0.8,
             "#7fbc41"
            ],
            [
             0.9,
             "#4d9221"
            ],
            [
             1,
             "#276419"
            ]
           ],
           "sequential": [
            [
             0,
             "#0d0887"
            ],
            [
             0.1111111111111111,
             "#46039f"
            ],
            [
             0.2222222222222222,
             "#7201a8"
            ],
            [
             0.3333333333333333,
             "#9c179e"
            ],
            [
             0.4444444444444444,
             "#bd3786"
            ],
            [
             0.5555555555555556,
             "#d8576b"
            ],
            [
             0.6666666666666666,
             "#ed7953"
            ],
            [
             0.7777777777777778,
             "#fb9f3a"
            ],
            [
             0.8888888888888888,
             "#fdca26"
            ],
            [
             1,
             "#f0f921"
            ]
           ],
           "sequentialminus": [
            [
             0,
             "#0d0887"
            ],
            [
             0.1111111111111111,
             "#46039f"
            ],
            [
             0.2222222222222222,
             "#7201a8"
            ],
            [
             0.3333333333333333,
             "#9c179e"
            ],
            [
             0.4444444444444444,
             "#bd3786"
            ],
            [
             0.5555555555555556,
             "#d8576b"
            ],
            [
             0.6666666666666666,
             "#ed7953"
            ],
            [
             0.7777777777777778,
             "#fb9f3a"
            ],
            [
             0.8888888888888888,
             "#fdca26"
            ],
            [
             1,
             "#f0f921"
            ]
           ]
          },
          "colorway": [
           "#636efa",
           "#EF553B",
           "#00cc96",
           "#ab63fa",
           "#FFA15A",
           "#19d3f3",
           "#FF6692",
           "#B6E880",
           "#FF97FF",
           "#FECB52"
          ],
          "font": {
           "color": "#2a3f5f"
          },
          "geo": {
           "bgcolor": "white",
           "lakecolor": "white",
           "landcolor": "#E5ECF6",
           "showlakes": true,
           "showland": true,
           "subunitcolor": "white"
          },
          "hoverlabel": {
           "align": "left"
          },
          "hovermode": "closest",
          "mapbox": {
           "style": "light"
          },
          "paper_bgcolor": "white",
          "plot_bgcolor": "#E5ECF6",
          "polar": {
           "angularaxis": {
            "gridcolor": "white",
            "linecolor": "white",
            "ticks": ""
           },
           "bgcolor": "#E5ECF6",
           "radialaxis": {
            "gridcolor": "white",
            "linecolor": "white",
            "ticks": ""
           }
          },
          "scene": {
           "xaxis": {
            "backgroundcolor": "#E5ECF6",
            "gridcolor": "white",
            "gridwidth": 2,
            "linecolor": "white",
            "showbackground": true,
            "ticks": "",
            "zerolinecolor": "white"
           },
           "yaxis": {
            "backgroundcolor": "#E5ECF6",
            "gridcolor": "white",
            "gridwidth": 2,
            "linecolor": "white",
            "showbackground": true,
            "ticks": "",
            "zerolinecolor": "white"
           },
           "zaxis": {
            "backgroundcolor": "#E5ECF6",
            "gridcolor": "white",
            "gridwidth": 2,
            "linecolor": "white",
            "showbackground": true,
            "ticks": "",
            "zerolinecolor": "white"
           }
          },
          "shapedefaults": {
           "line": {
            "color": "#2a3f5f"
           }
          },
          "ternary": {
           "aaxis": {
            "gridcolor": "white",
            "linecolor": "white",
            "ticks": ""
           },
           "baxis": {
            "gridcolor": "white",
            "linecolor": "white",
            "ticks": ""
           },
           "bgcolor": "#E5ECF6",
           "caxis": {
            "gridcolor": "white",
            "linecolor": "white",
            "ticks": ""
           }
          },
          "title": {
           "x": 0.05
          },
          "xaxis": {
           "automargin": true,
           "gridcolor": "white",
           "linecolor": "white",
           "ticks": "",
           "title": {
            "standoff": 15
           },
           "zerolinecolor": "white",
           "zerolinewidth": 2
          },
          "yaxis": {
           "automargin": true,
           "gridcolor": "white",
           "linecolor": "white",
           "ticks": "",
           "title": {
            "standoff": 15
           },
           "zerolinecolor": "white",
           "zerolinewidth": 2
          }
         }
        },
        "title": {
         "text": "but even in this tumult she felt that mark was the sane controlled life guard trying to calm her"
        },
        "xaxis": {
         "title": {
          "text": "Paradigm"
         }
        },
        "yaxis": {
         "title": {
          "text": "Paradigm"
         }
        }
       }
      }
     },
     "metadata": {},
     "output_type": "display_data"
    }
   ],
   "source": [
    "print(text.chain)\n",
    "\n",
    "print([text.chain.labels[i] for i in text.type_chain.scores_min])\n",
    "\n",
    "text.type_chain.plot_scores(show_mean=True, show_probs=True)"
   ]
  },
  {
   "cell_type": "code",
   "execution_count": 80,
   "metadata": {},
   "outputs": [
    {
     "name": "stdout",
     "output_type": "stream",
     "text": [
      "inf\n"
     ]
    },
    {
     "data": {
      "application/vnd.plotly.v1+json": {
       "config": {
        "plotlyServerURL": "https://plot.ly"
       },
       "data": [
        {
         "line": {
          "shape": "spline"
         },
         "mode": "lines+markers",
         "type": "scatter",
         "x": [
          "('a', 'life')",
          "('a', 'potentially')",
          "('a', 'health')",
          "('a', 'serious')",
          "('a', 'world')",
          "('a', 'seriously')",
          "('a', 'globally')",
          "('a', 'disease')",
          "('a', 'lifetime')",
          "('a', 'social')",
          "('a', 'global')",
          "('a', 'risk')",
          "('a', 'rapidly')",
          "('a', 'very')",
          "('a', 'worldwide')",
          "('a', 'highly')",
          "('a', 'particularly')",
          "('a', 'systemic')",
          "('an', 'life')",
          "('an', 'potentially')",
          "('an', 'health')",
          "('an', 'serious')",
          "('an', 'world')",
          "('an', 'seriously')",
          "('an', 'globally')",
          "('an', 'disease')",
          "('an', 'lifetime')",
          "('an', 'social')",
          "('an', 'global')",
          "('an', 'risk')",
          "('an', 'rapidly')",
          "('an', 'very')",
          "('an', 'worldwide')",
          "('an', 'highly')",
          "('an', 'particularly')",
          "('an', 'systemic')",
          "('any', 'life')",
          "('any', 'potentially')",
          "('any', 'health')",
          "('any', 'serious')",
          "('any', 'world')",
          "('any', 'seriously')",
          "('any', 'globally')",
          "('any', 'disease')",
          "('any', 'lifetime')",
          "('any', 'social')",
          "('any', 'global')",
          "('any', 'risk')",
          "('any', 'rapidly')",
          "('any', 'very')",
          "('any', 'worldwide')",
          "('any', 'highly')",
          "('any', 'particularly')",
          "('any', 'systemic')",
          "('another', 'life')",
          "('another', 'potentially')",
          "('another', 'health')",
          "('another', 'serious')",
          "('another', 'world')",
          "('another', 'seriously')",
          "('another', 'globally')",
          "('another', 'disease')",
          "('another', 'lifetime')",
          "('another', 'social')",
          "('another', 'global')",
          "('another', 'risk')",
          "('another', 'rapidly')",
          "('another', 'very')",
          "('another', 'worldwide')",
          "('another', 'highly')",
          "('another', 'particularly')",
          "('another', 'systemic')",
          "('the', 'life')",
          "('the', 'potentially')",
          "('the', 'health')",
          "('the', 'serious')",
          "('the', 'world')",
          "('the', 'seriously')",
          "('the', 'globally')",
          "('the', 'disease')",
          "('the', 'lifetime')",
          "('the', 'social')",
          "('the', 'global')",
          "('the', 'risk')",
          "('the', 'rapidly')",
          "('the', 'very')",
          "('the', 'worldwide')",
          "('the', 'highly')",
          "('the', 'particularly')",
          "('the', 'systemic')",
          "('one', 'life')",
          "('one', 'potentially')",
          "('one', 'health')",
          "('one', 'serious')",
          "('one', 'world')",
          "('one', 'seriously')",
          "('one', 'globally')",
          "('one', 'disease')",
          "('one', 'lifetime')",
          "('one', 'social')",
          "('one', 'global')",
          "('one', 'risk')",
          "('one', 'rapidly')",
          "('one', 'very')",
          "('one', 'worldwide')",
          "('one', 'highly')",
          "('one', 'particularly')",
          "('one', 'systemic')",
          "('some', 'life')",
          "('some', 'potentially')",
          "('some', 'health')",
          "('some', 'serious')",
          "('some', 'world')",
          "('some', 'seriously')",
          "('some', 'globally')",
          "('some', 'disease')",
          "('some', 'lifetime')",
          "('some', 'social')",
          "('some', 'global')",
          "('some', 'risk')",
          "('some', 'rapidly')",
          "('some', 'very')",
          "('some', 'worldwide')",
          "('some', 'highly')",
          "('some', 'particularly')",
          "('some', 'systemic')",
          "('this', 'life')",
          "('this', 'potentially')",
          "('this', 'health')",
          "('this', 'serious')",
          "('this', 'world')",
          "('this', 'seriously')",
          "('this', 'globally')",
          "('this', 'disease')",
          "('this', 'lifetime')",
          "('this', 'social')",
          "('this', 'global')",
          "('this', 'risk')",
          "('this', 'rapidly')",
          "('this', 'very')",
          "('this', 'worldwide')",
          "('this', 'highly')",
          "('this', 'particularly')",
          "('this', 'systemic')",
          "('every', 'life')",
          "('every', 'potentially')",
          "('every', 'health')",
          "('every', 'serious')",
          "('every', 'world')",
          "('every', 'seriously')",
          "('every', 'globally')",
          "('every', 'disease')",
          "('every', 'lifetime')",
          "('every', 'social')",
          "('every', 'global')",
          "('every', 'risk')",
          "('every', 'rapidly')",
          "('every', 'very')",
          "('every', 'worldwide')",
          "('every', 'highly')",
          "('every', 'particularly')",
          "('every', 'systemic')",
          "('no', 'life')",
          "('no', 'potentially')",
          "('no', 'health')",
          "('no', 'serious')",
          "('no', 'world')",
          "('no', 'seriously')",
          "('no', 'globally')",
          "('no', 'disease')",
          "('no', 'lifetime')",
          "('no', 'social')",
          "('no', 'global')",
          "('no', 'risk')",
          "('no', 'rapidly')",
          "('no', 'very')",
          "('no', 'worldwide')",
          "('no', 'highly')",
          "('no', 'particularly')",
          "('no', 'systemic')",
          "('sometimes', 'life')",
          "('sometimes', 'potentially')",
          "('sometimes', 'health')",
          "('sometimes', 'serious')",
          "('sometimes', 'world')",
          "('sometimes', 'seriously')",
          "('sometimes', 'globally')",
          "('sometimes', 'disease')",
          "('sometimes', 'lifetime')",
          "('sometimes', 'social')",
          "('sometimes', 'global')",
          "('sometimes', 'risk')",
          "('sometimes', 'rapidly')",
          "('sometimes', 'very')",
          "('sometimes', 'worldwide')",
          "('sometimes', 'highly')",
          "('sometimes', 'particularly')",
          "('sometimes', 'systemic')",
          "('potentially', 'life')",
          "('potentially', 'potentially')",
          "('potentially', 'health')",
          "('potentially', 'serious')",
          "('potentially', 'world')",
          "('potentially', 'seriously')",
          "('potentially', 'globally')",
          "('potentially', 'disease')",
          "('potentially', 'lifetime')",
          "('potentially', 'social')",
          "('potentially', 'global')",
          "('potentially', 'risk')",
          "('potentially', 'rapidly')",
          "('potentially', 'very')",
          "('potentially', 'worldwide')",
          "('potentially', 'highly')",
          "('potentially', 'particularly')",
          "('potentially', 'systemic')",
          "('serious', 'life')",
          "('serious', 'potentially')",
          "('serious', 'health')",
          "('serious', 'serious')",
          "('serious', 'world')",
          "('serious', 'seriously')",
          "('serious', 'globally')",
          "('serious', 'disease')",
          "('serious', 'lifetime')",
          "('serious', 'social')",
          "('serious', 'global')",
          "('serious', 'risk')",
          "('serious', 'rapidly')",
          "('serious', 'very')",
          "('serious', 'worldwide')",
          "('serious', 'highly')",
          "('serious', 'particularly')",
          "('serious', 'systemic')"
         ],
         "y": [
          0.000017599505179347118,
          0.000003833680855026726,
          0.000006503339800276362,
          0.0000295560345786879,
          0.000029480120106311133,
          7.717971358304631e-7,
          0,
          0.0000032390174880753865,
          0.000010058667589921609,
          0.000022812298949218443,
          0.000005642975780006337,
          0.000008856688443956134,
          0.0000018852093973563771,
          0.0002468232545209947,
          0.000003099840955384647,
          0.000020446297893475875,
          0.000019067184978631278,
          3.1631030156986194e-7,
          0,
          0,
          0,
          0,
          0,
          0,
          0,
          0,
          0,
          0,
          0,
          0,
          0,
          0,
          0,
          0,
          0,
          0,
          2.277434171303006e-7,
          8.856688443956135e-8,
          3.289627136326564e-7,
          0.00000291005477444273,
          2.0243859300471166e-7,
          5.0609648251177914e-8,
          0,
          1.5182894475353373e-7,
          0,
          0.000001113412261525914,
          8.856688443956135e-8,
          0.0000010248453770863528,
          0,
          4.807916583861902e-7,
          0,
          7.591447237676686e-8,
          1.771337688791227e-7,
          0,
          5.440537187001626e-7,
          2.277434171303006e-7,
          6.326206031397238e-8,
          2.150910050675061e-7,
          0.0000026063968849356625,
          8.856688443956135e-8,
          0,
          6.326206031397238e-8,
          0,
          1.644813568163282e-7,
          0,
          6.326206031397238e-8,
          0,
          0.0000012019791459654754,
          0,
          2.5304824125588953e-7,
          5.0609648251177914e-8,
          0,
          0.00003709687216811341,
          0.0000018852093973563771,
          0.000040677504781884244,
          0.000007135960403416086,
          0.0003473846255960852,
          3.6691994982103987e-7,
          5.0609648251177914e-8,
          0.000015284113771855728,
          0.0000021762148748006502,
          0.00008714981428852836,
          0.000008704859499202601,
          0.000035287577243133795,
          0.000002378653467805362,
          0.00010750754529756468,
          0.0000020623431662355,
          0.000007667361710053453,
          7.338398996420797e-7,
          5.82010954888546e-7,
          4.301820101350122e-7,
          8.856688443956135e-8,
          1.3917653269073925e-7,
          3.542675377582454e-7,
          0.000001164021909777092,
          1.8978618094191718e-7,
          0,
          1.138717085651503e-7,
          8.856688443956135e-8,
          6.958826634536962e-7,
          1.0121929650235583e-7,
          1.2652412062794477e-7,
          0,
          0.0000032896271363265642,
          0,
          2.5304824125588953e-7,
          0.0000015435942716609263,
          0,
          3.6691994982103987e-7,
          1.0121929650235583e-7,
          4.048771860094233e-7,
          0.0000016827708043516656,
          6.326206031397238e-8,
          1.0121929650235583e-7,
          0,
          1.8978618094191718e-7,
          0,
          0.000001062802613274736,
          8.856688443956135e-8,
          4.6813924632339567e-7,
          0,
          0.000010640678544810156,
          0,
          5.693585428257515e-7,
          7.591447237676687e-7,
          0,
          0.0000020623431662355,
          3.7957236188383435e-7,
          1.3917653269073925e-7,
          2.0243859300471166e-7,
          0.000009008517388709669,
          3.0365788950706746e-7,
          0,
          0.0000012905460304050368,
          8.856688443956135e-8,
          0.000001113412261525914,
          2.277434171303006e-7,
          7.717971358304631e-7,
          1.8978618094191718e-7,
          0.000010817812313689278,
          6.326206031397238e-8,
          0.0000013411556786562145,
          8.73016432332819e-7,
          0,
          5.0609648251177914e-8,
          0,
          1.138717085651503e-7,
          1.138717085651503e-7,
          5.0609648251177914e-8,
          0,
          0,
          5.0609648251177914e-8,
          0,
          4.428344221978067e-7,
          0,
          0,
          0,
          0,
          0,
          0,
          0,
          0,
          8.73016432332819e-7,
          0,
          2.65700653318684e-7,
          0.000002226824523051828,
          2.0243859300471166e-7,
          2.783530653814785e-7,
          0,
          7.591447237676686e-8,
          0,
          7.211874875792852e-7,
          7.591447237676686e-8,
          0.0000015056370354725428,
          0,
          0.0000011007598494631196,
          0,
          0,
          0,
          0,
          0,
          0,
          0,
          0,
          0,
          5.0609648251177914e-8,
          0,
          0,
          0,
          0,
          0,
          0,
          0,
          9.615833167723804e-7,
          0,
          0,
          1.2652412062794477e-7,
          0,
          8.856688443956135e-8,
          0,
          0,
          4.1752959807221774e-7,
          0,
          0,
          0,
          0,
          0,
          0,
          0,
          0,
          0,
          6.199681910769295e-7,
          0,
          1.0121929650235583e-7,
          0,
          0,
          0,
          0,
          2.91005477444273e-7,
          0,
          0,
          0,
          0,
          2.5304824125588953e-7,
          0,
          2.5304824125588953e-7,
          0,
          7.971019599560521e-7,
          0,
          0,
          0,
          0,
          0,
          0
         ]
        },
        {
         "line": {
          "shape": "spline"
         },
         "mode": "lines+markers",
         "name": "iid",
         "type": "scatter",
         "x": [
          "('a', 'life')",
          "('a', 'potentially')",
          "('a', 'health')",
          "('a', 'serious')",
          "('a', 'world')",
          "('a', 'seriously')",
          "('a', 'globally')",
          "('a', 'disease')",
          "('a', 'lifetime')",
          "('a', 'social')",
          "('a', 'global')",
          "('a', 'risk')",
          "('a', 'rapidly')",
          "('a', 'very')",
          "('a', 'worldwide')",
          "('a', 'highly')",
          "('a', 'particularly')",
          "('a', 'systemic')",
          "('an', 'life')",
          "('an', 'potentially')",
          "('an', 'health')",
          "('an', 'serious')",
          "('an', 'world')",
          "('an', 'seriously')",
          "('an', 'globally')",
          "('an', 'disease')",
          "('an', 'lifetime')",
          "('an', 'social')",
          "('an', 'global')",
          "('an', 'risk')",
          "('an', 'rapidly')",
          "('an', 'very')",
          "('an', 'worldwide')",
          "('an', 'highly')",
          "('an', 'particularly')",
          "('an', 'systemic')",
          "('any', 'life')",
          "('any', 'potentially')",
          "('any', 'health')",
          "('any', 'serious')",
          "('any', 'world')",
          "('any', 'seriously')",
          "('any', 'globally')",
          "('any', 'disease')",
          "('any', 'lifetime')",
          "('any', 'social')",
          "('any', 'global')",
          "('any', 'risk')",
          "('any', 'rapidly')",
          "('any', 'very')",
          "('any', 'worldwide')",
          "('any', 'highly')",
          "('any', 'particularly')",
          "('any', 'systemic')",
          "('another', 'life')",
          "('another', 'potentially')",
          "('another', 'health')",
          "('another', 'serious')",
          "('another', 'world')",
          "('another', 'seriously')",
          "('another', 'globally')",
          "('another', 'disease')",
          "('another', 'lifetime')",
          "('another', 'social')",
          "('another', 'global')",
          "('another', 'risk')",
          "('another', 'rapidly')",
          "('another', 'very')",
          "('another', 'worldwide')",
          "('another', 'highly')",
          "('another', 'particularly')",
          "('another', 'systemic')",
          "('the', 'life')",
          "('the', 'potentially')",
          "('the', 'health')",
          "('the', 'serious')",
          "('the', 'world')",
          "('the', 'seriously')",
          "('the', 'globally')",
          "('the', 'disease')",
          "('the', 'lifetime')",
          "('the', 'social')",
          "('the', 'global')",
          "('the', 'risk')",
          "('the', 'rapidly')",
          "('the', 'very')",
          "('the', 'worldwide')",
          "('the', 'highly')",
          "('the', 'particularly')",
          "('the', 'systemic')",
          "('one', 'life')",
          "('one', 'potentially')",
          "('one', 'health')",
          "('one', 'serious')",
          "('one', 'world')",
          "('one', 'seriously')",
          "('one', 'globally')",
          "('one', 'disease')",
          "('one', 'lifetime')",
          "('one', 'social')",
          "('one', 'global')",
          "('one', 'risk')",
          "('one', 'rapidly')",
          "('one', 'very')",
          "('one', 'worldwide')",
          "('one', 'highly')",
          "('one', 'particularly')",
          "('one', 'systemic')",
          "('some', 'life')",
          "('some', 'potentially')",
          "('some', 'health')",
          "('some', 'serious')",
          "('some', 'world')",
          "('some', 'seriously')",
          "('some', 'globally')",
          "('some', 'disease')",
          "('some', 'lifetime')",
          "('some', 'social')",
          "('some', 'global')",
          "('some', 'risk')",
          "('some', 'rapidly')",
          "('some', 'very')",
          "('some', 'worldwide')",
          "('some', 'highly')",
          "('some', 'particularly')",
          "('some', 'systemic')",
          "('this', 'life')",
          "('this', 'potentially')",
          "('this', 'health')",
          "('this', 'serious')",
          "('this', 'world')",
          "('this', 'seriously')",
          "('this', 'globally')",
          "('this', 'disease')",
          "('this', 'lifetime')",
          "('this', 'social')",
          "('this', 'global')",
          "('this', 'risk')",
          "('this', 'rapidly')",
          "('this', 'very')",
          "('this', 'worldwide')",
          "('this', 'highly')",
          "('this', 'particularly')",
          "('this', 'systemic')",
          "('every', 'life')",
          "('every', 'potentially')",
          "('every', 'health')",
          "('every', 'serious')",
          "('every', 'world')",
          "('every', 'seriously')",
          "('every', 'globally')",
          "('every', 'disease')",
          "('every', 'lifetime')",
          "('every', 'social')",
          "('every', 'global')",
          "('every', 'risk')",
          "('every', 'rapidly')",
          "('every', 'very')",
          "('every', 'worldwide')",
          "('every', 'highly')",
          "('every', 'particularly')",
          "('every', 'systemic')",
          "('no', 'life')",
          "('no', 'potentially')",
          "('no', 'health')",
          "('no', 'serious')",
          "('no', 'world')",
          "('no', 'seriously')",
          "('no', 'globally')",
          "('no', 'disease')",
          "('no', 'lifetime')",
          "('no', 'social')",
          "('no', 'global')",
          "('no', 'risk')",
          "('no', 'rapidly')",
          "('no', 'very')",
          "('no', 'worldwide')",
          "('no', 'highly')",
          "('no', 'particularly')",
          "('no', 'systemic')",
          "('sometimes', 'life')",
          "('sometimes', 'potentially')",
          "('sometimes', 'health')",
          "('sometimes', 'serious')",
          "('sometimes', 'world')",
          "('sometimes', 'seriously')",
          "('sometimes', 'globally')",
          "('sometimes', 'disease')",
          "('sometimes', 'lifetime')",
          "('sometimes', 'social')",
          "('sometimes', 'global')",
          "('sometimes', 'risk')",
          "('sometimes', 'rapidly')",
          "('sometimes', 'very')",
          "('sometimes', 'worldwide')",
          "('sometimes', 'highly')",
          "('sometimes', 'particularly')",
          "('sometimes', 'systemic')",
          "('potentially', 'life')",
          "('potentially', 'potentially')",
          "('potentially', 'health')",
          "('potentially', 'serious')",
          "('potentially', 'world')",
          "('potentially', 'seriously')",
          "('potentially', 'globally')",
          "('potentially', 'disease')",
          "('potentially', 'lifetime')",
          "('potentially', 'social')",
          "('potentially', 'global')",
          "('potentially', 'risk')",
          "('potentially', 'rapidly')",
          "('potentially', 'very')",
          "('potentially', 'worldwide')",
          "('potentially', 'highly')",
          "('potentially', 'particularly')",
          "('potentially', 'systemic')",
          "('serious', 'life')",
          "('serious', 'potentially')",
          "('serious', 'health')",
          "('serious', 'serious')",
          "('serious', 'world')",
          "('serious', 'seriously')",
          "('serious', 'globally')",
          "('serious', 'disease')",
          "('serious', 'lifetime')",
          "('serious', 'social')",
          "('serious', 'global')",
          "('serious', 'risk')",
          "('serious', 'rapidly')",
          "('serious', 'very')",
          "('serious', 'worldwide')",
          "('serious', 'highly')",
          "('serious', 'particularly')",
          "('serious', 'systemic')"
         ],
         "y": [
          4.7236687765483115e-7,
          2.8569439340852725e-8,
          2.2669626010382617e-7,
          7.111648932958343e-8,
          4.702420152285504e-7,
          3.8878342205855366e-8,
          0,
          6.925723470658779e-8,
          0,
          1.7510194431569702e-7,
          3.105951249665046e-8,
          9.93539189163298e-8,
          4.752719630032619e-8,
          0.0000010399375522996625,
          2.1331626701333965e-8,
          9.166789310876744e-8,
          2.710361627647313e-7,
          0,
          7.319455694981863e-7,
          4.426913811654818e-8,
          3.5127213836117487e-7,
          1.1019697134880443e-7,
          7.286530362739457e-7,
          6.024306883727824e-8,
          0,
          1.0731600477759386e-7,
          0,
          2.7132531601008153e-7,
          4.81275754887052e-8,
          1.5395165114906502e-7,
          7.364470797657028e-8,
          0.0000016114120611918425,
          3.305394682147845e-8,
          1.4204194112700703e-7,
          4.1997804650138425e-7,
          0,
          2.7782427796394847e-7,
          1.6803218498539983e-8,
          1.3333222069498084e-7,
          4.182741897021806e-8,
          2.765745324858467e-7,
          2.2866436794643024e-8,
          0,
          4.073389167687903e-8,
          0,
          1.0298683830482264e-7,
          1.8267763980690474e-8,
          5.843536473780466e-8,
          2.795329143597907e-8,
          6.116430115287841e-7,
          1.2546272963755885e-8,
          5.391480101623346e-8,
          1.594108939138073e-7,
          0,
          1.499612455283104e-7,
          9.069875366516329e-9,
          7.196874956719755e-8,
          2.257719120869027e-8,
          1.4928667025410115e-7,
          1.2342619470297062e-8,
          0,
          2.1986937843757193e-8,
          0,
          5.558921869030462e-8,
          9.860393265980275e-9,
          3.154166418861141e-8,
          1.5088351641101832e-8,
          3.3014662541279226e-7,
          6.772103338741129e-9,
          2.9101598938932696e-8,
          8.604523829698554e-8,
          0,
          0.0000016763479520274526,
          1.0138797488804237e-7,
          8.045056275834437e-7,
          2.523800606742438e-7,
          0.000001668807184575001,
          1.379724794815777e-7,
          0,
          2.4578188915334853e-7,
          0,
          6.214063678786003e-7,
          1.1022481174638424e-7,
          3.525897906478406e-7,
          1.6866575950288516e-7,
          0.000003690557633272176,
          7.570223575312867e-8,
          3.253134208784253e-7,
          9.618602359076514e-7,
          0,
          3.559445741423609e-7,
          2.1528048219961448e-8,
          1.708233739057487e-7,
          5.358870341331485e-8,
          3.543434177378548e-7,
          2.9296158588698265e-8,
          0,
          5.218769155937198e-8,
          0,
          1.3194529495883406e-7,
          2.340440338149208e-8,
          7.486657094507223e-8,
          3.5813365516414665e-8,
          7.836284606272429e-7,
          1.6074109217112412e-8,
          6.907488801314766e-8,
          2.042350048154042e-7,
          0,
          1.3036673788751915e-7,
          7.884770898064327e-9,
          6.256503857290322e-8,
          1.962716939413572e-8,
          1.297803051885347e-7,
          1.072988578923106e-8,
          0,
          1.9114040782524332e-8,
          0,
          4.832571960068712e-8,
          8.571996717186727e-9,
          2.7420310182983733e-8,
          1.3116850134316196e-8,
          2.87008409592818e-7,
          5.887234517148554e-9,
          2.5299073154625925e-8,
          7.480223965874275e-8,
          0,
          6.918762406686832e-7,
          4.1845686529284964e-8,
          3.320422401184866e-7,
          1.0416439342908586e-7,
          6.887639525363482e-7,
          5.694514692131632e-8,
          0,
          1.0144114131329277e-7,
          0,
          2.5647199390522824e-7,
          4.5492899184365e-8,
          1.4552378493769351e-7,
          6.961313220996098e-8,
          0.000001523197578516593,
          3.124445507851899e-8,
          1.3426605520901312e-7,
          3.9698694012994515e-7,
          0,
          8.692343165762003e-8,
          5.257256225013672e-9,
          4.17159157517645e-8,
          1.30866273491915e-8,
          8.653242131665444e-8,
          7.1542673323544565e-9,
          0,
          1.2744493300846624e-8,
          0,
          3.22216959101942e-8,
          5.715471468332702e-9,
          1.8282788208429302e-8,
          8.74580161081589e-9,
          1.9136595945147095e-7,
          3.925377251099691e-9,
          1.6868430490717894e-8,
          4.9875201851132034e-8,
          0,
          2.3470230291503944e-7,
          1.4195138405088132e-8,
          1.1263730973845644e-7,
          3.533525446100962e-8,
          2.33646534341041e-7,
          1.931726562737734e-8,
          0,
          3.4411456958761e-8,
          0,
          8.700192905105731e-8,
          1.543236720274253e-8,
          4.936542902641051e-8,
          2.361457365123029e-8,
          5.167079868603986e-7,
          1.0598926699906013e-8,
          4.554651613765059e-8,
          1.346682305286891e-7,
          0,
          2.6473003233860247e-8,
          1.6011259379888765e-9,
          1.270480872119471e-8,
          3.985603438898517e-9,
          2.6353918910755904e-8,
          2.178870974299796e-9,
          0,
          3.881404656182216e-9,
          0,
          9.813292500817356e-9,
          1.7406778791267796e-9,
          5.56812245140234e-9,
          2.663581383185447e-9,
          5.828154235055966e-8,
          1.1954949624147043e-9,
          5.1373721264233444e-9,
          1.5189763619723642e-8,
          0,
          5.760530859207673e-9,
          3.484053280160395e-10,
          2.7645689479297123e-9,
          8.672681145965794e-10,
          5.734618086409269e-9,
          4.741227647957957e-10,
          0,
          8.44594438397976e-10,
          0,
          2.135374433418469e-9,
          3.78771858639169e-10,
          1.2116245718628683e-9,
          5.795958478267991e-10,
          1.2682075405906331e-8,
          2.6013994567147633e-10,
          1.1178932140061418e-9,
          3.305295636558906e-9,
          0,
          1.433940395168255e-8,
          8.672681145965794e-10,
          6.881704458414229e-9,
          2.158847532209033e-9,
          1.4274900570701516e-8,
          1.1802102988873847e-9,
          0,
          2.1024070738506275e-9,
          0,
          5.315481738968461e-9,
          9.428580141837305e-10,
          3.0160369935273263e-9,
          1.442759216786756e-9,
          3.1568861730913844e-8,
          6.475534731299271e-10,
          2.7827161701349866e-9,
          8.227708603729432e-9,
          0
         ]
        }
       ],
       "layout": {
        "template": {
         "data": {
          "bar": [
           {
            "error_x": {
             "color": "#2a3f5f"
            },
            "error_y": {
             "color": "#2a3f5f"
            },
            "marker": {
             "line": {
              "color": "#E5ECF6",
              "width": 0.5
             }
            },
            "type": "bar"
           }
          ],
          "barpolar": [
           {
            "marker": {
             "line": {
              "color": "#E5ECF6",
              "width": 0.5
             }
            },
            "type": "barpolar"
           }
          ],
          "carpet": [
           {
            "aaxis": {
             "endlinecolor": "#2a3f5f",
             "gridcolor": "white",
             "linecolor": "white",
             "minorgridcolor": "white",
             "startlinecolor": "#2a3f5f"
            },
            "baxis": {
             "endlinecolor": "#2a3f5f",
             "gridcolor": "white",
             "linecolor": "white",
             "minorgridcolor": "white",
             "startlinecolor": "#2a3f5f"
            },
            "type": "carpet"
           }
          ],
          "choropleth": [
           {
            "colorbar": {
             "outlinewidth": 0,
             "ticks": ""
            },
            "type": "choropleth"
           }
          ],
          "contour": [
           {
            "colorbar": {
             "outlinewidth": 0,
             "ticks": ""
            },
            "colorscale": [
             [
              0,
              "#0d0887"
             ],
             [
              0.1111111111111111,
              "#46039f"
             ],
             [
              0.2222222222222222,
              "#7201a8"
             ],
             [
              0.3333333333333333,
              "#9c179e"
             ],
             [
              0.4444444444444444,
              "#bd3786"
             ],
             [
              0.5555555555555556,
              "#d8576b"
             ],
             [
              0.6666666666666666,
              "#ed7953"
             ],
             [
              0.7777777777777778,
              "#fb9f3a"
             ],
             [
              0.8888888888888888,
              "#fdca26"
             ],
             [
              1,
              "#f0f921"
             ]
            ],
            "type": "contour"
           }
          ],
          "contourcarpet": [
           {
            "colorbar": {
             "outlinewidth": 0,
             "ticks": ""
            },
            "type": "contourcarpet"
           }
          ],
          "heatmap": [
           {
            "colorbar": {
             "outlinewidth": 0,
             "ticks": ""
            },
            "colorscale": [
             [
              0,
              "#0d0887"
             ],
             [
              0.1111111111111111,
              "#46039f"
             ],
             [
              0.2222222222222222,
              "#7201a8"
             ],
             [
              0.3333333333333333,
              "#9c179e"
             ],
             [
              0.4444444444444444,
              "#bd3786"
             ],
             [
              0.5555555555555556,
              "#d8576b"
             ],
             [
              0.6666666666666666,
              "#ed7953"
             ],
             [
              0.7777777777777778,
              "#fb9f3a"
             ],
             [
              0.8888888888888888,
              "#fdca26"
             ],
             [
              1,
              "#f0f921"
             ]
            ],
            "type": "heatmap"
           }
          ],
          "heatmapgl": [
           {
            "colorbar": {
             "outlinewidth": 0,
             "ticks": ""
            },
            "colorscale": [
             [
              0,
              "#0d0887"
             ],
             [
              0.1111111111111111,
              "#46039f"
             ],
             [
              0.2222222222222222,
              "#7201a8"
             ],
             [
              0.3333333333333333,
              "#9c179e"
             ],
             [
              0.4444444444444444,
              "#bd3786"
             ],
             [
              0.5555555555555556,
              "#d8576b"
             ],
             [
              0.6666666666666666,
              "#ed7953"
             ],
             [
              0.7777777777777778,
              "#fb9f3a"
             ],
             [
              0.8888888888888888,
              "#fdca26"
             ],
             [
              1,
              "#f0f921"
             ]
            ],
            "type": "heatmapgl"
           }
          ],
          "histogram": [
           {
            "marker": {
             "colorbar": {
              "outlinewidth": 0,
              "ticks": ""
             }
            },
            "type": "histogram"
           }
          ],
          "histogram2d": [
           {
            "colorbar": {
             "outlinewidth": 0,
             "ticks": ""
            },
            "colorscale": [
             [
              0,
              "#0d0887"
             ],
             [
              0.1111111111111111,
              "#46039f"
             ],
             [
              0.2222222222222222,
              "#7201a8"
             ],
             [
              0.3333333333333333,
              "#9c179e"
             ],
             [
              0.4444444444444444,
              "#bd3786"
             ],
             [
              0.5555555555555556,
              "#d8576b"
             ],
             [
              0.6666666666666666,
              "#ed7953"
             ],
             [
              0.7777777777777778,
              "#fb9f3a"
             ],
             [
              0.8888888888888888,
              "#fdca26"
             ],
             [
              1,
              "#f0f921"
             ]
            ],
            "type": "histogram2d"
           }
          ],
          "histogram2dcontour": [
           {
            "colorbar": {
             "outlinewidth": 0,
             "ticks": ""
            },
            "colorscale": [
             [
              0,
              "#0d0887"
             ],
             [
              0.1111111111111111,
              "#46039f"
             ],
             [
              0.2222222222222222,
              "#7201a8"
             ],
             [
              0.3333333333333333,
              "#9c179e"
             ],
             [
              0.4444444444444444,
              "#bd3786"
             ],
             [
              0.5555555555555556,
              "#d8576b"
             ],
             [
              0.6666666666666666,
              "#ed7953"
             ],
             [
              0.7777777777777778,
              "#fb9f3a"
             ],
             [
              0.8888888888888888,
              "#fdca26"
             ],
             [
              1,
              "#f0f921"
             ]
            ],
            "type": "histogram2dcontour"
           }
          ],
          "mesh3d": [
           {
            "colorbar": {
             "outlinewidth": 0,
             "ticks": ""
            },
            "type": "mesh3d"
           }
          ],
          "parcoords": [
           {
            "line": {
             "colorbar": {
              "outlinewidth": 0,
              "ticks": ""
             }
            },
            "type": "parcoords"
           }
          ],
          "pie": [
           {
            "automargin": true,
            "type": "pie"
           }
          ],
          "scatter": [
           {
            "marker": {
             "colorbar": {
              "outlinewidth": 0,
              "ticks": ""
             }
            },
            "type": "scatter"
           }
          ],
          "scatter3d": [
           {
            "line": {
             "colorbar": {
              "outlinewidth": 0,
              "ticks": ""
             }
            },
            "marker": {
             "colorbar": {
              "outlinewidth": 0,
              "ticks": ""
             }
            },
            "type": "scatter3d"
           }
          ],
          "scattercarpet": [
           {
            "marker": {
             "colorbar": {
              "outlinewidth": 0,
              "ticks": ""
             }
            },
            "type": "scattercarpet"
           }
          ],
          "scattergeo": [
           {
            "marker": {
             "colorbar": {
              "outlinewidth": 0,
              "ticks": ""
             }
            },
            "type": "scattergeo"
           }
          ],
          "scattergl": [
           {
            "marker": {
             "colorbar": {
              "outlinewidth": 0,
              "ticks": ""
             }
            },
            "type": "scattergl"
           }
          ],
          "scattermapbox": [
           {
            "marker": {
             "colorbar": {
              "outlinewidth": 0,
              "ticks": ""
             }
            },
            "type": "scattermapbox"
           }
          ],
          "scatterpolar": [
           {
            "marker": {
             "colorbar": {
              "outlinewidth": 0,
              "ticks": ""
             }
            },
            "type": "scatterpolar"
           }
          ],
          "scatterpolargl": [
           {
            "marker": {
             "colorbar": {
              "outlinewidth": 0,
              "ticks": ""
             }
            },
            "type": "scatterpolargl"
           }
          ],
          "scatterternary": [
           {
            "marker": {
             "colorbar": {
              "outlinewidth": 0,
              "ticks": ""
             }
            },
            "type": "scatterternary"
           }
          ],
          "surface": [
           {
            "colorbar": {
             "outlinewidth": 0,
             "ticks": ""
            },
            "colorscale": [
             [
              0,
              "#0d0887"
             ],
             [
              0.1111111111111111,
              "#46039f"
             ],
             [
              0.2222222222222222,
              "#7201a8"
             ],
             [
              0.3333333333333333,
              "#9c179e"
             ],
             [
              0.4444444444444444,
              "#bd3786"
             ],
             [
              0.5555555555555556,
              "#d8576b"
             ],
             [
              0.6666666666666666,
              "#ed7953"
             ],
             [
              0.7777777777777778,
              "#fb9f3a"
             ],
             [
              0.8888888888888888,
              "#fdca26"
             ],
             [
              1,
              "#f0f921"
             ]
            ],
            "type": "surface"
           }
          ],
          "table": [
           {
            "cells": {
             "fill": {
              "color": "#EBF0F8"
             },
             "line": {
              "color": "white"
             }
            },
            "header": {
             "fill": {
              "color": "#C8D4E3"
             },
             "line": {
              "color": "white"
             }
            },
            "type": "table"
           }
          ]
         },
         "layout": {
          "annotationdefaults": {
           "arrowcolor": "#2a3f5f",
           "arrowhead": 0,
           "arrowwidth": 1
          },
          "autotypenumbers": "strict",
          "coloraxis": {
           "colorbar": {
            "outlinewidth": 0,
            "ticks": ""
           }
          },
          "colorscale": {
           "diverging": [
            [
             0,
             "#8e0152"
            ],
            [
             0.1,
             "#c51b7d"
            ],
            [
             0.2,
             "#de77ae"
            ],
            [
             0.3,
             "#f1b6da"
            ],
            [
             0.4,
             "#fde0ef"
            ],
            [
             0.5,
             "#f7f7f7"
            ],
            [
             0.6,
             "#e6f5d0"
            ],
            [
             0.7,
             "#b8e186"
            ],
            [
             0.8,
             "#7fbc41"
            ],
            [
             0.9,
             "#4d9221"
            ],
            [
             1,
             "#276419"
            ]
           ],
           "sequential": [
            [
             0,
             "#0d0887"
            ],
            [
             0.1111111111111111,
             "#46039f"
            ],
            [
             0.2222222222222222,
             "#7201a8"
            ],
            [
             0.3333333333333333,
             "#9c179e"
            ],
            [
             0.4444444444444444,
             "#bd3786"
            ],
            [
             0.5555555555555556,
             "#d8576b"
            ],
            [
             0.6666666666666666,
             "#ed7953"
            ],
            [
             0.7777777777777778,
             "#fb9f3a"
            ],
            [
             0.8888888888888888,
             "#fdca26"
            ],
            [
             1,
             "#f0f921"
            ]
           ],
           "sequentialminus": [
            [
             0,
             "#0d0887"
            ],
            [
             0.1111111111111111,
             "#46039f"
            ],
            [
             0.2222222222222222,
             "#7201a8"
            ],
            [
             0.3333333333333333,
             "#9c179e"
            ],
            [
             0.4444444444444444,
             "#bd3786"
            ],
            [
             0.5555555555555556,
             "#d8576b"
            ],
            [
             0.6666666666666666,
             "#ed7953"
            ],
            [
             0.7777777777777778,
             "#fb9f3a"
            ],
            [
             0.8888888888888888,
             "#fdca26"
            ],
            [
             1,
             "#f0f921"
            ]
           ]
          },
          "colorway": [
           "#636efa",
           "#EF553B",
           "#00cc96",
           "#ab63fa",
           "#FFA15A",
           "#19d3f3",
           "#FF6692",
           "#B6E880",
           "#FF97FF",
           "#FECB52"
          ],
          "font": {
           "color": "#2a3f5f"
          },
          "geo": {
           "bgcolor": "white",
           "lakecolor": "white",
           "landcolor": "#E5ECF6",
           "showlakes": true,
           "showland": true,
           "subunitcolor": "white"
          },
          "hoverlabel": {
           "align": "left"
          },
          "hovermode": "closest",
          "mapbox": {
           "style": "light"
          },
          "paper_bgcolor": "white",
          "plot_bgcolor": "#E5ECF6",
          "polar": {
           "angularaxis": {
            "gridcolor": "white",
            "linecolor": "white",
            "ticks": ""
           },
           "bgcolor": "#E5ECF6",
           "radialaxis": {
            "gridcolor": "white",
            "linecolor": "white",
            "ticks": ""
           }
          },
          "scene": {
           "xaxis": {
            "backgroundcolor": "#E5ECF6",
            "gridcolor": "white",
            "gridwidth": 2,
            "linecolor": "white",
            "showbackground": true,
            "ticks": "",
            "zerolinecolor": "white"
           },
           "yaxis": {
            "backgroundcolor": "#E5ECF6",
            "gridcolor": "white",
            "gridwidth": 2,
            "linecolor": "white",
            "showbackground": true,
            "ticks": "",
            "zerolinecolor": "white"
           },
           "zaxis": {
            "backgroundcolor": "#E5ECF6",
            "gridcolor": "white",
            "gridwidth": 2,
            "linecolor": "white",
            "showbackground": true,
            "ticks": "",
            "zerolinecolor": "white"
           }
          },
          "shapedefaults": {
           "line": {
            "color": "#2a3f5f"
           }
          },
          "ternary": {
           "aaxis": {
            "gridcolor": "white",
            "linecolor": "white",
            "ticks": ""
           },
           "baxis": {
            "gridcolor": "white",
            "linecolor": "white",
            "ticks": ""
           },
           "bgcolor": "#E5ECF6",
           "caxis": {
            "gridcolor": "white",
            "linecolor": "white",
            "ticks": ""
           }
          },
          "title": {
           "x": 0.05
          },
          "xaxis": {
           "automargin": true,
           "gridcolor": "white",
           "linecolor": "white",
           "ticks": "",
           "title": {
            "standoff": 15
           },
           "zerolinecolor": "white",
           "zerolinewidth": 2
          },
          "yaxis": {
           "automargin": true,
           "gridcolor": "white",
           "linecolor": "white",
           "ticks": "",
           "title": {
            "standoff": 15
           },
           "zerolinecolor": "white",
           "zerolinewidth": 2
          }
         }
        },
        "title": {},
        "xaxis": {
         "title": {}
        },
        "yaxis": {
         "title": {}
        }
       }
      }
     },
     "metadata": {},
     "output_type": "display_data"
    }
   ],
   "source": [
    "from semiolog import util_g\n",
    "from scipy.stats import entropy\n",
    "from math import log\n",
    "\n",
    "parad_pair = util_g.subsequences(text.parad_chain.keys_t_soft,2)\n",
    "\n",
    "n = 2\n",
    "cross_parad_pair = [(l,r) for l in parad_pair[n][0] for r in parad_pair[n][1]]\n",
    "\n",
    "iid_prob_parad_pair = [semiotic.vocab.prob.get(l,0)*semiotic.vocab.prob.get(r,0) for l,r in cross_parad_pair]\n",
    "\n",
    "prob_parad_pair = [semiotic.ng2.prob.get(pair,0) for pair in cross_parad_pair]\n",
    "\n",
    "cross_entropy = entropy(iid_prob_parad_pair,qk=prob_parad_pair)\n",
    "\n",
    "print(cross_entropy)\n",
    "\n",
    "util_g.plot_scatter_line([str(pair) for pair in cross_parad_pair],prob_parad_pair, add_trace=([str(pair) for pair in cross_parad_pair],iid_prob_parad_pair, \"iid\"))\n",
    "\n",
    "# util_g.plot_scatter_line([str(pair) for pair in cross_parad_pair],iid_prob_parad_pair)"
   ]
  },
  {
   "cell_type": "code",
   "execution_count": 81,
   "metadata": {},
   "outputs": [
    {
     "data": {
      "text/html": [
       "<div>\n",
       "<style scoped>\n",
       "    .dataframe tbody tr th:only-of-type {\n",
       "        vertical-align: middle;\n",
       "    }\n",
       "\n",
       "    .dataframe tbody tr th {\n",
       "        vertical-align: top;\n",
       "    }\n",
       "\n",
       "    .dataframe thead th {\n",
       "        text-align: right;\n",
       "    }\n",
       "</style>\n",
       "<table border=\"1\" class=\"dataframe\">\n",
       "  <thead>\n",
       "    <tr style=\"text-align: right;\">\n",
       "      <th></th>\n",
       "      <th>aids_0</th>\n",
       "      <th>is_1</th>\n",
       "      <th>a_2</th>\n",
       "      <th>life_3</th>\n",
       "      <th>threatening_4</th>\n",
       "      <th>medical_5</th>\n",
       "      <th>condition_6</th>\n",
       "      <th>caused_7</th>\n",
       "      <th>by_8</th>\n",
       "      <th>a_9</th>\n",
       "      <th>virus_10</th>\n",
       "      <th>known_11</th>\n",
       "      <th>as_12</th>\n",
       "      <th>hiv_13</th>\n",
       "    </tr>\n",
       "  </thead>\n",
       "  <tbody>\n",
       "    <tr>\n",
       "      <th>0</th>\n",
       "      <td>hiv</td>\n",
       "      <td>is</td>\n",
       "      <td>a</td>\n",
       "      <td>life</td>\n",
       "      <td>threatening</td>\n",
       "      <td>medical</td>\n",
       "      <td>condition</td>\n",
       "      <td>caused</td>\n",
       "      <td>by</td>\n",
       "      <td>a</td>\n",
       "      <td>disease</td>\n",
       "      <td>known</td>\n",
       "      <td>as</td>\n",
       "      <td>hiv</td>\n",
       "    </tr>\n",
       "    <tr>\n",
       "      <th>1</th>\n",
       "      <td>aids</td>\n",
       "      <td>describes</td>\n",
       "      <td>an</td>\n",
       "      <td>potentially</td>\n",
       "      <td>cycle</td>\n",
       "      <td>health</td>\n",
       "      <td>illness</td>\n",
       "      <td>transmitted</td>\n",
       "      <td>from</td>\n",
       "      <td>hiv</td>\n",
       "      <td>virus</td>\n",
       "      <td>such</td>\n",
       "      <td>from</td>\n",
       "      <td>aids</td>\n",
       "    </tr>\n",
       "    <tr>\n",
       "      <th>2</th>\n",
       "      <td>malaria</td>\n",
       "      <td>are</td>\n",
       "      <td>any</td>\n",
       "      <td>health</td>\n",
       "      <td>like</td>\n",
       "      <td>human</td>\n",
       "      <td>disease</td>\n",
       "      <td>characterized</td>\n",
       "      <td>with</td>\n",
       "      <td>aids</td>\n",
       "      <td>condition</td>\n",
       "      <td>classified</td>\n",
       "      <td>by</td>\n",
       "      <td>influenza</td>\n",
       "    </tr>\n",
       "    <tr>\n",
       "      <th>3</th>\n",
       "      <td>tuberculosis</td>\n",
       "      <td>denotes</td>\n",
       "      <td>another</td>\n",
       "      <td>serious</td>\n",
       "      <td>changing</td>\n",
       "      <td>genetic</td>\n",
       "      <td>emergency</td>\n",
       "      <td>triggered</td>\n",
       "      <td>via</td>\n",
       "      <td>infectious</td>\n",
       "      <td>bacterium</td>\n",
       "      <td>identified</td>\n",
       "      <td>to</td>\n",
       "      <td>hepatitis</td>\n",
       "    </tr>\n",
       "    <tr>\n",
       "      <th>4</th>\n",
       "      <td>hepatitis</td>\n",
       "      <td>was</td>\n",
       "      <td>the</td>\n",
       "      <td>world</td>\n",
       "      <td>saving</td>\n",
       "      <td>neurological</td>\n",
       "      <td>infection</td>\n",
       "      <td>accompanied</td>\n",
       "      <td>through</td>\n",
       "      <td>the</td>\n",
       "      <td>substance</td>\n",
       "      <td>described</td>\n",
       "      <td>for</td>\n",
       "      <td>smallpox</td>\n",
       "    </tr>\n",
       "    <tr>\n",
       "      <th>5</th>\n",
       "      <td>tb</td>\n",
       "      <td>presents</td>\n",
       "      <td>one</td>\n",
       "      <td>seriously</td>\n",
       "      <td>sustaining</td>\n",
       "      <td>psychological</td>\n",
       "      <td>problem</td>\n",
       "      <td>characterised</td>\n",
       "      <td>in</td>\n",
       "      <td>another</td>\n",
       "      <td>parasite</td>\n",
       "      <td>defined</td>\n",
       "      <td>via</td>\n",
       "      <td>cholera</td>\n",
       "    </tr>\n",
       "    <tr>\n",
       "      <th>6</th>\n",
       "      <td>infection</td>\n",
       "      <td>indicates</td>\n",
       "      <td>some</td>\n",
       "      <td>globally</td>\n",
       "      <td>limiting</td>\n",
       "      <td>chronic</td>\n",
       "      <td>disorder</td>\n",
       "      <td>induced</td>\n",
       "      <td>to</td>\n",
       "      <td>deadly</td>\n",
       "      <td>disorder</td>\n",
       "      <td>transmitted</td>\n",
       "      <td>in</td>\n",
       "      <td>virus</td>\n",
       "    </tr>\n",
       "    <tr>\n",
       "      <th>7</th>\n",
       "      <td>cholera</td>\n",
       "      <td>–</td>\n",
       "      <td>this</td>\n",
       "      <td>disease</td>\n",
       "      <td>or</td>\n",
       "      <td>skin</td>\n",
       "      <td>conditions</td>\n",
       "      <td>aggravated</td>\n",
       "      <td>as</td>\n",
       "      <td>viral</td>\n",
       "      <td>phenomenon</td>\n",
       "      <td>categorized</td>\n",
       "      <td>like</td>\n",
       "      <td>malaria</td>\n",
       "    </tr>\n",
       "    <tr>\n",
       "      <th>8</th>\n",
       "      <td>influenza</td>\n",
       "      <td>refers</td>\n",
       "      <td>every</td>\n",
       "      <td>lifetime</td>\n",
       "      <td>line</td>\n",
       "      <td>physical</td>\n",
       "      <td>hazard</td>\n",
       "      <td>infected</td>\n",
       "      <td>when</td>\n",
       "      <td>transmitted</td>\n",
       "      <td>pathogen</td>\n",
       "      <td>branded</td>\n",
       "      <td>into</td>\n",
       "      <td>tuberculosis</td>\n",
       "    </tr>\n",
       "    <tr>\n",
       "      <th>9</th>\n",
       "      <td>fever</td>\n",
       "      <td>involves</td>\n",
       "      <td>no</td>\n",
       "      <td>social</td>\n",
       "      <td>long</td>\n",
       "      <td>psychiatric</td>\n",
       "      <td>risk</td>\n",
       "      <td>produced</td>\n",
       "      <td>after</td>\n",
       "      <td>influenza</td>\n",
       "      <td>diseases</td>\n",
       "      <td>marketed</td>\n",
       "      <td>through</td>\n",
       "      <td>viral</td>\n",
       "    </tr>\n",
       "    <tr>\n",
       "      <th>10</th>\n",
       "      <td>blindness</td>\n",
       "      <td>encompasses</td>\n",
       "      <td>sometimes</td>\n",
       "      <td>global</td>\n",
       "      <td>altering</td>\n",
       "      <td>disease</td>\n",
       "      <td>event</td>\n",
       "      <td>spread</td>\n",
       "      <td>upon</td>\n",
       "      <td>malaria</td>\n",
       "      <td>infection</td>\n",
       "      <td>designated</td>\n",
       "      <td>within</td>\n",
       "      <td>plague</td>\n",
       "    </tr>\n",
       "    <tr>\n",
       "      <th>11</th>\n",
       "      <td>pneumonia</td>\n",
       "      <td>causes</td>\n",
       "      <td>potentially</td>\n",
       "      <td>risk</td>\n",
       "      <td>ly</td>\n",
       "      <td>clinical</td>\n",
       "      <td>diagnosis</td>\n",
       "      <td>created</td>\n",
       "      <td>using</td>\n",
       "      <td>systemic</td>\n",
       "      <td>drug</td>\n",
       "      <td>termed</td>\n",
       "      <td>after</td>\n",
       "      <td>flu</td>\n",
       "    </tr>\n",
       "    <tr>\n",
       "      <th>12</th>\n",
       "      <td>it</td>\n",
       "      <td>constitutes</td>\n",
       "      <td>serious</td>\n",
       "      <td>rapidly</td>\n",
       "      <td>extension</td>\n",
       "      <td>aids</td>\n",
       "      <td>issue</td>\n",
       "      <td>worsened</td>\n",
       "      <td>during</td>\n",
       "      <td>bacterial</td>\n",
       "      <td>illness</td>\n",
       "      <td>classed</td>\n",
       "      <td>with</td>\n",
       "      <td>fever</td>\n",
       "    </tr>\n",
       "    <tr>\n",
       "      <th>13</th>\n",
       "      <td>this</td>\n",
       "      <td>as</td>\n",
       "      <td></td>\n",
       "      <td>very</td>\n",
       "      <td>expect</td>\n",
       "      <td>congenital</td>\n",
       "      <td>situation</td>\n",
       "      <td>affected</td>\n",
       "      <td>on</td>\n",
       "      <td>chronic</td>\n",
       "      <td>strain</td>\n",
       "      <td>reported</td>\n",
       "      <td>at</td>\n",
       "      <td></td>\n",
       "    </tr>\n",
       "    <tr>\n",
       "      <th>14</th>\n",
       "      <td>virus</td>\n",
       "      <td>means</td>\n",
       "      <td></td>\n",
       "      <td>worldwide</td>\n",
       "      <td>and</td>\n",
       "      <td>living</td>\n",
       "      <td>crisis</td>\n",
       "      <td>causing</td>\n",
       "      <td>of</td>\n",
       "      <td>hepatitis</td>\n",
       "      <td>plague</td>\n",
       "      <td>or</td>\n",
       "      <td>alongside</td>\n",
       "      <td></td>\n",
       "    </tr>\n",
       "    <tr>\n",
       "      <th>15</th>\n",
       "      <td>diabetes</td>\n",
       "      <td>or</td>\n",
       "      <td></td>\n",
       "      <td>highly</td>\n",
       "      <td>ending</td>\n",
       "      <td>social</td>\n",
       "      <td>injury</td>\n",
       "      <td>contracted</td>\n",
       "      <td>within</td>\n",
       "      <td>this</td>\n",
       "      <td>worm</td>\n",
       "      <td>abbreviated</td>\n",
       "      <td>against</td>\n",
       "      <td></td>\n",
       "    </tr>\n",
       "    <tr>\n",
       "      <th>16</th>\n",
       "      <td></td>\n",
       "      <td>includes</td>\n",
       "      <td></td>\n",
       "      <td>particularly</td>\n",
       "      <td>blood</td>\n",
       "      <td>contracting</td>\n",
       "      <td>disaster</td>\n",
       "      <td>preceded</td>\n",
       "      <td>following</td>\n",
       "      <td>disease</td>\n",
       "      <td>fungus</td>\n",
       "      <td>originating</td>\n",
       "      <td></td>\n",
       "      <td></td>\n",
       "    </tr>\n",
       "    <tr>\n",
       "      <th>17</th>\n",
       "      <td></td>\n",
       "      <td></td>\n",
       "      <td></td>\n",
       "      <td>systemic</td>\n",
       "      <td></td>\n",
       "      <td>mental</td>\n",
       "      <td>sign</td>\n",
       "      <td>cause</td>\n",
       "      <td></td>\n",
       "      <td>virus</td>\n",
       "      <td>mutation</td>\n",
       "      <td>called</td>\n",
       "      <td></td>\n",
       "      <td></td>\n",
       "    </tr>\n",
       "    <tr>\n",
       "      <th>18</th>\n",
       "      <td></td>\n",
       "      <td></td>\n",
       "      <td></td>\n",
       "      <td></td>\n",
       "      <td></td>\n",
       "      <td>life</td>\n",
       "      <td></td>\n",
       "      <td></td>\n",
       "      <td></td>\n",
       "      <td></td>\n",
       "      <td></td>\n",
       "      <td></td>\n",
       "      <td></td>\n",
       "      <td></td>\n",
       "    </tr>\n",
       "  </tbody>\n",
       "</table>\n",
       "</div>"
      ],
      "text/plain": [
       "          aids_0         is_1          a_2        life_3 threatening_4  \\\n",
       "0            hiv           is            a          life   threatening   \n",
       "1           aids    describes           an   potentially         cycle   \n",
       "2        malaria          are          any        health          like   \n",
       "3   tuberculosis      denotes      another       serious      changing   \n",
       "4      hepatitis          was          the         world        saving   \n",
       "5             tb     presents          one     seriously    sustaining   \n",
       "6      infection    indicates         some      globally      limiting   \n",
       "7        cholera            –         this       disease            or   \n",
       "8      influenza       refers        every      lifetime          line   \n",
       "9          fever     involves           no        social          long   \n",
       "10     blindness  encompasses    sometimes        global      altering   \n",
       "11     pneumonia       causes  potentially          risk            ly   \n",
       "12            it  constitutes      serious       rapidly     extension   \n",
       "13          this           as                       very        expect   \n",
       "14         virus        means                  worldwide           and   \n",
       "15      diabetes           or                     highly        ending   \n",
       "16                   includes               particularly         blood   \n",
       "17                                              systemic                 \n",
       "18                                                                       \n",
       "\n",
       "        medical_5 condition_6       caused_7       by_8          a_9  \\\n",
       "0         medical   condition         caused         by            a   \n",
       "1          health     illness    transmitted       from          hiv   \n",
       "2           human     disease  characterized       with         aids   \n",
       "3         genetic   emergency      triggered        via   infectious   \n",
       "4    neurological   infection    accompanied    through          the   \n",
       "5   psychological     problem  characterised         in      another   \n",
       "6         chronic    disorder        induced         to       deadly   \n",
       "7            skin  conditions     aggravated         as        viral   \n",
       "8        physical      hazard       infected       when  transmitted   \n",
       "9     psychiatric        risk       produced      after    influenza   \n",
       "10        disease       event         spread       upon      malaria   \n",
       "11       clinical   diagnosis        created      using     systemic   \n",
       "12           aids       issue       worsened     during    bacterial   \n",
       "13     congenital   situation       affected         on      chronic   \n",
       "14         living      crisis        causing         of    hepatitis   \n",
       "15         social      injury     contracted     within         this   \n",
       "16    contracting    disaster       preceded  following      disease   \n",
       "17         mental        sign          cause                   virus   \n",
       "18           life                                                      \n",
       "\n",
       "      virus_10     known_11      as_12        hiv_13  \n",
       "0      disease        known         as           hiv  \n",
       "1        virus         such       from          aids  \n",
       "2    condition   classified         by     influenza  \n",
       "3    bacterium   identified         to     hepatitis  \n",
       "4    substance    described        for      smallpox  \n",
       "5     parasite      defined        via       cholera  \n",
       "6     disorder  transmitted         in         virus  \n",
       "7   phenomenon  categorized       like       malaria  \n",
       "8     pathogen      branded       into  tuberculosis  \n",
       "9     diseases     marketed    through         viral  \n",
       "10   infection   designated     within        plague  \n",
       "11        drug       termed      after           flu  \n",
       "12     illness      classed       with         fever  \n",
       "13      strain     reported         at                \n",
       "14      plague           or  alongside                \n",
       "15        worm  abbreviated    against                \n",
       "16      fungus  originating                           \n",
       "17    mutation       called                           \n",
       "18                                                    "
      ]
     },
     "execution_count": 81,
     "metadata": {},
     "output_type": "execute_result"
    }
   ],
   "source": [
    "text.parad_chain.df()"
   ]
  }
 ],
 "metadata": {
  "interpreter": {
   "hash": "ac2eaa0ea0ebeafcc7822e65e46aa9d4f966f30b695406963e145ea4a91cd4fc"
  },
  "kernelspec": {
   "display_name": "Python 3.9.5 64-bit",
   "name": "python3"
  },
  "language_info": {
   "codemirror_mode": {
    "name": "ipython",
    "version": 3
   },
   "file_extension": ".py",
   "mimetype": "text/x-python",
   "name": "python",
   "nbconvert_exporter": "python",
   "pygments_lexer": "ipython3",
   "version": "3.9.5"
  },
  "metadata": {
   "interpreter": {
    "hash": "ac2eaa0ea0ebeafcc7822e65e46aa9d4f966f30b695406963e145ea4a91cd4fc"
   }
  },
  "orig_nbformat": 4
 },
 "nbformat": 4,
 "nbformat_minor": 2
}