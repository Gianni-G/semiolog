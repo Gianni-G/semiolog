{
 "cells": [
  {
   "cell_type": "code",
   "execution_count": 1,
   "metadata": {},
   "outputs": [],
   "source": [
    "import semiolog as slg\n",
    "\n",
    "import random"
   ]
  },
  {
   "cell_type": "code",
   "execution_count": 2,
   "metadata": {},
   "outputs": [],
   "source": [
    "semiotic = slg.load(\"en_bnc_test\")"
   ]
  },
  {
   "cell_type": "code",
   "execution_count": 3,
   "metadata": {},
   "outputs": [],
   "source": [
    "test_sent = random.choice(semiotic.test_sents())\n",
    "test_sent = \"I have made My Plans, and I must stick: to them!\"\n",
    "\n",
    "text = semiotic(test_sent)\n"
   ]
  },
  {
   "cell_type": "code",
   "execution_count": null,
   "metadata": {},
   "outputs": [],
   "source": [
    "print(text.chain)\n",
    "\n",
    "print([text.chain.labels[i] for i in text.type_chain.scores_min])\n",
    "\n",
    "text.type_chain.plot_scores(show_mean=True, show_probs=True)"
   ]
  },
  {
   "cell_type": "code",
   "execution_count": 18,
   "metadata": {},
   "outputs": [
    {
     "name": "stdout",
     "output_type": "stream",
     "text": [
      "inf\n"
     ]
    },
    {
     "data": {
      "application/vnd.plotly.v1+json": {
       "config": {
        "plotlyServerURL": "https://plot.ly"
       },
       "data": [
        {
         "line": {
          "shape": "spline"
         },
         "mode": "lines+markers",
         "type": "scatter",
         "x": [
          "('tomatoes', 'for')",
          "('tomatoes', 'with')",
          "('tomatoes', 'to')",
          "('tomatoes', 'without')",
          "('tomatoes', 'serving')",
          "('tomatoes', 'in')",
          "('tomatoes', 'promoting')",
          "('tomatoes', 'under')",
          "('tomatoes', 'and')",
          "('tomatoes', 'through')",
          "('tomatoes', 'seeking')",
          "('tomatoes', 'celebrating')",
          "('tomatoes', 'on')",
          "('tomatoes', 'of')",
          "('tomatoes', 'by')",
          "('tomatoes', 'from')",
          "('tomatoes', 'providing')",
          "('products', 'for')",
          "('products', 'with')",
          "('products', 'to')",
          "('products', 'without')",
          "('products', 'serving')",
          "('products', 'in')",
          "('products', 'promoting')",
          "('products', 'under')",
          "('products', 'and')",
          "('products', 'through')",
          "('products', 'seeking')",
          "('products', 'celebrating')",
          "('products', 'on')",
          "('products', 'of')",
          "('products', 'by')",
          "('products', 'from')",
          "('products', 'providing')",
          "('varieties', 'for')",
          "('varieties', 'with')",
          "('varieties', 'to')",
          "('varieties', 'without')",
          "('varieties', 'serving')",
          "('varieties', 'in')",
          "('varieties', 'promoting')",
          "('varieties', 'under')",
          "('varieties', 'and')",
          "('varieties', 'through')",
          "('varieties', 'seeking')",
          "('varieties', 'celebrating')",
          "('varieties', 'on')",
          "('varieties', 'of')",
          "('varieties', 'by')",
          "('varieties', 'from')",
          "('varieties', 'providing')",
          "('vegetables', 'for')",
          "('vegetables', 'with')",
          "('vegetables', 'to')",
          "('vegetables', 'without')",
          "('vegetables', 'serving')",
          "('vegetables', 'in')",
          "('vegetables', 'promoting')",
          "('vegetables', 'under')",
          "('vegetables', 'and')",
          "('vegetables', 'through')",
          "('vegetables', 'seeking')",
          "('vegetables', 'celebrating')",
          "('vegetables', 'on')",
          "('vegetables', 'of')",
          "('vegetables', 'by')",
          "('vegetables', 'from')",
          "('vegetables', 'providing')",
          "('fruits', 'for')",
          "('fruits', 'with')",
          "('fruits', 'to')",
          "('fruits', 'without')",
          "('fruits', 'serving')",
          "('fruits', 'in')",
          "('fruits', 'promoting')",
          "('fruits', 'under')",
          "('fruits', 'and')",
          "('fruits', 'through')",
          "('fruits', 'seeking')",
          "('fruits', 'celebrating')",
          "('fruits', 'on')",
          "('fruits', 'of')",
          "('fruits', 'by')",
          "('fruits', 'from')",
          "('fruits', 'providing')",
          "('juice', 'for')",
          "('juice', 'with')",
          "('juice', 'to')",
          "('juice', 'without')",
          "('juice', 'serving')",
          "('juice', 'in')",
          "('juice', 'promoting')",
          "('juice', 'under')",
          "('juice', 'and')",
          "('juice', 'through')",
          "('juice', 'seeking')",
          "('juice', 'celebrating')",
          "('juice', 'on')",
          "('juice', 'of')",
          "('juice', 'by')",
          "('juice', 'from')",
          "('juice', 'providing')",
          "('wine', 'for')",
          "('wine', 'with')",
          "('wine', 'to')",
          "('wine', 'without')",
          "('wine', 'serving')",
          "('wine', 'in')",
          "('wine', 'promoting')",
          "('wine', 'under')",
          "('wine', 'and')",
          "('wine', 'through')",
          "('wine', 'seeking')",
          "('wine', 'celebrating')",
          "('wine', 'on')",
          "('wine', 'of')",
          "('wine', 'by')",
          "('wine', 'from')",
          "('wine', 'providing')",
          "('wines', 'for')",
          "('wines', 'with')",
          "('wines', 'to')",
          "('wines', 'without')",
          "('wines', 'serving')",
          "('wines', 'in')",
          "('wines', 'promoting')",
          "('wines', 'under')",
          "('wines', 'and')",
          "('wines', 'through')",
          "('wines', 'seeking')",
          "('wines', 'celebrating')",
          "('wines', 'on')",
          "('wines', 'of')",
          "('wines', 'by')",
          "('wines', 'from')",
          "('wines', 'providing')",
          "('tomato', 'for')",
          "('tomato', 'with')",
          "('tomato', 'to')",
          "('tomato', 'without')",
          "('tomato', 'serving')",
          "('tomato', 'in')",
          "('tomato', 'promoting')",
          "('tomato', 'under')",
          "('tomato', 'and')",
          "('tomato', 'through')",
          "('tomato', 'seeking')",
          "('tomato', 'celebrating')",
          "('tomato', 'on')",
          "('tomato', 'of')",
          "('tomato', 'by')",
          "('tomato', 'from')",
          "('tomato', 'providing')",
          "('fruit', 'for')",
          "('fruit', 'with')",
          "('fruit', 'to')",
          "('fruit', 'without')",
          "('fruit', 'serving')",
          "('fruit', 'in')",
          "('fruit', 'promoting')",
          "('fruit', 'under')",
          "('fruit', 'and')",
          "('fruit', 'through')",
          "('fruit', 'seeking')",
          "('fruit', 'celebrating')",
          "('fruit', 'on')",
          "('fruit', 'of')",
          "('fruit', 'by')",
          "('fruit', 'from')",
          "('fruit', 'providing')",
          "('apples', 'for')",
          "('apples', 'with')",
          "('apples', 'to')",
          "('apples', 'without')",
          "('apples', 'serving')",
          "('apples', 'in')",
          "('apples', 'promoting')",
          "('apples', 'under')",
          "('apples', 'and')",
          "('apples', 'through')",
          "('apples', 'seeking')",
          "('apples', 'celebrating')",
          "('apples', 'on')",
          "('apples', 'of')",
          "('apples', 'by')",
          "('apples', 'from')",
          "('apples', 'providing')",
          "('crops', 'for')",
          "('crops', 'with')",
          "('crops', 'to')",
          "('crops', 'without')",
          "('crops', 'serving')",
          "('crops', 'in')",
          "('crops', 'promoting')",
          "('crops', 'under')",
          "('crops', 'and')",
          "('crops', 'through')",
          "('crops', 'seeking')",
          "('crops', 'celebrating')",
          "('crops', 'on')",
          "('crops', 'of')",
          "('crops', 'by')",
          "('crops', 'from')",
          "('crops', 'providing')",
          "('vinegar', 'for')",
          "('vinegar', 'with')",
          "('vinegar', 'to')",
          "('vinegar', 'without')",
          "('vinegar', 'serving')",
          "('vinegar', 'in')",
          "('vinegar', 'promoting')",
          "('vinegar', 'under')",
          "('vinegar', 'and')",
          "('vinegar', 'through')",
          "('vinegar', 'seeking')",
          "('vinegar', 'celebrating')",
          "('vinegar', 'on')",
          "('vinegar', 'of')",
          "('vinegar', 'by')",
          "('vinegar', 'from')",
          "('vinegar', 'providing')",
          "('grapes', 'for')",
          "('grapes', 'with')",
          "('grapes', 'to')",
          "('grapes', 'without')",
          "('grapes', 'serving')",
          "('grapes', 'in')",
          "('grapes', 'promoting')",
          "('grapes', 'under')",
          "('grapes', 'and')",
          "('grapes', 'through')",
          "('grapes', 'seeking')",
          "('grapes', 'celebrating')",
          "('grapes', 'on')",
          "('grapes', 'of')",
          "('grapes', 'by')",
          "('grapes', 'from')",
          "('grapes', 'providing')",
          "('foods', 'for')",
          "('foods', 'with')",
          "('foods', 'to')",
          "('foods', 'without')",
          "('foods', 'serving')",
          "('foods', 'in')",
          "('foods', 'promoting')",
          "('foods', 'under')",
          "('foods', 'and')",
          "('foods', 'through')",
          "('foods', 'seeking')",
          "('foods', 'celebrating')",
          "('foods', 'on')",
          "('foods', 'of')",
          "('foods', 'by')",
          "('foods', 'from')",
          "('foods', 'providing')",
          "('programs', 'for')",
          "('programs', 'with')",
          "('programs', 'to')",
          "('programs', 'without')",
          "('programs', 'serving')",
          "('programs', 'in')",
          "('programs', 'promoting')",
          "('programs', 'under')",
          "('programs', 'and')",
          "('programs', 'through')",
          "('programs', 'seeking')",
          "('programs', 'celebrating')",
          "('programs', 'on')",
          "('programs', 'of')",
          "('programs', 'by')",
          "('programs', 'from')",
          "('programs', 'providing')",
          "('seeds', 'for')",
          "('seeds', 'with')",
          "('seeds', 'to')",
          "('seeds', 'without')",
          "('seeds', 'serving')",
          "('seeds', 'in')",
          "('seeds', 'promoting')",
          "('seeds', 'under')",
          "('seeds', 'and')",
          "('seeds', 'through')",
          "('seeds', 'seeking')",
          "('seeds', 'celebrating')",
          "('seeds', 'on')",
          "('seeds', 'of')",
          "('seeds', 'by')",
          "('seeds', 'from')",
          "('seeds', 'providing')",
          "('beverages', 'for')",
          "('beverages', 'with')",
          "('beverages', 'to')",
          "('beverages', 'without')",
          "('beverages', 'serving')",
          "('beverages', 'in')",
          "('beverages', 'promoting')",
          "('beverages', 'under')",
          "('beverages', 'and')",
          "('beverages', 'through')",
          "('beverages', 'seeking')",
          "('beverages', 'celebrating')",
          "('beverages', 'on')",
          "('beverages', 'of')",
          "('beverages', 'by')",
          "('beverages', 'from')",
          "('beverages', 'providing')",
          "('plants', 'for')",
          "('plants', 'with')",
          "('plants', 'to')",
          "('plants', 'without')",
          "('plants', 'serving')",
          "('plants', 'in')",
          "('plants', 'promoting')",
          "('plants', 'under')",
          "('plants', 'and')",
          "('plants', 'through')",
          "('plants', 'seeking')",
          "('plants', 'celebrating')",
          "('plants', 'on')",
          "('plants', 'of')",
          "('plants', 'by')",
          "('plants', 'from')",
          "('plants', 'providing')"
         ],
         "y": [
          1.138717085651503e-7,
          1.644813568163282e-7,
          8.856688443956135e-8,
          0,
          0,
          3.416151256954509e-7,
          0,
          0,
          0.0000015182894475353374,
          0,
          0,
          0,
          1.138717085651503e-7,
          0,
          0,
          5.0609648251177914e-8,
          0,
          0.000002998621658882291,
          0.0000013285032665934201,
          0.000004542215930543218,
          1.3917653269073925e-7,
          0,
          0.000004656087639108368,
          0,
          2.403958291930951e-7,
          0.000012956069952301546,
          2.91005477444273e-7,
          0,
          0,
          0.000001429722563095776,
          0.000007275136936106825,
          6.452730152025184e-7,
          0.000002783530653814785,
          0,
          1.5182894475353373e-7,
          1.8978618094191718e-7,
          3.542675377582454e-7,
          0,
          0,
          4.048771860094233e-7,
          0,
          0,
          7.971019599560521e-7,
          0,
          0,
          0,
          8.856688443956135e-8,
          0.000005908676433325021,
          0,
          1.138717085651503e-7,
          0,
          4.934440704489846e-7,
          2.5304824125588953e-7,
          5.187488945745736e-7,
          0,
          0,
          9.615833167723804e-7,
          0,
          0,
          0.0000037957236188383435,
          0,
          0,
          0,
          1.771337688791227e-7,
          1.2652412062794477e-7,
          0,
          2.91005477444273e-7,
          0,
          7.591447237676686e-8,
          1.2652412062794477e-7,
          1.5182894475353373e-7,
          0,
          0,
          2.403958291930951e-7,
          0,
          0,
          0.0000018345997491051992,
          0,
          0,
          0,
          6.326206031397238e-8,
          0.0000041120339204082055,
          0,
          1.5182894475353373e-7,
          0,
          2.150910050675061e-7,
          2.65700653318684e-7,
          6.073157790141349e-7,
          0,
          0,
          6.452730152025184e-7,
          0,
          0,
          0.0000026570065331868402,
          0,
          0,
          0,
          2.65700653318684e-7,
          0.0000012146315580282698,
          8.856688443956135e-8,
          3.6691994982103987e-7,
          0,
          8.4771160820723e-7,
          0.0000010501502012119416,
          0.0000013285032665934201,
          0,
          0,
          0.0000016068563319748986,
          0,
          0,
          0.00001042558753974265,
          0,
          0,
          0,
          5.56706130762957e-7,
          7.085350755164908e-7,
          1.8978618094191718e-7,
          0.0000012778936183422422,
          0,
          2.0243859300471166e-7,
          2.150910050675061e-7,
          3.0365788950706746e-7,
          0,
          0,
          3.1631030156986194e-7,
          0,
          0,
          0.0000019484714576703497,
          0,
          0,
          0,
          1.138717085651503e-7,
          8.097543720188466e-7,
          5.0609648251177914e-8,
          6.326206031397239e-7,
          0,
          0,
          7.591447237676686e-8,
          0,
          0,
          0,
          1.0121929650235583e-7,
          0,
          0,
          8.603640202700244e-7,
          0,
          0,
          0,
          1.2652412062794477e-7,
          0,
          0,
          0,
          0,
          5.060964825117791e-7,
          4.1752959807221774e-7,
          5.693585428257515e-7,
          5.0609648251177914e-8,
          0,
          0.0000013411556786562145,
          0,
          0,
          0.00000921095598171438,
          0,
          0,
          0,
          4.807916583861902e-7,
          0.0000021762148748006502,
          8.856688443956135e-8,
          3.9222477394662883e-7,
          0,
          1.771337688791227e-7,
          1.771337688791227e-7,
          1.8978618094191718e-7,
          0,
          0,
          3.1631030156986194e-7,
          0,
          0,
          0.0000017586852767284324,
          0,
          0,
          0,
          1.0121929650235583e-7,
          1.644813568163282e-7,
          0,
          2.403958291930951e-7,
          0,
          5.060964825117791e-7,
          1.644813568163282e-7,
          4.934440704489846e-7,
          5.0609648251177914e-8,
          0,
          7.971019599560521e-7,
          0,
          0,
          0.0000026570065331868402,
          0,
          0,
          0,
          2.277434171303006e-7,
          6.326206031397239e-7,
          7.591447237676686e-8,
          1.644813568163282e-7,
          0,
          5.0609648251177914e-8,
          5.0609648251177914e-8,
          8.856688443956135e-8,
          0,
          0,
          2.150910050675061e-7,
          0,
          0,
          6.832302513909018e-7,
          0,
          0,
          0,
          1.2652412062794477e-7,
          0,
          0,
          6.326206031397238e-8,
          0,
          1.2652412062794477e-7,
          1.5182894475353373e-7,
          1.138717085651503e-7,
          0,
          0,
          2.65700653318684e-7,
          0,
          0,
          6.199681910769295e-7,
          0,
          0,
          0,
          1.138717085651503e-7,
          2.277434171303006e-7,
          0,
          1.771337688791227e-7,
          0,
          3.542675377582454e-7,
          2.65700653318684e-7,
          4.1752959807221774e-7,
          0,
          0,
          6.705778393281073e-7,
          0,
          0,
          0.0000023913058798681564,
          0,
          0,
          0,
          1.2652412062794477e-7,
          3.1631030156986194e-7,
          0,
          3.6691994982103987e-7,
          0,
          0.000001062802613274736,
          2.277434171303006e-7,
          0.0000011007598494631196,
          6.326206031397238e-8,
          0,
          7.844495478932577e-7,
          0,
          5.0609648251177914e-8,
          0.0000014423749751585704,
          0,
          0,
          0,
          4.048771860094233e-7,
          1.771337688791227e-7,
          5.0609648251177914e-8,
          2.0243859300471166e-7,
          0,
          4.934440704489846e-7,
          1.771337688791227e-7,
          5.440537187001626e-7,
          0,
          0,
          0.0000010754550253375307,
          0,
          0,
          0.0000019990811059215274,
          0,
          0,
          0,
          1.771337688791227e-7,
          0.0000037451139705871654,
          0,
          4.807916583861902e-7,
          0,
          0,
          1.0121929650235583e-7,
          0,
          0,
          0,
          6.326206031397238e-8,
          0,
          0,
          1.0121929650235583e-7,
          0,
          0,
          0,
          7.591447237676686e-8,
          0,
          0,
          0,
          0,
          0.000001910514221481966,
          0.0000013158508545306257,
          0.0000026063968849356625,
          8.856688443956135e-8,
          0,
          0.0000053772751266876535,
          0,
          1.5182894475353373e-7,
          0.00001102025090669399,
          6.326206031397238e-8,
          0,
          0,
          6.579254272653128e-7,
          0.0000012652412062794478,
          4.934440704489846e-7,
          0.0000012146315580282698,
          0
         ]
        },
        {
         "line": {
          "shape": "spline"
         },
         "mode": "lines+markers",
         "name": "iid",
         "type": "scatter",
         "x": [
          "('tomatoes', 'for')",
          "('tomatoes', 'with')",
          "('tomatoes', 'to')",
          "('tomatoes', 'without')",
          "('tomatoes', 'serving')",
          "('tomatoes', 'in')",
          "('tomatoes', 'promoting')",
          "('tomatoes', 'under')",
          "('tomatoes', 'and')",
          "('tomatoes', 'through')",
          "('tomatoes', 'seeking')",
          "('tomatoes', 'celebrating')",
          "('tomatoes', 'on')",
          "('tomatoes', 'of')",
          "('tomatoes', 'by')",
          "('tomatoes', 'from')",
          "('tomatoes', 'providing')",
          "('products', 'for')",
          "('products', 'with')",
          "('products', 'to')",
          "('products', 'without')",
          "('products', 'serving')",
          "('products', 'in')",
          "('products', 'promoting')",
          "('products', 'under')",
          "('products', 'and')",
          "('products', 'through')",
          "('products', 'seeking')",
          "('products', 'celebrating')",
          "('products', 'on')",
          "('products', 'of')",
          "('products', 'by')",
          "('products', 'from')",
          "('products', 'providing')",
          "('varieties', 'for')",
          "('varieties', 'with')",
          "('varieties', 'to')",
          "('varieties', 'without')",
          "('varieties', 'serving')",
          "('varieties', 'in')",
          "('varieties', 'promoting')",
          "('varieties', 'under')",
          "('varieties', 'and')",
          "('varieties', 'through')",
          "('varieties', 'seeking')",
          "('varieties', 'celebrating')",
          "('varieties', 'on')",
          "('varieties', 'of')",
          "('varieties', 'by')",
          "('varieties', 'from')",
          "('varieties', 'providing')",
          "('vegetables', 'for')",
          "('vegetables', 'with')",
          "('vegetables', 'to')",
          "('vegetables', 'without')",
          "('vegetables', 'serving')",
          "('vegetables', 'in')",
          "('vegetables', 'promoting')",
          "('vegetables', 'under')",
          "('vegetables', 'and')",
          "('vegetables', 'through')",
          "('vegetables', 'seeking')",
          "('vegetables', 'celebrating')",
          "('vegetables', 'on')",
          "('vegetables', 'of')",
          "('vegetables', 'by')",
          "('vegetables', 'from')",
          "('vegetables', 'providing')",
          "('fruits', 'for')",
          "('fruits', 'with')",
          "('fruits', 'to')",
          "('fruits', 'without')",
          "('fruits', 'serving')",
          "('fruits', 'in')",
          "('fruits', 'promoting')",
          "('fruits', 'under')",
          "('fruits', 'and')",
          "('fruits', 'through')",
          "('fruits', 'seeking')",
          "('fruits', 'celebrating')",
          "('fruits', 'on')",
          "('fruits', 'of')",
          "('fruits', 'by')",
          "('fruits', 'from')",
          "('fruits', 'providing')",
          "('juice', 'for')",
          "('juice', 'with')",
          "('juice', 'to')",
          "('juice', 'without')",
          "('juice', 'serving')",
          "('juice', 'in')",
          "('juice', 'promoting')",
          "('juice', 'under')",
          "('juice', 'and')",
          "('juice', 'through')",
          "('juice', 'seeking')",
          "('juice', 'celebrating')",
          "('juice', 'on')",
          "('juice', 'of')",
          "('juice', 'by')",
          "('juice', 'from')",
          "('juice', 'providing')",
          "('wine', 'for')",
          "('wine', 'with')",
          "('wine', 'to')",
          "('wine', 'without')",
          "('wine', 'serving')",
          "('wine', 'in')",
          "('wine', 'promoting')",
          "('wine', 'under')",
          "('wine', 'and')",
          "('wine', 'through')",
          "('wine', 'seeking')",
          "('wine', 'celebrating')",
          "('wine', 'on')",
          "('wine', 'of')",
          "('wine', 'by')",
          "('wine', 'from')",
          "('wine', 'providing')",
          "('wines', 'for')",
          "('wines', 'with')",
          "('wines', 'to')",
          "('wines', 'without')",
          "('wines', 'serving')",
          "('wines', 'in')",
          "('wines', 'promoting')",
          "('wines', 'under')",
          "('wines', 'and')",
          "('wines', 'through')",
          "('wines', 'seeking')",
          "('wines', 'celebrating')",
          "('wines', 'on')",
          "('wines', 'of')",
          "('wines', 'by')",
          "('wines', 'from')",
          "('wines', 'providing')",
          "('tomato', 'for')",
          "('tomato', 'with')",
          "('tomato', 'to')",
          "('tomato', 'without')",
          "('tomato', 'serving')",
          "('tomato', 'in')",
          "('tomato', 'promoting')",
          "('tomato', 'under')",
          "('tomato', 'and')",
          "('tomato', 'through')",
          "('tomato', 'seeking')",
          "('tomato', 'celebrating')",
          "('tomato', 'on')",
          "('tomato', 'of')",
          "('tomato', 'by')",
          "('tomato', 'from')",
          "('tomato', 'providing')",
          "('fruit', 'for')",
          "('fruit', 'with')",
          "('fruit', 'to')",
          "('fruit', 'without')",
          "('fruit', 'serving')",
          "('fruit', 'in')",
          "('fruit', 'promoting')",
          "('fruit', 'under')",
          "('fruit', 'and')",
          "('fruit', 'through')",
          "('fruit', 'seeking')",
          "('fruit', 'celebrating')",
          "('fruit', 'on')",
          "('fruit', 'of')",
          "('fruit', 'by')",
          "('fruit', 'from')",
          "('fruit', 'providing')",
          "('apples', 'for')",
          "('apples', 'with')",
          "('apples', 'to')",
          "('apples', 'without')",
          "('apples', 'serving')",
          "('apples', 'in')",
          "('apples', 'promoting')",
          "('apples', 'under')",
          "('apples', 'and')",
          "('apples', 'through')",
          "('apples', 'seeking')",
          "('apples', 'celebrating')",
          "('apples', 'on')",
          "('apples', 'of')",
          "('apples', 'by')",
          "('apples', 'from')",
          "('apples', 'providing')",
          "('crops', 'for')",
          "('crops', 'with')",
          "('crops', 'to')",
          "('crops', 'without')",
          "('crops', 'serving')",
          "('crops', 'in')",
          "('crops', 'promoting')",
          "('crops', 'under')",
          "('crops', 'and')",
          "('crops', 'through')",
          "('crops', 'seeking')",
          "('crops', 'celebrating')",
          "('crops', 'on')",
          "('crops', 'of')",
          "('crops', 'by')",
          "('crops', 'from')",
          "('crops', 'providing')",
          "('vinegar', 'for')",
          "('vinegar', 'with')",
          "('vinegar', 'to')",
          "('vinegar', 'without')",
          "('vinegar', 'serving')",
          "('vinegar', 'in')",
          "('vinegar', 'promoting')",
          "('vinegar', 'under')",
          "('vinegar', 'and')",
          "('vinegar', 'through')",
          "('vinegar', 'seeking')",
          "('vinegar', 'celebrating')",
          "('vinegar', 'on')",
          "('vinegar', 'of')",
          "('vinegar', 'by')",
          "('vinegar', 'from')",
          "('vinegar', 'providing')",
          "('grapes', 'for')",
          "('grapes', 'with')",
          "('grapes', 'to')",
          "('grapes', 'without')",
          "('grapes', 'serving')",
          "('grapes', 'in')",
          "('grapes', 'promoting')",
          "('grapes', 'under')",
          "('grapes', 'and')",
          "('grapes', 'through')",
          "('grapes', 'seeking')",
          "('grapes', 'celebrating')",
          "('grapes', 'on')",
          "('grapes', 'of')",
          "('grapes', 'by')",
          "('grapes', 'from')",
          "('grapes', 'providing')",
          "('foods', 'for')",
          "('foods', 'with')",
          "('foods', 'to')",
          "('foods', 'without')",
          "('foods', 'serving')",
          "('foods', 'in')",
          "('foods', 'promoting')",
          "('foods', 'under')",
          "('foods', 'and')",
          "('foods', 'through')",
          "('foods', 'seeking')",
          "('foods', 'celebrating')",
          "('foods', 'on')",
          "('foods', 'of')",
          "('foods', 'by')",
          "('foods', 'from')",
          "('foods', 'providing')",
          "('programs', 'for')",
          "('programs', 'with')",
          "('programs', 'to')",
          "('programs', 'without')",
          "('programs', 'serving')",
          "('programs', 'in')",
          "('programs', 'promoting')",
          "('programs', 'under')",
          "('programs', 'and')",
          "('programs', 'through')",
          "('programs', 'seeking')",
          "('programs', 'celebrating')",
          "('programs', 'on')",
          "('programs', 'of')",
          "('programs', 'by')",
          "('programs', 'from')",
          "('programs', 'providing')",
          "('seeds', 'for')",
          "('seeds', 'with')",
          "('seeds', 'to')",
          "('seeds', 'without')",
          "('seeds', 'serving')",
          "('seeds', 'in')",
          "('seeds', 'promoting')",
          "('seeds', 'under')",
          "('seeds', 'and')",
          "('seeds', 'through')",
          "('seeds', 'seeking')",
          "('seeds', 'celebrating')",
          "('seeds', 'on')",
          "('seeds', 'of')",
          "('seeds', 'by')",
          "('seeds', 'from')",
          "('seeds', 'providing')",
          "('beverages', 'for')",
          "('beverages', 'with')",
          "('beverages', 'to')",
          "('beverages', 'without')",
          "('beverages', 'serving')",
          "('beverages', 'in')",
          "('beverages', 'promoting')",
          "('beverages', 'under')",
          "('beverages', 'and')",
          "('beverages', 'through')",
          "('beverages', 'seeking')",
          "('beverages', 'celebrating')",
          "('beverages', 'on')",
          "('beverages', 'of')",
          "('beverages', 'by')",
          "('beverages', 'from')",
          "('beverages', 'providing')",
          "('plants', 'for')",
          "('plants', 'with')",
          "('plants', 'to')",
          "('plants', 'without')",
          "('plants', 'serving')",
          "('plants', 'in')",
          "('plants', 'promoting')",
          "('plants', 'under')",
          "('plants', 'and')",
          "('plants', 'through')",
          "('plants', 'seeking')",
          "('plants', 'celebrating')",
          "('plants', 'on')",
          "('plants', 'of')",
          "('plants', 'by')",
          "('plants', 'from')",
          "('plants', 'providing')"
         ],
         "y": [
          0,
          0,
          0,
          0,
          0,
          0,
          0,
          0,
          0,
          0,
          0,
          0,
          0,
          0,
          0,
          0,
          0,
          3.149133320801492e-7,
          2.585023830727859e-7,
          4.2482467700646274e-7,
          3.221727873571646e-8,
          0,
          3.8872182440695264e-7,
          0,
          5.938921187184433e-8,
          6.870037009197464e-7,
          5.323536050976945e-8,
          2.4772105215771412e-9,
          4.83641257629274e-10,
          2.6767512316498276e-7,
          3.9524711225488683e-7,
          2.1530354594133918e-7,
          1.9956876126562838e-7,
          4.534620431532073e-9,
          3.201599727824452e-8,
          2.628091842987341e-8,
          4.319025051409496e-8,
          3.275403748395836e-9,
          0,
          3.951981578550559e-8,
          0,
          6.037867095325533e-9,
          6.984495852716867e-8,
          5.412229282034204e-9,
          2.51848230091024e-10,
          4.91699004472909e-11,
          2.721347476175673e-8,
          4.0183216082340436e-8,
          2.1889062921921385e-8,
          2.0289369380769225e-8,
          4.610169865937995e-10,
          5.702370807094031e-8,
          4.680895639004965e-8,
          7.692617585584616e-8,
          5.83382318344665e-9,
          0,
          7.038876280456677e-8,
          0,
          1.0754047972415932e-8,
          1.2440088905138057e-7,
          9.63972416381451e-9,
          4.4856700311666834e-10,
          8.757653321293798e-11,
          4.846993291896623e-8,
          7.157034539067573e-8,
          3.898662044347003e-8,
          3.6137405511920304e-8,
          8.211175754045065e-10,
          3.649670503130027e-8,
          2.9958989549843725e-8,
          4.92348190669049e-8,
          3.733803555288554e-9,
          0,
          4.5050699095199546e-8,
          0,
          6.882879595508652e-9,
          7.961991085692792e-8,
          6.169682423180139e-9,
          2.870949321492175e-10,
          5.6051333883095964e-11,
          3.1022059148270524e-8,
          4.580694369195028e-8,
          2.49524844074056e-8,
          2.3128910310852955e-8,
          5.255373064879078e-10,
          4.714317302574044e-8,
          3.86983380229356e-8,
          6.359712725221398e-8,
          4.822992840042194e-9,
          0,
          5.8192456019087764e-8,
          0,
          8.890687074576233e-9,
          1.0284586596524477e-7,
          7.96944287821065e-9,
          3.7084350627039534e-10,
          7.240209025193193e-11,
          4.0071516066653745e-8,
          5.916930502076683e-8,
          3.223138332163304e-8,
          2.9875853717376686e-8,
          6.788419982021138e-10,
          1.4154440901960735e-7,
          1.1618932358470348e-7,
          1.9094637069389348e-7,
          1.4480732361328957e-8,
          0,
          1.7471918557802468e-7,
          0,
          2.669372821091288e-8,
          3.087882376990615e-7,
          2.3927750510045952e-8,
          1.1134342804024217e-9,
          2.1738271776697028e-10,
          1.2031220420987184e-7,
          1.7765211320613666e-7,
          9.67726992337577e-8,
          8.970036989392709e-8,
          2.038180361783113e-9,
          3.42754994785034e-8,
          2.8135672242508014e-8,
          4.623836628004185e-8,
          3.5065626253759246e-9,
          0,
          4.2308893693812794e-8,
          0,
          6.463984509947789e-9,
          7.477420799260281e-8,
          5.794192831842838e-9,
          2.6962220805199335e-10,
          5.2640025000389176e-11,
          2.9134042956665396e-8,
          4.301911291111805e-8,
          2.3433865209473253e-8,
          2.172127463611059e-8,
          4.935528744036489e-10,
          0,
          0,
          0,
          0,
          0,
          0,
          0,
          0,
          0,
          0,
          0,
          0,
          0,
          0,
          0,
          0,
          0,
          1.2840865894013621e-7,
          1.0540660226718366e-7,
          1.7322596886813445e-7,
          1.3136876517190477e-8,
          0,
          1.585047157043065e-7,
          0,
          2.4216469342854678e-8,
          2.801317535186562e-7,
          2.170718275437881e-8,
          1.0101042051378032e-9,
          1.9720894282268706e-10,
          1.0914686707675875e-7,
          1.6116545876087018e-7,
          8.779189949426125e-8,
          8.137590374846795e-8,
          1.8490310479055139e-9,
          2.845440906427713e-8,
          2.3357323437076487e-8,
          3.838559345929732e-8,
          2.9110346711221366e-9,
          0,
          3.512347264190269e-8,
          0,
          5.366190492615875e-9,
          6.20751246240267e-8,
          4.810151144200255e-9,
          2.238316207627163e-10,
          4.3700043100881746e-11,
          2.418613845452781e-8,
          3.571307362341979e-8,
          1.945403558730573e-8,
          1.8032298385061642e-8,
          4.0973160411386726e-10,
          0,
          0,
          0,
          0,
          0,
          0,
          0,
          0,
          0,
          0,
          0,
          0,
          0,
          0,
          0,
          0,
          0,
          0,
          0,
          0,
          0,
          0,
          0,
          0,
          0,
          0,
          0,
          0,
          0,
          0,
          0,
          0,
          0,
          0,
          1.2676190309926958e-8,
          1.0405483253933132e-8,
          1.710044607675291e-8,
          1.2968404793289734e-9,
          0,
          1.5647199790672667e-8,
          0,
          2.390590919321473e-9,
          2.7653924967096687e-8,
          2.14288025401115e-9,
          9.971502889967576e-11,
          1.9467986899585272e-11,
          1.0774713093470666e-8,
          1.5909861869921872e-8,
          8.666602664062175e-9,
          8.033231178271068e-9,
          1.825318451705115e-10,
          2.4241777843455482e-8,
          1.9899307854198406e-8,
          3.2702665760074296e-8,
          2.4800604937016317e-9,
          0,
          2.992349688065196e-8,
          0,
          4.5717342958625146e-9,
          5.288499850203082e-8,
          4.098015712353649e-9,
          1.9069369575073944e-10,
          3.723031935781715e-11,
          2.0605418091138766e-8,
          3.042580834942763e-8,
          1.6573895729158178e-8,
          1.5362644519170957e-8,
          3.490714742988936e-10,
          1.8497280724153232e-8,
          1.518383205936466e-8,
          2.4953218897497445e-8,
          1.8923684335827616e-9,
          0,
          2.283262084258277e-8,
          0,
          3.4883849366533877e-9,
          4.0353008335672804e-8,
          3.1269219416537323e-9,
          1.4550561618895284e-10,
          2.8407968799092705e-11,
          1.5722617595608252e-8,
          2.321590115762013e-8,
          1.26464322862297e-8,
          1.1722207429320016e-8,
          2.663531154602932e-10,
          2.332265830436712e-8,
          1.9144831727025004e-8,
          3.1462754262062e-8,
          2.3860297640826124e-9,
          0,
          2.8788956714560885e-8,
          0,
          4.3983983983890545e-9,
          5.087988007541354e-8,
          3.942640709041663e-9,
          1.8346360302085358e-10,
          3.5818743268421237e-11,
          1.9824170011853883e-8,
          2.9272223198738428e-8,
          1.5945501578289622e-8,
          1.4780174584794804e-8,
          3.3583653688471756e-10,
          0,
          0,
          0,
          0,
          0,
          0,
          0,
          0,
          0,
          0,
          0,
          0,
          0,
          0,
          0,
          0,
          0,
          2.5199194030005853e-7,
          2.0685220486670696e-7,
          3.3994240237170436e-7,
          2.57800917038811e-8,
          0,
          3.1105309553663484e-7,
          0,
          4.752292522397369e-8,
          5.497366352975716e-7,
          4.259864674136969e-8,
          1.9822504234437056e-9,
          3.870071111760456e-10,
          2.1419218173727184e-7,
          3.1627459548062206e-7,
          1.7228472969646258e-7,
          1.596938403414611e-7,
          3.6285786743866033e-9
         ]
        }
       ],
       "layout": {
        "template": {
         "data": {
          "bar": [
           {
            "error_x": {
             "color": "#2a3f5f"
            },
            "error_y": {
             "color": "#2a3f5f"
            },
            "marker": {
             "line": {
              "color": "#E5ECF6",
              "width": 0.5
             }
            },
            "type": "bar"
           }
          ],
          "barpolar": [
           {
            "marker": {
             "line": {
              "color": "#E5ECF6",
              "width": 0.5
             }
            },
            "type": "barpolar"
           }
          ],
          "carpet": [
           {
            "aaxis": {
             "endlinecolor": "#2a3f5f",
             "gridcolor": "white",
             "linecolor": "white",
             "minorgridcolor": "white",
             "startlinecolor": "#2a3f5f"
            },
            "baxis": {
             "endlinecolor": "#2a3f5f",
             "gridcolor": "white",
             "linecolor": "white",
             "minorgridcolor": "white",
             "startlinecolor": "#2a3f5f"
            },
            "type": "carpet"
           }
          ],
          "choropleth": [
           {
            "colorbar": {
             "outlinewidth": 0,
             "ticks": ""
            },
            "type": "choropleth"
           }
          ],
          "contour": [
           {
            "colorbar": {
             "outlinewidth": 0,
             "ticks": ""
            },
            "colorscale": [
             [
              0,
              "#0d0887"
             ],
             [
              0.1111111111111111,
              "#46039f"
             ],
             [
              0.2222222222222222,
              "#7201a8"
             ],
             [
              0.3333333333333333,
              "#9c179e"
             ],
             [
              0.4444444444444444,
              "#bd3786"
             ],
             [
              0.5555555555555556,
              "#d8576b"
             ],
             [
              0.6666666666666666,
              "#ed7953"
             ],
             [
              0.7777777777777778,
              "#fb9f3a"
             ],
             [
              0.8888888888888888,
              "#fdca26"
             ],
             [
              1,
              "#f0f921"
             ]
            ],
            "type": "contour"
           }
          ],
          "contourcarpet": [
           {
            "colorbar": {
             "outlinewidth": 0,
             "ticks": ""
            },
            "type": "contourcarpet"
           }
          ],
          "heatmap": [
           {
            "colorbar": {
             "outlinewidth": 0,
             "ticks": ""
            },
            "colorscale": [
             [
              0,
              "#0d0887"
             ],
             [
              0.1111111111111111,
              "#46039f"
             ],
             [
              0.2222222222222222,
              "#7201a8"
             ],
             [
              0.3333333333333333,
              "#9c179e"
             ],
             [
              0.4444444444444444,
              "#bd3786"
             ],
             [
              0.5555555555555556,
              "#d8576b"
             ],
             [
              0.6666666666666666,
              "#ed7953"
             ],
             [
              0.7777777777777778,
              "#fb9f3a"
             ],
             [
              0.8888888888888888,
              "#fdca26"
             ],
             [
              1,
              "#f0f921"
             ]
            ],
            "type": "heatmap"
           }
          ],
          "heatmapgl": [
           {
            "colorbar": {
             "outlinewidth": 0,
             "ticks": ""
            },
            "colorscale": [
             [
              0,
              "#0d0887"
             ],
             [
              0.1111111111111111,
              "#46039f"
             ],
             [
              0.2222222222222222,
              "#7201a8"
             ],
             [
              0.3333333333333333,
              "#9c179e"
             ],
             [
              0.4444444444444444,
              "#bd3786"
             ],
             [
              0.5555555555555556,
              "#d8576b"
             ],
             [
              0.6666666666666666,
              "#ed7953"
             ],
             [
              0.7777777777777778,
              "#fb9f3a"
             ],
             [
              0.8888888888888888,
              "#fdca26"
             ],
             [
              1,
              "#f0f921"
             ]
            ],
            "type": "heatmapgl"
           }
          ],
          "histogram": [
           {
            "marker": {
             "colorbar": {
              "outlinewidth": 0,
              "ticks": ""
             }
            },
            "type": "histogram"
           }
          ],
          "histogram2d": [
           {
            "colorbar": {
             "outlinewidth": 0,
             "ticks": ""
            },
            "colorscale": [
             [
              0,
              "#0d0887"
             ],
             [
              0.1111111111111111,
              "#46039f"
             ],
             [
              0.2222222222222222,
              "#7201a8"
             ],
             [
              0.3333333333333333,
              "#9c179e"
             ],
             [
              0.4444444444444444,
              "#bd3786"
             ],
             [
              0.5555555555555556,
              "#d8576b"
             ],
             [
              0.6666666666666666,
              "#ed7953"
             ],
             [
              0.7777777777777778,
              "#fb9f3a"
             ],
             [
              0.8888888888888888,
              "#fdca26"
             ],
             [
              1,
              "#f0f921"
             ]
            ],
            "type": "histogram2d"
           }
          ],
          "histogram2dcontour": [
           {
            "colorbar": {
             "outlinewidth": 0,
             "ticks": ""
            },
            "colorscale": [
             [
              0,
              "#0d0887"
             ],
             [
              0.1111111111111111,
              "#46039f"
             ],
             [
              0.2222222222222222,
              "#7201a8"
             ],
             [
              0.3333333333333333,
              "#9c179e"
             ],
             [
              0.4444444444444444,
              "#bd3786"
             ],
             [
              0.5555555555555556,
              "#d8576b"
             ],
             [
              0.6666666666666666,
              "#ed7953"
             ],
             [
              0.7777777777777778,
              "#fb9f3a"
             ],
             [
              0.8888888888888888,
              "#fdca26"
             ],
             [
              1,
              "#f0f921"
             ]
            ],
            "type": "histogram2dcontour"
           }
          ],
          "mesh3d": [
           {
            "colorbar": {
             "outlinewidth": 0,
             "ticks": ""
            },
            "type": "mesh3d"
           }
          ],
          "parcoords": [
           {
            "line": {
             "colorbar": {
              "outlinewidth": 0,
              "ticks": ""
             }
            },
            "type": "parcoords"
           }
          ],
          "pie": [
           {
            "automargin": true,
            "type": "pie"
           }
          ],
          "scatter": [
           {
            "marker": {
             "colorbar": {
              "outlinewidth": 0,
              "ticks": ""
             }
            },
            "type": "scatter"
           }
          ],
          "scatter3d": [
           {
            "line": {
             "colorbar": {
              "outlinewidth": 0,
              "ticks": ""
             }
            },
            "marker": {
             "colorbar": {
              "outlinewidth": 0,
              "ticks": ""
             }
            },
            "type": "scatter3d"
           }
          ],
          "scattercarpet": [
           {
            "marker": {
             "colorbar": {
              "outlinewidth": 0,
              "ticks": ""
             }
            },
            "type": "scattercarpet"
           }
          ],
          "scattergeo": [
           {
            "marker": {
             "colorbar": {
              "outlinewidth": 0,
              "ticks": ""
             }
            },
            "type": "scattergeo"
           }
          ],
          "scattergl": [
           {
            "marker": {
             "colorbar": {
              "outlinewidth": 0,
              "ticks": ""
             }
            },
            "type": "scattergl"
           }
          ],
          "scattermapbox": [
           {
            "marker": {
             "colorbar": {
              "outlinewidth": 0,
              "ticks": ""
             }
            },
            "type": "scattermapbox"
           }
          ],
          "scatterpolar": [
           {
            "marker": {
             "colorbar": {
              "outlinewidth": 0,
              "ticks": ""
             }
            },
            "type": "scatterpolar"
           }
          ],
          "scatterpolargl": [
           {
            "marker": {
             "colorbar": {
              "outlinewidth": 0,
              "ticks": ""
             }
            },
            "type": "scatterpolargl"
           }
          ],
          "scatterternary": [
           {
            "marker": {
             "colorbar": {
              "outlinewidth": 0,
              "ticks": ""
             }
            },
            "type": "scatterternary"
           }
          ],
          "surface": [
           {
            "colorbar": {
             "outlinewidth": 0,
             "ticks": ""
            },
            "colorscale": [
             [
              0,
              "#0d0887"
             ],
             [
              0.1111111111111111,
              "#46039f"
             ],
             [
              0.2222222222222222,
              "#7201a8"
             ],
             [
              0.3333333333333333,
              "#9c179e"
             ],
             [
              0.4444444444444444,
              "#bd3786"
             ],
             [
              0.5555555555555556,
              "#d8576b"
             ],
             [
              0.6666666666666666,
              "#ed7953"
             ],
             [
              0.7777777777777778,
              "#fb9f3a"
             ],
             [
              0.8888888888888888,
              "#fdca26"
             ],
             [
              1,
              "#f0f921"
             ]
            ],
            "type": "surface"
           }
          ],
          "table": [
           {
            "cells": {
             "fill": {
              "color": "#EBF0F8"
             },
             "line": {
              "color": "white"
             }
            },
            "header": {
             "fill": {
              "color": "#C8D4E3"
             },
             "line": {
              "color": "white"
             }
            },
            "type": "table"
           }
          ]
         },
         "layout": {
          "annotationdefaults": {
           "arrowcolor": "#2a3f5f",
           "arrowhead": 0,
           "arrowwidth": 1
          },
          "autotypenumbers": "strict",
          "coloraxis": {
           "colorbar": {
            "outlinewidth": 0,
            "ticks": ""
           }
          },
          "colorscale": {
           "diverging": [
            [
             0,
             "#8e0152"
            ],
            [
             0.1,
             "#c51b7d"
            ],
            [
             0.2,
             "#de77ae"
            ],
            [
             0.3,
             "#f1b6da"
            ],
            [
             0.4,
             "#fde0ef"
            ],
            [
             0.5,
             "#f7f7f7"
            ],
            [
             0.6,
             "#e6f5d0"
            ],
            [
             0.7,
             "#b8e186"
            ],
            [
             0.8,
             "#7fbc41"
            ],
            [
             0.9,
             "#4d9221"
            ],
            [
             1,
             "#276419"
            ]
           ],
           "sequential": [
            [
             0,
             "#0d0887"
            ],
            [
             0.1111111111111111,
             "#46039f"
            ],
            [
             0.2222222222222222,
             "#7201a8"
            ],
            [
             0.3333333333333333,
             "#9c179e"
            ],
            [
             0.4444444444444444,
             "#bd3786"
            ],
            [
             0.5555555555555556,
             "#d8576b"
            ],
            [
             0.6666666666666666,
             "#ed7953"
            ],
            [
             0.7777777777777778,
             "#fb9f3a"
            ],
            [
             0.8888888888888888,
             "#fdca26"
            ],
            [
             1,
             "#f0f921"
            ]
           ],
           "sequentialminus": [
            [
             0,
             "#0d0887"
            ],
            [
             0.1111111111111111,
             "#46039f"
            ],
            [
             0.2222222222222222,
             "#7201a8"
            ],
            [
             0.3333333333333333,
             "#9c179e"
            ],
            [
             0.4444444444444444,
             "#bd3786"
            ],
            [
             0.5555555555555556,
             "#d8576b"
            ],
            [
             0.6666666666666666,
             "#ed7953"
            ],
            [
             0.7777777777777778,
             "#fb9f3a"
            ],
            [
             0.8888888888888888,
             "#fdca26"
            ],
            [
             1,
             "#f0f921"
            ]
           ]
          },
          "colorway": [
           "#636efa",
           "#EF553B",
           "#00cc96",
           "#ab63fa",
           "#FFA15A",
           "#19d3f3",
           "#FF6692",
           "#B6E880",
           "#FF97FF",
           "#FECB52"
          ],
          "font": {
           "color": "#2a3f5f"
          },
          "geo": {
           "bgcolor": "white",
           "lakecolor": "white",
           "landcolor": "#E5ECF6",
           "showlakes": true,
           "showland": true,
           "subunitcolor": "white"
          },
          "hoverlabel": {
           "align": "left"
          },
          "hovermode": "closest",
          "mapbox": {
           "style": "light"
          },
          "paper_bgcolor": "white",
          "plot_bgcolor": "#E5ECF6",
          "polar": {
           "angularaxis": {
            "gridcolor": "white",
            "linecolor": "white",
            "ticks": ""
           },
           "bgcolor": "#E5ECF6",
           "radialaxis": {
            "gridcolor": "white",
            "linecolor": "white",
            "ticks": ""
           }
          },
          "scene": {
           "xaxis": {
            "backgroundcolor": "#E5ECF6",
            "gridcolor": "white",
            "gridwidth": 2,
            "linecolor": "white",
            "showbackground": true,
            "ticks": "",
            "zerolinecolor": "white"
           },
           "yaxis": {
            "backgroundcolor": "#E5ECF6",
            "gridcolor": "white",
            "gridwidth": 2,
            "linecolor": "white",
            "showbackground": true,
            "ticks": "",
            "zerolinecolor": "white"
           },
           "zaxis": {
            "backgroundcolor": "#E5ECF6",
            "gridcolor": "white",
            "gridwidth": 2,
            "linecolor": "white",
            "showbackground": true,
            "ticks": "",
            "zerolinecolor": "white"
           }
          },
          "shapedefaults": {
           "line": {
            "color": "#2a3f5f"
           }
          },
          "ternary": {
           "aaxis": {
            "gridcolor": "white",
            "linecolor": "white",
            "ticks": ""
           },
           "baxis": {
            "gridcolor": "white",
            "linecolor": "white",
            "ticks": ""
           },
           "bgcolor": "#E5ECF6",
           "caxis": {
            "gridcolor": "white",
            "linecolor": "white",
            "ticks": ""
           }
          },
          "title": {
           "x": 0.05
          },
          "xaxis": {
           "automargin": true,
           "gridcolor": "white",
           "linecolor": "white",
           "ticks": "",
           "title": {
            "standoff": 15
           },
           "zerolinecolor": "white",
           "zerolinewidth": 2
          },
          "yaxis": {
           "automargin": true,
           "gridcolor": "white",
           "linecolor": "white",
           "ticks": "",
           "title": {
            "standoff": 15
           },
           "zerolinecolor": "white",
           "zerolinewidth": 2
          }
         }
        },
        "title": {},
        "xaxis": {
         "title": {}
        },
        "yaxis": {
         "title": {}
        }
       }
      }
     },
     "metadata": {},
     "output_type": "display_data"
    }
   ],
   "source": [
    "from semiolog import util_g\n",
    "from scipy.stats import entropy\n",
    "from math import log\n",
    "\n",
    "parad_pair = util_g.subsequences(text.parad_chain.keys_t_soft,2)\n",
    "\n",
    "n = 2\n",
    "cross_parad_pair = [(l,r) for l in parad_pair[n][0] for r in parad_pair[n][1]]\n",
    "\n",
    "iid_prob_parad_pair = [semiotic.vocab.prob.get(l,0)*semiotic.vocab.prob.get(r,0) for l,r in cross_parad_pair]\n",
    "\n",
    "prob_parad_pair = [semiotic.ng2.prob.get(pair,0) for pair in cross_parad_pair]\n",
    "\n",
    "cross_entropy = entropy(iid_prob_parad_pair,qk=prob_parad_pair)\n",
    "\n",
    "print(cross_entropy)\n",
    "\n",
    "util_g.plot_scatter_line([str(pair) for pair in cross_parad_pair],prob_parad_pair, add_trace=([str(pair) for pair in cross_parad_pair],iid_prob_parad_pair, \"iid\"))\n",
    "\n",
    "# util_g.plot_scatter_line([str(pair) for pair in cross_parad_pair],iid_prob_parad_pair)"
   ]
  },
  {
   "cell_type": "code",
   "execution_count": 21,
   "metadata": {},
   "outputs": [
    {
     "data": {
      "text/plain": [
       "[(('weproducesauceforthebenefitoftomatojuicethroughouttheworld', (0, 58)),\n",
       "  ('we', (0, 2))),\n",
       " (('weproducesauceforthebenefitoftomatojuicethroughouttheworld', (0, 58)),\n",
       "  ('produce', (2, 9))),\n",
       " (('weproducesauceforthebenefitoftomatojuicethroughouttheworld', (0, 58)),\n",
       "  ('sauce', (9, 14))),\n",
       " (('weproducesauceforthebenefitoftomatojuicethroughouttheworld', (0, 58)),\n",
       "  ('for', (14, 17))),\n",
       " (('weproducesauceforthebenefitoftomatojuicethroughouttheworld', (0, 58)),\n",
       "  ('the', (17, 20))),\n",
       " (('weproducesauceforthebenefitoftomatojuicethroughouttheworld', (0, 58)),\n",
       "  ('benefit', (20, 27))),\n",
       " (('weproducesauceforthebenefitoftomatojuicethroughouttheworld', (0, 58)),\n",
       "  ('of', (27, 29))),\n",
       " (('weproducesauceforthebenefitoftomatojuicethroughouttheworld', (0, 58)),\n",
       "  ('tomato', (29, 35))),\n",
       " (('weproducesauceforthebenefitoftomatojuicethroughouttheworld', (0, 58)),\n",
       "  ('juice', (35, 40))),\n",
       " (('weproducesauceforthebenefitoftomatojuicethroughouttheworld', (0, 58)),\n",
       "  ('throughout', (40, 50))),\n",
       " (('weproducesauceforthebenefitoftomatojuicethroughouttheworld', (0, 58)),\n",
       "  ('the', (50, 53))),\n",
       " (('weproducesauceforthebenefitoftomatojuicethroughouttheworld', (0, 58)),\n",
       "  ('world', (53, 58)))]"
      ]
     },
     "execution_count": 21,
     "metadata": {},
     "output_type": "execute_result"
    }
   ],
   "source": [
    "[((token.head.label,token.head.span),(token.label,token.span)) for token in text.chain.tokens]"
   ]
  },
  {
   "cell_type": "code",
   "execution_count": null,
   "metadata": {},
   "outputs": [],
   "source": []
  }
 ],
 "metadata": {
  "interpreter": {
   "hash": "ac2eaa0ea0ebeafcc7822e65e46aa9d4f966f30b695406963e145ea4a91cd4fc"
  },
  "kernelspec": {
   "display_name": "Python 3.9.5 64-bit",
   "name": "python3"
  },
  "language_info": {
   "codemirror_mode": {
    "name": "ipython",
    "version": 3
   },
   "file_extension": ".py",
   "mimetype": "text/x-python",
   "name": "python",
   "nbconvert_exporter": "python",
   "pygments_lexer": "ipython3",
   "version": "3.9.5"
  },
  "metadata": {
   "interpreter": {
    "hash": "ac2eaa0ea0ebeafcc7822e65e46aa9d4f966f30b695406963e145ea4a91cd4fc"
   }
  },
  "orig_nbformat": 4
 },
 "nbformat": 4,
 "nbformat_minor": 2
}