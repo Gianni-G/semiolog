{
 "cells": [
  {
   "cell_type": "code",
   "execution_count": 1,
   "metadata": {},
   "outputs": [],
   "source": [
    "import semiolog as slg\n",
    "\n",
    "import random"
   ]
  },
  {
   "cell_type": "code",
   "execution_count": 2,
   "metadata": {},
   "outputs": [],
   "source": [
    "semiotic = slg.load(\"en_bnc_test\")"
   ]
  },
  {
   "cell_type": "code",
   "execution_count": 26,
   "metadata": {},
   "outputs": [
    {
     "name": "stdout",
     "output_type": "stream",
     "text": [
      "Chain(most of the population do have a low level exposure to pesticide residues in tap water)\n",
      "['population', 'have', 'exposure', 'pesticide']\n"
     ]
    },
    {
     "data": {
      "application/vnd.plotly.v1+json": {
       "config": {
        "plotlyServerURL": "https://plot.ly"
       },
       "data": [
        {
         "line": {
          "shape": "spline"
         },
         "mode": "lines+markers",
         "name": "Func. Scores",
         "type": "scatter",
         "x": [
          "most_0",
          "of_1",
          "the_2",
          "population_3",
          "do_4",
          "have_5",
          "a_6",
          "low_7",
          "level_8",
          "exposure_9",
          "to_10",
          "pesticide_11",
          "residues_12",
          "in_13",
          "tap_14",
          "water_15"
         ],
         "y": [
          0.00000954775514643266,
          0.00006004188904900885,
          0.00005917261145024456,
          0.000001096266853740091,
          0.000007427280585756831,
          0.000006430897429634143,
          0.000007929215849141696,
          0.000004685384865972614,
          0.000002001320931466659,
          0.0000019488543821862363,
          0.00013598927265673103,
          0.0000010382945865437968,
          0.0000024951044406879014,
          0.00009955558907630284,
          0.000018326687678882463,
          0.0000013358057729998612
         ]
        },
        {
         "line": {
          "shape": "spline"
         },
         "mode": "lines+markers",
         "name": "Probs.",
         "type": "scatter",
         "x": [
          "most_0",
          "of_1",
          "the_2",
          "population_3",
          "do_4",
          "have_5",
          "a_6",
          "low_7",
          "level_8",
          "exposure_9",
          "to_10",
          "pesticide_11",
          "residues_12",
          "in_13",
          "tap_14",
          "water_15"
         ],
         "y": [
          0.000009993760605347991,
          0.0001109526011007981,
          0.00013598927265673103,
          0.0000021909972646258096,
          0.000011941464580953509,
          0.0000192470515687782,
          0.0000383195076187617,
          0.00000716574765317575,
          0.0000062411788483609165,
          4.838712511541942e-7,
          0.0001192555276539928,
          0,
          9.069191800533158e-8,
          0.00010912084158324131,
          9.707293618834145e-7,
          0.000008496800892882742
         ]
        }
       ],
       "layout": {
        "shapes": [
         {
          "line": {
           "color": "LightSeaGreen",
           "dash": "dash",
           "width": 2
          },
          "type": "line",
          "x0": 0,
          "x1": 15,
          "y0": 0.000026188889422233262,
          "y1": 0.000026188889422233262
         }
        ],
        "template": {
         "data": {
          "bar": [
           {
            "error_x": {
             "color": "#2a3f5f"
            },
            "error_y": {
             "color": "#2a3f5f"
            },
            "marker": {
             "line": {
              "color": "#E5ECF6",
              "width": 0.5
             }
            },
            "type": "bar"
           }
          ],
          "barpolar": [
           {
            "marker": {
             "line": {
              "color": "#E5ECF6",
              "width": 0.5
             }
            },
            "type": "barpolar"
           }
          ],
          "carpet": [
           {
            "aaxis": {
             "endlinecolor": "#2a3f5f",
             "gridcolor": "white",
             "linecolor": "white",
             "minorgridcolor": "white",
             "startlinecolor": "#2a3f5f"
            },
            "baxis": {
             "endlinecolor": "#2a3f5f",
             "gridcolor": "white",
             "linecolor": "white",
             "minorgridcolor": "white",
             "startlinecolor": "#2a3f5f"
            },
            "type": "carpet"
           }
          ],
          "choropleth": [
           {
            "colorbar": {
             "outlinewidth": 0,
             "ticks": ""
            },
            "type": "choropleth"
           }
          ],
          "contour": [
           {
            "colorbar": {
             "outlinewidth": 0,
             "ticks": ""
            },
            "colorscale": [
             [
              0,
              "#0d0887"
             ],
             [
              0.1111111111111111,
              "#46039f"
             ],
             [
              0.2222222222222222,
              "#7201a8"
             ],
             [
              0.3333333333333333,
              "#9c179e"
             ],
             [
              0.4444444444444444,
              "#bd3786"
             ],
             [
              0.5555555555555556,
              "#d8576b"
             ],
             [
              0.6666666666666666,
              "#ed7953"
             ],
             [
              0.7777777777777778,
              "#fb9f3a"
             ],
             [
              0.8888888888888888,
              "#fdca26"
             ],
             [
              1,
              "#f0f921"
             ]
            ],
            "type": "contour"
           }
          ],
          "contourcarpet": [
           {
            "colorbar": {
             "outlinewidth": 0,
             "ticks": ""
            },
            "type": "contourcarpet"
           }
          ],
          "heatmap": [
           {
            "colorbar": {
             "outlinewidth": 0,
             "ticks": ""
            },
            "colorscale": [
             [
              0,
              "#0d0887"
             ],
             [
              0.1111111111111111,
              "#46039f"
             ],
             [
              0.2222222222222222,
              "#7201a8"
             ],
             [
              0.3333333333333333,
              "#9c179e"
             ],
             [
              0.4444444444444444,
              "#bd3786"
             ],
             [
              0.5555555555555556,
              "#d8576b"
             ],
             [
              0.6666666666666666,
              "#ed7953"
             ],
             [
              0.7777777777777778,
              "#fb9f3a"
             ],
             [
              0.8888888888888888,
              "#fdca26"
             ],
             [
              1,
              "#f0f921"
             ]
            ],
            "type": "heatmap"
           }
          ],
          "heatmapgl": [
           {
            "colorbar": {
             "outlinewidth": 0,
             "ticks": ""
            },
            "colorscale": [
             [
              0,
              "#0d0887"
             ],
             [
              0.1111111111111111,
              "#46039f"
             ],
             [
              0.2222222222222222,
              "#7201a8"
             ],
             [
              0.3333333333333333,
              "#9c179e"
             ],
             [
              0.4444444444444444,
              "#bd3786"
             ],
             [
              0.5555555555555556,
              "#d8576b"
             ],
             [
              0.6666666666666666,
              "#ed7953"
             ],
             [
              0.7777777777777778,
              "#fb9f3a"
             ],
             [
              0.8888888888888888,
              "#fdca26"
             ],
             [
              1,
              "#f0f921"
             ]
            ],
            "type": "heatmapgl"
           }
          ],
          "histogram": [
           {
            "marker": {
             "colorbar": {
              "outlinewidth": 0,
              "ticks": ""
             }
            },
            "type": "histogram"
           }
          ],
          "histogram2d": [
           {
            "colorbar": {
             "outlinewidth": 0,
             "ticks": ""
            },
            "colorscale": [
             [
              0,
              "#0d0887"
             ],
             [
              0.1111111111111111,
              "#46039f"
             ],
             [
              0.2222222222222222,
              "#7201a8"
             ],
             [
              0.3333333333333333,
              "#9c179e"
             ],
             [
              0.4444444444444444,
              "#bd3786"
             ],
             [
              0.5555555555555556,
              "#d8576b"
             ],
             [
              0.6666666666666666,
              "#ed7953"
             ],
             [
              0.7777777777777778,
              "#fb9f3a"
             ],
             [
              0.8888888888888888,
              "#fdca26"
             ],
             [
              1,
              "#f0f921"
             ]
            ],
            "type": "histogram2d"
           }
          ],
          "histogram2dcontour": [
           {
            "colorbar": {
             "outlinewidth": 0,
             "ticks": ""
            },
            "colorscale": [
             [
              0,
              "#0d0887"
             ],
             [
              0.1111111111111111,
              "#46039f"
             ],
             [
              0.2222222222222222,
              "#7201a8"
             ],
             [
              0.3333333333333333,
              "#9c179e"
             ],
             [
              0.4444444444444444,
              "#bd3786"
             ],
             [
              0.5555555555555556,
              "#d8576b"
             ],
             [
              0.6666666666666666,
              "#ed7953"
             ],
             [
              0.7777777777777778,
              "#fb9f3a"
             ],
             [
              0.8888888888888888,
              "#fdca26"
             ],
             [
              1,
              "#f0f921"
             ]
            ],
            "type": "histogram2dcontour"
           }
          ],
          "mesh3d": [
           {
            "colorbar": {
             "outlinewidth": 0,
             "ticks": ""
            },
            "type": "mesh3d"
           }
          ],
          "parcoords": [
           {
            "line": {
             "colorbar": {
              "outlinewidth": 0,
              "ticks": ""
             }
            },
            "type": "parcoords"
           }
          ],
          "pie": [
           {
            "automargin": true,
            "type": "pie"
           }
          ],
          "scatter": [
           {
            "marker": {
             "colorbar": {
              "outlinewidth": 0,
              "ticks": ""
             }
            },
            "type": "scatter"
           }
          ],
          "scatter3d": [
           {
            "line": {
             "colorbar": {
              "outlinewidth": 0,
              "ticks": ""
             }
            },
            "marker": {
             "colorbar": {
              "outlinewidth": 0,
              "ticks": ""
             }
            },
            "type": "scatter3d"
           }
          ],
          "scattercarpet": [
           {
            "marker": {
             "colorbar": {
              "outlinewidth": 0,
              "ticks": ""
             }
            },
            "type": "scattercarpet"
           }
          ],
          "scattergeo": [
           {
            "marker": {
             "colorbar": {
              "outlinewidth": 0,
              "ticks": ""
             }
            },
            "type": "scattergeo"
           }
          ],
          "scattergl": [
           {
            "marker": {
             "colorbar": {
              "outlinewidth": 0,
              "ticks": ""
             }
            },
            "type": "scattergl"
           }
          ],
          "scattermapbox": [
           {
            "marker": {
             "colorbar": {
              "outlinewidth": 0,
              "ticks": ""
             }
            },
            "type": "scattermapbox"
           }
          ],
          "scatterpolar": [
           {
            "marker": {
             "colorbar": {
              "outlinewidth": 0,
              "ticks": ""
             }
            },
            "type": "scatterpolar"
           }
          ],
          "scatterpolargl": [
           {
            "marker": {
             "colorbar": {
              "outlinewidth": 0,
              "ticks": ""
             }
            },
            "type": "scatterpolargl"
           }
          ],
          "scatterternary": [
           {
            "marker": {
             "colorbar": {
              "outlinewidth": 0,
              "ticks": ""
             }
            },
            "type": "scatterternary"
           }
          ],
          "surface": [
           {
            "colorbar": {
             "outlinewidth": 0,
             "ticks": ""
            },
            "colorscale": [
             [
              0,
              "#0d0887"
             ],
             [
              0.1111111111111111,
              "#46039f"
             ],
             [
              0.2222222222222222,
              "#7201a8"
             ],
             [
              0.3333333333333333,
              "#9c179e"
             ],
             [
              0.4444444444444444,
              "#bd3786"
             ],
             [
              0.5555555555555556,
              "#d8576b"
             ],
             [
              0.6666666666666666,
              "#ed7953"
             ],
             [
              0.7777777777777778,
              "#fb9f3a"
             ],
             [
              0.8888888888888888,
              "#fdca26"
             ],
             [
              1,
              "#f0f921"
             ]
            ],
            "type": "surface"
           }
          ],
          "table": [
           {
            "cells": {
             "fill": {
              "color": "#EBF0F8"
             },
             "line": {
              "color": "white"
             }
            },
            "header": {
             "fill": {
              "color": "#C8D4E3"
             },
             "line": {
              "color": "white"
             }
            },
            "type": "table"
           }
          ]
         },
         "layout": {
          "annotationdefaults": {
           "arrowcolor": "#2a3f5f",
           "arrowhead": 0,
           "arrowwidth": 1
          },
          "autotypenumbers": "strict",
          "coloraxis": {
           "colorbar": {
            "outlinewidth": 0,
            "ticks": ""
           }
          },
          "colorscale": {
           "diverging": [
            [
             0,
             "#8e0152"
            ],
            [
             0.1,
             "#c51b7d"
            ],
            [
             0.2,
             "#de77ae"
            ],
            [
             0.3,
             "#f1b6da"
            ],
            [
             0.4,
             "#fde0ef"
            ],
            [
             0.5,
             "#f7f7f7"
            ],
            [
             0.6,
             "#e6f5d0"
            ],
            [
             0.7,
             "#b8e186"
            ],
            [
             0.8,
             "#7fbc41"
            ],
            [
             0.9,
             "#4d9221"
            ],
            [
             1,
             "#276419"
            ]
           ],
           "sequential": [
            [
             0,
             "#0d0887"
            ],
            [
             0.1111111111111111,
             "#46039f"
            ],
            [
             0.2222222222222222,
             "#7201a8"
            ],
            [
             0.3333333333333333,
             "#9c179e"
            ],
            [
             0.4444444444444444,
             "#bd3786"
            ],
            [
             0.5555555555555556,
             "#d8576b"
            ],
            [
             0.6666666666666666,
             "#ed7953"
            ],
            [
             0.7777777777777778,
             "#fb9f3a"
            ],
            [
             0.8888888888888888,
             "#fdca26"
            ],
            [
             1,
             "#f0f921"
            ]
           ],
           "sequentialminus": [
            [
             0,
             "#0d0887"
            ],
            [
             0.1111111111111111,
             "#46039f"
            ],
            [
             0.2222222222222222,
             "#7201a8"
            ],
            [
             0.3333333333333333,
             "#9c179e"
            ],
            [
             0.4444444444444444,
             "#bd3786"
            ],
            [
             0.5555555555555556,
             "#d8576b"
            ],
            [
             0.6666666666666666,
             "#ed7953"
            ],
            [
             0.7777777777777778,
             "#fb9f3a"
            ],
            [
             0.8888888888888888,
             "#fdca26"
            ],
            [
             1,
             "#f0f921"
            ]
           ]
          },
          "colorway": [
           "#636efa",
           "#EF553B",
           "#00cc96",
           "#ab63fa",
           "#FFA15A",
           "#19d3f3",
           "#FF6692",
           "#B6E880",
           "#FF97FF",
           "#FECB52"
          ],
          "font": {
           "color": "#2a3f5f"
          },
          "geo": {
           "bgcolor": "white",
           "lakecolor": "white",
           "landcolor": "#E5ECF6",
           "showlakes": true,
           "showland": true,
           "subunitcolor": "white"
          },
          "hoverlabel": {
           "align": "left"
          },
          "hovermode": "closest",
          "mapbox": {
           "style": "light"
          },
          "paper_bgcolor": "white",
          "plot_bgcolor": "#E5ECF6",
          "polar": {
           "angularaxis": {
            "gridcolor": "white",
            "linecolor": "white",
            "ticks": ""
           },
           "bgcolor": "#E5ECF6",
           "radialaxis": {
            "gridcolor": "white",
            "linecolor": "white",
            "ticks": ""
           }
          },
          "scene": {
           "xaxis": {
            "backgroundcolor": "#E5ECF6",
            "gridcolor": "white",
            "gridwidth": 2,
            "linecolor": "white",
            "showbackground": true,
            "ticks": "",
            "zerolinecolor": "white"
           },
           "yaxis": {
            "backgroundcolor": "#E5ECF6",
            "gridcolor": "white",
            "gridwidth": 2,
            "linecolor": "white",
            "showbackground": true,
            "ticks": "",
            "zerolinecolor": "white"
           },
           "zaxis": {
            "backgroundcolor": "#E5ECF6",
            "gridcolor": "white",
            "gridwidth": 2,
            "linecolor": "white",
            "showbackground": true,
            "ticks": "",
            "zerolinecolor": "white"
           }
          },
          "shapedefaults": {
           "line": {
            "color": "#2a3f5f"
           }
          },
          "ternary": {
           "aaxis": {
            "gridcolor": "white",
            "linecolor": "white",
            "ticks": ""
           },
           "baxis": {
            "gridcolor": "white",
            "linecolor": "white",
            "ticks": ""
           },
           "bgcolor": "#E5ECF6",
           "caxis": {
            "gridcolor": "white",
            "linecolor": "white",
            "ticks": ""
           }
          },
          "title": {
           "x": 0.05
          },
          "xaxis": {
           "automargin": true,
           "gridcolor": "white",
           "linecolor": "white",
           "ticks": "",
           "title": {
            "standoff": 15
           },
           "zerolinecolor": "white",
           "zerolinewidth": 2
          },
          "yaxis": {
           "automargin": true,
           "gridcolor": "white",
           "linecolor": "white",
           "ticks": "",
           "title": {
            "standoff": 15
           },
           "zerolinecolor": "white",
           "zerolinewidth": 2
          }
         }
        },
        "title": {
         "text": "most of the population do have a low level exposure to pesticide residues in tap water"
        },
        "xaxis": {
         "title": {
          "text": "Paradigm"
         }
        },
        "yaxis": {
         "title": {
          "text": "Paradigm"
         }
        }
       }
      }
     },
     "metadata": {},
     "output_type": "display_data"
    }
   ],
   "source": [
    "test_sent = random.choice(semiotic.test_sents())\n",
    "# test_sent = \"I have made My Plans, and I must stick: to them!\"\n",
    "\n",
    "text = semiotic(test_sent)\n",
    "\n",
    "print(text.chain)\n",
    "\n",
    "print([text.chain.labels[i] for i in text.type_chain.scores_min])\n",
    "\n",
    "text.type_chain.plot_scores(show_mean=True, show_probs=True)"
   ]
  },
  {
   "cell_type": "code",
   "execution_count": 23,
   "metadata": {},
   "outputs": [
    {
     "data": {
      "application/vnd.plotly.v1+json": {
       "config": {
        "plotlyServerURL": "https://plot.ly"
       },
       "data": [
        {
         "line": {
          "shape": "spline"
         },
         "mode": "lines+markers",
         "type": "scatter",
         "x": [
          "('a', 'few')",
          "('a', 'couple')",
          "('a', 'thousand')",
          "('a', 'dozen')",
          "('a', 'hundred')",
          "('a', 'six')",
          "('a', 'several')",
          "('a', 'little')",
          "('a', 'two')",
          "('a', 'three')",
          "('a', 'twelve')",
          "('a', 'nine')",
          "('a', 'four')",
          "('a', 'seven')",
          "('a', 'five')",
          "('a', 'ten')",
          "('a', 'short')",
          "('a', 'many')",
          "('another', 'few')",
          "('another', 'couple')",
          "('another', 'thousand')",
          "('another', 'dozen')",
          "('another', 'hundred')",
          "('another', 'six')",
          "('another', 'several')",
          "('another', 'little')",
          "('another', 'two')",
          "('another', 'three')",
          "('another', 'twelve')",
          "('another', 'nine')",
          "('another', 'four')",
          "('another', 'seven')",
          "('another', 'five')",
          "('another', 'ten')",
          "('another', 'short')",
          "('another', 'many')",
          "('these', 'few')",
          "('these', 'couple')",
          "('these', 'thousand')",
          "('these', 'dozen')",
          "('these', 'hundred')",
          "('these', 'six')",
          "('these', 'several')",
          "('these', 'little')",
          "('these', 'two')",
          "('these', 'three')",
          "('these', 'twelve')",
          "('these', 'nine')",
          "('these', 'four')",
          "('these', 'seven')",
          "('these', 'five')",
          "('these', 'ten')",
          "('these', 'short')",
          "('these', 'many')",
          "('several', 'few')",
          "('several', 'couple')",
          "('several', 'thousand')",
          "('several', 'dozen')",
          "('several', 'hundred')",
          "('several', 'six')",
          "('several', 'several')",
          "('several', 'little')",
          "('several', 'two')",
          "('several', 'three')",
          "('several', 'twelve')",
          "('several', 'nine')",
          "('several', 'four')",
          "('several', 'seven')",
          "('several', 'five')",
          "('several', 'ten')",
          "('several', 'short')",
          "('several', 'many')",
          "('next', 'few')",
          "('next', 'couple')",
          "('next', 'thousand')",
          "('next', 'dozen')",
          "('next', 'hundred')",
          "('next', 'six')",
          "('next', 'several')",
          "('next', 'little')",
          "('next', 'two')",
          "('next', 'three')",
          "('next', 'twelve')",
          "('next', 'nine')",
          "('next', 'four')",
          "('next', 'seven')",
          "('next', 'five')",
          "('next', 'ten')",
          "('next', 'short')",
          "('next', 'many')",
          "('some', 'few')",
          "('some', 'couple')",
          "('some', 'thousand')",
          "('some', 'dozen')",
          "('some', 'hundred')",
          "('some', 'six')",
          "('some', 'several')",
          "('some', 'little')",
          "('some', 'two')",
          "('some', 'three')",
          "('some', 'twelve')",
          "('some', 'nine')",
          "('some', 'four')",
          "('some', 'seven')",
          "('some', 'five')",
          "('some', 'ten')",
          "('some', 'short')",
          "('some', 'many')",
          "('very', 'few')",
          "('very', 'couple')",
          "('very', 'thousand')",
          "('very', 'dozen')",
          "('very', 'hundred')",
          "('very', 'six')",
          "('very', 'several')",
          "('very', 'little')",
          "('very', 'two')",
          "('very', 'three')",
          "('very', 'twelve')",
          "('very', 'nine')",
          "('very', 'four')",
          "('very', 'seven')",
          "('very', 'five')",
          "('very', 'ten')",
          "('very', 'short')",
          "('very', 'many')",
          "('those', 'few')",
          "('those', 'couple')",
          "('those', 'thousand')",
          "('those', 'dozen')",
          "('those', 'hundred')",
          "('those', 'six')",
          "('those', 'several')",
          "('those', 'little')",
          "('those', 'two')",
          "('those', 'three')",
          "('those', 'twelve')",
          "('those', 'nine')",
          "('those', 'four')",
          "('those', 'seven')",
          "('those', 'five')",
          "('those', 'ten')",
          "('those', 'short')",
          "('those', 'many')",
          "('last', 'few')",
          "('last', 'couple')",
          "('last', 'thousand')",
          "('last', 'dozen')",
          "('last', 'hundred')",
          "('last', 'six')",
          "('last', 'several')",
          "('last', 'little')",
          "('last', 'two')",
          "('last', 'three')",
          "('last', 'twelve')",
          "('last', 'nine')",
          "('last', 'four')",
          "('last', 'seven')",
          "('last', 'five')",
          "('last', 'ten')",
          "('last', 'short')",
          "('last', 'many')",
          "('every', 'few')",
          "('every', 'couple')",
          "('every', 'thousand')",
          "('every', 'dozen')",
          "('every', 'hundred')",
          "('every', 'six')",
          "('every', 'several')",
          "('every', 'little')",
          "('every', 'two')",
          "('every', 'three')",
          "('every', 'twelve')",
          "('every', 'nine')",
          "('every', 'four')",
          "('every', 'seven')",
          "('every', 'five')",
          "('every', 'ten')",
          "('every', 'short')",
          "('every', 'many')",
          "('twenty', 'few')",
          "('twenty', 'couple')",
          "('twenty', 'thousand')",
          "('twenty', 'dozen')",
          "('twenty', 'hundred')",
          "('twenty', 'six')",
          "('twenty', 'several')",
          "('twenty', 'little')",
          "('twenty', 'two')",
          "('twenty', 'three')",
          "('twenty', 'twelve')",
          "('twenty', 'nine')",
          "('twenty', 'four')",
          "('twenty', 'seven')",
          "('twenty', 'five')",
          "('twenty', 'ten')",
          "('twenty', 'short')",
          "('twenty', 'many')",
          "('this', 'few')",
          "('this', 'couple')",
          "('this', 'thousand')",
          "('this', 'dozen')",
          "('this', 'hundred')",
          "('this', 'six')",
          "('this', 'several')",
          "('this', 'little')",
          "('this', 'two')",
          "('this', 'three')",
          "('this', 'twelve')",
          "('this', 'nine')",
          "('this', 'four')",
          "('this', 'seven')",
          "('this', 'five')",
          "('this', 'ten')",
          "('this', 'short')",
          "('this', 'many')",
          "('two', 'few')",
          "('two', 'couple')",
          "('two', 'thousand')",
          "('two', 'dozen')",
          "('two', 'hundred')",
          "('two', 'six')",
          "('two', 'several')",
          "('two', 'little')",
          "('two', 'two')",
          "('two', 'three')",
          "('two', 'twelve')",
          "('two', 'nine')",
          "('two', 'four')",
          "('two', 'seven')",
          "('two', 'five')",
          "('two', 'ten')",
          "('two', 'short')",
          "('two', 'many')",
          "('the', 'few')",
          "('the', 'couple')",
          "('the', 'thousand')",
          "('the', 'dozen')",
          "('the', 'hundred')",
          "('the', 'six')",
          "('the', 'several')",
          "('the', 'little')",
          "('the', 'two')",
          "('the', 'three')",
          "('the', 'twelve')",
          "('the', 'nine')",
          "('the', 'four')",
          "('the', 'seven')",
          "('the', 'five')",
          "('the', 'ten')",
          "('the', 'short')",
          "('the', 'many')",
          "('six', 'few')",
          "('six', 'couple')",
          "('six', 'thousand')",
          "('six', 'dozen')",
          "('six', 'hundred')",
          "('six', 'six')",
          "('six', 'several')",
          "('six', 'little')",
          "('six', 'two')",
          "('six', 'three')",
          "('six', 'twelve')",
          "('six', 'nine')",
          "('six', 'four')",
          "('six', 'seven')",
          "('six', 'five')",
          "('six', 'ten')",
          "('six', 'short')",
          "('six', 'many')",
          "('three', 'few')",
          "('three', 'couple')",
          "('three', 'thousand')",
          "('three', 'dozen')",
          "('three', 'hundred')",
          "('three', 'six')",
          "('three', 'several')",
          "('three', 'little')",
          "('three', 'two')",
          "('three', 'three')",
          "('three', 'twelve')",
          "('three', 'nine')",
          "('three', 'four')",
          "('three', 'seven')",
          "('three', 'five')",
          "('three', 'ten')",
          "('three', 'short')",
          "('three', 'many')",
          "('only', 'few')",
          "('only', 'couple')",
          "('only', 'thousand')",
          "('only', 'dozen')",
          "('only', 'hundred')",
          "('only', 'six')",
          "('only', 'several')",
          "('only', 'little')",
          "('only', 'two')",
          "('only', 'three')",
          "('only', 'twelve')",
          "('only', 'nine')",
          "('only', 'four')",
          "('only', 'seven')",
          "('only', 'five')",
          "('only', 'ten')",
          "('only', 'short')",
          "('only', 'many')",
          "('so', 'few')",
          "('so', 'couple')",
          "('so', 'thousand')",
          "('so', 'dozen')",
          "('so', 'hundred')",
          "('so', 'six')",
          "('so', 'several')",
          "('so', 'little')",
          "('so', 'two')",
          "('so', 'three')",
          "('so', 'twelve')",
          "('so', 'nine')",
          "('so', 'four')",
          "('so', 'seven')",
          "('so', 'five')",
          "('so', 'ten')",
          "('so', 'short')",
          "('so', 'many')",
          "('five', 'few')",
          "('five', 'couple')",
          "('five', 'thousand')",
          "('five', 'dozen')",
          "('five', 'hundred')",
          "('five', 'six')",
          "('five', 'several')",
          "('five', 'little')",
          "('five', 'two')",
          "('five', 'three')",
          "('five', 'twelve')",
          "('five', 'nine')",
          "('five', 'four')",
          "('five', 'seven')",
          "('five', 'five')",
          "('five', 'ten')",
          "('five', 'short')",
          "('five', 'many')"
         ],
         "y": [
          0.0003369969952925309,
          0.00010049810901477653,
          0.000020800565431234122,
          0.000025557872366844845,
          0.000059580208403699194,
          0.000006199681910769294,
          8.856688443956135e-8,
          0.00025970341000091946,
          0.000011804700454587247,
          0.000010919031610191634,
          0.0000015056370354725428,
          0.000002011733517984322,
          0.000007806538242744192,
          0.000002884749950317141,
          0.000007717971358304632,
          0.000004403039397852478,
          0.00005834027202154534,
          2.0243859300471166e-7,
          8.603640202700244e-7,
          0.0000015309418595981318,
          2.0243859300471166e-7,
          1.2652412062794477e-7,
          7.844495478932577e-7,
          0.0000016068563319748986,
          0,
          0.0000013285032665934201,
          0.000004719349699422341,
          0.0000026317017090612514,
          4.048771860094233e-7,
          3.0365788950706746e-7,
          0.0000016068563319748986,
          7.717971358304631e-7,
          0.000002568439648747279,
          0.0000015815515078493098,
          2.150910050675061e-7,
          5.0609648251177914e-8,
          0.0000010374977891491472,
          7.591447237676686e-8,
          0,
          0,
          5.0609648251177914e-8,
          7.591447237676687e-7,
          1.138717085651503e-7,
          0.000002593744472872868,
          0.000040614242721570274,
          0.0000105394592483078,
          1.771337688791227e-7,
          2.277434171303006e-7,
          0.000003492065729331276,
          3.7957236188383435e-7,
          0.0000015688990957865153,
          3.9222477394662883e-7,
          3.6691994982103987e-7,
          4.301820101350122e-7,
          0,
          0,
          0.0000036818519102731932,
          6.705778393281073e-7,
          0.000007022088694850935,
          0,
          5.0609648251177914e-8,
          7.591447237676686e-8,
          0,
          0,
          0,
          0,
          0,
          0,
          0,
          0,
          1.771337688791227e-7,
          0,
          0.000017409718998405202,
          0.000002378653467805362,
          5.0609648251177914e-8,
          5.0609648251177914e-8,
          3.7957236188383435e-7,
          0.0000027329210055636072,
          2.150910050675061e-7,
          1.138717085651503e-7,
          0.000010185191710549555,
          0.000007464923117048742,
          6.832302513909018e-7,
          3.6691994982103987e-7,
          0.000003492065729331276,
          8.73016432332819e-7,
          0.000004643435227045573,
          0.0000022394769351146224,
          0,
          0,
          3.1631030156986194e-7,
          0,
          7.591447237676686e-8,
          2.0243859300471166e-7,
          3.0365788950706746e-7,
          0.0000010881074374003251,
          0,
          0.000001796642512916816,
          0.00000254313482462169,
          0.0000020243859300471163,
          4.048771860094233e-7,
          3.416151256954509e-7,
          0.0000013031984424678313,
          7.591447237676687e-7,
          0.000001455027387221365,
          0.0000016448135681632821,
          3.542675377582454e-7,
          5.0609648251177914e-8,
          0.00002192663010482283,
          0,
          0,
          0,
          0,
          0,
          0,
          0.000033389715433714626,
          0,
          0,
          0,
          0,
          0,
          0,
          0,
          0,
          0.000007793885830681399,
          0.0000042006008048477665,
          0.0000026317017090612514,
          6.326206031397238e-8,
          0,
          0,
          0,
          3.6691994982103987e-7,
          0,
          0.000002226824523051828,
          0.000011172079851447524,
          0.000003099840955384647,
          1.3917653269073925e-7,
          1.3917653269073925e-7,
          0.0000013411556786562145,
          1.644813568163282e-7,
          5.440537187001626e-7,
          2.91005477444273e-7,
          1.138717085651503e-7,
          4.1752959807221774e-7,
          0.000019168404275133634,
          0.0000034034988448917145,
          0,
          1.138717085651503e-7,
          7.971019599560521e-7,
          0.0000037198091464615765,
          3.542675377582454e-7,
          2.403958291930951e-7,
          0.00001825743060661243,
          0.00000946400422297027,
          0.0000012778936183422422,
          8.224067840816411e-7,
          0.000004580173166731601,
          0.0000013664605027818036,
          0.000005592366131755159,
          0.00000508626964924338,
          7.591447237676686e-8,
          1.138717085651503e-7,
          0.000002935359598568319,
          5.56706130762957e-7,
          2.0243859300471166e-7,
          0,
          5.82010954888546e-7,
          0.0000024292631160565397,
          0,
          9.995405529607637e-7,
          0.000004706697287359545,
          0.0000040487718600942325,
          1.3917653269073925e-7,
          1.5182894475353373e-7,
          0.0000023660010557425675,
          3.9222477394662883e-7,
          0.0000028467927141287575,
          0.0000018725569852935827,
          5.0609648251177914e-8,
          0,
          0,
          0,
          0.0000041120339204082055,
          0,
          1.3917653269073925e-7,
          0.000005959286081576199,
          0,
          0,
          0.00000726248452404403,
          0.000005402579950813242,
          0,
          0.000004023467035968644,
          0.000010324368243240295,
          0.000004795264171799107,
          0.00001918105668719643,
          0,
          0,
          0,
          1.2652412062794477e-7,
          3.9222477394662883e-7,
          5.0609648251177914e-8,
          0,
          5.946633669513405e-7,
          3.0365788950706746e-7,
          1.5182894475353373e-7,
          0.000007819190654806988,
          8.4771160820723e-7,
          6.579254272653128e-7,
          1.2652412062794477e-7,
          8.856688443956135e-8,
          5.187488945745736e-7,
          1.138717085651503e-7,
          3.0365788950706746e-7,
          1.8978618094191718e-7,
          0.0000015815515078493098,
          5.693585428257515e-7,
          0,
          0,
          0.000013727867088132009,
          0.0000014044177389701871,
          0.000031934688046493264,
          0.0000017839901008540215,
          0,
          0.00000254313482462169,
          0.000004491606282292039,
          0.000018017034777419338,
          8.856688443956135e-8,
          0.0000012905460304050368,
          0.0000033781940207661257,
          0.000001429722563095776,
          0.000002277434171303006,
          1.5182894475353373e-7,
          0.0000012905460304050368,
          0,
          0.000025469305482405285,
          0.000016562007390197973,
          9.109736685212024e-7,
          0.000001138717085651503,
          0.000009362784926467913,
          0.00002424202151231422,
          0.0000028467927141287575,
          0.000055847746845174824,
          0.00028189574075906097,
          0.00008989538770615477,
          0.000005364622714624858,
          0.000010628026132747361,
          0.00004492871523498319,
          0.0000128295458316736,
          0.000026430888799177665,
          0.000009135041509337613,
          0.000024317935984690986,
          0.0000316183777449234,
          0,
          0,
          0.000003492065729331276,
          0,
          0.000008186110604628027,
          0.000001379112914844598,
          0,
          1.2652412062794477e-7,
          0.0000012652412062794478,
          0.0000010121929650235581,
          1.644813568163282e-7,
          9.109736685212024e-7,
          0.0000017713376887912268,
          0.0000049850503527410245,
          0.000001455027387221365,
          1.0121929650235583e-7,
          1.138717085651503e-7,
          0,
          0,
          0,
          0.000008135500956376849,
          3.6691994982103987e-7,
          0.000020129987591906013,
          0.000001961123869733144,
          0,
          0.0000012272839700910643,
          0.0000023153914074913894,
          0.0000025051775884333067,
          0,
          0.000001164021909777092,
          0.000014347835279208938,
          9.742357288351748e-7,
          0.0000013917653269073925,
          1.138717085651503e-7,
          4.1752959807221774e-7,
          0,
          1.0121929650235583e-7,
          0,
          0,
          0,
          8.856688443956135e-8,
          0.000005276055830185297,
          8.856688443956135e-8,
          5.693585428257515e-7,
          0.00002799978789496418,
          0.00001418335392239261,
          8.98321256458408e-7,
          0.0000018599045732307883,
          0.000008021629247811698,
          0.0000027076161814380184,
          0.0000060984626142669385,
          0.000002884749950317141,
          5.060964825117791e-7,
          0,
          0.000003466760905205687,
          0,
          0,
          0,
          0,
          2.403958291930951e-7,
          2.403958291930951e-7,
          0.000007287789348169619,
          0.000001164021909777092,
          5.187488945745736e-7,
          1.3917653269073925e-7,
          1.138717085651503e-7,
          3.542675377582454e-7,
          1.5182894475353373e-7,
          1.771337688791227e-7,
          2.0243859300471166e-7,
          0.0000016574659802260765,
          0.00007414313468797564,
          0,
          0,
          0.000008236720252879205,
          5.0609648251177914e-8,
          0.000016410178445444436,
          0.000006060505378078555,
          0,
          2.65700653318684e-7,
          0.0000012272839700910643,
          8.224067840816411e-7,
          0,
          4.6813924632339567e-7,
          9.742357288351748e-7,
          9.489309047095859e-7,
          0.0000012146315580282698,
          5.060964825117791e-7,
          1.8978618094191718e-7,
          0
         ]
        }
       ],
       "layout": {
        "template": {
         "data": {
          "bar": [
           {
            "error_x": {
             "color": "#2a3f5f"
            },
            "error_y": {
             "color": "#2a3f5f"
            },
            "marker": {
             "line": {
              "color": "#E5ECF6",
              "width": 0.5
             }
            },
            "type": "bar"
           }
          ],
          "barpolar": [
           {
            "marker": {
             "line": {
              "color": "#E5ECF6",
              "width": 0.5
             }
            },
            "type": "barpolar"
           }
          ],
          "carpet": [
           {
            "aaxis": {
             "endlinecolor": "#2a3f5f",
             "gridcolor": "white",
             "linecolor": "white",
             "minorgridcolor": "white",
             "startlinecolor": "#2a3f5f"
            },
            "baxis": {
             "endlinecolor": "#2a3f5f",
             "gridcolor": "white",
             "linecolor": "white",
             "minorgridcolor": "white",
             "startlinecolor": "#2a3f5f"
            },
            "type": "carpet"
           }
          ],
          "choropleth": [
           {
            "colorbar": {
             "outlinewidth": 0,
             "ticks": ""
            },
            "type": "choropleth"
           }
          ],
          "contour": [
           {
            "colorbar": {
             "outlinewidth": 0,
             "ticks": ""
            },
            "colorscale": [
             [
              0,
              "#0d0887"
             ],
             [
              0.1111111111111111,
              "#46039f"
             ],
             [
              0.2222222222222222,
              "#7201a8"
             ],
             [
              0.3333333333333333,
              "#9c179e"
             ],
             [
              0.4444444444444444,
              "#bd3786"
             ],
             [
              0.5555555555555556,
              "#d8576b"
             ],
             [
              0.6666666666666666,
              "#ed7953"
             ],
             [
              0.7777777777777778,
              "#fb9f3a"
             ],
             [
              0.8888888888888888,
              "#fdca26"
             ],
             [
              1,
              "#f0f921"
             ]
            ],
            "type": "contour"
           }
          ],
          "contourcarpet": [
           {
            "colorbar": {
             "outlinewidth": 0,
             "ticks": ""
            },
            "type": "contourcarpet"
           }
          ],
          "heatmap": [
           {
            "colorbar": {
             "outlinewidth": 0,
             "ticks": ""
            },
            "colorscale": [
             [
              0,
              "#0d0887"
             ],
             [
              0.1111111111111111,
              "#46039f"
             ],
             [
              0.2222222222222222,
              "#7201a8"
             ],
             [
              0.3333333333333333,
              "#9c179e"
             ],
             [
              0.4444444444444444,
              "#bd3786"
             ],
             [
              0.5555555555555556,
              "#d8576b"
             ],
             [
              0.6666666666666666,
              "#ed7953"
             ],
             [
              0.7777777777777778,
              "#fb9f3a"
             ],
             [
              0.8888888888888888,
              "#fdca26"
             ],
             [
              1,
              "#f0f921"
             ]
            ],
            "type": "heatmap"
           }
          ],
          "heatmapgl": [
           {
            "colorbar": {
             "outlinewidth": 0,
             "ticks": ""
            },
            "colorscale": [
             [
              0,
              "#0d0887"
             ],
             [
              0.1111111111111111,
              "#46039f"
             ],
             [
              0.2222222222222222,
              "#7201a8"
             ],
             [
              0.3333333333333333,
              "#9c179e"
             ],
             [
              0.4444444444444444,
              "#bd3786"
             ],
             [
              0.5555555555555556,
              "#d8576b"
             ],
             [
              0.6666666666666666,
              "#ed7953"
             ],
             [
              0.7777777777777778,
              "#fb9f3a"
             ],
             [
              0.8888888888888888,
              "#fdca26"
             ],
             [
              1,
              "#f0f921"
             ]
            ],
            "type": "heatmapgl"
           }
          ],
          "histogram": [
           {
            "marker": {
             "colorbar": {
              "outlinewidth": 0,
              "ticks": ""
             }
            },
            "type": "histogram"
           }
          ],
          "histogram2d": [
           {
            "colorbar": {
             "outlinewidth": 0,
             "ticks": ""
            },
            "colorscale": [
             [
              0,
              "#0d0887"
             ],
             [
              0.1111111111111111,
              "#46039f"
             ],
             [
              0.2222222222222222,
              "#7201a8"
             ],
             [
              0.3333333333333333,
              "#9c179e"
             ],
             [
              0.4444444444444444,
              "#bd3786"
             ],
             [
              0.5555555555555556,
              "#d8576b"
             ],
             [
              0.6666666666666666,
              "#ed7953"
             ],
             [
              0.7777777777777778,
              "#fb9f3a"
             ],
             [
              0.8888888888888888,
              "#fdca26"
             ],
             [
              1,
              "#f0f921"
             ]
            ],
            "type": "histogram2d"
           }
          ],
          "histogram2dcontour": [
           {
            "colorbar": {
             "outlinewidth": 0,
             "ticks": ""
            },
            "colorscale": [
             [
              0,
              "#0d0887"
             ],
             [
              0.1111111111111111,
              "#46039f"
             ],
             [
              0.2222222222222222,
              "#7201a8"
             ],
             [
              0.3333333333333333,
              "#9c179e"
             ],
             [
              0.4444444444444444,
              "#bd3786"
             ],
             [
              0.5555555555555556,
              "#d8576b"
             ],
             [
              0.6666666666666666,
              "#ed7953"
             ],
             [
              0.7777777777777778,
              "#fb9f3a"
             ],
             [
              0.8888888888888888,
              "#fdca26"
             ],
             [
              1,
              "#f0f921"
             ]
            ],
            "type": "histogram2dcontour"
           }
          ],
          "mesh3d": [
           {
            "colorbar": {
             "outlinewidth": 0,
             "ticks": ""
            },
            "type": "mesh3d"
           }
          ],
          "parcoords": [
           {
            "line": {
             "colorbar": {
              "outlinewidth": 0,
              "ticks": ""
             }
            },
            "type": "parcoords"
           }
          ],
          "pie": [
           {
            "automargin": true,
            "type": "pie"
           }
          ],
          "scatter": [
           {
            "marker": {
             "colorbar": {
              "outlinewidth": 0,
              "ticks": ""
             }
            },
            "type": "scatter"
           }
          ],
          "scatter3d": [
           {
            "line": {
             "colorbar": {
              "outlinewidth": 0,
              "ticks": ""
             }
            },
            "marker": {
             "colorbar": {
              "outlinewidth": 0,
              "ticks": ""
             }
            },
            "type": "scatter3d"
           }
          ],
          "scattercarpet": [
           {
            "marker": {
             "colorbar": {
              "outlinewidth": 0,
              "ticks": ""
             }
            },
            "type": "scattercarpet"
           }
          ],
          "scattergeo": [
           {
            "marker": {
             "colorbar": {
              "outlinewidth": 0,
              "ticks": ""
             }
            },
            "type": "scattergeo"
           }
          ],
          "scattergl": [
           {
            "marker": {
             "colorbar": {
              "outlinewidth": 0,
              "ticks": ""
             }
            },
            "type": "scattergl"
           }
          ],
          "scattermapbox": [
           {
            "marker": {
             "colorbar": {
              "outlinewidth": 0,
              "ticks": ""
             }
            },
            "type": "scattermapbox"
           }
          ],
          "scatterpolar": [
           {
            "marker": {
             "colorbar": {
              "outlinewidth": 0,
              "ticks": ""
             }
            },
            "type": "scatterpolar"
           }
          ],
          "scatterpolargl": [
           {
            "marker": {
             "colorbar": {
              "outlinewidth": 0,
              "ticks": ""
             }
            },
            "type": "scatterpolargl"
           }
          ],
          "scatterternary": [
           {
            "marker": {
             "colorbar": {
              "outlinewidth": 0,
              "ticks": ""
             }
            },
            "type": "scatterternary"
           }
          ],
          "surface": [
           {
            "colorbar": {
             "outlinewidth": 0,
             "ticks": ""
            },
            "colorscale": [
             [
              0,
              "#0d0887"
             ],
             [
              0.1111111111111111,
              "#46039f"
             ],
             [
              0.2222222222222222,
              "#7201a8"
             ],
             [
              0.3333333333333333,
              "#9c179e"
             ],
             [
              0.4444444444444444,
              "#bd3786"
             ],
             [
              0.5555555555555556,
              "#d8576b"
             ],
             [
              0.6666666666666666,
              "#ed7953"
             ],
             [
              0.7777777777777778,
              "#fb9f3a"
             ],
             [
              0.8888888888888888,
              "#fdca26"
             ],
             [
              1,
              "#f0f921"
             ]
            ],
            "type": "surface"
           }
          ],
          "table": [
           {
            "cells": {
             "fill": {
              "color": "#EBF0F8"
             },
             "line": {
              "color": "white"
             }
            },
            "header": {
             "fill": {
              "color": "#C8D4E3"
             },
             "line": {
              "color": "white"
             }
            },
            "type": "table"
           }
          ]
         },
         "layout": {
          "annotationdefaults": {
           "arrowcolor": "#2a3f5f",
           "arrowhead": 0,
           "arrowwidth": 1
          },
          "autotypenumbers": "strict",
          "coloraxis": {
           "colorbar": {
            "outlinewidth": 0,
            "ticks": ""
           }
          },
          "colorscale": {
           "diverging": [
            [
             0,
             "#8e0152"
            ],
            [
             0.1,
             "#c51b7d"
            ],
            [
             0.2,
             "#de77ae"
            ],
            [
             0.3,
             "#f1b6da"
            ],
            [
             0.4,
             "#fde0ef"
            ],
            [
             0.5,
             "#f7f7f7"
            ],
            [
             0.6,
             "#e6f5d0"
            ],
            [
             0.7,
             "#b8e186"
            ],
            [
             0.8,
             "#7fbc41"
            ],
            [
             0.9,
             "#4d9221"
            ],
            [
             1,
             "#276419"
            ]
           ],
           "sequential": [
            [
             0,
             "#0d0887"
            ],
            [
             0.1111111111111111,
             "#46039f"
            ],
            [
             0.2222222222222222,
             "#7201a8"
            ],
            [
             0.3333333333333333,
             "#9c179e"
            ],
            [
             0.4444444444444444,
             "#bd3786"
            ],
            [
             0.5555555555555556,
             "#d8576b"
            ],
            [
             0.6666666666666666,
             "#ed7953"
            ],
            [
             0.7777777777777778,
             "#fb9f3a"
            ],
            [
             0.8888888888888888,
             "#fdca26"
            ],
            [
             1,
             "#f0f921"
            ]
           ],
           "sequentialminus": [
            [
             0,
             "#0d0887"
            ],
            [
             0.1111111111111111,
             "#46039f"
            ],
            [
             0.2222222222222222,
             "#7201a8"
            ],
            [
             0.3333333333333333,
             "#9c179e"
            ],
            [
             0.4444444444444444,
             "#bd3786"
            ],
            [
             0.5555555555555556,
             "#d8576b"
            ],
            [
             0.6666666666666666,
             "#ed7953"
            ],
            [
             0.7777777777777778,
             "#fb9f3a"
            ],
            [
             0.8888888888888888,
             "#fdca26"
            ],
            [
             1,
             "#f0f921"
            ]
           ]
          },
          "colorway": [
           "#636efa",
           "#EF553B",
           "#00cc96",
           "#ab63fa",
           "#FFA15A",
           "#19d3f3",
           "#FF6692",
           "#B6E880",
           "#FF97FF",
           "#FECB52"
          ],
          "font": {
           "color": "#2a3f5f"
          },
          "geo": {
           "bgcolor": "white",
           "lakecolor": "white",
           "landcolor": "#E5ECF6",
           "showlakes": true,
           "showland": true,
           "subunitcolor": "white"
          },
          "hoverlabel": {
           "align": "left"
          },
          "hovermode": "closest",
          "mapbox": {
           "style": "light"
          },
          "paper_bgcolor": "white",
          "plot_bgcolor": "#E5ECF6",
          "polar": {
           "angularaxis": {
            "gridcolor": "white",
            "linecolor": "white",
            "ticks": ""
           },
           "bgcolor": "#E5ECF6",
           "radialaxis": {
            "gridcolor": "white",
            "linecolor": "white",
            "ticks": ""
           }
          },
          "scene": {
           "xaxis": {
            "backgroundcolor": "#E5ECF6",
            "gridcolor": "white",
            "gridwidth": 2,
            "linecolor": "white",
            "showbackground": true,
            "ticks": "",
            "zerolinecolor": "white"
           },
           "yaxis": {
            "backgroundcolor": "#E5ECF6",
            "gridcolor": "white",
            "gridwidth": 2,
            "linecolor": "white",
            "showbackground": true,
            "ticks": "",
            "zerolinecolor": "white"
           },
           "zaxis": {
            "backgroundcolor": "#E5ECF6",
            "gridcolor": "white",
            "gridwidth": 2,
            "linecolor": "white",
            "showbackground": true,
            "ticks": "",
            "zerolinecolor": "white"
           }
          },
          "shapedefaults": {
           "line": {
            "color": "#2a3f5f"
           }
          },
          "ternary": {
           "aaxis": {
            "gridcolor": "white",
            "linecolor": "white",
            "ticks": ""
           },
           "baxis": {
            "gridcolor": "white",
            "linecolor": "white",
            "ticks": ""
           },
           "bgcolor": "#E5ECF6",
           "caxis": {
            "gridcolor": "white",
            "linecolor": "white",
            "ticks": ""
           }
          },
          "title": {
           "x": 0.05
          },
          "xaxis": {
           "automargin": true,
           "gridcolor": "white",
           "linecolor": "white",
           "ticks": "",
           "title": {
            "standoff": 15
           },
           "zerolinecolor": "white",
           "zerolinewidth": 2
          },
          "yaxis": {
           "automargin": true,
           "gridcolor": "white",
           "linecolor": "white",
           "ticks": "",
           "title": {
            "standoff": 15
           },
           "zerolinecolor": "white",
           "zerolinewidth": 2
          }
         }
        },
        "title": {},
        "xaxis": {
         "title": {}
        },
        "yaxis": {
         "title": {}
        }
       }
      }
     },
     "metadata": {},
     "output_type": "display_data"
    }
   ],
   "source": [
    "from semiolog import util_g\n",
    "\n",
    "parad_pair = util_g.subsequences(text.parad_chain.keys_t_soft,2)\n",
    "\n",
    "n = 1\n",
    "cross_parad_pair = [(l,r) for l in parad_pair[n][0] for r in parad_pair[n][1]]\n",
    "prob_parad_pair = [semiotic.ng2.prob.get(pair,0) for pair in cross_parad_pair]\n",
    "\n",
    "util_g.plot_scatter_line([str(pair) for pair in cross_parad_pair],prob_parad_pair)"
   ]
  },
  {
   "cell_type": "code",
   "execution_count": 19,
   "metadata": {},
   "outputs": [
    {
     "data": {
      "text/plain": [
       "[6.407181468599124e-05,\n",
       " 3.1631030156986194e-07,\n",
       " 3.0492313071334692e-06,\n",
       " 1.3917653269073925e-07,\n",
       " 0,\n",
       " 6.199681910769295e-07,\n",
       " 1.5182894475353373e-07,\n",
       " 1.2525887942166533e-06,\n",
       " 0,\n",
       " 2.277434171303006e-07,\n",
       " 7.085350755164908e-07,\n",
       " 9.426046986781886e-06,\n",
       " 7.692666534179043e-06,\n",
       " 0.00023486672512165388,\n",
       " 3.3275843725149475e-06,\n",
       " 5.605018543817954e-06,\n",
       " 2.277434171303006e-07,\n",
       " 6.326206031397238e-08,\n",
       " 3.7704187947127542e-06,\n",
       " 0.0001502980028939356,\n",
       " 5.402579950813242e-06,\n",
       " 1.113412261525914e-06,\n",
       " 4.086729096282617e-06,\n",
       " 6.958826634536962e-07,\n",
       " 6.30090120727165e-06,\n",
       " 3.289627136326564e-07,\n",
       " 9.742357288351748e-07,\n",
       " 2.0243859300471163e-06,\n",
       " 9.109736685212024e-07,\n",
       " 1.2905460304050368e-06,\n",
       " 1.2930765128175955e-05,\n",
       " 1.186796251490122e-05,\n",
       " 0.00027190033522945335,\n",
       " 4.187948392784972e-06,\n",
       " 8.008976835748905e-06,\n",
       " 4.061424272157028e-06,\n",
       " 1.8092949249796103e-06,\n",
       " 5.3140130663736805e-06,\n",
       " 0.0014505737381752613,\n",
       " 3.0100088297388064e-05,\n",
       " 7.454801187398506e-05,\n",
       " 1.5663686133739562e-05,\n",
       " 3.567980201708043e-06,\n",
       " 0.00015537162013111618,\n",
       " 1.1918572163152398e-05,\n",
       " 5.2988301718983275e-05,\n",
       " 8.122848544314056e-06,\n",
       " 3.373133055941008e-05,\n",
       " 2.6317017090612514e-06,\n",
       " 0.00045679003270306904,\n",
       " 5.0748824783868653e-05,\n",
       " 0.0065617053771220325,\n",
       " 8.995864976646874e-06,\n",
       " 2.7797349301959466e-05,\n",
       " 7.490227941174331e-06,\n",
       " 2.548195789446808e-05,\n",
       " 1.5220851711541756e-05,\n",
       " 0.000923309770282427,\n",
       " 2.769613000545711e-05,\n",
       " 3.058087995577425e-05,\n",
       " 2.392571121074436e-05,\n",
       " 9.755009700414543e-06,\n",
       " 9.76133590644594e-05,\n",
       " 5.56706130762957e-06,\n",
       " 6.53117510681451e-05,\n",
       " 3.1377981915730307e-06,\n",
       " 2.1863368044508858e-05,\n",
       " 6.591906684715923e-06,\n",
       " 0.00013649422133342682,\n",
       " 5.17863225730178e-05,\n",
       " 0.0021161791795626904,\n",
       " 1.5916734374995454e-05,\n",
       " 3.3124014780395945e-05,\n",
       " 1.1070860554945169e-05,\n",
       " 1.4170701510329815e-05,\n",
       " 1.8852093973563772e-05,\n",
       " 4.858526232113079e-06,\n",
       " 2.403958291930951e-07,\n",
       " 1.8978618094191718e-07,\n",
       " 0,\n",
       " 3.1631030156986194e-07,\n",
       " 1.1766743218398863e-06,\n",
       " 5.0609648251177914e-08,\n",
       " 1.138717085651503e-07,\n",
       " 6.326206031397238e-08,\n",
       " 0,\n",
       " 2.277434171303006e-07,\n",
       " 1.3285032665934201e-06,\n",
       " 7.844495478932577e-07,\n",
       " 6.402120503774006e-06,\n",
       " 2.0243859300471166e-07,\n",
       " 6.073157790141349e-07,\n",
       " 3.7957236188383435e-07,\n",
       " 4.807916583861902e-07,\n",
       " 2.277434171303006e-07,\n",
       " 0,\n",
       " 0,\n",
       " 0,\n",
       " 0,\n",
       " 0,\n",
       " 0,\n",
       " 0,\n",
       " 0,\n",
       " 1.2905460304050368e-06,\n",
       " 7.591447237676687e-07,\n",
       " 4.1752959807221774e-07,\n",
       " 0,\n",
       " 4.706697287359545e-06,\n",
       " 0,\n",
       " 2.4292631160565397e-06,\n",
       " 4.0487718600942325e-06,\n",
       " 0,\n",
       " 2.4925251763705122e-06,\n",
       " 2.8467927141287575e-06,\n",
       " 1.7232585229526078e-05,\n",
       " 6.705778393281073e-07,\n",
       " 5.440537187001626e-07,\n",
       " 2.0243859300471166e-07,\n",
       " 3.6691994982103987e-07,\n",
       " 2.8088354779403742e-06,\n",
       " 2.91005477444273e-07,\n",
       " 5.440537187001626e-07,\n",
       " 0,\n",
       " 1.644813568163282e-07,\n",
       " 2.65700653318684e-07,\n",
       " 4.883831056238668e-06,\n",
       " 1.3538080907190092e-06,\n",
       " 4.494136764704599e-05,\n",
       " 2.91005477444273e-07,\n",
       " 8.4771160820723e-07,\n",
       " 2.0623431662355e-06,\n",
       " 4.554868342606012e-07,\n",
       " 3.416151256954509e-07,\n",
       " 9.422251263163047e-05,\n",
       " 1.5182894475353374e-06,\n",
       " 2.0243859300471163e-06,\n",
       " 2.7708782417519905e-06,\n",
       " 3.1631030156986194e-07,\n",
       " 2.960664422693908e-06,\n",
       " 7.591447237676687e-07,\n",
       " 2.125605226549472e-06,\n",
       " 6.199681910769295e-07,\n",
       " 1.1007598494631196e-06,\n",
       " 2.935359598568319e-06,\n",
       " 8.780773971579368e-06,\n",
       " 1.028641100705191e-05,\n",
       " 0.0004735165214500833,\n",
       " 3.3022795483893587e-06,\n",
       " 7.477575529111536e-06,\n",
       " 2.0243859300471166e-07,\n",
       " 1.8725569852935827e-06,\n",
       " 4.6813924632339565e-06,\n",
       " 9.046474624898051e-06,\n",
       " 5.31401306637368e-07,\n",
       " 0,\n",
       " 8.856688443956135e-08,\n",
       " 0,\n",
       " 1.0121929650235583e-07,\n",
       " 0,\n",
       " 0,\n",
       " 0,\n",
       " 0,\n",
       " 7.591447237676686e-08,\n",
       " 0,\n",
       " 3.289627136326564e-07,\n",
       " 5.187488945745736e-07,\n",
       " 7.591447237676686e-08,\n",
       " 3.7957236188383435e-07,\n",
       " 8.856688443956135e-08,\n",
       " 3.542675377582454e-07,\n",
       " 1.8978618094191718e-07,\n",
       " 0.00042804375249639996,\n",
       " 1.342420919862494e-05,\n",
       " 1.0868421961940456e-05,\n",
       " 6.440077739962389e-06,\n",
       " 2.0749955782982944e-06,\n",
       " 3.0973104729720884e-05,\n",
       " 1.5056370354725428e-06,\n",
       " 1.9396147692263935e-05,\n",
       " 1.2019791459654754e-06,\n",
       " 2.1003004024238832e-06,\n",
       " 8.603640202700244e-07,\n",
       " 4.492871523498319e-05,\n",
       " 2.410284497962348e-05,\n",
       " 0.0016591107937942399,\n",
       " 3.492065729331276e-06,\n",
       " 9.55257110740983e-06,\n",
       " 5.238098593996914e-06,\n",
       " 3.0871885433218525e-06,\n",
       " 4.023467035968644e-06,\n",
       " 0.00010009323182876711,\n",
       " 7.2118748757928524e-06,\n",
       " 6.073157790141349e-07,\n",
       " 0,\n",
       " 3.1631030156986194e-07,\n",
       " 2.960664422693908e-06,\n",
       " 9.109736685212024e-07,\n",
       " 1.923166633544761e-06,\n",
       " 6.705778393281073e-07,\n",
       " 8.856688443956135e-08,\n",
       " 6.073157790141349e-07,\n",
       " 4.301820101350123e-06,\n",
       " 1.0185191710549555e-05,\n",
       " 5.348174578943226e-05,\n",
       " 2.011733517984322e-06,\n",
       " 4.947093116552641e-06,\n",
       " 5.0609648251177914e-08,\n",
       " 6.4147729158368e-06,\n",
       " 2.54313482462169e-06,\n",
       " 7.635730679896468e-05,\n",
       " 2.087647990361089e-06,\n",
       " 9.679095228037776e-06,\n",
       " 1.8978618094191718e-07,\n",
       " 5.187488945745736e-07,\n",
       " 5.200141357808531e-06,\n",
       " 4.301820101350122e-07,\n",
       " 5.162184121620147e-06,\n",
       " 1.4423749751585704e-06,\n",
       " 3.2390174880753865e-06,\n",
       " 8.464463670009506e-06,\n",
       " 4.7573069356107236e-05,\n",
       " 1.7042799048584163e-05,\n",
       " 0.0004676837594891351,\n",
       " 9.109736685212024e-06,\n",
       " 1.5499204776923234e-05,\n",
       " 5.31401306637368e-07,\n",
       " 1.923166633544761e-06,\n",
       " 1.1425128092703414e-05,\n",
       " 0.00012275370183323202,\n",
       " 8.856688443956134e-07,\n",
       " 6.073157790141349e-07,\n",
       " 8.856688443956135e-08,\n",
       " 1.0121929650235583e-07,\n",
       " 3.1884078398242084e-06,\n",
       " 3.074536131259058e-06,\n",
       " 6.769040453595046e-06,\n",
       " 2.960664422693908e-06,\n",
       " 3.289627136326564e-07,\n",
       " 1.4044177389701871e-06,\n",
       " 3.7198091464615765e-06,\n",
       " 2.799978789496418e-05,\n",
       " 8.520134283085801e-05,\n",
       " 5.276055830185297e-06,\n",
       " 1.418335392239261e-05,\n",
       " 4.428344221978067e-07,\n",
       " 2.328043819554184e-06,\n",
       " 6.0984626142669385e-06,\n",
       " 7.615486820595997e-05,\n",
       " 9.742357288351748e-07,\n",
       " 9.704400052163365e-06,\n",
       " 2.65700653318684e-07,\n",
       " 1.0121929650235583e-07,\n",
       " 5.718890252383104e-06,\n",
       " 2.277434171303006e-07,\n",
       " 3.972857387717466e-06,\n",
       " 1.3917653269073925e-07,\n",
       " 1.6574659802260765e-06,\n",
       " 0,\n",
       " 4.608008473269749e-05,\n",
       " 2.3406962316169782e-06,\n",
       " 0.0003714115561033319,\n",
       " 1.644813568163282e-07,\n",
       " 3.416151256954509e-07,\n",
       " 2.517830000496101e-05,\n",
       " 1.9003922918317305e-05,\n",
       " 1.3917653269073925e-07,\n",
       " 2.811365960352933e-05,\n",
       " 0,\n",
       " 9.109736685212024e-07,\n",
       " 0,\n",
       " 0,\n",
       " 1.771337688791227e-07,\n",
       " 2.65700653318684e-07,\n",
       " 1.5182894475353373e-07,\n",
       " 1.0121929650235583e-07,\n",
       " 2.8088354779403742e-06,\n",
       " 0,\n",
       " 2.998621658882291e-06,\n",
       " 1.2652412062794477e-07,\n",
       " 3.960204975654671e-05,\n",
       " 0,\n",
       " 5.0609648251177914e-08,\n",
       " 9.615833167723804e-07,\n",
       " 1.2019791459654754e-06,\n",
       " 0,\n",
       " 5.060964825117791e-07,\n",
       " 0,\n",
       " 0,\n",
       " 2.150910050675061e-07,\n",
       " 2.150910050675061e-07,\n",
       " 6.326206031397238e-08,\n",
       " 0,\n",
       " 0,\n",
       " 0,\n",
       " 0,\n",
       " 1.0501502012119416e-06,\n",
       " 8.856688443956135e-08,\n",
       " 1.0185191710549555e-05,\n",
       " 2.1382576386122665e-06,\n",
       " 2.7329210055636072e-06,\n",
       " 7.464923117048742e-06,\n",
       " 0,\n",
       " 1.771337688791227e-07,\n",
       " 4.643435227045573e-06]"
      ]
     },
     "execution_count": 19,
     "metadata": {},
     "output_type": "execute_result"
    }
   ],
   "source": [
    "prob_parad_pair"
   ]
  },
  {
   "cell_type": "code",
   "execution_count": null,
   "metadata": {},
   "outputs": [],
   "source": []
  }
 ],
 "metadata": {
  "interpreter": {
   "hash": "ac2eaa0ea0ebeafcc7822e65e46aa9d4f966f30b695406963e145ea4a91cd4fc"
  },
  "kernelspec": {
   "display_name": "Python 3.9.5 64-bit",
   "name": "python3"
  },
  "language_info": {
   "codemirror_mode": {
    "name": "ipython",
    "version": 3
   },
   "file_extension": ".py",
   "mimetype": "text/x-python",
   "name": "python",
   "nbconvert_exporter": "python",
   "pygments_lexer": "ipython3",
   "version": "3.9.5"
  },
  "metadata": {
   "interpreter": {
    "hash": "ac2eaa0ea0ebeafcc7822e65e46aa9d4f966f30b695406963e145ea4a91cd4fc"
   }
  },
  "orig_nbformat": 4
 },
 "nbformat": 4,
 "nbformat_minor": 2
}