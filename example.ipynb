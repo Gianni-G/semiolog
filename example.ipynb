{
    "cells": [
        {
            "cell_type": "code",
            "execution_count": 1,
            "source": [
                "import semiolog as slg"
            ],
            "outputs": [],
            "metadata": {}
        },
        {
            "cell_type": "code",
            "execution_count": 84,
            "source": [
                "semiotic = slg.Cenematic(\"en_bnc\")"
            ],
            "outputs": [],
            "metadata": {}
        },
        {
            "cell_type": "code",
            "execution_count": 85,
            "source": [
                "import random\n",
                "n = random.randint(0,len(semiotic.corpus.dev)-1)\n",
                "n = 14639 # en\n",
                "# n = 4747 # fr\n",
                "print(n,\"-\",semiotic.corpus.dev[n])"
            ],
            "outputs": [
                {
                    "output_type": "stream",
                    "name": "stdout",
                    "text": [
                        "14639 - The cheese is firm in texture and has a strong flavour .\n"
                    ]
                }
            ],
            "metadata": {}
        },
        {
            "cell_type": "code",
            "execution_count": 86,
            "source": [
                "semiotic.config.syntagmatic.processor = \"SequenceSLG\"\n",
                "sent_seq = semiotic(semiotic.corpus.dev[n])\n",
                "\n",
                "semiotic.config.syntagmatic.processor = \"TreeSLG\"\n",
                "sent_tree = semiotic(semiotic.corpus.dev[n])\n",
                "\n",
                "semiotic.config.syntagmatic.processor = \"SplitWhitespaces\"\n",
                "sent_ws = semiotic(semiotic.corpus.dev[n])"
            ],
            "outputs": [],
            "metadata": {}
        },
        {
            "cell_type": "code",
            "execution_count": 87,
            "source": [
                "sent_seq.tree.plot(sent_seq.chain.nodes)"
            ],
            "outputs": [
                {
                    "output_type": "display_data",
                    "data": {
                        "text/plain": [
                            "interactive(children=(Output(),), _dom_classes=('widget-interact',))"
                        ],
                        "application/vnd.jupyter.widget-view+json": {
                            "version_major": 2,
                            "version_minor": 0,
                            "model_id": "e2c0aeddaa884aaab5bc8cac5637f5b6"
                        }
                    },
                    "metadata": {}
                },
                {
                    "output_type": "execute_result",
                    "data": {
                        "text/plain": [
                            "<function semiolog.syntagmatic.tree.Tree.plot.<locals>.inter()>"
                        ]
                    },
                    "metadata": {},
                    "execution_count": 87
                }
            ],
            "metadata": {}
        },
        {
            "cell_type": "code",
            "execution_count": 88,
            "source": [
                "sent_tree.tree.plot(sent_tree.chain.nodes)"
            ],
            "outputs": [
                {
                    "output_type": "display_data",
                    "data": {
                        "text/plain": [
                            "interactive(children=(Output(),), _dom_classes=('widget-interact',))"
                        ],
                        "application/vnd.jupyter.widget-view+json": {
                            "version_major": 2,
                            "version_minor": 0,
                            "model_id": "5f72b92e0a414cfd8f5ae109b19ac291"
                        }
                    },
                    "metadata": {}
                },
                {
                    "output_type": "execute_result",
                    "data": {
                        "text/plain": [
                            "<function semiolog.syntagmatic.tree.Tree.plot.<locals>.inter()>"
                        ]
                    },
                    "metadata": {},
                    "execution_count": 88
                }
            ],
            "metadata": {}
        },
        {
            "cell_type": "code",
            "execution_count": 89,
            "source": [
                "sent_ws.parad_chain.df()"
            ],
            "outputs": [
                {
                    "output_type": "execute_result",
                    "data": {
                        "text/plain": [
                            "        the_0 cheese_1     is_2       firm_3        in_4    texture_5  \\\n",
                            "0         the     bark       is         rich          in      texture   \n",
                            "1        goat   cheese  remains       creamy          er      flavour   \n",
                            "2       cream    fruit    stays        crisp          of       colour   \n",
                            "3        this    bread    looks         soft         ish  consistency   \n",
                            "4     cottage     cake    grows       coarse        with        shape   \n",
                            "5    hereford    dough   stands        thick         est        taste   \n",
                            "6     cornish    flesh  becomes       smooth        ened       flavor   \n",
                            "7        milk     wood    feels        sweet         and        color   \n",
                            "8       swiss     soil   tastes        rough          to      quality   \n",
                            "9       white    grain  appears         flat           y        grain   \n",
                            "10  salisbury     tree      are     variable          on         milk   \n",
                            "11    maltese   pastry    seems         mild      creamy       butter   \n",
                            "12        rye     skin     gets        tough  throughout     strength   \n",
                            "13  worcester     pulp     sits        light       under         tone   \n",
                            "14     creamy    grape     runs        dense         egg    character   \n",
                            "15    bedford    shell                varied       ening          fat   \n",
                            "16      local     leaf              pleasant          al         wool   \n",
                            "17               crust               similar          en       origin   \n",
                            "18                food                  thin                            \n",
                            "19               sauce           distinctive                            \n",
                            "20               flour                                                  \n",
                            "21              fabric                                                  \n",
                            "\n",
                            "        and_6      has_7            a_8       strong_9   flavour_10  \n",
                            "0         and        has              a         creamy        aroma  \n",
                            "1         but    retains           very          spicy      flavour  \n",
                            "2        that  possesses      unusually          salty       flavor  \n",
                            "3       which   produces            its          sweet         odor  \n",
                            "4         yet      gives  exceptionally           mild  consistency  \n",
                            "5          it   contains      extremely    distinctive        taste  \n",
                            "6          or      bears     moderately       pleasant      texture  \n",
                            "7       hence     yields           some         citrus        smell  \n",
                            "8          so   provides   particularly           sour        scent  \n",
                            "9   therefore     enjoys   surprisingly          cream        crust  \n",
                            "10     though    carries     noticeably         strong        fiber  \n",
                            "11       thus     offers        another         bitter    fragrance  \n",
                            "12   although      holds            the          smoky       colour  \n",
                            "13       this  maintains     remarkably           rich      quality  \n",
                            "14       then    creates             no         unique         tang  \n",
                            "15                 lacks     relatively         tomato        fibre  \n",
                            "16              presents      naturally         slight               \n",
                            "17              requires     especially  mediterranean               \n",
                            "18                  with                      cinnamon               \n",
                            "19                  adds                                             \n",
                            "20                                                                   \n",
                            "21                                                                   "
                        ],
                        "text/html": [
                            "<div>\n",
                            "<style scoped>\n",
                            "    .dataframe tbody tr th:only-of-type {\n",
                            "        vertical-align: middle;\n",
                            "    }\n",
                            "\n",
                            "    .dataframe tbody tr th {\n",
                            "        vertical-align: top;\n",
                            "    }\n",
                            "\n",
                            "    .dataframe thead th {\n",
                            "        text-align: right;\n",
                            "    }\n",
                            "</style>\n",
                            "<table border=\"1\" class=\"dataframe\">\n",
                            "  <thead>\n",
                            "    <tr style=\"text-align: right;\">\n",
                            "      <th></th>\n",
                            "      <th>the_0</th>\n",
                            "      <th>cheese_1</th>\n",
                            "      <th>is_2</th>\n",
                            "      <th>firm_3</th>\n",
                            "      <th>in_4</th>\n",
                            "      <th>texture_5</th>\n",
                            "      <th>and_6</th>\n",
                            "      <th>has_7</th>\n",
                            "      <th>a_8</th>\n",
                            "      <th>strong_9</th>\n",
                            "      <th>flavour_10</th>\n",
                            "    </tr>\n",
                            "  </thead>\n",
                            "  <tbody>\n",
                            "    <tr>\n",
                            "      <th>0</th>\n",
                            "      <td>the</td>\n",
                            "      <td>bark</td>\n",
                            "      <td>is</td>\n",
                            "      <td>rich</td>\n",
                            "      <td>in</td>\n",
                            "      <td>texture</td>\n",
                            "      <td>and</td>\n",
                            "      <td>has</td>\n",
                            "      <td>a</td>\n",
                            "      <td>creamy</td>\n",
                            "      <td>aroma</td>\n",
                            "    </tr>\n",
                            "    <tr>\n",
                            "      <th>1</th>\n",
                            "      <td>goat</td>\n",
                            "      <td>cheese</td>\n",
                            "      <td>remains</td>\n",
                            "      <td>creamy</td>\n",
                            "      <td>er</td>\n",
                            "      <td>flavour</td>\n",
                            "      <td>but</td>\n",
                            "      <td>retains</td>\n",
                            "      <td>very</td>\n",
                            "      <td>spicy</td>\n",
                            "      <td>flavour</td>\n",
                            "    </tr>\n",
                            "    <tr>\n",
                            "      <th>2</th>\n",
                            "      <td>cream</td>\n",
                            "      <td>fruit</td>\n",
                            "      <td>stays</td>\n",
                            "      <td>crisp</td>\n",
                            "      <td>of</td>\n",
                            "      <td>colour</td>\n",
                            "      <td>that</td>\n",
                            "      <td>possesses</td>\n",
                            "      <td>unusually</td>\n",
                            "      <td>salty</td>\n",
                            "      <td>flavor</td>\n",
                            "    </tr>\n",
                            "    <tr>\n",
                            "      <th>3</th>\n",
                            "      <td>this</td>\n",
                            "      <td>bread</td>\n",
                            "      <td>looks</td>\n",
                            "      <td>soft</td>\n",
                            "      <td>ish</td>\n",
                            "      <td>consistency</td>\n",
                            "      <td>which</td>\n",
                            "      <td>produces</td>\n",
                            "      <td>its</td>\n",
                            "      <td>sweet</td>\n",
                            "      <td>odor</td>\n",
                            "    </tr>\n",
                            "    <tr>\n",
                            "      <th>4</th>\n",
                            "      <td>cottage</td>\n",
                            "      <td>cake</td>\n",
                            "      <td>grows</td>\n",
                            "      <td>coarse</td>\n",
                            "      <td>with</td>\n",
                            "      <td>shape</td>\n",
                            "      <td>yet</td>\n",
                            "      <td>gives</td>\n",
                            "      <td>exceptionally</td>\n",
                            "      <td>mild</td>\n",
                            "      <td>consistency</td>\n",
                            "    </tr>\n",
                            "    <tr>\n",
                            "      <th>5</th>\n",
                            "      <td>hereford</td>\n",
                            "      <td>dough</td>\n",
                            "      <td>stands</td>\n",
                            "      <td>thick</td>\n",
                            "      <td>est</td>\n",
                            "      <td>taste</td>\n",
                            "      <td>it</td>\n",
                            "      <td>contains</td>\n",
                            "      <td>extremely</td>\n",
                            "      <td>distinctive</td>\n",
                            "      <td>taste</td>\n",
                            "    </tr>\n",
                            "    <tr>\n",
                            "      <th>6</th>\n",
                            "      <td>cornish</td>\n",
                            "      <td>flesh</td>\n",
                            "      <td>becomes</td>\n",
                            "      <td>smooth</td>\n",
                            "      <td>ened</td>\n",
                            "      <td>flavor</td>\n",
                            "      <td>or</td>\n",
                            "      <td>bears</td>\n",
                            "      <td>moderately</td>\n",
                            "      <td>pleasant</td>\n",
                            "      <td>texture</td>\n",
                            "    </tr>\n",
                            "    <tr>\n",
                            "      <th>7</th>\n",
                            "      <td>milk</td>\n",
                            "      <td>wood</td>\n",
                            "      <td>feels</td>\n",
                            "      <td>sweet</td>\n",
                            "      <td>and</td>\n",
                            "      <td>color</td>\n",
                            "      <td>hence</td>\n",
                            "      <td>yields</td>\n",
                            "      <td>some</td>\n",
                            "      <td>citrus</td>\n",
                            "      <td>smell</td>\n",
                            "    </tr>\n",
                            "    <tr>\n",
                            "      <th>8</th>\n",
                            "      <td>swiss</td>\n",
                            "      <td>soil</td>\n",
                            "      <td>tastes</td>\n",
                            "      <td>rough</td>\n",
                            "      <td>to</td>\n",
                            "      <td>quality</td>\n",
                            "      <td>so</td>\n",
                            "      <td>provides</td>\n",
                            "      <td>particularly</td>\n",
                            "      <td>sour</td>\n",
                            "      <td>scent</td>\n",
                            "    </tr>\n",
                            "    <tr>\n",
                            "      <th>9</th>\n",
                            "      <td>white</td>\n",
                            "      <td>grain</td>\n",
                            "      <td>appears</td>\n",
                            "      <td>flat</td>\n",
                            "      <td>y</td>\n",
                            "      <td>grain</td>\n",
                            "      <td>therefore</td>\n",
                            "      <td>enjoys</td>\n",
                            "      <td>surprisingly</td>\n",
                            "      <td>cream</td>\n",
                            "      <td>crust</td>\n",
                            "    </tr>\n",
                            "    <tr>\n",
                            "      <th>10</th>\n",
                            "      <td>salisbury</td>\n",
                            "      <td>tree</td>\n",
                            "      <td>are</td>\n",
                            "      <td>variable</td>\n",
                            "      <td>on</td>\n",
                            "      <td>milk</td>\n",
                            "      <td>though</td>\n",
                            "      <td>carries</td>\n",
                            "      <td>noticeably</td>\n",
                            "      <td>strong</td>\n",
                            "      <td>fiber</td>\n",
                            "    </tr>\n",
                            "    <tr>\n",
                            "      <th>11</th>\n",
                            "      <td>maltese</td>\n",
                            "      <td>pastry</td>\n",
                            "      <td>seems</td>\n",
                            "      <td>mild</td>\n",
                            "      <td>creamy</td>\n",
                            "      <td>butter</td>\n",
                            "      <td>thus</td>\n",
                            "      <td>offers</td>\n",
                            "      <td>another</td>\n",
                            "      <td>bitter</td>\n",
                            "      <td>fragrance</td>\n",
                            "    </tr>\n",
                            "    <tr>\n",
                            "      <th>12</th>\n",
                            "      <td>rye</td>\n",
                            "      <td>skin</td>\n",
                            "      <td>gets</td>\n",
                            "      <td>tough</td>\n",
                            "      <td>throughout</td>\n",
                            "      <td>strength</td>\n",
                            "      <td>although</td>\n",
                            "      <td>holds</td>\n",
                            "      <td>the</td>\n",
                            "      <td>smoky</td>\n",
                            "      <td>colour</td>\n",
                            "    </tr>\n",
                            "    <tr>\n",
                            "      <th>13</th>\n",
                            "      <td>worcester</td>\n",
                            "      <td>pulp</td>\n",
                            "      <td>sits</td>\n",
                            "      <td>light</td>\n",
                            "      <td>under</td>\n",
                            "      <td>tone</td>\n",
                            "      <td>this</td>\n",
                            "      <td>maintains</td>\n",
                            "      <td>remarkably</td>\n",
                            "      <td>rich</td>\n",
                            "      <td>quality</td>\n",
                            "    </tr>\n",
                            "    <tr>\n",
                            "      <th>14</th>\n",
                            "      <td>creamy</td>\n",
                            "      <td>grape</td>\n",
                            "      <td>runs</td>\n",
                            "      <td>dense</td>\n",
                            "      <td>egg</td>\n",
                            "      <td>character</td>\n",
                            "      <td>then</td>\n",
                            "      <td>creates</td>\n",
                            "      <td>no</td>\n",
                            "      <td>unique</td>\n",
                            "      <td>tang</td>\n",
                            "    </tr>\n",
                            "    <tr>\n",
                            "      <th>15</th>\n",
                            "      <td>bedford</td>\n",
                            "      <td>shell</td>\n",
                            "      <td></td>\n",
                            "      <td>varied</td>\n",
                            "      <td>ening</td>\n",
                            "      <td>fat</td>\n",
                            "      <td></td>\n",
                            "      <td>lacks</td>\n",
                            "      <td>relatively</td>\n",
                            "      <td>tomato</td>\n",
                            "      <td>fibre</td>\n",
                            "    </tr>\n",
                            "    <tr>\n",
                            "      <th>16</th>\n",
                            "      <td>local</td>\n",
                            "      <td>leaf</td>\n",
                            "      <td></td>\n",
                            "      <td>pleasant</td>\n",
                            "      <td>al</td>\n",
                            "      <td>wool</td>\n",
                            "      <td></td>\n",
                            "      <td>presents</td>\n",
                            "      <td>naturally</td>\n",
                            "      <td>slight</td>\n",
                            "      <td></td>\n",
                            "    </tr>\n",
                            "    <tr>\n",
                            "      <th>17</th>\n",
                            "      <td></td>\n",
                            "      <td>crust</td>\n",
                            "      <td></td>\n",
                            "      <td>similar</td>\n",
                            "      <td>en</td>\n",
                            "      <td>origin</td>\n",
                            "      <td></td>\n",
                            "      <td>requires</td>\n",
                            "      <td>especially</td>\n",
                            "      <td>mediterranean</td>\n",
                            "      <td></td>\n",
                            "    </tr>\n",
                            "    <tr>\n",
                            "      <th>18</th>\n",
                            "      <td></td>\n",
                            "      <td>food</td>\n",
                            "      <td></td>\n",
                            "      <td>thin</td>\n",
                            "      <td></td>\n",
                            "      <td></td>\n",
                            "      <td></td>\n",
                            "      <td>with</td>\n",
                            "      <td></td>\n",
                            "      <td>cinnamon</td>\n",
                            "      <td></td>\n",
                            "    </tr>\n",
                            "    <tr>\n",
                            "      <th>19</th>\n",
                            "      <td></td>\n",
                            "      <td>sauce</td>\n",
                            "      <td></td>\n",
                            "      <td>distinctive</td>\n",
                            "      <td></td>\n",
                            "      <td></td>\n",
                            "      <td></td>\n",
                            "      <td>adds</td>\n",
                            "      <td></td>\n",
                            "      <td></td>\n",
                            "      <td></td>\n",
                            "    </tr>\n",
                            "    <tr>\n",
                            "      <th>20</th>\n",
                            "      <td></td>\n",
                            "      <td>flour</td>\n",
                            "      <td></td>\n",
                            "      <td></td>\n",
                            "      <td></td>\n",
                            "      <td></td>\n",
                            "      <td></td>\n",
                            "      <td></td>\n",
                            "      <td></td>\n",
                            "      <td></td>\n",
                            "      <td></td>\n",
                            "    </tr>\n",
                            "    <tr>\n",
                            "      <th>21</th>\n",
                            "      <td></td>\n",
                            "      <td>fabric</td>\n",
                            "      <td></td>\n",
                            "      <td></td>\n",
                            "      <td></td>\n",
                            "      <td></td>\n",
                            "      <td></td>\n",
                            "      <td></td>\n",
                            "      <td></td>\n",
                            "      <td></td>\n",
                            "      <td></td>\n",
                            "    </tr>\n",
                            "  </tbody>\n",
                            "</table>\n",
                            "</div>"
                        ]
                    },
                    "metadata": {},
                    "execution_count": 89
                }
            ],
            "metadata": {}
        },
        {
            "cell_type": "code",
            "execution_count": 90,
            "source": [
                "prod = [p.productivity for p in sent_ws.parad_chain if p.productivity != None]\n",
                "prod"
            ],
            "outputs": [
                {
                    "output_type": "execute_result",
                    "data": {
                        "text/plain": [
                            "[[('i', 's'),\n",
                            "  ('remain', 's'),\n",
                            "  ('stay', 's'),\n",
                            "  ('look', 's'),\n",
                            "  ('grow', 's'),\n",
                            "  ('stand', 's'),\n",
                            "  ('become', 's'),\n",
                            "  ('feel', 's'),\n",
                            "  ('taste', 's'),\n",
                            "  ('appear', 's'),\n",
                            "  'are',\n",
                            "  ('seem', 's'),\n",
                            "  ('get', 's'),\n",
                            "  ('sit', 's'),\n",
                            "  ('run', 's')],\n",
                            " [('ha', 's'),\n",
                            "  ('retain', 's'),\n",
                            "  ('possesse', 's'),\n",
                            "  ('produce', 's'),\n",
                            "  ('give', 's'),\n",
                            "  ('contain', 's'),\n",
                            "  ('bear', 's'),\n",
                            "  ('yield', 's'),\n",
                            "  ('provide', 's'),\n",
                            "  ('enjoy', 's'),\n",
                            "  ('carrie', 's'),\n",
                            "  ('offer', 's'),\n",
                            "  ('hold', 's'),\n",
                            "  ('maintain', 's'),\n",
                            "  ('create', 's'),\n",
                            "  ('lack', 's'),\n",
                            "  ('present', 's'),\n",
                            "  ('require', 's'),\n",
                            "  'with',\n",
                            "  ('add', 's')],\n",
                            " ['a',\n",
                            "  ('ver', 'y'),\n",
                            "  ('unusual', 'ly'),\n",
                            "  'its',\n",
                            "  ('exceptional', 'ly'),\n",
                            "  ('extreme', 'ly'),\n",
                            "  ('moderate', 'ly'),\n",
                            "  'some',\n",
                            "  ('particular', 'ly'),\n",
                            "  ('surprising', 'ly'),\n",
                            "  ('noticeab', 'ly'),\n",
                            "  'another',\n",
                            "  'the',\n",
                            "  ('remarkab', 'ly'),\n",
                            "  'no',\n",
                            "  ('relative', 'ly'),\n",
                            "  ('natural', 'ly'),\n",
                            "  ('especial', 'ly')]]"
                        ]
                    },
                    "metadata": {},
                    "execution_count": 90
                }
            ],
            "metadata": {}
        },
        {
            "cell_type": "code",
            "execution_count": 91,
            "source": [
                "sent_ws.type_chain.plot_scores(show_probs=False)"
            ],
            "outputs": [
                {
                    "output_type": "display_data",
                    "data": {
                        "application/vnd.plotly.v1+json": {
                            "config": {
                                "plotlyServerURL": "https://plot.ly"
                            },
                            "data": [
                                {
                                    "line": {
                                        "shape": "spline"
                                    },
                                    "mode": "lines+markers",
                                    "name": "Func. Scores",
                                    "type": "scatter",
                                    "x": [
                                        "the_0",
                                        "cheese_1",
                                        "is_2",
                                        "firm_3",
                                        "in_4",
                                        "texture_5",
                                        "and_6",
                                        "has_7",
                                        "a_8",
                                        "strong_9",
                                        "flavour_10"
                                    ],
                                    "y": [
                                        0.000022240005922305947,
                                        0.000001549140038741499,
                                        0.000023322745196228626,
                                        0.000002047285029859172,
                                        0.00008482442949919196,
                                        0.000002386354443563861,
                                        0.0000952147677490729,
                                        0.000009191249249341233,
                                        0.00002948212838613659,
                                        9.998729700292526e-7,
                                        0.0000013884030087066116
                                    ]
                                }
                            ],
                            "layout": {
                                "template": {
                                    "data": {
                                        "bar": [
                                            {
                                                "error_x": {
                                                    "color": "#2a3f5f"
                                                },
                                                "error_y": {
                                                    "color": "#2a3f5f"
                                                },
                                                "marker": {
                                                    "line": {
                                                        "color": "#E5ECF6",
                                                        "width": 0.5
                                                    }
                                                },
                                                "type": "bar"
                                            }
                                        ],
                                        "barpolar": [
                                            {
                                                "marker": {
                                                    "line": {
                                                        "color": "#E5ECF6",
                                                        "width": 0.5
                                                    }
                                                },
                                                "type": "barpolar"
                                            }
                                        ],
                                        "carpet": [
                                            {
                                                "aaxis": {
                                                    "endlinecolor": "#2a3f5f",
                                                    "gridcolor": "white",
                                                    "linecolor": "white",
                                                    "minorgridcolor": "white",
                                                    "startlinecolor": "#2a3f5f"
                                                },
                                                "baxis": {
                                                    "endlinecolor": "#2a3f5f",
                                                    "gridcolor": "white",
                                                    "linecolor": "white",
                                                    "minorgridcolor": "white",
                                                    "startlinecolor": "#2a3f5f"
                                                },
                                                "type": "carpet"
                                            }
                                        ],
                                        "choropleth": [
                                            {
                                                "colorbar": {
                                                    "outlinewidth": 0,
                                                    "ticks": ""
                                                },
                                                "type": "choropleth"
                                            }
                                        ],
                                        "contour": [
                                            {
                                                "colorbar": {
                                                    "outlinewidth": 0,
                                                    "ticks": ""
                                                },
                                                "colorscale": [
                                                    [
                                                        0,
                                                        "#0d0887"
                                                    ],
                                                    [
                                                        0.1111111111111111,
                                                        "#46039f"
                                                    ],
                                                    [
                                                        0.2222222222222222,
                                                        "#7201a8"
                                                    ],
                                                    [
                                                        0.3333333333333333,
                                                        "#9c179e"
                                                    ],
                                                    [
                                                        0.4444444444444444,
                                                        "#bd3786"
                                                    ],
                                                    [
                                                        0.5555555555555556,
                                                        "#d8576b"
                                                    ],
                                                    [
                                                        0.6666666666666666,
                                                        "#ed7953"
                                                    ],
                                                    [
                                                        0.7777777777777778,
                                                        "#fb9f3a"
                                                    ],
                                                    [
                                                        0.8888888888888888,
                                                        "#fdca26"
                                                    ],
                                                    [
                                                        1,
                                                        "#f0f921"
                                                    ]
                                                ],
                                                "type": "contour"
                                            }
                                        ],
                                        "contourcarpet": [
                                            {
                                                "colorbar": {
                                                    "outlinewidth": 0,
                                                    "ticks": ""
                                                },
                                                "type": "contourcarpet"
                                            }
                                        ],
                                        "heatmap": [
                                            {
                                                "colorbar": {
                                                    "outlinewidth": 0,
                                                    "ticks": ""
                                                },
                                                "colorscale": [
                                                    [
                                                        0,
                                                        "#0d0887"
                                                    ],
                                                    [
                                                        0.1111111111111111,
                                                        "#46039f"
                                                    ],
                                                    [
                                                        0.2222222222222222,
                                                        "#7201a8"
                                                    ],
                                                    [
                                                        0.3333333333333333,
                                                        "#9c179e"
                                                    ],
                                                    [
                                                        0.4444444444444444,
                                                        "#bd3786"
                                                    ],
                                                    [
                                                        0.5555555555555556,
                                                        "#d8576b"
                                                    ],
                                                    [
                                                        0.6666666666666666,
                                                        "#ed7953"
                                                    ],
                                                    [
                                                        0.7777777777777778,
                                                        "#fb9f3a"
                                                    ],
                                                    [
                                                        0.8888888888888888,
                                                        "#fdca26"
                                                    ],
                                                    [
                                                        1,
                                                        "#f0f921"
                                                    ]
                                                ],
                                                "type": "heatmap"
                                            }
                                        ],
                                        "heatmapgl": [
                                            {
                                                "colorbar": {
                                                    "outlinewidth": 0,
                                                    "ticks": ""
                                                },
                                                "colorscale": [
                                                    [
                                                        0,
                                                        "#0d0887"
                                                    ],
                                                    [
                                                        0.1111111111111111,
                                                        "#46039f"
                                                    ],
                                                    [
                                                        0.2222222222222222,
                                                        "#7201a8"
                                                    ],
                                                    [
                                                        0.3333333333333333,
                                                        "#9c179e"
                                                    ],
                                                    [
                                                        0.4444444444444444,
                                                        "#bd3786"
                                                    ],
                                                    [
                                                        0.5555555555555556,
                                                        "#d8576b"
                                                    ],
                                                    [
                                                        0.6666666666666666,
                                                        "#ed7953"
                                                    ],
                                                    [
                                                        0.7777777777777778,
                                                        "#fb9f3a"
                                                    ],
                                                    [
                                                        0.8888888888888888,
                                                        "#fdca26"
                                                    ],
                                                    [
                                                        1,
                                                        "#f0f921"
                                                    ]
                                                ],
                                                "type": "heatmapgl"
                                            }
                                        ],
                                        "histogram": [
                                            {
                                                "marker": {
                                                    "colorbar": {
                                                        "outlinewidth": 0,
                                                        "ticks": ""
                                                    }
                                                },
                                                "type": "histogram"
                                            }
                                        ],
                                        "histogram2d": [
                                            {
                                                "colorbar": {
                                                    "outlinewidth": 0,
                                                    "ticks": ""
                                                },
                                                "colorscale": [
                                                    [
                                                        0,
                                                        "#0d0887"
                                                    ],
                                                    [
                                                        0.1111111111111111,
                                                        "#46039f"
                                                    ],
                                                    [
                                                        0.2222222222222222,
                                                        "#7201a8"
                                                    ],
                                                    [
                                                        0.3333333333333333,
                                                        "#9c179e"
                                                    ],
                                                    [
                                                        0.4444444444444444,
                                                        "#bd3786"
                                                    ],
                                                    [
                                                        0.5555555555555556,
                                                        "#d8576b"
                                                    ],
                                                    [
                                                        0.6666666666666666,
                                                        "#ed7953"
                                                    ],
                                                    [
                                                        0.7777777777777778,
                                                        "#fb9f3a"
                                                    ],
                                                    [
                                                        0.8888888888888888,
                                                        "#fdca26"
                                                    ],
                                                    [
                                                        1,
                                                        "#f0f921"
                                                    ]
                                                ],
                                                "type": "histogram2d"
                                            }
                                        ],
                                        "histogram2dcontour": [
                                            {
                                                "colorbar": {
                                                    "outlinewidth": 0,
                                                    "ticks": ""
                                                },
                                                "colorscale": [
                                                    [
                                                        0,
                                                        "#0d0887"
                                                    ],
                                                    [
                                                        0.1111111111111111,
                                                        "#46039f"
                                                    ],
                                                    [
                                                        0.2222222222222222,
                                                        "#7201a8"
                                                    ],
                                                    [
                                                        0.3333333333333333,
                                                        "#9c179e"
                                                    ],
                                                    [
                                                        0.4444444444444444,
                                                        "#bd3786"
                                                    ],
                                                    [
                                                        0.5555555555555556,
                                                        "#d8576b"
                                                    ],
                                                    [
                                                        0.6666666666666666,
                                                        "#ed7953"
                                                    ],
                                                    [
                                                        0.7777777777777778,
                                                        "#fb9f3a"
                                                    ],
                                                    [
                                                        0.8888888888888888,
                                                        "#fdca26"
                                                    ],
                                                    [
                                                        1,
                                                        "#f0f921"
                                                    ]
                                                ],
                                                "type": "histogram2dcontour"
                                            }
                                        ],
                                        "mesh3d": [
                                            {
                                                "colorbar": {
                                                    "outlinewidth": 0,
                                                    "ticks": ""
                                                },
                                                "type": "mesh3d"
                                            }
                                        ],
                                        "parcoords": [
                                            {
                                                "line": {
                                                    "colorbar": {
                                                        "outlinewidth": 0,
                                                        "ticks": ""
                                                    }
                                                },
                                                "type": "parcoords"
                                            }
                                        ],
                                        "pie": [
                                            {
                                                "automargin": true,
                                                "type": "pie"
                                            }
                                        ],
                                        "scatter": [
                                            {
                                                "marker": {
                                                    "colorbar": {
                                                        "outlinewidth": 0,
                                                        "ticks": ""
                                                    }
                                                },
                                                "type": "scatter"
                                            }
                                        ],
                                        "scatter3d": [
                                            {
                                                "line": {
                                                    "colorbar": {
                                                        "outlinewidth": 0,
                                                        "ticks": ""
                                                    }
                                                },
                                                "marker": {
                                                    "colorbar": {
                                                        "outlinewidth": 0,
                                                        "ticks": ""
                                                    }
                                                },
                                                "type": "scatter3d"
                                            }
                                        ],
                                        "scattercarpet": [
                                            {
                                                "marker": {
                                                    "colorbar": {
                                                        "outlinewidth": 0,
                                                        "ticks": ""
                                                    }
                                                },
                                                "type": "scattercarpet"
                                            }
                                        ],
                                        "scattergeo": [
                                            {
                                                "marker": {
                                                    "colorbar": {
                                                        "outlinewidth": 0,
                                                        "ticks": ""
                                                    }
                                                },
                                                "type": "scattergeo"
                                            }
                                        ],
                                        "scattergl": [
                                            {
                                                "marker": {
                                                    "colorbar": {
                                                        "outlinewidth": 0,
                                                        "ticks": ""
                                                    }
                                                },
                                                "type": "scattergl"
                                            }
                                        ],
                                        "scattermapbox": [
                                            {
                                                "marker": {
                                                    "colorbar": {
                                                        "outlinewidth": 0,
                                                        "ticks": ""
                                                    }
                                                },
                                                "type": "scattermapbox"
                                            }
                                        ],
                                        "scatterpolar": [
                                            {
                                                "marker": {
                                                    "colorbar": {
                                                        "outlinewidth": 0,
                                                        "ticks": ""
                                                    }
                                                },
                                                "type": "scatterpolar"
                                            }
                                        ],
                                        "scatterpolargl": [
                                            {
                                                "marker": {
                                                    "colorbar": {
                                                        "outlinewidth": 0,
                                                        "ticks": ""
                                                    }
                                                },
                                                "type": "scatterpolargl"
                                            }
                                        ],
                                        "scatterternary": [
                                            {
                                                "marker": {
                                                    "colorbar": {
                                                        "outlinewidth": 0,
                                                        "ticks": ""
                                                    }
                                                },
                                                "type": "scatterternary"
                                            }
                                        ],
                                        "surface": [
                                            {
                                                "colorbar": {
                                                    "outlinewidth": 0,
                                                    "ticks": ""
                                                },
                                                "colorscale": [
                                                    [
                                                        0,
                                                        "#0d0887"
                                                    ],
                                                    [
                                                        0.1111111111111111,
                                                        "#46039f"
                                                    ],
                                                    [
                                                        0.2222222222222222,
                                                        "#7201a8"
                                                    ],
                                                    [
                                                        0.3333333333333333,
                                                        "#9c179e"
                                                    ],
                                                    [
                                                        0.4444444444444444,
                                                        "#bd3786"
                                                    ],
                                                    [
                                                        0.5555555555555556,
                                                        "#d8576b"
                                                    ],
                                                    [
                                                        0.6666666666666666,
                                                        "#ed7953"
                                                    ],
                                                    [
                                                        0.7777777777777778,
                                                        "#fb9f3a"
                                                    ],
                                                    [
                                                        0.8888888888888888,
                                                        "#fdca26"
                                                    ],
                                                    [
                                                        1,
                                                        "#f0f921"
                                                    ]
                                                ],
                                                "type": "surface"
                                            }
                                        ],
                                        "table": [
                                            {
                                                "cells": {
                                                    "fill": {
                                                        "color": "#EBF0F8"
                                                    },
                                                    "line": {
                                                        "color": "white"
                                                    }
                                                },
                                                "header": {
                                                    "fill": {
                                                        "color": "#C8D4E3"
                                                    },
                                                    "line": {
                                                        "color": "white"
                                                    }
                                                },
                                                "type": "table"
                                            }
                                        ]
                                    },
                                    "layout": {
                                        "annotationdefaults": {
                                            "arrowcolor": "#2a3f5f",
                                            "arrowhead": 0,
                                            "arrowwidth": 1
                                        },
                                        "autotypenumbers": "strict",
                                        "coloraxis": {
                                            "colorbar": {
                                                "outlinewidth": 0,
                                                "ticks": ""
                                            }
                                        },
                                        "colorscale": {
                                            "diverging": [
                                                [
                                                    0,
                                                    "#8e0152"
                                                ],
                                                [
                                                    0.1,
                                                    "#c51b7d"
                                                ],
                                                [
                                                    0.2,
                                                    "#de77ae"
                                                ],
                                                [
                                                    0.3,
                                                    "#f1b6da"
                                                ],
                                                [
                                                    0.4,
                                                    "#fde0ef"
                                                ],
                                                [
                                                    0.5,
                                                    "#f7f7f7"
                                                ],
                                                [
                                                    0.6,
                                                    "#e6f5d0"
                                                ],
                                                [
                                                    0.7,
                                                    "#b8e186"
                                                ],
                                                [
                                                    0.8,
                                                    "#7fbc41"
                                                ],
                                                [
                                                    0.9,
                                                    "#4d9221"
                                                ],
                                                [
                                                    1,
                                                    "#276419"
                                                ]
                                            ],
                                            "sequential": [
                                                [
                                                    0,
                                                    "#0d0887"
                                                ],
                                                [
                                                    0.1111111111111111,
                                                    "#46039f"
                                                ],
                                                [
                                                    0.2222222222222222,
                                                    "#7201a8"
                                                ],
                                                [
                                                    0.3333333333333333,
                                                    "#9c179e"
                                                ],
                                                [
                                                    0.4444444444444444,
                                                    "#bd3786"
                                                ],
                                                [
                                                    0.5555555555555556,
                                                    "#d8576b"
                                                ],
                                                [
                                                    0.6666666666666666,
                                                    "#ed7953"
                                                ],
                                                [
                                                    0.7777777777777778,
                                                    "#fb9f3a"
                                                ],
                                                [
                                                    0.8888888888888888,
                                                    "#fdca26"
                                                ],
                                                [
                                                    1,
                                                    "#f0f921"
                                                ]
                                            ],
                                            "sequentialminus": [
                                                [
                                                    0,
                                                    "#0d0887"
                                                ],
                                                [
                                                    0.1111111111111111,
                                                    "#46039f"
                                                ],
                                                [
                                                    0.2222222222222222,
                                                    "#7201a8"
                                                ],
                                                [
                                                    0.3333333333333333,
                                                    "#9c179e"
                                                ],
                                                [
                                                    0.4444444444444444,
                                                    "#bd3786"
                                                ],
                                                [
                                                    0.5555555555555556,
                                                    "#d8576b"
                                                ],
                                                [
                                                    0.6666666666666666,
                                                    "#ed7953"
                                                ],
                                                [
                                                    0.7777777777777778,
                                                    "#fb9f3a"
                                                ],
                                                [
                                                    0.8888888888888888,
                                                    "#fdca26"
                                                ],
                                                [
                                                    1,
                                                    "#f0f921"
                                                ]
                                            ]
                                        },
                                        "colorway": [
                                            "#636efa",
                                            "#EF553B",
                                            "#00cc96",
                                            "#ab63fa",
                                            "#FFA15A",
                                            "#19d3f3",
                                            "#FF6692",
                                            "#B6E880",
                                            "#FF97FF",
                                            "#FECB52"
                                        ],
                                        "font": {
                                            "color": "#2a3f5f"
                                        },
                                        "geo": {
                                            "bgcolor": "white",
                                            "lakecolor": "white",
                                            "landcolor": "#E5ECF6",
                                            "showlakes": true,
                                            "showland": true,
                                            "subunitcolor": "white"
                                        },
                                        "hoverlabel": {
                                            "align": "left"
                                        },
                                        "hovermode": "closest",
                                        "mapbox": {
                                            "style": "light"
                                        },
                                        "paper_bgcolor": "white",
                                        "plot_bgcolor": "#E5ECF6",
                                        "polar": {
                                            "angularaxis": {
                                                "gridcolor": "white",
                                                "linecolor": "white",
                                                "ticks": ""
                                            },
                                            "bgcolor": "#E5ECF6",
                                            "radialaxis": {
                                                "gridcolor": "white",
                                                "linecolor": "white",
                                                "ticks": ""
                                            }
                                        },
                                        "scene": {
                                            "xaxis": {
                                                "backgroundcolor": "#E5ECF6",
                                                "gridcolor": "white",
                                                "gridwidth": 2,
                                                "linecolor": "white",
                                                "showbackground": true,
                                                "ticks": "",
                                                "zerolinecolor": "white"
                                            },
                                            "yaxis": {
                                                "backgroundcolor": "#E5ECF6",
                                                "gridcolor": "white",
                                                "gridwidth": 2,
                                                "linecolor": "white",
                                                "showbackground": true,
                                                "ticks": "",
                                                "zerolinecolor": "white"
                                            },
                                            "zaxis": {
                                                "backgroundcolor": "#E5ECF6",
                                                "gridcolor": "white",
                                                "gridwidth": 2,
                                                "linecolor": "white",
                                                "showbackground": true,
                                                "ticks": "",
                                                "zerolinecolor": "white"
                                            }
                                        },
                                        "shapedefaults": {
                                            "line": {
                                                "color": "#2a3f5f"
                                            }
                                        },
                                        "ternary": {
                                            "aaxis": {
                                                "gridcolor": "white",
                                                "linecolor": "white",
                                                "ticks": ""
                                            },
                                            "baxis": {
                                                "gridcolor": "white",
                                                "linecolor": "white",
                                                "ticks": ""
                                            },
                                            "bgcolor": "#E5ECF6",
                                            "caxis": {
                                                "gridcolor": "white",
                                                "linecolor": "white",
                                                "ticks": ""
                                            }
                                        },
                                        "title": {
                                            "x": 0.05
                                        },
                                        "xaxis": {
                                            "automargin": true,
                                            "gridcolor": "white",
                                            "linecolor": "white",
                                            "ticks": "",
                                            "title": {
                                                "standoff": 15
                                            },
                                            "zerolinecolor": "white",
                                            "zerolinewidth": 2
                                        },
                                        "yaxis": {
                                            "automargin": true,
                                            "gridcolor": "white",
                                            "linecolor": "white",
                                            "ticks": "",
                                            "title": {
                                                "standoff": 15
                                            },
                                            "zerolinecolor": "white",
                                            "zerolinewidth": 2
                                        }
                                    }
                                },
                                "title": {
                                    "text": "the cheese is firm in texture and has a strong flavour"
                                },
                                "xaxis": {
                                    "title": {
                                        "text": "Paradigm"
                                    }
                                },
                                "yaxis": {
                                    "title": {
                                        "text": "Paradigm"
                                    }
                                }
                            }
                        }
                    },
                    "metadata": {}
                }
            ],
            "metadata": {}
        },
        {
            "cell_type": "code",
            "execution_count": null,
            "source": [],
            "outputs": [],
            "metadata": {}
        }
    ],
    "metadata": {
        "orig_nbformat": 4,
        "language_info": {
            "name": "python",
            "version": "3.9.5",
            "mimetype": "text/x-python",
            "codemirror_mode": {
                "name": "ipython",
                "version": 3
            },
            "pygments_lexer": "ipython3",
            "nbconvert_exporter": "python",
            "file_extension": ".py"
        },
        "kernelspec": {
            "name": "python3",
            "display_name": "Python 3.9.5 64-bit"
        },
        "interpreter": {
            "hash": "ac2eaa0ea0ebeafcc7822e65e46aa9d4f966f30b695406963e145ea4a91cd4fc"
        }
    },
    "nbformat": 4,
    "nbformat_minor": 2
}