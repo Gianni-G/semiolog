{
    "cells": [
        {
            "cell_type": "code",
            "execution_count": 1,
            "source": [
                "import semiolog as slg"
            ],
            "outputs": [],
            "metadata": {}
        },
        {
            "cell_type": "code",
            "execution_count": 2,
            "source": [
                "semiotic = slg.Cenematic(\"fr_wiki\")"
            ],
            "outputs": [],
            "metadata": {}
        },
        {
            "cell_type": "code",
            "execution_count": 3,
            "source": [
                "sent = semiotic(\"plus belle la vie\")\n",
                "sent.chain.tokens"
            ],
            "outputs": [
                {
                    "output_type": "execute_result",
                    "data": {
                        "text/plain": [
                            "[Functive(plus,(0, 4)),\n",
                            " Functive(b,(4, 5)),\n",
                            " Functive(elle,(5, 9)),\n",
                            " Functive(la,(9, 11)),\n",
                            " Functive(v,(11, 12)),\n",
                            " Functive(ie,(12, 14))]"
                        ]
                    },
                    "metadata": {},
                    "execution_count": 3
                }
            ],
            "metadata": {}
        },
        {
            "cell_type": "code",
            "execution_count": 10,
            "source": [
                "semiotic.corpus.config"
            ],
            "outputs": [
                {
                    "output_type": "execute_result",
                    "data": {
                        "text/plain": [
                            "{'dataset': ['wikipedia', '20200501.fr'], 'length': None}"
                        ]
                    },
                    "metadata": {},
                    "execution_count": 10
                }
            ],
            "metadata": {}
        },
        {
            "cell_type": "code",
            "execution_count": 12,
            "source": [
                "semiotic.config.corpus.length = 10000"
            ],
            "outputs": [],
            "metadata": {}
        },
        {
            "cell_type": "code",
            "execution_count": 16,
            "source": [
                "def f(x):\n",
                "    return print(x**x)\n",
                "\n",
                "from pyinstrument import Profiler\n",
                "\n",
                "profiler = Profiler()\n",
                "\n",
                "profiler.start()\n",
                "\n",
                "f(4)\n",
                "\n",
                "profiler.stop()\n",
                "\n",
                "profiler.print()\n",
                "\n"
            ],
            "outputs": [
                {
                    "output_type": "stream",
                    "name": "stdout",
                    "text": [
                        "\n",
                        "  _     ._   __/__   _ _  _  _ _/_   Recorded: 12:17:13  Samples:  0\n",
                        " /_//_/// /_\\ / //_// / //_'/ //     Duration: 0.000     CPU time: 0.000\n",
                        "/   _/                      v3.4.2\n",
                        "\n",
                        "Program: ipykernel_launcher --ip=127.0.0.1 --stdin=9003 --control=9001 --hb=9000 --Session.signature_scheme=\"hmac-sha256\" --Session.key=b\"cf1b764b-2f8b-4c1f-8bcf-dee745d22c32\" --shell=9002 --transport=\"tcp\" --iopub=9004 --f=/var/folders/k4/tv2m69x552l9grwtcdhc0zxm0000gn/T/tmp-17375inPN81fUkKAM.json\n",
                        "\n",
                        "No samples were recorded.\n",
                        "\n",
                        "\n"
                    ]
                }
            ],
            "metadata": {}
        },
        {
            "cell_type": "code",
            "execution_count": 15,
            "source": [
                "profiler.stop()"
            ],
            "outputs": [
                {
                    "output_type": "execute_result",
                    "data": {
                        "text/plain": [
                            "<pyinstrument.session.ProfilerSession at 0x14f286f40>"
                        ]
                    },
                    "metadata": {},
                    "execution_count": 15
                }
            ],
            "metadata": {}
        },
        {
            "cell_type": "code",
            "execution_count": null,
            "source": [],
            "outputs": [],
            "metadata": {}
        }
    ],
    "metadata": {
        "orig_nbformat": 4,
        "language_info": {
            "name": "python"
        }
    },
    "nbformat": 4,
    "nbformat_minor": 2
}