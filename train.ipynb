{
    "cells": [
        {
            "cell_type": "code",
            "execution_count": 1,
            "source": [
                "import semiolog as slg"
            ],
            "outputs": [],
            "metadata": {}
        },
        {
            "cell_type": "code",
            "execution_count": 2,
            "source": [
                "semiotic = slg.Cenematic(\"fr_wiki\")"
            ],
            "outputs": [
                {
                    "output_type": "stream",
                    "name": "stdout",
                    "text": [
                        "Warning: models/fr_wiki/vocabulary/merges.txt does not exist.\n",
                        "Vocabulary will not be loaded from file.\n",
                        "\n"
                    ]
                }
            ],
            "metadata": {}
        },
        {
            "cell_type": "code",
            "execution_count": 3,
            "source": [
                "exec(slg.util.profiler)"
            ],
            "outputs": [],
            "metadata": {}
        },
        {
            "cell_type": "code",
            "execution_count": 4,
            "source": [
                "semiotic.config.vocabulary.size = 1640"
            ],
            "outputs": [],
            "metadata": {}
        },
        {
            "cell_type": "code",
            "execution_count": null,
            "source": [
                "semiotic.vocab.build(save=True,save_step=5)"
            ],
            "outputs": [],
            "metadata": {}
        },
        {
            "cell_type": "code",
            "execution_count": 5,
            "source": [
                "profiler(\"semiotic.vocab.build()\")"
            ],
            "outputs": [
                {
                    "output_type": "stream",
                    "name": "stderr",
                    "text": [
                        "Pair: (('en', 't'), 112765))\t: 100%|██████████| 18/18 [00:51<00:00,  2.85s/it]\n"
                    ]
                },
                {
                    "output_type": "stream",
                    "name": "stdout",
                    "text": [
                        "Vocabulary built\n",
                        "\n",
                        "  _     ._   __/__   _ _  _  _ _/_   Recorded: 00:57:47  Samples:  175\n",
                        " /_//_/// /_\\ / //_// / //_'/ //     Duration: 57.117    CPU time: 56.793\n",
                        "/   _/                      v3.4.2\n",
                        "\n",
                        "Program: ipykernel_launcher --ip=127.0.0.1 --stdin=9003 --control=9001 --hb=9000 --Session.signature_scheme=\"hmac-sha256\" --Session.key=b\"4cf82e65-d55b-4e0b-8a3b-cfea6e501aab\" --shell=9002 --transport=\"tcp\" --iopub=9004 --f=/var/folders/k4/tv2m69x552l9grwtcdhc0zxm0000gn/T/tmp-234790XnPBQqQwnGZ.json\n",
                        "\n",
                        "\u001b[31m57.116\u001b[0m profiler\u001b[0m  \u001b[2m<string>:4\u001b[0m\n",
                        "└─ \u001b[31m57.116\u001b[0m <module>\u001b[0m  \u001b[2m<string>:1\u001b[0m\n",
                        "      [2 frames hidden]  \u001b[2m<string>\u001b[0m\n",
                        "         \u001b[31m57.108\u001b[0m \u001b[48;5;24m\u001b[38;5;15mbuild\u001b[0m  \u001b[2msemiolog/vocabulary.py:88\u001b[0m\n",
                        "         ├─ \u001b[31m45.787\u001b[0m \u001b[48;5;24m\u001b[38;5;15mfind_best_pair\u001b[0m  \u001b[2msemiolog/vocabulary.py:114\u001b[0m\n",
                        "         │  ├─ \u001b[31m37.377\u001b[0m __init__\u001b[0m  \u001b[2mcollections/__init__.py:581\u001b[0m\n",
                        "         │  │     [4 frames hidden]  \u001b[2mcollections, <built-in>\u001b[0m\n",
                        "         │  │        \u001b[31m37.377\u001b[0m _count_elements\u001b[0m  \u001b[2m<built-in>:0\u001b[0m\n",
                        "         │  ├─ \u001b[32m6.864\u001b[0m str.split\u001b[0m  \u001b[2m<built-in>:0\u001b[0m\n",
                        "         │  │     [2 frames hidden]  \u001b[2m<built-in>\u001b[0m\n",
                        "         │  └─ \u001b[92m\u001b[2m1.439\u001b[0m [self]\u001b[0m  \u001b[2m\u001b[0m\n",
                        "         ├─ \u001b[32m4.025\u001b[0m \u001b[48;5;24m\u001b[38;5;15magglutinate_chain\u001b[0m  \u001b[2msemiolog/vocabulary.py:143\u001b[0m\n",
                        "         │  └─ \u001b[32m4.025\u001b[0m Pattern.sub\u001b[0m  \u001b[2m<built-in>:0\u001b[0m\n",
                        "         │        [2 frames hidden]  \u001b[2m<built-in>\u001b[0m\n",
                        "         ├─ \u001b[92m\u001b[2m2.773\u001b[0m \u001b[48;5;24m\u001b[38;5;15mnormalize\u001b[0m  \u001b[2msemiolog/syntagmatic/tokenizer/normalizers.py:32\u001b[0m\n",
                        "         │  ├─ \u001b[92m\u001b[2m1.340\u001b[0m \u001b[48;5;24m\u001b[38;5;15mnormalize\u001b[0m  \u001b[2msemiolog/syntagmatic/tokenizer/normalizers.py:88\u001b[0m\n",
                        "         │  │  └─ \u001b[92m\u001b[2m1.340\u001b[0m str.translate\u001b[0m  \u001b[2m<built-in>:0\u001b[0m\n",
                        "         │  │        [2 frames hidden]  \u001b[2m<built-in>\u001b[0m\n",
                        "         │  └─ \u001b[92m\u001b[2m1.161\u001b[0m \u001b[48;5;24m\u001b[38;5;15mnormalize\u001b[0m  \u001b[2msemiolog/syntagmatic/tokenizer/normalizers.py:97\u001b[0m\n",
                        "         │     └─ \u001b[92m\u001b[2m1.161\u001b[0m str.translate\u001b[0m  \u001b[2m<built-in>:0\u001b[0m\n",
                        "         │           [2 frames hidden]  \u001b[2m<built-in>\u001b[0m\n",
                        "         ├─ \u001b[92m\u001b[2m1.640\u001b[0m [self]\u001b[0m  \u001b[2m\u001b[0m\n",
                        "         ├─ \u001b[92m\u001b[2m1.508\u001b[0m __init__\u001b[0m  \u001b[2mcollections/__init__.py:581\u001b[0m\n",
                        "         │     [4 frames hidden]  \u001b[2mcollections, <built-in>\u001b[0m\n",
                        "         ├─ \u001b[92m\u001b[2m0.736\u001b[0m str.split\u001b[0m  \u001b[2m<built-in>:0\u001b[0m\n",
                        "         │     [2 frames hidden]  \u001b[2m<built-in>\u001b[0m\n",
                        "         └─ \u001b[92m\u001b[2m0.599\u001b[0m str.join\u001b[0m  \u001b[2m<built-in>:0\u001b[0m\n",
                        "               [2 frames hidden]  \u001b[2m<built-in>\u001b[0m\n",
                        "\n",
                        "\n"
                    ]
                }
            ],
            "metadata": {}
        },
        {
            "cell_type": "code",
            "execution_count": 6,
            "source": [
                "profiler(\"semiotic.vocab.build(parallel=True)\")"
            ],
            "outputs": [
                {
                    "output_type": "stream",
                    "name": "stderr",
                    "text": [
                        "Pair: e)\t:   0%|          | 0/18 [05:34<?, ?it/s]\n"
                    ]
                },
                {
                    "output_type": "stream",
                    "name": "stdout",
                    "text": [
                        "(<class 'KeyboardInterrupt'>, KeyboardInterrupt(), <traceback object at 0x12a2cab40>)\n",
                        "\n",
                        "  _     ._   __/__   _ _  _  _ _/_   Recorded: 00:58:44  Samples:  244972\n",
                        " /_//_/// /_\\ / //_// / //_'/ //     Duration: 342.202   CPU time: 339.133\n",
                        "/   _/                      v3.4.2\n",
                        "\n",
                        "Program: ipykernel_launcher --ip=127.0.0.1 --stdin=9003 --control=9001 --hb=9000 --Session.signature_scheme=\"hmac-sha256\" --Session.key=b\"4cf82e65-d55b-4e0b-8a3b-cfea6e501aab\" --shell=9002 --transport=\"tcp\" --iopub=9004 --f=/var/folders/k4/tv2m69x552l9grwtcdhc0zxm0000gn/T/tmp-234790XnPBQqQwnGZ.json\n",
                        "\n",
                        "\u001b[31m342.202\u001b[0m profiler\u001b[0m  \u001b[2m<string>:4\u001b[0m\n",
                        "├─ \u001b[31m338.332\u001b[0m <module>\u001b[0m  \u001b[2m<string>:1\u001b[0m\n",
                        "│  └─ \u001b[31m338.332\u001b[0m \u001b[48;5;24m\u001b[38;5;15mbuild\u001b[0m  \u001b[2msemiolog/vocabulary.py:88\u001b[0m\n",
                        "│     └─ \u001b[31m334.007\u001b[0m \u001b[48;5;24m\u001b[38;5;15mfind_best_pair\u001b[0m  \u001b[2msemiolog/vocabulary.py:114\u001b[0m\n",
                        "│        ├─ \u001b[31m239.050\u001b[0m __add__\u001b[0m  \u001b[2mcollections/__init__.py:749\u001b[0m\n",
                        "│        │     [12 frames hidden]  \u001b[2mcollections, <built-in>\u001b[0m\n",
                        "│        │        \u001b[31m207.534\u001b[0m [self]\u001b[0m  \u001b[2m\u001b[0m\n",
                        "│        └─ \u001b[33m91.978\u001b[0m \u001b[48;5;24m\u001b[38;5;15mmultiprocessing\u001b[0m  \u001b[2msemiolog/util.py:53\u001b[0m\n",
                        "│           ├─ \u001b[32m66.124\u001b[0m __exit__\u001b[0m  \u001b[2mconcurrent/futures/_base.py:635\u001b[0m\n",
                        "│           │     [6 frames hidden]  \u001b[2mconcurrent, threading, <built-in>\u001b[0m\n",
                        "│           └─ \u001b[32m21.826\u001b[0m map\u001b[0m  \u001b[2mconcurrent/futures/process.py:702\u001b[0m\n",
                        "│                 [76 frames hidden]  \u001b[2mconcurrent, multiprocessing, ipykerne...\u001b[0m\n",
                        "└─ \u001b[92m\u001b[2m3.870\u001b[0m [self]\u001b[0m  \u001b[2m\u001b[0m\n",
                        "\n",
                        "\n"
                    ]
                }
            ],
            "metadata": {}
        },
        {
            "cell_type": "code",
            "execution_count": 5,
            "source": [
                "profiler(\"semiotic.vocab.build(parallel=True, parallel_mode = 'thread')\")"
            ],
            "outputs": [
                {
                    "output_type": "stream",
                    "name": "stderr",
                    "text": [
                        "Pair: (('en', 't'), 112765))\t: 100%|██████████| 18/18 [00:56<00:00,  3.11s/it]\n"
                    ]
                },
                {
                    "output_type": "stream",
                    "name": "stdout",
                    "text": [
                        "Vocabulary built\n",
                        "\n",
                        "  _     ._   __/__   _ _  _  _ _/_   Recorded: 01:09:58  Samples:  960\n",
                        " /_//_/// /_\\ / //_// / //_'/ //     Duration: 61.730    CPU time: 61.309\n",
                        "/   _/                      v3.4.2\n",
                        "\n",
                        "Program: ipykernel_launcher --ip=127.0.0.1 --stdin=9013 --control=9011 --hb=9010 --Session.signature_scheme=\"hmac-sha256\" --Session.key=b\"50fe0964-67c0-451c-85d1-ae0d4311c9fa\" --shell=9012 --transport=\"tcp\" --iopub=9014 --f=/var/folders/k4/tv2m69x552l9grwtcdhc0zxm0000gn/T/tmp-23479gmpsNeL2Eqau.json\n",
                        "\n",
                        "\u001b[31m61.730\u001b[0m profiler\u001b[0m  \u001b[2m<string>:4\u001b[0m\n",
                        "└─ \u001b[31m61.730\u001b[0m <module>\u001b[0m  \u001b[2m<string>:1\u001b[0m\n",
                        "      [2 frames hidden]  \u001b[2m<string>\u001b[0m\n",
                        "         \u001b[31m61.724\u001b[0m \u001b[48;5;24m\u001b[38;5;15mbuild\u001b[0m  \u001b[2msemiolog/vocabulary.py:88\u001b[0m\n",
                        "         ├─ \u001b[31m50.408\u001b[0m \u001b[48;5;24m\u001b[38;5;15mfind_best_pair\u001b[0m  \u001b[2msemiolog/vocabulary.py:114\u001b[0m\n",
                        "         │  ├─ \u001b[31m40.724\u001b[0m \u001b[48;5;24m\u001b[38;5;15mmultithreading\u001b[0m  \u001b[2msemiolog/util.py:58\u001b[0m\n",
                        "         │  │  └─ \u001b[31m40.721\u001b[0m map\u001b[0m  \u001b[2mconcurrent/futures/_base.py:572\u001b[0m\n",
                        "         │  │        [11 frames hidden]  \u001b[2mconcurrent, threading, <built-in>\u001b[0m\n",
                        "         │  │           \u001b[31m40.720\u001b[0m lock.acquire\u001b[0m  \u001b[2m<built-in>:0\u001b[0m\n",
                        "         │  ├─ \u001b[32m7.029\u001b[0m str.split\u001b[0m  \u001b[2m<built-in>:0\u001b[0m\n",
                        "         │  │     [2 frames hidden]  \u001b[2m<built-in>\u001b[0m\n",
                        "         │  ├─ \u001b[92m\u001b[2m1.840\u001b[0m [self]\u001b[0m  \u001b[2m\u001b[0m\n",
                        "         │  └─ \u001b[92m\u001b[2m0.767\u001b[0m __add__\u001b[0m  \u001b[2mcollections/__init__.py:749\u001b[0m\n",
                        "         │        [4 frames hidden]  \u001b[2mcollections\u001b[0m\n",
                        "         ├─ \u001b[32m4.096\u001b[0m \u001b[48;5;24m\u001b[38;5;15magglutinate_chain\u001b[0m  \u001b[2msemiolog/vocabulary.py:147\u001b[0m\n",
                        "         │  └─ \u001b[32m4.096\u001b[0m Pattern.sub\u001b[0m  \u001b[2m<built-in>:0\u001b[0m\n",
                        "         │        [2 frames hidden]  \u001b[2m<built-in>\u001b[0m\n",
                        "         ├─ \u001b[92m\u001b[2m2.722\u001b[0m \u001b[48;5;24m\u001b[38;5;15mnormalize\u001b[0m  \u001b[2msemiolog/syntagmatic/tokenizer/normalizers.py:32\u001b[0m\n",
                        "         │  ├─ \u001b[92m\u001b[2m1.340\u001b[0m \u001b[48;5;24m\u001b[38;5;15mnormalize\u001b[0m  \u001b[2msemiolog/syntagmatic/tokenizer/normalizers.py:88\u001b[0m\n",
                        "         │  │  └─ \u001b[92m\u001b[2m1.340\u001b[0m str.translate\u001b[0m  \u001b[2m<built-in>:0\u001b[0m\n",
                        "         │  │        [2 frames hidden]  \u001b[2m<built-in>\u001b[0m\n",
                        "         │  └─ \u001b[92m\u001b[2m1.188\u001b[0m \u001b[48;5;24m\u001b[38;5;15mnormalize\u001b[0m  \u001b[2msemiolog/syntagmatic/tokenizer/normalizers.py:97\u001b[0m\n",
                        "         │     └─ \u001b[92m\u001b[2m1.188\u001b[0m str.translate\u001b[0m  \u001b[2m<built-in>:0\u001b[0m\n",
                        "         │           [2 frames hidden]  \u001b[2m<built-in>\u001b[0m\n",
                        "         ├─ \u001b[92m\u001b[2m1.648\u001b[0m [self]\u001b[0m  \u001b[2m\u001b[0m\n",
                        "         ├─ \u001b[92m\u001b[2m1.515\u001b[0m __init__\u001b[0m  \u001b[2mcollections/__init__.py:581\u001b[0m\n",
                        "         │     [4 frames hidden]  \u001b[2mcollections, <built-in>\u001b[0m\n",
                        "         └─ \u001b[92m\u001b[2m0.707\u001b[0m str.split\u001b[0m  \u001b[2m<built-in>:0\u001b[0m\n",
                        "               [2 frames hidden]  \u001b[2m<built-in>\u001b[0m\n",
                        "\n",
                        "\n"
                    ]
                }
            ],
            "metadata": {}
        },
        {
            "cell_type": "code",
            "execution_count": 7,
            "source": [
                "2 in False"
            ],
            "outputs": [
                {
                    "output_type": "error",
                    "ename": "TypeError",
                    "evalue": "argument of type 'bool' is not iterable",
                    "traceback": [
                        "\u001b[0;31m---------------------------------------------------------------------------\u001b[0m",
                        "\u001b[0;31mTypeError\u001b[0m                                 Traceback (most recent call last)",
                        "\u001b[0;32m<ipython-input-7-848632d36c20>\u001b[0m in \u001b[0;36m<module>\u001b[0;34m\u001b[0m\n\u001b[0;32m----> 1\u001b[0;31m \u001b[0;36m2\u001b[0m \u001b[0;32min\u001b[0m \u001b[0;32mFalse\u001b[0m\u001b[0;34m\u001b[0m\u001b[0;34m\u001b[0m\u001b[0m\n\u001b[0m",
                        "\u001b[0;31mTypeError\u001b[0m: argument of type 'bool' is not iterable"
                    ]
                }
            ],
            "metadata": {}
        },
        {
            "cell_type": "code",
            "execution_count": null,
            "source": [],
            "outputs": [],
            "metadata": {}
        }
    ],
    "metadata": {
        "orig_nbformat": 4,
        "language_info": {
            "name": "python"
        }
    },
    "nbformat": 4,
    "nbformat_minor": 2
}