{
    "cells": [
        {
            "cell_type": "code",
            "execution_count": 1,
            "source": [
                "import semiolog as slg"
            ],
            "outputs": [],
            "metadata": {}
        },
        {
            "cell_type": "code",
            "execution_count": 2,
            "source": [
                "semiotic = slg.Cenematic(\"fr_wiki\")"
            ],
            "outputs": [],
            "metadata": {}
        },
        {
            "cell_type": "code",
            "execution_count": 3,
            "source": [
                "exec(slg.util_g.profiler)"
            ],
            "outputs": [],
            "metadata": {}
        },
        {
            "cell_type": "code",
            "execution_count": 4,
            "source": [
                "semiotic.config.vocabulary.size = 1630\n",
                "profiler(\"semiotic.vocab.build(save=False)\")"
            ],
            "outputs": [
                {
                    "output_type": "display_data",
                    "data": {
                        "text/plain": [
                            "HBox(children=(FloatProgress(value=0.0, max=8.0), HTML(value='')))"
                        ],
                        "application/vnd.jupyter.widget-view+json": {
                            "version_major": 2,
                            "version_minor": 0,
                            "model_id": "8efa05e3f74b4e9f8108e7276b960eb1"
                        }
                    },
                    "metadata": {}
                },
                {
                    "output_type": "stream",
                    "name": "stdout",
                    "text": [
                        "\n",
                        "Vocabulary built\n",
                        "\n",
                        "  _     ._   __/__   _ _  _  _ _/_   Recorded: 21:26:37  Samples:  122\n",
                        " /_//_/// /_\\ / //_// / //_'/ //     Duration: 28.128    CPU time: 28.028\n",
                        "/   _/                      v3.4.2\n",
                        "\n",
                        "Program: /Users/Gianni/Library/Python/3.9/lib/python/site-packages/ipykernel_launcher.py --ip=127.0.0.1 --stdin=9003 --control=9001 --hb=9000 --Session.signature_scheme=\"hmac-sha256\" --Session.key=b\"1deb0576-2b66-42c6-b2e7-398a2ac95931\" --shell=9002 --transport=\"tcp\" --iopub=9004 --f=/var/folders/k4/tv2m69x552l9grwtcdhc0zxm0000gn/T/tmp-23479omJhohYu4s47.json\n",
                        "\n",
                        "\u001b[31m28.128\u001b[0m profiler\u001b[0m  \u001b[2m<string>:4\u001b[0m\n",
                        "└─ \u001b[31m28.128\u001b[0m <module>\u001b[0m  \u001b[2m<string>:1\u001b[0m\n",
                        "      [2 frames hidden]  \u001b[2m<string>\u001b[0m\n",
                        "         \u001b[31m28.121\u001b[0m \u001b[48;5;24m\u001b[38;5;15mbuild\u001b[0m  \u001b[2msemiolog/vocabulary.py:84\u001b[0m\n",
                        "         ├─ \u001b[31m19.771\u001b[0m \u001b[48;5;24m\u001b[38;5;15mfind_best_pair\u001b[0m  \u001b[2msemiolog/vocabulary.py:108\u001b[0m\n",
                        "         │  ├─ \u001b[33m16.204\u001b[0m __init__\u001b[0m  \u001b[2mcollections/__init__.py:581\u001b[0m\n",
                        "         │  │     [4 frames hidden]  \u001b[2mcollections, <built-in>\u001b[0m\n",
                        "         │  │        \u001b[33m16.204\u001b[0m _count_elements\u001b[0m  \u001b[2m<built-in>:0\u001b[0m\n",
                        "         │  ├─ \u001b[32m2.796\u001b[0m str.split\u001b[0m  \u001b[2m<built-in>:0\u001b[0m\n",
                        "         │  │     [2 frames hidden]  \u001b[2m<built-in>\u001b[0m\n",
                        "         │  └─ \u001b[92m\u001b[2m0.756\u001b[0m [self]\u001b[0m  \u001b[2m\u001b[0m\n",
                        "         ├─ \u001b[32m2.714\u001b[0m \u001b[48;5;24m\u001b[38;5;15mnormalize\u001b[0m  \u001b[2msemiolog/syntagmatic/tokenizer/normalizers.py:32\u001b[0m\n",
                        "         │  ├─ \u001b[92m\u001b[2m1.340\u001b[0m \u001b[48;5;24m\u001b[38;5;15mnormalize\u001b[0m  \u001b[2msemiolog/syntagmatic/tokenizer/normalizers.py:88\u001b[0m\n",
                        "         │  │  └─ \u001b[92m\u001b[2m1.340\u001b[0m str.translate\u001b[0m  \u001b[2m<built-in>:0\u001b[0m\n",
                        "         │  │        [2 frames hidden]  \u001b[2m<built-in>\u001b[0m\n",
                        "         │  └─ \u001b[92m\u001b[2m1.167\u001b[0m \u001b[48;5;24m\u001b[38;5;15mnormalize\u001b[0m  \u001b[2msemiolog/syntagmatic/tokenizer/normalizers.py:97\u001b[0m\n",
                        "         │     └─ \u001b[92m\u001b[2m1.167\u001b[0m str.translate\u001b[0m  \u001b[2m<built-in>:0\u001b[0m\n",
                        "         │           [2 frames hidden]  \u001b[2m<built-in>\u001b[0m\n",
                        "         ├─ \u001b[32m2.174\u001b[0m \u001b[48;5;24m\u001b[38;5;15magglutinate_chain\u001b[0m  \u001b[2msemiolog/vocabulary.py:114\u001b[0m\n",
                        "         │  └─ \u001b[32m2.174\u001b[0m Pattern.sub\u001b[0m  \u001b[2m<built-in>:0\u001b[0m\n",
                        "         │        [2 frames hidden]  \u001b[2m<built-in>\u001b[0m\n",
                        "         ├─ \u001b[32m1.479\u001b[0m __init__\u001b[0m  \u001b[2mcollections/__init__.py:581\u001b[0m\n",
                        "         │     [4 frames hidden]  \u001b[2mcollections, <built-in>\u001b[0m\n",
                        "         ├─ \u001b[92m\u001b[2m0.675\u001b[0m str.split\u001b[0m  \u001b[2m<built-in>:0\u001b[0m\n",
                        "         │     [2 frames hidden]  \u001b[2m<built-in>\u001b[0m\n",
                        "         ├─ \u001b[92m\u001b[2m0.630\u001b[0m [self]\u001b[0m  \u001b[2m\u001b[0m\n",
                        "         └─ \u001b[92m\u001b[2m0.616\u001b[0m str.join\u001b[0m  \u001b[2m<built-in>:0\u001b[0m\n",
                        "               [2 frames hidden]  \u001b[2m<built-in>\u001b[0m\n",
                        "\n",
                        "\n"
                    ]
                }
            ],
            "metadata": {}
        },
        {
            "cell_type": "code",
            "execution_count": 20,
            "source": [
                "semiotic.vocab.len"
            ],
            "outputs": [
                {
                    "output_type": "execute_result",
                    "data": {
                        "text/plain": [
                            "1622"
                        ]
                    },
                    "metadata": {},
                    "execution_count": 20
                }
            ],
            "metadata": {}
        },
        {
            "cell_type": "code",
            "execution_count": 25,
            "source": [
                "bla = \"\"\"\n",
                "from pyinstrument import Profiler\n",
                "import sys\n",
                "def profiler(process):\n",
                "    profile = Profiler()\n",
                "\n",
                "    profile.start()\n",
                "    \n",
                "    try:\n",
                "        exec(process)\n",
                "    except:\n",
                "        print(f\"{sys.exc_info()}\")\n",
                "\n",
                "    profile.stop()\n",
                "\n",
                "    return print(profile.output_text(unicode=True, color=True))\n",
                "            \"\"\""
            ],
            "outputs": [],
            "metadata": {}
        },
        {
            "cell_type": "code",
            "execution_count": 26,
            "source": [
                "exec(bla)"
            ],
            "outputs": [],
            "metadata": {}
        },
        {
            "cell_type": "code",
            "execution_count": 22,
            "source": [
                "profiler(\"semiotic.vocab.build(save=False)\")"
            ],
            "outputs": [
                {
                    "output_type": "display_data",
                    "data": {
                        "text/plain": [
                            "HBox(children=(FloatProgress(value=0.0, max=8.0), HTML(value='')))"
                        ],
                        "application/vnd.jupyter.widget-view+json": {
                            "version_major": 2,
                            "version_minor": 0,
                            "model_id": "a666aaa5a3c44da18d6aaac161d04ab1"
                        }
                    },
                    "metadata": {}
                },
                {
                    "output_type": "stream",
                    "name": "stdout",
                    "text": [
                        "\n",
                        "Vocabulary built\n",
                        "\n",
                        "  _     ._   __/__   _ _  _  _ _/_   Recorded: 21:19:32  Samples:  110\n",
                        " /_//_/// /_\\ / //_// / //_'/ //     Duration: 27.531    CPU time: 27.430\n",
                        "/   _/                      v3.4.2\n",
                        "\n",
                        "Program: /Users/Gianni/Library/Python/3.9/lib/python/site-packages/ipykernel_launcher.py --ip=127.0.0.1 --stdin=9003 --control=9001 --hb=9000 --Session.signature_scheme=\"hmac-sha256\" --Session.key=b\"1bcf8dc2-69cb-4a09-88c6-c11cfc7b64b0\" --shell=9002 --transport=\"tcp\" --iopub=9004 --f=/var/folders/k4/tv2m69x552l9grwtcdhc0zxm0000gn/T/tmp-23479p1n9N1lJVBqo.json\n",
                        "\n",
                        "\u001b[31m27.531\u001b[0m profiler\u001b[0m  \u001b[2m<string>:3\u001b[0m\n",
                        "└─ \u001b[31m27.531\u001b[0m <module>\u001b[0m  \u001b[2m<string>:1\u001b[0m\n",
                        "      [2 frames hidden]  \u001b[2m<string>\u001b[0m\n",
                        "         \u001b[31m27.523\u001b[0m \u001b[48;5;24m\u001b[38;5;15mbuild\u001b[0m  \u001b[2msemiolog/vocabulary.py:84\u001b[0m\n",
                        "         ├─ \u001b[31m19.324\u001b[0m \u001b[48;5;24m\u001b[38;5;15mfind_best_pair\u001b[0m  \u001b[2msemiolog/vocabulary.py:108\u001b[0m\n",
                        "         │  ├─ \u001b[33m15.906\u001b[0m __init__\u001b[0m  \u001b[2mcollections/__init__.py:581\u001b[0m\n",
                        "         │  │     [4 frames hidden]  \u001b[2mcollections, <built-in>\u001b[0m\n",
                        "         │  │        \u001b[33m15.906\u001b[0m _count_elements\u001b[0m  \u001b[2m<built-in>:0\u001b[0m\n",
                        "         │  ├─ \u001b[32m2.700\u001b[0m str.split\u001b[0m  \u001b[2m<built-in>:0\u001b[0m\n",
                        "         │  │     [2 frames hidden]  \u001b[2m<built-in>\u001b[0m\n",
                        "         │  └─ \u001b[92m\u001b[2m0.702\u001b[0m [self]\u001b[0m  \u001b[2m\u001b[0m\n",
                        "         ├─ \u001b[32m2.755\u001b[0m \u001b[48;5;24m\u001b[38;5;15mnormalize\u001b[0m  \u001b[2msemiolog/syntagmatic/tokenizer/normalizers.py:32\u001b[0m\n",
                        "         │  ├─ \u001b[92m\u001b[2m1.363\u001b[0m \u001b[48;5;24m\u001b[38;5;15mnormalize\u001b[0m  \u001b[2msemiolog/syntagmatic/tokenizer/normalizers.py:88\u001b[0m\n",
                        "         │  │  └─ \u001b[92m\u001b[2m1.363\u001b[0m str.translate\u001b[0m  \u001b[2m<built-in>:0\u001b[0m\n",
                        "         │  │        [2 frames hidden]  \u001b[2m<built-in>\u001b[0m\n",
                        "         │  └─ \u001b[92m\u001b[2m1.168\u001b[0m \u001b[48;5;24m\u001b[38;5;15mnormalize\u001b[0m  \u001b[2msemiolog/syntagmatic/tokenizer/normalizers.py:97\u001b[0m\n",
                        "         │     └─ \u001b[92m\u001b[2m1.168\u001b[0m str.translate\u001b[0m  \u001b[2m<built-in>:0\u001b[0m\n",
                        "         │           [2 frames hidden]  \u001b[2m<built-in>\u001b[0m\n",
                        "         ├─ \u001b[32m2.083\u001b[0m \u001b[48;5;24m\u001b[38;5;15magglutinate_chain\u001b[0m  \u001b[2msemiolog/vocabulary.py:114\u001b[0m\n",
                        "         │  └─ \u001b[32m2.083\u001b[0m Pattern.sub\u001b[0m  \u001b[2m<built-in>:0\u001b[0m\n",
                        "         │        [2 frames hidden]  \u001b[2m<built-in>\u001b[0m\n",
                        "         ├─ \u001b[32m1.496\u001b[0m __init__\u001b[0m  \u001b[2mcollections/__init__.py:581\u001b[0m\n",
                        "         │     [4 frames hidden]  \u001b[2mcollections, <built-in>\u001b[0m\n",
                        "         ├─ \u001b[92m\u001b[2m0.668\u001b[0m str.split\u001b[0m  \u001b[2m<built-in>:0\u001b[0m\n",
                        "         │     [2 frames hidden]  \u001b[2m<built-in>\u001b[0m\n",
                        "         ├─ \u001b[92m\u001b[2m0.596\u001b[0m [self]\u001b[0m  \u001b[2m\u001b[0m\n",
                        "         └─ \u001b[92m\u001b[2m0.563\u001b[0m str.join\u001b[0m  \u001b[2m<built-in>:0\u001b[0m\n",
                        "               [2 frames hidden]  \u001b[2m<built-in>\u001b[0m\n",
                        "\n",
                        "\n"
                    ]
                }
            ],
            "metadata": {}
        },
        {
            "cell_type": "code",
            "execution_count": null,
            "source": [],
            "outputs": [],
            "metadata": {}
        }
    ],
    "metadata": {
        "orig_nbformat": 4,
        "language_info": {
            "name": "python"
        }
    },
    "nbformat": 4,
    "nbformat_minor": 2
}