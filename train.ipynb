{
    "cells": [
        {
            "cell_type": "code",
            "execution_count": 1,
            "source": [
                "import semiolog as slg"
            ],
            "outputs": [],
            "metadata": {}
        },
        {
            "cell_type": "code",
            "execution_count": 2,
            "source": [
                "semiotic = slg.Cenematic(\"fr_wiki\")"
            ],
            "outputs": [],
            "metadata": {}
        },
        {
            "cell_type": "code",
            "execution_count": 3,
            "source": [
                "from pyinstrument import Profiler\n",
                "import sys\n",
                "def profiler(process):\n",
                "        profile = Profiler()\n",
                "\n",
                "        profile.start()\n",
                "        \n",
                "        try:\n",
                "            exec(process)\n",
                "        except:\n",
                "            print(f\"{sys.exc_info()}\")\n",
                "\n",
                "        profile.stop()\n",
                "\n",
                "        return print(profile.output_text(unicode=True, color=True))"
            ],
            "outputs": [],
            "metadata": {}
        },
        {
            "cell_type": "code",
            "execution_count": 4,
            "source": [
                "profiler('semiotic.corpus.build()')"
            ],
            "outputs": [
                {
                    "output_type": "stream",
                    "name": "stderr",
                    "text": [
                        "Reusing dataset wikipedia (/Users/Gianni/.cache/huggingface/datasets/wikipedia/20200501.fr/1.0.0/2fe8db1405aef67dff9fcc51e133e1f9c5b0106f9d9e9638188176d278fd5ff1)\n"
                    ]
                },
                {
                    "output_type": "display_data",
                    "data": {
                        "text/plain": [
                            "HBox(children=(FloatProgress(value=0.0, max=10000.0), HTML(value='')))"
                        ],
                        "application/vnd.jupyter.widget-view+json": {
                            "version_major": 2,
                            "version_minor": 0,
                            "model_id": "82c21efdf3ea47f6830ae19a935f79e7"
                        }
                    },
                    "metadata": {}
                },
                {
                    "output_type": "stream",
                    "name": "stdout",
                    "text": [
                        "\n",
                        "Corpus built\n",
                        "\n",
                        "  _     ._   __/__   _ _  _  _ _/_   Recorded: 14:52:20  Samples:  15586\n",
                        " /_//_/// /_\\ / //_// / //_'/ //     Duration: 17.586    CPU time: 16.285\n",
                        "/   _/                      v3.4.2\n",
                        "\n",
                        "Program: ipykernel_launcher --ip=127.0.0.1 --stdin=9008 --control=9006 --hb=9005 --Session.signature_scheme=\"hmac-sha256\" --Session.key=b\"abedcee9-f0ab-46ab-b799-5d9a1b0c5d8b\" --shell=9007 --transport=\"tcp\" --iopub=9009 --f=/var/folders/k4/tv2m69x552l9grwtcdhc0zxm0000gn/T/tmp-17375gl3wW1pf5CPw.json\n",
                        "\n",
                        "\u001b[31m17.585\u001b[0m \u001b[48;5;24m\u001b[38;5;15mprofiler\u001b[0m  \u001b[2m<ipython-input-3-193dbe9dfddb>:3\u001b[0m\n",
                        "└─ \u001b[31m17.585\u001b[0m <module>\u001b[0m  \u001b[2m<string>:1\u001b[0m\n",
                        "      [3 frames hidden]  \u001b[2m<string>, datasets\u001b[0m\n",
                        "         \u001b[31m17.582\u001b[0m \u001b[48;5;24m\u001b[38;5;15mbuild\u001b[0m  \u001b[2msemiolog/corpus.py:83\u001b[0m\n",
                        "         ├─ \u001b[31m15.642\u001b[0m \u001b[48;5;24m\u001b[38;5;15mpre_process_corpus\u001b[0m  \u001b[2msemiolog/corpus.py:75\u001b[0m\n",
                        "         │  ├─ \u001b[31m15.362\u001b[0m \u001b[48;5;24m\u001b[38;5;15mpre_process_document\u001b[0m  \u001b[2msemiolog/corpus.py:65\u001b[0m\n",
                        "         │  │  ├─ \u001b[31m14.473\u001b[0m \u001b[48;5;24m\u001b[38;5;15mprocess\u001b[0m  \u001b[2msemiolog/syntagmatic/tokenizer/processors.py:253\u001b[0m\n",
                        "         │  │  │  ├─ \u001b[31m14.247\u001b[0m sent_tokenize\u001b[0m  \u001b[2mnltk/tokenize/__init__.py:97\u001b[0m\n",
                        "         │  │  │  │     [208 frames hidden]  \u001b[2mnltk, <built-in>, re, sre_compile, sr...\u001b[0m\n",
                        "         │  │  │  │        \u001b[33m6.501\u001b[0m _slices_from_text\u001b[0m  \u001b[2mnltk/tokenize/punkt.py:1330\u001b[0m\n",
                        "         │  │  │  │        ├─ \u001b[33m3.700\u001b[0m [self]\u001b[0m  \u001b[2m\u001b[0m\n",
                        "         │  │  │  └─ \u001b[92m\u001b[2m0.205\u001b[0m [self]\u001b[0m  \u001b[2m\u001b[0m\n",
                        "         │  │  ├─ \u001b[92m\u001b[2m0.355\u001b[0m \u001b[48;5;24m\u001b[38;5;15mnormalize\u001b[0m  \u001b[2msemiolog/syntagmatic/tokenizer/normalizers.py:53\u001b[0m\n",
                        "         │  │  │  └─ \u001b[92m\u001b[2m0.346\u001b[0m normalize\u001b[0m  \u001b[2m<built-in>:0\u001b[0m\n",
                        "         │  │  │        [2 frames hidden]  \u001b[2m<built-in>\u001b[0m\n",
                        "         │  │  ├─ \u001b[92m\u001b[2m0.292\u001b[0m \u001b[48;5;24m\u001b[38;5;15mpost_process\u001b[0m  \u001b[2msemiolog/syntagmatic/tokenizer/post_processors.py:33\u001b[0m\n",
                        "         │  │  │  └─ \u001b[92m\u001b[2m0.220\u001b[0m \u001b[48;5;24m\u001b[38;5;15m<setcomp>\u001b[0m  \u001b[2msemiolog/syntagmatic/tokenizer/post_processors.py:35\u001b[0m\n",
                        "         │  │  └─ \u001b[92m\u001b[2m0.194\u001b[0m \u001b[48;5;24m\u001b[38;5;15mpre_tokenize\u001b[0m  \u001b[2msemiolog/syntagmatic/tokenizer/pre_tokenizers.py:42\u001b[0m\n",
                        "         │  └─ \u001b[92m\u001b[2m0.216\u001b[0m __iter__\u001b[0m  \u001b[2mtqdm/notebook.py:226\u001b[0m\n",
                        "         │        [176 frames hidden]  \u001b[2mtqdm, traitlets, ipywidgets, ipykerne...\u001b[0m\n",
                        "         └─ \u001b[32m1.730\u001b[0m \u001b[48;5;24m\u001b[38;5;15mload_dataset\u001b[0m  \u001b[2msemiolog/corpus.py:56\u001b[0m\n",
                        "            └─ \u001b[32m1.730\u001b[0m load_dataset\u001b[0m  \u001b[2mdatasets/load.py:624\u001b[0m\n",
                        "                  [343 frames hidden]  \u001b[2mdatasets, requests, urllib3, ssl, <bu...\u001b[0m\n",
                        "\n",
                        "\n"
                    ]
                }
            ],
            "metadata": {}
        },
        {
            "cell_type": "code",
            "execution_count": 7,
            "source": [
                "semiotic.config.save()"
            ],
            "outputs": [],
            "metadata": {}
        },
        {
            "cell_type": "code",
            "execution_count": 3,
            "source": [
                "sent = semiotic(\"plus belle la vie\")\n",
                "sent.chain.tokens"
            ],
            "outputs": [
                {
                    "output_type": "execute_result",
                    "data": {
                        "text/plain": [
                            "[Functive(plus,(0, 4)),\n",
                            " Functive(b,(4, 5)),\n",
                            " Functive(elle,(5, 9)),\n",
                            " Functive(la,(9, 11)),\n",
                            " Functive(v,(11, 12)),\n",
                            " Functive(ie,(12, 14))]"
                        ]
                    },
                    "metadata": {},
                    "execution_count": 3
                }
            ],
            "metadata": {}
        }
    ],
    "metadata": {
        "orig_nbformat": 4,
        "language_info": {
            "name": "python"
        }
    },
    "nbformat": 4,
    "nbformat_minor": 2
}