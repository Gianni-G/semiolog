{
    "cells": [
        {
            "cell_type": "code",
            "execution_count": 1,
            "source": [
                "import semiolog as slg"
            ],
            "outputs": [],
            "metadata": {}
        },
        {
            "cell_type": "code",
            "execution_count": 2,
            "source": [
                "semiotic = slg.Cenematic(\"fr_wiki\")"
            ],
            "outputs": [],
            "metadata": {}
        },
        {
            "cell_type": "code",
            "execution_count": 3,
            "source": [
                "sent = semiotic(\"plus belle la vie\")\n",
                "sent.chain.tokens"
            ],
            "outputs": [
                {
                    "output_type": "execute_result",
                    "data": {
                        "text/plain": [
                            "[Functive(plus,(0, 4)),\n",
                            " Functive(b,(4, 5)),\n",
                            " Functive(elle,(5, 9)),\n",
                            " Functive(la,(9, 11)),\n",
                            " Functive(v,(11, 12)),\n",
                            " Functive(ie,(12, 14))]"
                        ]
                    },
                    "metadata": {},
                    "execution_count": 3
                }
            ],
            "metadata": {}
        },
        {
            "cell_type": "code",
            "execution_count": 4,
            "source": [
                "sent.chain.tokens[0].paradigm"
            ],
            "outputs": [
                {
                    "output_type": "execute_result",
                    "data": {
                        "text/plain": [
                            "('elle', 'la', 'det', 'et', 'n', 'en', 'a', 'tu', 'e', 'je', 'sa', 'cote', 'le', 'y', 'ai', 'paris', 'ile', 'nos', 'ne', 'que', 'il', 'ou', 'es', 'l', 'ea', 'eu', 'les', 'o', 'pro', 'ave', 'b', 'no', 'france', 'lo', 'c', 'int', 'ee', 'i', '»', 'dans', '«', 'suite', 'vie', 'nu', 'na', 'u', 'ta', 'madame', 's', 'une', 'rouge', 'pour', 'du', 'femme', 'non', 'qui', 'est', 'unite', 'pa', 'den', 'monsieur', 'miss', 'f', 'viva', 'j', 'tee', 'mai', 'w', 'ma', 'se', '4', 'ie', 'si', 'r', 'col', 'ch', 'ab', 'v', 'gen', 'plus', 'let', 'chorus', '·', '→', 'queen', 'ex')"
                        ]
                    },
                    "metadata": {},
                    "execution_count": 4
                }
            ],
            "metadata": {}
        },
        {
            "cell_type": "code",
            "execution_count": null,
            "source": [],
            "outputs": [],
            "metadata": {}
        }
    ],
    "metadata": {
        "orig_nbformat": 4,
        "language_info": {
            "name": "python"
        }
    },
    "nbformat": 4,
    "nbformat_minor": 2
}