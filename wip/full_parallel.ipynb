{
 "cells": [
  {
   "cell_type": "code",
   "execution_count": 1,
   "source": [
    "import os\n",
    "os.chdir(\"../\")\n",
    "from joblib import Parallel, delayed\n",
    "\n",
    "import semiolog as slg\n",
    "\n",
    "semiotic = slg.Cenematic(\"fr_wiki\",requested_cpu=4)"
   ],
   "outputs": [
    {
     "output_type": "stream",
     "name": "stdout",
     "text": [
      "Warning: models/fr_wiki/vocabulary/merges.txt does not exist.\n",
      "Vocabulary will not be loaded from file.\n",
      "\n"
     ]
    }
   ],
   "metadata": {}
  },
  {
   "cell_type": "code",
   "execution_count": 31,
   "source": [
    "from collections import Counter\n",
    "import operator\n",
    "from functools import reduce\n",
    "import regex as re\n",
    "from tqdm.notebook import trange"
   ],
   "outputs": [],
   "metadata": {}
  },
  {
   "cell_type": "code",
   "execution_count": 3,
   "source": [
    "%load_ext line_profiler"
   ],
   "outputs": [],
   "metadata": {}
  },
  {
   "cell_type": "code",
   "execution_count": 4,
   "source": [
    "def count(chain):\n",
    "    count = Counter(zip(chain,chain[1:]))\n",
    "    return count\n",
    "\n",
    "def normalize(chain):\n",
    "    return list((\" \".join(chain)).replace(\" \",\"\"))\n",
    "\n",
    "def agglutinate_chain(pair, chain_list):\n",
    "    chain_list = \" \".join(chain_list) \n",
    "    bigram = re.escape(\" \".join(pair))\n",
    "    p = re.compile(r\"(?<!\\S)\" + bigram + r\"(?!\\S)\")\n",
    "    chain_list = p.sub(\"\".join(pair), chain_list)\n",
    "    chain_list = chain_list.split()\n",
    "    return chain_list"
   ],
   "outputs": [],
   "metadata": {}
  },
  {
   "cell_type": "code",
   "execution_count": 30,
   "source": [
    "import time\n",
    "bla = time.time()\n",
    "time.sleep(1)\n",
    "time.time() - bla"
   ],
   "outputs": [
    {
     "output_type": "execute_result",
     "data": {
      "text/plain": [
       "1.0020711421966553"
      ]
     },
     "metadata": {},
     "execution_count": 30
    }
   ],
   "metadata": {}
  },
  {
   "cell_type": "code",
   "execution_count": 32,
   "source": [
    "\n",
    "\n",
    "chunksize = int(semiotic.corpus.train_len/semiotic.config.system.cpu_count)+1\n",
    "chains = [semiotic.corpus.train[i*chunksize:i*chunksize+chunksize] for i in range(semiotic.config.system.cpu_count)]\n",
    "\n",
    "# from multiprocessing import Manager\n",
    "\n",
    "# manager = Manager()\n",
    "\n",
    "\n",
    "def my_func(chains = chains):\n",
    "    with Parallel(n_jobs=semiotic.config.system.cpu_count, prefer=\"processes\") as parallel:\n",
    "        chains = [normalize(chain) for chain in chains]\n",
    "        # chains = manager.list(chains)\n",
    "        n_iter = 0\n",
    "        for i in trange(10):\n",
    "        # while n_iter<10:\n",
    "            result = parallel([delayed(count)(chain) for chain in chains])\n",
    "            pairs = reduce(operator.add, result)\n",
    "            best_pair = \"\".join(pairs.most_common(1)[0][0])\n",
    "            chains = parallel([delayed(agglutinate_chain)(best_pair,chain) for chain in chains])\n",
    "            # chains = [agglutinate_chain(best_pair, chain) for chain in chains]\n",
    "            # n_iter += 1\n",
    "        freqs = parallel([delayed(Counter)(chain) for chain in chains])\n",
    "        freq = reduce(operator.add, freqs)\n",
    "    return \"Done\""
   ],
   "outputs": [],
   "metadata": {}
  },
  {
   "cell_type": "code",
   "execution_count": 33,
   "source": [
    "%lprun -f my_func my_func()"
   ],
   "outputs": [
    {
     "output_type": "display_data",
     "data": {
      "text/plain": [
       "HBox(children=(FloatProgress(value=0.0, max=10.0), HTML(value='')))"
      ],
      "application/vnd.jupyter.widget-view+json": {
       "version_major": 2,
       "version_minor": 0,
       "model_id": "0cf90c9296394cf39b394544202e28a9"
      }
     },
     "metadata": {}
    },
    {
     "output_type": "stream",
     "name": "stdout",
     "text": [
      "\n"
     ]
    },
    {
     "output_type": "stream",
     "name": "stdout",
     "text": [
      "Timer unit: 1e-06 s\n",
      "\n",
      "Total time: 33.4913 s\n",
      "File: <ipython-input-32-949c3d27e8d2>\n",
      "Function: my_func at line 9\n",
      "\n",
      "Line #      Hits         Time  Per Hit   % Time  Line Contents\n",
      "==============================================================\n",
      "     9                                           def my_func(chains = chains):\n",
      "    10         1        870.0    870.0      0.0      with Parallel(n_jobs=semiotic.config.system.cpu_count, prefer=\"processes\") as parallel:\n",
      "    11         1     353064.0 353064.0      1.1          chains = [normalize(chain) for chain in chains]\n",
      "    12                                                   # chains = manager.list(chains)\n",
      "    13         1          2.0      2.0      0.0          n_iter = 0\n",
      "    14        11      73128.0   6648.0      0.2          for i in trange(10):\n",
      "    15                                                   # while n_iter<10:\n",
      "    16        10   16079453.0 1607945.3     48.0              result = parallel([delayed(count)(chain) for chain in chains])\n",
      "    17        10     604748.0  60474.8      1.8              pairs = reduce(operator.add, result)\n",
      "    18        10       8877.0    887.7      0.0              best_pair = \"\".join(pairs.most_common(1)[0][0])\n",
      "    19        10   15084694.0 1508469.4     45.0              chains = parallel([delayed(agglutinate_chain)(best_pair,chain) for chain in chains])\n",
      "    20                                                       # chains = [agglutinate_chain(best_pair, chain) for chain in chains]\n",
      "    21                                                       # n_iter += 1\n",
      "    22         1    1281659.0 1281659.0      3.8          freqs = parallel([delayed(Counter)(chain) for chain in chains])\n",
      "    23         1       4803.0   4803.0      0.0          freq = reduce(operator.add, freqs)\n",
      "    24         1          5.0      5.0      0.0      return \"Done\""
     ]
    }
   ],
   "metadata": {}
  },
  {
   "cell_type": "code",
   "execution_count": 34,
   "source": [
    "\n",
    "chain = semiotic.corpus.train\n",
    "\n",
    "def my_seq(chain=chain):\n",
    "    chain = normalize(chain)\n",
    "    n_iter = 0\n",
    "    for i in trange(10):\n",
    "        pairs = count(chain)\n",
    "        best_pair = \"\".join(pairs.most_common(1)[0][0])\n",
    "        chain = agglutinate_chain(best_pair,chain)\n",
    "    freq_seq = Counter(chain)\n",
    "    return \"Done\""
   ],
   "outputs": [],
   "metadata": {}
  },
  {
   "cell_type": "code",
   "execution_count": 35,
   "source": [
    "%lprun -f my_seq my_seq()"
   ],
   "outputs": [
    {
     "output_type": "display_data",
     "data": {
      "text/plain": [
       "HBox(children=(FloatProgress(value=0.0, max=10.0), HTML(value='')))"
      ],
      "application/vnd.jupyter.widget-view+json": {
       "version_major": 2,
       "version_minor": 0,
       "model_id": "180b2a5018b94eb596aeb97bfeec8fc6"
      }
     },
     "metadata": {}
    },
    {
     "output_type": "stream",
     "name": "stdout",
     "text": [
      "\n"
     ]
    },
    {
     "output_type": "stream",
     "name": "stdout",
     "text": [
      "Timer unit: 1e-06 s\n",
      "\n",
      "Total time: 34.4098 s\n",
      "File: <ipython-input-34-7e810f7d9495>\n",
      "Function: my_seq at line 3\n",
      "\n",
      "Line #      Hits         Time  Per Hit   % Time  Line Contents\n",
      "==============================================================\n",
      "     3                                           def my_seq(chain=chain):\n",
      "     4         1     408943.0 408943.0      1.2      chain = normalize(chain)\n",
      "     5         1          1.0      1.0      0.0      n_iter = 0\n",
      "     6        11     308567.0  28051.5      0.9      for i in trange(10):\n",
      "     7        10   22352645.0 2235264.5     65.0          pairs = count(chain)\n",
      "     8        10      10141.0   1014.1      0.0          best_pair = \"\".join(pairs.most_common(1)[0][0])\n",
      "     9        10   10541100.0 1054110.0     30.6          chain = agglutinate_chain(best_pair,chain)\n",
      "    10         1     788428.0 788428.0      2.3      freq_seq = Counter(chain)\n",
      "    11         1          2.0      2.0      0.0      return \"Done\""
     ]
    }
   ],
   "metadata": {}
  },
  {
   "cell_type": "code",
   "execution_count": 9,
   "source": [
    "for l,r in list(zip(freq.most_common(),freq_seq.most_common())):\n",
    "    if l!=r:\n",
    "        print(l,r)"
   ],
   "outputs": [],
   "metadata": {}
  },
  {
   "cell_type": "code",
   "execution_count": 10,
   "source": [
    "n = 50\n",
    "list(zip(freq.most_common(n),freq_seq.most_common(n)))"
   ],
   "outputs": [
    {
     "output_type": "execute_result",
     "data": {
      "text/plain": [
       "[(('a', 441290), ('a', 441290)),\n",
       " (('t', 393100), ('t', 393100)),\n",
       " (('i', 368352), ('i', 368352)),\n",
       " (('e', 363301), ('e', 363301)),\n",
       " (('u', 360618), ('u', 360618)),\n",
       " (('r', 335156), ('r', 335156)),\n",
       " (('l', 300385), ('l', 300385)),\n",
       " (('o', 267331), ('o', 267331)),\n",
       " (('s', 263724), ('s', 263724)),\n",
       " (('c', 211612), ('c', 211612)),\n",
       " (('d', 181825), ('d', 181825)),\n",
       " (('n', 180368), ('n', 180368)),\n",
       " (('es', 176590), ('es', 176590)),\n",
       " (('p', 176275), ('p', 176275)),\n",
       " (('m', 173766), ('m', 173766)),\n",
       " (('é', 162941), ('é', 162941)),\n",
       " (('en', 122018), ('en', 122018)),\n",
       " (('on', 112878), ('on', 112878)),\n",
       " (('de', 103861), ('de', 103861)),\n",
       " ((',', 93686), (',', 93686)),\n",
       " (('an', 91953), ('an', 91953)),\n",
       " (('g', 80184), ('g', 80184)),\n",
       " (('v', 79655), ('v', 79655)),\n",
       " (('le', 76879), ('le', 76879)),\n",
       " (('re', 72665), ('re', 72665)),\n",
       " (('ti', 70646), ('ti', 70646)),\n",
       " (('h', 69910), ('h', 69910)),\n",
       " (('er', 65824), ('er', 65824)),\n",
       " (('f', 65681), ('f', 65681)),\n",
       " (('.', 64470), ('.', 64470)),\n",
       " (('is', 63108), ('is', 63108)),\n",
       " (('b', 57166), ('b', 57166)),\n",
       " ((\"'\", 53373), (\"'\", 53373)),\n",
       " (('q', 49720), ('q', 49720)),\n",
       " (('1', 42108), ('1', 42108)),\n",
       " (('L', 37012), ('L', 37012)),\n",
       " (('y', 29718), ('y', 29718)),\n",
       " (('x', 29487), ('x', 29487)),\n",
       " (('C', 29215), ('C', 29215)),\n",
       " (('à', 28230), ('à', 28230)),\n",
       " (('0', 28138), ('0', 28138)),\n",
       " (('-', 28062), ('-', 28062)),\n",
       " (('è', 26234), ('è', 26234)),\n",
       " (('9', 26155), ('9', 26155)),\n",
       " (('S', 24970), ('S', 24970)),\n",
       " (('A', 24693), ('A', 24693)),\n",
       " (('2', 22377), ('2', 22377)),\n",
       " (('(', 21532), ('(', 21532)),\n",
       " (('M', 21519), ('M', 21519)),\n",
       " ((')', 21431), (')', 21431))]"
      ]
     },
     "metadata": {},
     "execution_count": 10
    }
   ],
   "metadata": {}
  },
  {
   "cell_type": "code",
   "execution_count": 36,
   "source": [
    "def parallel_chain(chain, n_of_parts, overlap = 0):\n",
    "    \"\"\"\n",
    "    Breaks the chain in n chunks to compute best pair of terms. \"overlap\" gives the number of terms of overlap between chunks to alow to ensure that no pair of terms is lost due to the break.\n",
    "    \"\"\"\n",
    "    chunk_size = int(len(chain) / n_of_parts)+1            \n",
    "    for i in range(0, len(chain), chunk_size):\n",
    "        yield chain[i : i + chunk_size + overlap]"
   ],
   "outputs": [],
   "metadata": {}
  },
  {
   "cell_type": "code",
   "execution_count": 38,
   "source": [
    "list(parallel_chain(list(\"azelazlkejalkzejakzle\"),4))"
   ],
   "outputs": [
    {
     "output_type": "execute_result",
     "data": {
      "text/plain": [
       "[['a', 'z', 'e', 'l', 'a', 'z'],\n",
       " ['l', 'k', 'e', 'j', 'a', 'l'],\n",
       " ['k', 'z', 'e', 'j', 'a', 'k'],\n",
       " ['z', 'l', 'e']]"
      ]
     },
     "metadata": {},
     "execution_count": 38
    }
   ],
   "metadata": {}
  },
  {
   "cell_type": "code",
   "execution_count": null,
   "source": [],
   "outputs": [],
   "metadata": {}
  }
 ],
 "metadata": {
  "orig_nbformat": 4,
  "language_info": {
   "name": "python",
   "version": "3.9.5",
   "mimetype": "text/x-python",
   "codemirror_mode": {
    "name": "ipython",
    "version": 3
   },
   "pygments_lexer": "ipython3",
   "nbconvert_exporter": "python",
   "file_extension": ".py"
  },
  "kernelspec": {
   "name": "python3",
   "display_name": "Python 3.9.5 64-bit"
  },
  "interpreter": {
   "hash": "ac2eaa0ea0ebeafcc7822e65e46aa9d4f966f30b695406963e145ea4a91cd4fc"
  }
 },
 "nbformat": 4,
 "nbformat_minor": 2
}