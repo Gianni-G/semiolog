{
    "cells": [
        {
            "cell_type": "code",
            "execution_count": 1,
            "source": [
                "from os import chdir\n",
                "chdir(\"./\")\n",
                "import semiolog as slg"
            ],
            "outputs": [
                {
                    "output_type": "error",
                    "ename": "ModuleNotFoundError",
                    "evalue": "No module named 'semiolog'",
                    "traceback": [
                        "\u001b[0;31m---------------------------------------------------------------------------\u001b[0m",
                        "\u001b[0;31mModuleNotFoundError\u001b[0m                       Traceback (most recent call last)",
                        "\u001b[0;32m<ipython-input-1-aafca2678e8a>\u001b[0m in \u001b[0;36m<module>\u001b[0;34m\u001b[0m\n\u001b[0;32m----> 1\u001b[0;31m \u001b[0;32mimport\u001b[0m \u001b[0msemiolog\u001b[0m \u001b[0;32mas\u001b[0m \u001b[0mslg\u001b[0m\u001b[0;34m\u001b[0m\u001b[0;34m\u001b[0m\u001b[0m\n\u001b[0m",
                        "\u001b[0;31mModuleNotFoundError\u001b[0m: No module named 'semiolog'"
                    ]
                }
            ],
            "metadata": {}
        },
        {
            "cell_type": "code",
            "execution_count": 2,
            "source": [
                "semiotic = slg.Cenematic(\"en_wiki_seg\")"
            ],
            "outputs": [],
            "metadata": {}
        },
        {
            "cell_type": "code",
            "execution_count": 29,
            "source": [
                "n = 29\n",
                "print(semiotic.corpus.train[n])\n",
                "sent = semiotic(semiotic.corpus.train[n])"
            ],
            "outputs": [
                {
                    "output_type": "stream",
                    "name": "stdout",
                    "text": [
                        "The two candidate preferred vote was not counted between the Labor and Democrat candidates for Broadmeadows.\n"
                    ]
                }
            ],
            "metadata": {}
        },
        {
            "cell_type": "code",
            "execution_count": 30,
            "source": [
                "sent.tree.plot(sent.chain.nodes)"
            ],
            "outputs": [
                {
                    "output_type": "display_data",
                    "data": {
                        "text/plain": [
                            "interactive(children=(Output(),), _dom_classes=('widget-interact',))"
                        ],
                        "application/vnd.jupyter.widget-view+json": {
                            "version_major": 2,
                            "version_minor": 0,
                            "model_id": "80e25b55b7b048b7a33714f2d285e5f5"
                        }
                    },
                    "metadata": {}
                },
                {
                    "output_type": "execute_result",
                    "data": {
                        "text/plain": [
                            "<function semiolog.syntagmatic.tree.Tree.plot.<locals>.inter()>"
                        ]
                    },
                    "metadata": {},
                    "execution_count": 30
                }
            ],
            "metadata": {}
        },
        {
            "cell_type": "code",
            "execution_count": 31,
            "source": [
                "semiotic2 = slg.Cenematic(\"en_wiki_seg2\")\n",
                "\n",
                "sent2 = semiotic2(semiotic.corpus.train[n])"
            ],
            "outputs": [],
            "metadata": {}
        },
        {
            "cell_type": "code",
            "execution_count": 32,
            "source": [
                "sent2.parad_chain.df()"
            ],
            "outputs": [
                {
                    "output_type": "execute_result",
                    "data": {
                        "text/plain": [
                            "        the_0         two_1  candidate_2  preferred_3       vote_4   was_5  \\\n",
                            "0           †       liberal   candidates   preference         vote     was   \n",
                            "1         the         labor      parties    preferred    candidate     did   \n",
                            "2           ‡        labour       thirds    electoral       ticket    does   \n",
                            "3        this     socialist  preferences  preferences       result      is   \n",
                            "4        thus  conservative        seats      primary   preference    were   \n",
                            "5     another   independent      members       ballot         poll     has   \n",
                            "6           a         green      percent       runoff         seat     had   \n",
                            "7       these    republican      closest      casting     election     are   \n",
                            "8           ¹            no        votes   candidates         list   would   \n",
                            "9   therefore      unionist      nearest         each    coalition  should   \n",
                            "10        any      national        third         list     position    will   \n",
                            "11   although     coalition    candidate         bloc  preferences   share   \n",
                            "12          ³     preferred      largest     combined        share   could   \n",
                            "13         if       overall    positions         roll   electorate   votes   \n",
                            "14  indicates  proportional        party     electors   candidates           \n",
                            "15       note        greens         most     delegate        votes           \n",
                            "16       only     communist      highest    candidate       ballot           \n",
                            "17                           councillors       ticket                        \n",
                            "18                              electors                                     \n",
                            "19                               persons                                     \n",
                            "20                                                                           \n",
                            "21                                                                           \n",
                            "22                                                                           \n",
                            "23                                                                           \n",
                            "\n",
                            "            not_6    counted_7  between_8        the_9       labor_10  \\\n",
                            "0             not        split      among          the        liberal   \n",
                            "1          evenly       shared    amongst    incumbent           whig   \n",
                            "2         jointly      divided    against         both     republican   \n",
                            "3            then  distributed    between      liberal   conservative   \n",
                            "4         equally    contested       with   australian    republicans   \n",
                            "5            also      matched         on  independent       liberals   \n",
                            "6      separately      counted  alongside   opposition         labour   \n",
                            "7            only         held         as  progressive      socialist   \n",
                            "8        normally        equal       over          nsw         greens   \n",
                            "9       similarly     compared         by          two       unionist   \n",
                            "10        usually     disputed    towards       future  conservatives   \n",
                            "11        instead     switched        for    tasmanian    progressive   \n",
                            "12       directly     balanced       upon        labor    independent   \n",
                            "13      regularly       evenly      after       former          green   \n",
                            "14      generally         used      above    potential          labor   \n",
                            "15   subsequently         cast       onto  prospective    nationalist   \n",
                            "16         always    exchanged         in     combined           tory   \n",
                            "17  automatically    unanimous     behind        rival                  \n",
                            "18          often      decided       into    socialist                  \n",
                            "19      sometimes                    like     defeated                  \n",
                            "20       actually                  within                               \n",
                            "21           once                                                       \n",
                            "22         mainly                                                       \n",
                            "23     indirectly                                                       \n",
                            "\n",
                            "         and_11   democrat_12 candidates_13        for_14 broadmeadows_15  \n",
                            "0           and       liberal    candidates           for        election  \n",
                            "1            or        greens       parties            in           labor  \n",
                            "2       liberal      national     candidate          from           seats  \n",
                            "3            vs  conservative       tickets            at     preferences  \n",
                            "4        versus   nationalist         votes          bill          office  \n",
                            "5           new   independent   preferences           jim      parliament  \n",
                            "6     incumbent         labor      nominees       william       president  \n",
                            "7   progressive     socialist   councillors          john      candidates  \n",
                            "8           cum         green       members  representing           mayor  \n",
                            "9        social      unionist      electors          mike            safe  \n",
                            "10         with   progressive           mps            on       elections  \n",
                            "11            −       country          vote           and       selection  \n",
                            "12         plus  independents         lists          jack        victoria  \n",
                            "13            v     nationals      senators         after     councillors  \n",
                            "14          nor      liberals         seats           tom      reelection  \n",
                            "15                     labour      factions     following          senate  \n",
                            "16                      party                       harry        governor  \n",
                            "17                                                                         \n",
                            "18                                                                         \n",
                            "19                                                                         \n",
                            "20                                                                         \n",
                            "21                                                                         \n",
                            "22                                                                         \n",
                            "23                                                                         "
                        ],
                        "text/html": [
                            "<div>\n",
                            "<style scoped>\n",
                            "    .dataframe tbody tr th:only-of-type {\n",
                            "        vertical-align: middle;\n",
                            "    }\n",
                            "\n",
                            "    .dataframe tbody tr th {\n",
                            "        vertical-align: top;\n",
                            "    }\n",
                            "\n",
                            "    .dataframe thead th {\n",
                            "        text-align: right;\n",
                            "    }\n",
                            "</style>\n",
                            "<table border=\"1\" class=\"dataframe\">\n",
                            "  <thead>\n",
                            "    <tr style=\"text-align: right;\">\n",
                            "      <th></th>\n",
                            "      <th>the_0</th>\n",
                            "      <th>two_1</th>\n",
                            "      <th>candidate_2</th>\n",
                            "      <th>preferred_3</th>\n",
                            "      <th>vote_4</th>\n",
                            "      <th>was_5</th>\n",
                            "      <th>not_6</th>\n",
                            "      <th>counted_7</th>\n",
                            "      <th>between_8</th>\n",
                            "      <th>the_9</th>\n",
                            "      <th>labor_10</th>\n",
                            "      <th>and_11</th>\n",
                            "      <th>democrat_12</th>\n",
                            "      <th>candidates_13</th>\n",
                            "      <th>for_14</th>\n",
                            "      <th>broadmeadows_15</th>\n",
                            "    </tr>\n",
                            "  </thead>\n",
                            "  <tbody>\n",
                            "    <tr>\n",
                            "      <th>0</th>\n",
                            "      <td>†</td>\n",
                            "      <td>liberal</td>\n",
                            "      <td>candidates</td>\n",
                            "      <td>preference</td>\n",
                            "      <td>vote</td>\n",
                            "      <td>was</td>\n",
                            "      <td>not</td>\n",
                            "      <td>split</td>\n",
                            "      <td>among</td>\n",
                            "      <td>the</td>\n",
                            "      <td>liberal</td>\n",
                            "      <td>and</td>\n",
                            "      <td>liberal</td>\n",
                            "      <td>candidates</td>\n",
                            "      <td>for</td>\n",
                            "      <td>election</td>\n",
                            "    </tr>\n",
                            "    <tr>\n",
                            "      <th>1</th>\n",
                            "      <td>the</td>\n",
                            "      <td>labor</td>\n",
                            "      <td>parties</td>\n",
                            "      <td>preferred</td>\n",
                            "      <td>candidate</td>\n",
                            "      <td>did</td>\n",
                            "      <td>evenly</td>\n",
                            "      <td>shared</td>\n",
                            "      <td>amongst</td>\n",
                            "      <td>incumbent</td>\n",
                            "      <td>whig</td>\n",
                            "      <td>or</td>\n",
                            "      <td>greens</td>\n",
                            "      <td>parties</td>\n",
                            "      <td>in</td>\n",
                            "      <td>labor</td>\n",
                            "    </tr>\n",
                            "    <tr>\n",
                            "      <th>2</th>\n",
                            "      <td>‡</td>\n",
                            "      <td>labour</td>\n",
                            "      <td>thirds</td>\n",
                            "      <td>electoral</td>\n",
                            "      <td>ticket</td>\n",
                            "      <td>does</td>\n",
                            "      <td>jointly</td>\n",
                            "      <td>divided</td>\n",
                            "      <td>against</td>\n",
                            "      <td>both</td>\n",
                            "      <td>republican</td>\n",
                            "      <td>liberal</td>\n",
                            "      <td>national</td>\n",
                            "      <td>candidate</td>\n",
                            "      <td>from</td>\n",
                            "      <td>seats</td>\n",
                            "    </tr>\n",
                            "    <tr>\n",
                            "      <th>3</th>\n",
                            "      <td>this</td>\n",
                            "      <td>socialist</td>\n",
                            "      <td>preferences</td>\n",
                            "      <td>preferences</td>\n",
                            "      <td>result</td>\n",
                            "      <td>is</td>\n",
                            "      <td>then</td>\n",
                            "      <td>distributed</td>\n",
                            "      <td>between</td>\n",
                            "      <td>liberal</td>\n",
                            "      <td>conservative</td>\n",
                            "      <td>vs</td>\n",
                            "      <td>conservative</td>\n",
                            "      <td>tickets</td>\n",
                            "      <td>at</td>\n",
                            "      <td>preferences</td>\n",
                            "    </tr>\n",
                            "    <tr>\n",
                            "      <th>4</th>\n",
                            "      <td>thus</td>\n",
                            "      <td>conservative</td>\n",
                            "      <td>seats</td>\n",
                            "      <td>primary</td>\n",
                            "      <td>preference</td>\n",
                            "      <td>were</td>\n",
                            "      <td>equally</td>\n",
                            "      <td>contested</td>\n",
                            "      <td>with</td>\n",
                            "      <td>australian</td>\n",
                            "      <td>republicans</td>\n",
                            "      <td>versus</td>\n",
                            "      <td>nationalist</td>\n",
                            "      <td>votes</td>\n",
                            "      <td>bill</td>\n",
                            "      <td>office</td>\n",
                            "    </tr>\n",
                            "    <tr>\n",
                            "      <th>5</th>\n",
                            "      <td>another</td>\n",
                            "      <td>independent</td>\n",
                            "      <td>members</td>\n",
                            "      <td>ballot</td>\n",
                            "      <td>poll</td>\n",
                            "      <td>has</td>\n",
                            "      <td>also</td>\n",
                            "      <td>matched</td>\n",
                            "      <td>on</td>\n",
                            "      <td>independent</td>\n",
                            "      <td>liberals</td>\n",
                            "      <td>new</td>\n",
                            "      <td>independent</td>\n",
                            "      <td>preferences</td>\n",
                            "      <td>jim</td>\n",
                            "      <td>parliament</td>\n",
                            "    </tr>\n",
                            "    <tr>\n",
                            "      <th>6</th>\n",
                            "      <td>a</td>\n",
                            "      <td>green</td>\n",
                            "      <td>percent</td>\n",
                            "      <td>runoff</td>\n",
                            "      <td>seat</td>\n",
                            "      <td>had</td>\n",
                            "      <td>separately</td>\n",
                            "      <td>counted</td>\n",
                            "      <td>alongside</td>\n",
                            "      <td>opposition</td>\n",
                            "      <td>labour</td>\n",
                            "      <td>incumbent</td>\n",
                            "      <td>labor</td>\n",
                            "      <td>nominees</td>\n",
                            "      <td>william</td>\n",
                            "      <td>president</td>\n",
                            "    </tr>\n",
                            "    <tr>\n",
                            "      <th>7</th>\n",
                            "      <td>these</td>\n",
                            "      <td>republican</td>\n",
                            "      <td>closest</td>\n",
                            "      <td>casting</td>\n",
                            "      <td>election</td>\n",
                            "      <td>are</td>\n",
                            "      <td>only</td>\n",
                            "      <td>held</td>\n",
                            "      <td>as</td>\n",
                            "      <td>progressive</td>\n",
                            "      <td>socialist</td>\n",
                            "      <td>progressive</td>\n",
                            "      <td>socialist</td>\n",
                            "      <td>councillors</td>\n",
                            "      <td>john</td>\n",
                            "      <td>candidates</td>\n",
                            "    </tr>\n",
                            "    <tr>\n",
                            "      <th>8</th>\n",
                            "      <td>¹</td>\n",
                            "      <td>no</td>\n",
                            "      <td>votes</td>\n",
                            "      <td>candidates</td>\n",
                            "      <td>list</td>\n",
                            "      <td>would</td>\n",
                            "      <td>normally</td>\n",
                            "      <td>equal</td>\n",
                            "      <td>over</td>\n",
                            "      <td>nsw</td>\n",
                            "      <td>greens</td>\n",
                            "      <td>cum</td>\n",
                            "      <td>green</td>\n",
                            "      <td>members</td>\n",
                            "      <td>representing</td>\n",
                            "      <td>mayor</td>\n",
                            "    </tr>\n",
                            "    <tr>\n",
                            "      <th>9</th>\n",
                            "      <td>therefore</td>\n",
                            "      <td>unionist</td>\n",
                            "      <td>nearest</td>\n",
                            "      <td>each</td>\n",
                            "      <td>coalition</td>\n",
                            "      <td>should</td>\n",
                            "      <td>similarly</td>\n",
                            "      <td>compared</td>\n",
                            "      <td>by</td>\n",
                            "      <td>two</td>\n",
                            "      <td>unionist</td>\n",
                            "      <td>social</td>\n",
                            "      <td>unionist</td>\n",
                            "      <td>electors</td>\n",
                            "      <td>mike</td>\n",
                            "      <td>safe</td>\n",
                            "    </tr>\n",
                            "    <tr>\n",
                            "      <th>10</th>\n",
                            "      <td>any</td>\n",
                            "      <td>national</td>\n",
                            "      <td>third</td>\n",
                            "      <td>list</td>\n",
                            "      <td>position</td>\n",
                            "      <td>will</td>\n",
                            "      <td>usually</td>\n",
                            "      <td>disputed</td>\n",
                            "      <td>towards</td>\n",
                            "      <td>future</td>\n",
                            "      <td>conservatives</td>\n",
                            "      <td>with</td>\n",
                            "      <td>progressive</td>\n",
                            "      <td>mps</td>\n",
                            "      <td>on</td>\n",
                            "      <td>elections</td>\n",
                            "    </tr>\n",
                            "    <tr>\n",
                            "      <th>11</th>\n",
                            "      <td>although</td>\n",
                            "      <td>coalition</td>\n",
                            "      <td>candidate</td>\n",
                            "      <td>bloc</td>\n",
                            "      <td>preferences</td>\n",
                            "      <td>share</td>\n",
                            "      <td>instead</td>\n",
                            "      <td>switched</td>\n",
                            "      <td>for</td>\n",
                            "      <td>tasmanian</td>\n",
                            "      <td>progressive</td>\n",
                            "      <td>−</td>\n",
                            "      <td>country</td>\n",
                            "      <td>vote</td>\n",
                            "      <td>and</td>\n",
                            "      <td>selection</td>\n",
                            "    </tr>\n",
                            "    <tr>\n",
                            "      <th>12</th>\n",
                            "      <td>³</td>\n",
                            "      <td>preferred</td>\n",
                            "      <td>largest</td>\n",
                            "      <td>combined</td>\n",
                            "      <td>share</td>\n",
                            "      <td>could</td>\n",
                            "      <td>directly</td>\n",
                            "      <td>balanced</td>\n",
                            "      <td>upon</td>\n",
                            "      <td>labor</td>\n",
                            "      <td>independent</td>\n",
                            "      <td>plus</td>\n",
                            "      <td>independents</td>\n",
                            "      <td>lists</td>\n",
                            "      <td>jack</td>\n",
                            "      <td>victoria</td>\n",
                            "    </tr>\n",
                            "    <tr>\n",
                            "      <th>13</th>\n",
                            "      <td>if</td>\n",
                            "      <td>overall</td>\n",
                            "      <td>positions</td>\n",
                            "      <td>roll</td>\n",
                            "      <td>electorate</td>\n",
                            "      <td>votes</td>\n",
                            "      <td>regularly</td>\n",
                            "      <td>evenly</td>\n",
                            "      <td>after</td>\n",
                            "      <td>former</td>\n",
                            "      <td>green</td>\n",
                            "      <td>v</td>\n",
                            "      <td>nationals</td>\n",
                            "      <td>senators</td>\n",
                            "      <td>after</td>\n",
                            "      <td>councillors</td>\n",
                            "    </tr>\n",
                            "    <tr>\n",
                            "      <th>14</th>\n",
                            "      <td>indicates</td>\n",
                            "      <td>proportional</td>\n",
                            "      <td>party</td>\n",
                            "      <td>electors</td>\n",
                            "      <td>candidates</td>\n",
                            "      <td></td>\n",
                            "      <td>generally</td>\n",
                            "      <td>used</td>\n",
                            "      <td>above</td>\n",
                            "      <td>potential</td>\n",
                            "      <td>labor</td>\n",
                            "      <td>nor</td>\n",
                            "      <td>liberals</td>\n",
                            "      <td>seats</td>\n",
                            "      <td>tom</td>\n",
                            "      <td>reelection</td>\n",
                            "    </tr>\n",
                            "    <tr>\n",
                            "      <th>15</th>\n",
                            "      <td>note</td>\n",
                            "      <td>greens</td>\n",
                            "      <td>most</td>\n",
                            "      <td>delegate</td>\n",
                            "      <td>votes</td>\n",
                            "      <td></td>\n",
                            "      <td>subsequently</td>\n",
                            "      <td>cast</td>\n",
                            "      <td>onto</td>\n",
                            "      <td>prospective</td>\n",
                            "      <td>nationalist</td>\n",
                            "      <td></td>\n",
                            "      <td>labour</td>\n",
                            "      <td>factions</td>\n",
                            "      <td>following</td>\n",
                            "      <td>senate</td>\n",
                            "    </tr>\n",
                            "    <tr>\n",
                            "      <th>16</th>\n",
                            "      <td>only</td>\n",
                            "      <td>communist</td>\n",
                            "      <td>highest</td>\n",
                            "      <td>candidate</td>\n",
                            "      <td>ballot</td>\n",
                            "      <td></td>\n",
                            "      <td>always</td>\n",
                            "      <td>exchanged</td>\n",
                            "      <td>in</td>\n",
                            "      <td>combined</td>\n",
                            "      <td>tory</td>\n",
                            "      <td></td>\n",
                            "      <td>party</td>\n",
                            "      <td></td>\n",
                            "      <td>harry</td>\n",
                            "      <td>governor</td>\n",
                            "    </tr>\n",
                            "    <tr>\n",
                            "      <th>17</th>\n",
                            "      <td></td>\n",
                            "      <td></td>\n",
                            "      <td>councillors</td>\n",
                            "      <td>ticket</td>\n",
                            "      <td></td>\n",
                            "      <td></td>\n",
                            "      <td>automatically</td>\n",
                            "      <td>unanimous</td>\n",
                            "      <td>behind</td>\n",
                            "      <td>rival</td>\n",
                            "      <td></td>\n",
                            "      <td></td>\n",
                            "      <td></td>\n",
                            "      <td></td>\n",
                            "      <td></td>\n",
                            "      <td></td>\n",
                            "    </tr>\n",
                            "    <tr>\n",
                            "      <th>18</th>\n",
                            "      <td></td>\n",
                            "      <td></td>\n",
                            "      <td>electors</td>\n",
                            "      <td></td>\n",
                            "      <td></td>\n",
                            "      <td></td>\n",
                            "      <td>often</td>\n",
                            "      <td>decided</td>\n",
                            "      <td>into</td>\n",
                            "      <td>socialist</td>\n",
                            "      <td></td>\n",
                            "      <td></td>\n",
                            "      <td></td>\n",
                            "      <td></td>\n",
                            "      <td></td>\n",
                            "      <td></td>\n",
                            "    </tr>\n",
                            "    <tr>\n",
                            "      <th>19</th>\n",
                            "      <td></td>\n",
                            "      <td></td>\n",
                            "      <td>persons</td>\n",
                            "      <td></td>\n",
                            "      <td></td>\n",
                            "      <td></td>\n",
                            "      <td>sometimes</td>\n",
                            "      <td></td>\n",
                            "      <td>like</td>\n",
                            "      <td>defeated</td>\n",
                            "      <td></td>\n",
                            "      <td></td>\n",
                            "      <td></td>\n",
                            "      <td></td>\n",
                            "      <td></td>\n",
                            "      <td></td>\n",
                            "    </tr>\n",
                            "    <tr>\n",
                            "      <th>20</th>\n",
                            "      <td></td>\n",
                            "      <td></td>\n",
                            "      <td></td>\n",
                            "      <td></td>\n",
                            "      <td></td>\n",
                            "      <td></td>\n",
                            "      <td>actually</td>\n",
                            "      <td></td>\n",
                            "      <td>within</td>\n",
                            "      <td></td>\n",
                            "      <td></td>\n",
                            "      <td></td>\n",
                            "      <td></td>\n",
                            "      <td></td>\n",
                            "      <td></td>\n",
                            "      <td></td>\n",
                            "    </tr>\n",
                            "    <tr>\n",
                            "      <th>21</th>\n",
                            "      <td></td>\n",
                            "      <td></td>\n",
                            "      <td></td>\n",
                            "      <td></td>\n",
                            "      <td></td>\n",
                            "      <td></td>\n",
                            "      <td>once</td>\n",
                            "      <td></td>\n",
                            "      <td></td>\n",
                            "      <td></td>\n",
                            "      <td></td>\n",
                            "      <td></td>\n",
                            "      <td></td>\n",
                            "      <td></td>\n",
                            "      <td></td>\n",
                            "      <td></td>\n",
                            "    </tr>\n",
                            "    <tr>\n",
                            "      <th>22</th>\n",
                            "      <td></td>\n",
                            "      <td></td>\n",
                            "      <td></td>\n",
                            "      <td></td>\n",
                            "      <td></td>\n",
                            "      <td></td>\n",
                            "      <td>mainly</td>\n",
                            "      <td></td>\n",
                            "      <td></td>\n",
                            "      <td></td>\n",
                            "      <td></td>\n",
                            "      <td></td>\n",
                            "      <td></td>\n",
                            "      <td></td>\n",
                            "      <td></td>\n",
                            "      <td></td>\n",
                            "    </tr>\n",
                            "    <tr>\n",
                            "      <th>23</th>\n",
                            "      <td></td>\n",
                            "      <td></td>\n",
                            "      <td></td>\n",
                            "      <td></td>\n",
                            "      <td></td>\n",
                            "      <td></td>\n",
                            "      <td>indirectly</td>\n",
                            "      <td></td>\n",
                            "      <td></td>\n",
                            "      <td></td>\n",
                            "      <td></td>\n",
                            "      <td></td>\n",
                            "      <td></td>\n",
                            "      <td></td>\n",
                            "      <td></td>\n",
                            "      <td></td>\n",
                            "    </tr>\n",
                            "  </tbody>\n",
                            "</table>\n",
                            "</div>"
                        ]
                    },
                    "metadata": {},
                    "execution_count": 32
                }
            ],
            "metadata": {}
        },
        {
            "cell_type": "code",
            "execution_count": 33,
            "source": [
                "[p.productivity for p in sent2.parad_chain]"
            ],
            "outputs": [
                {
                    "output_type": "execute_result",
                    "data": {
                        "text/plain": [
                            "[None,\n",
                            " None,\n",
                            " None,\n",
                            " None,\n",
                            " None,\n",
                            " None,\n",
                            " None,\n",
                            " ['split',\n",
                            "  ('shar', 'ed'),\n",
                            "  ('divid', 'ed'),\n",
                            "  ('distribut', 'ed'),\n",
                            "  ('contest', 'ed'),\n",
                            "  ('match', 'ed'),\n",
                            "  ('count', 'ed'),\n",
                            "  ('hel', 'd'),\n",
                            "  'equal',\n",
                            "  ('compar', 'ed'),\n",
                            "  ('disput', 'ed'),\n",
                            "  ('switch', 'ed'),\n",
                            "  ('balanc', 'ed'),\n",
                            "  'evenly',\n",
                            "  ('us', 'ed'),\n",
                            "  'cast',\n",
                            "  ('exchang', 'ed'),\n",
                            "  'unanimous',\n",
                            "  ('decid', 'ed')],\n",
                            " None,\n",
                            " None,\n",
                            " None,\n",
                            " None,\n",
                            " None,\n",
                            " [('candidate', 's'),\n",
                            "  ('partie', 's'),\n",
                            "  'candidate',\n",
                            "  ('ticket', 's'),\n",
                            "  ('vote', 's'),\n",
                            "  ('preference', 's'),\n",
                            "  ('nominee', 's'),\n",
                            "  ('councillor', 's'),\n",
                            "  ('member', 's'),\n",
                            "  ('elector', 's'),\n",
                            "  ('mp', 's'),\n",
                            "  'vote',\n",
                            "  ('list', 's'),\n",
                            "  ('senator', 's'),\n",
                            "  ('seat', 's'),\n",
                            "  ('faction', 's')],\n",
                            " None,\n",
                            " None]"
                        ]
                    },
                    "metadata": {},
                    "execution_count": 33
                }
            ],
            "metadata": {}
        },
        {
            "cell_type": "code",
            "execution_count": 35,
            "source": [
                "sent2.type_chain.plot_scores(show_probs=False)"
            ],
            "outputs": [
                {
                    "output_type": "display_data",
                    "data": {
                        "application/vnd.plotly.v1+json": {
                            "config": {
                                "plotlyServerURL": "https://plot.ly"
                            },
                            "data": [
                                {
                                    "line": {
                                        "shape": "spline"
                                    },
                                    "mode": "lines+markers",
                                    "name": "Func. Scores",
                                    "type": "scatter",
                                    "x": [
                                        "the_0",
                                        "two_1",
                                        "candidate_2",
                                        "preferred_3",
                                        "vote_4",
                                        "was_5",
                                        "not_6",
                                        "counted_7",
                                        "between_8",
                                        "the_9",
                                        "labor_10",
                                        "and_11",
                                        "democrat_12",
                                        "candidates_13",
                                        "for_14",
                                        "broadmeadows_15"
                                    ],
                                    "y": [
                                        0.000049388688107592785,
                                        0.000005630583052842937,
                                        0.00000316472260070443,
                                        0.000002020130357593988,
                                        0.0000031509108143267068,
                                        0.00007995439503837433,
                                        0.000010123743044884796,
                                        0.0000018246177906038318,
                                        0.00005728703934586402,
                                        0.00001741916550605779,
                                        0.0000026872435547863724,
                                        0.0000657853583062997,
                                        0.0000036304151911091306,
                                        0.0000015117178709819408,
                                        0.00008887306075852283,
                                        0.000002013753256145268
                                    ]
                                }
                            ],
                            "layout": {
                                "template": {
                                    "data": {
                                        "bar": [
                                            {
                                                "error_x": {
                                                    "color": "#2a3f5f"
                                                },
                                                "error_y": {
                                                    "color": "#2a3f5f"
                                                },
                                                "marker": {
                                                    "line": {
                                                        "color": "#E5ECF6",
                                                        "width": 0.5
                                                    }
                                                },
                                                "type": "bar"
                                            }
                                        ],
                                        "barpolar": [
                                            {
                                                "marker": {
                                                    "line": {
                                                        "color": "#E5ECF6",
                                                        "width": 0.5
                                                    }
                                                },
                                                "type": "barpolar"
                                            }
                                        ],
                                        "carpet": [
                                            {
                                                "aaxis": {
                                                    "endlinecolor": "#2a3f5f",
                                                    "gridcolor": "white",
                                                    "linecolor": "white",
                                                    "minorgridcolor": "white",
                                                    "startlinecolor": "#2a3f5f"
                                                },
                                                "baxis": {
                                                    "endlinecolor": "#2a3f5f",
                                                    "gridcolor": "white",
                                                    "linecolor": "white",
                                                    "minorgridcolor": "white",
                                                    "startlinecolor": "#2a3f5f"
                                                },
                                                "type": "carpet"
                                            }
                                        ],
                                        "choropleth": [
                                            {
                                                "colorbar": {
                                                    "outlinewidth": 0,
                                                    "ticks": ""
                                                },
                                                "type": "choropleth"
                                            }
                                        ],
                                        "contour": [
                                            {
                                                "colorbar": {
                                                    "outlinewidth": 0,
                                                    "ticks": ""
                                                },
                                                "colorscale": [
                                                    [
                                                        0,
                                                        "#0d0887"
                                                    ],
                                                    [
                                                        0.1111111111111111,
                                                        "#46039f"
                                                    ],
                                                    [
                                                        0.2222222222222222,
                                                        "#7201a8"
                                                    ],
                                                    [
                                                        0.3333333333333333,
                                                        "#9c179e"
                                                    ],
                                                    [
                                                        0.4444444444444444,
                                                        "#bd3786"
                                                    ],
                                                    [
                                                        0.5555555555555556,
                                                        "#d8576b"
                                                    ],
                                                    [
                                                        0.6666666666666666,
                                                        "#ed7953"
                                                    ],
                                                    [
                                                        0.7777777777777778,
                                                        "#fb9f3a"
                                                    ],
                                                    [
                                                        0.8888888888888888,
                                                        "#fdca26"
                                                    ],
                                                    [
                                                        1,
                                                        "#f0f921"
                                                    ]
                                                ],
                                                "type": "contour"
                                            }
                                        ],
                                        "contourcarpet": [
                                            {
                                                "colorbar": {
                                                    "outlinewidth": 0,
                                                    "ticks": ""
                                                },
                                                "type": "contourcarpet"
                                            }
                                        ],
                                        "heatmap": [
                                            {
                                                "colorbar": {
                                                    "outlinewidth": 0,
                                                    "ticks": ""
                                                },
                                                "colorscale": [
                                                    [
                                                        0,
                                                        "#0d0887"
                                                    ],
                                                    [
                                                        0.1111111111111111,
                                                        "#46039f"
                                                    ],
                                                    [
                                                        0.2222222222222222,
                                                        "#7201a8"
                                                    ],
                                                    [
                                                        0.3333333333333333,
                                                        "#9c179e"
                                                    ],
                                                    [
                                                        0.4444444444444444,
                                                        "#bd3786"
                                                    ],
                                                    [
                                                        0.5555555555555556,
                                                        "#d8576b"
                                                    ],
                                                    [
                                                        0.6666666666666666,
                                                        "#ed7953"
                                                    ],
                                                    [
                                                        0.7777777777777778,
                                                        "#fb9f3a"
                                                    ],
                                                    [
                                                        0.8888888888888888,
                                                        "#fdca26"
                                                    ],
                                                    [
                                                        1,
                                                        "#f0f921"
                                                    ]
                                                ],
                                                "type": "heatmap"
                                            }
                                        ],
                                        "heatmapgl": [
                                            {
                                                "colorbar": {
                                                    "outlinewidth": 0,
                                                    "ticks": ""
                                                },
                                                "colorscale": [
                                                    [
                                                        0,
                                                        "#0d0887"
                                                    ],
                                                    [
                                                        0.1111111111111111,
                                                        "#46039f"
                                                    ],
                                                    [
                                                        0.2222222222222222,
                                                        "#7201a8"
                                                    ],
                                                    [
                                                        0.3333333333333333,
                                                        "#9c179e"
                                                    ],
                                                    [
                                                        0.4444444444444444,
                                                        "#bd3786"
                                                    ],
                                                    [
                                                        0.5555555555555556,
                                                        "#d8576b"
                                                    ],
                                                    [
                                                        0.6666666666666666,
                                                        "#ed7953"
                                                    ],
                                                    [
                                                        0.7777777777777778,
                                                        "#fb9f3a"
                                                    ],
                                                    [
                                                        0.8888888888888888,
                                                        "#fdca26"
                                                    ],
                                                    [
                                                        1,
                                                        "#f0f921"
                                                    ]
                                                ],
                                                "type": "heatmapgl"
                                            }
                                        ],
                                        "histogram": [
                                            {
                                                "marker": {
                                                    "colorbar": {
                                                        "outlinewidth": 0,
                                                        "ticks": ""
                                                    }
                                                },
                                                "type": "histogram"
                                            }
                                        ],
                                        "histogram2d": [
                                            {
                                                "colorbar": {
                                                    "outlinewidth": 0,
                                                    "ticks": ""
                                                },
                                                "colorscale": [
                                                    [
                                                        0,
                                                        "#0d0887"
                                                    ],
                                                    [
                                                        0.1111111111111111,
                                                        "#46039f"
                                                    ],
                                                    [
                                                        0.2222222222222222,
                                                        "#7201a8"
                                                    ],
                                                    [
                                                        0.3333333333333333,
                                                        "#9c179e"
                                                    ],
                                                    [
                                                        0.4444444444444444,
                                                        "#bd3786"
                                                    ],
                                                    [
                                                        0.5555555555555556,
                                                        "#d8576b"
                                                    ],
                                                    [
                                                        0.6666666666666666,
                                                        "#ed7953"
                                                    ],
                                                    [
                                                        0.7777777777777778,
                                                        "#fb9f3a"
                                                    ],
                                                    [
                                                        0.8888888888888888,
                                                        "#fdca26"
                                                    ],
                                                    [
                                                        1,
                                                        "#f0f921"
                                                    ]
                                                ],
                                                "type": "histogram2d"
                                            }
                                        ],
                                        "histogram2dcontour": [
                                            {
                                                "colorbar": {
                                                    "outlinewidth": 0,
                                                    "ticks": ""
                                                },
                                                "colorscale": [
                                                    [
                                                        0,
                                                        "#0d0887"
                                                    ],
                                                    [
                                                        0.1111111111111111,
                                                        "#46039f"
                                                    ],
                                                    [
                                                        0.2222222222222222,
                                                        "#7201a8"
                                                    ],
                                                    [
                                                        0.3333333333333333,
                                                        "#9c179e"
                                                    ],
                                                    [
                                                        0.4444444444444444,
                                                        "#bd3786"
                                                    ],
                                                    [
                                                        0.5555555555555556,
                                                        "#d8576b"
                                                    ],
                                                    [
                                                        0.6666666666666666,
                                                        "#ed7953"
                                                    ],
                                                    [
                                                        0.7777777777777778,
                                                        "#fb9f3a"
                                                    ],
                                                    [
                                                        0.8888888888888888,
                                                        "#fdca26"
                                                    ],
                                                    [
                                                        1,
                                                        "#f0f921"
                                                    ]
                                                ],
                                                "type": "histogram2dcontour"
                                            }
                                        ],
                                        "mesh3d": [
                                            {
                                                "colorbar": {
                                                    "outlinewidth": 0,
                                                    "ticks": ""
                                                },
                                                "type": "mesh3d"
                                            }
                                        ],
                                        "parcoords": [
                                            {
                                                "line": {
                                                    "colorbar": {
                                                        "outlinewidth": 0,
                                                        "ticks": ""
                                                    }
                                                },
                                                "type": "parcoords"
                                            }
                                        ],
                                        "pie": [
                                            {
                                                "automargin": true,
                                                "type": "pie"
                                            }
                                        ],
                                        "scatter": [
                                            {
                                                "marker": {
                                                    "colorbar": {
                                                        "outlinewidth": 0,
                                                        "ticks": ""
                                                    }
                                                },
                                                "type": "scatter"
                                            }
                                        ],
                                        "scatter3d": [
                                            {
                                                "line": {
                                                    "colorbar": {
                                                        "outlinewidth": 0,
                                                        "ticks": ""
                                                    }
                                                },
                                                "marker": {
                                                    "colorbar": {
                                                        "outlinewidth": 0,
                                                        "ticks": ""
                                                    }
                                                },
                                                "type": "scatter3d"
                                            }
                                        ],
                                        "scattercarpet": [
                                            {
                                                "marker": {
                                                    "colorbar": {
                                                        "outlinewidth": 0,
                                                        "ticks": ""
                                                    }
                                                },
                                                "type": "scattercarpet"
                                            }
                                        ],
                                        "scattergeo": [
                                            {
                                                "marker": {
                                                    "colorbar": {
                                                        "outlinewidth": 0,
                                                        "ticks": ""
                                                    }
                                                },
                                                "type": "scattergeo"
                                            }
                                        ],
                                        "scattergl": [
                                            {
                                                "marker": {
                                                    "colorbar": {
                                                        "outlinewidth": 0,
                                                        "ticks": ""
                                                    }
                                                },
                                                "type": "scattergl"
                                            }
                                        ],
                                        "scattermapbox": [
                                            {
                                                "marker": {
                                                    "colorbar": {
                                                        "outlinewidth": 0,
                                                        "ticks": ""
                                                    }
                                                },
                                                "type": "scattermapbox"
                                            }
                                        ],
                                        "scatterpolar": [
                                            {
                                                "marker": {
                                                    "colorbar": {
                                                        "outlinewidth": 0,
                                                        "ticks": ""
                                                    }
                                                },
                                                "type": "scatterpolar"
                                            }
                                        ],
                                        "scatterpolargl": [
                                            {
                                                "marker": {
                                                    "colorbar": {
                                                        "outlinewidth": 0,
                                                        "ticks": ""
                                                    }
                                                },
                                                "type": "scatterpolargl"
                                            }
                                        ],
                                        "scatterternary": [
                                            {
                                                "marker": {
                                                    "colorbar": {
                                                        "outlinewidth": 0,
                                                        "ticks": ""
                                                    }
                                                },
                                                "type": "scatterternary"
                                            }
                                        ],
                                        "surface": [
                                            {
                                                "colorbar": {
                                                    "outlinewidth": 0,
                                                    "ticks": ""
                                                },
                                                "colorscale": [
                                                    [
                                                        0,
                                                        "#0d0887"
                                                    ],
                                                    [
                                                        0.1111111111111111,
                                                        "#46039f"
                                                    ],
                                                    [
                                                        0.2222222222222222,
                                                        "#7201a8"
                                                    ],
                                                    [
                                                        0.3333333333333333,
                                                        "#9c179e"
                                                    ],
                                                    [
                                                        0.4444444444444444,
                                                        "#bd3786"
                                                    ],
                                                    [
                                                        0.5555555555555556,
                                                        "#d8576b"
                                                    ],
                                                    [
                                                        0.6666666666666666,
                                                        "#ed7953"
                                                    ],
                                                    [
                                                        0.7777777777777778,
                                                        "#fb9f3a"
                                                    ],
                                                    [
                                                        0.8888888888888888,
                                                        "#fdca26"
                                                    ],
                                                    [
                                                        1,
                                                        "#f0f921"
                                                    ]
                                                ],
                                                "type": "surface"
                                            }
                                        ],
                                        "table": [
                                            {
                                                "cells": {
                                                    "fill": {
                                                        "color": "#EBF0F8"
                                                    },
                                                    "line": {
                                                        "color": "white"
                                                    }
                                                },
                                                "header": {
                                                    "fill": {
                                                        "color": "#C8D4E3"
                                                    },
                                                    "line": {
                                                        "color": "white"
                                                    }
                                                },
                                                "type": "table"
                                            }
                                        ]
                                    },
                                    "layout": {
                                        "annotationdefaults": {
                                            "arrowcolor": "#2a3f5f",
                                            "arrowhead": 0,
                                            "arrowwidth": 1
                                        },
                                        "autotypenumbers": "strict",
                                        "coloraxis": {
                                            "colorbar": {
                                                "outlinewidth": 0,
                                                "ticks": ""
                                            }
                                        },
                                        "colorscale": {
                                            "diverging": [
                                                [
                                                    0,
                                                    "#8e0152"
                                                ],
                                                [
                                                    0.1,
                                                    "#c51b7d"
                                                ],
                                                [
                                                    0.2,
                                                    "#de77ae"
                                                ],
                                                [
                                                    0.3,
                                                    "#f1b6da"
                                                ],
                                                [
                                                    0.4,
                                                    "#fde0ef"
                                                ],
                                                [
                                                    0.5,
                                                    "#f7f7f7"
                                                ],
                                                [
                                                    0.6,
                                                    "#e6f5d0"
                                                ],
                                                [
                                                    0.7,
                                                    "#b8e186"
                                                ],
                                                [
                                                    0.8,
                                                    "#7fbc41"
                                                ],
                                                [
                                                    0.9,
                                                    "#4d9221"
                                                ],
                                                [
                                                    1,
                                                    "#276419"
                                                ]
                                            ],
                                            "sequential": [
                                                [
                                                    0,
                                                    "#0d0887"
                                                ],
                                                [
                                                    0.1111111111111111,
                                                    "#46039f"
                                                ],
                                                [
                                                    0.2222222222222222,
                                                    "#7201a8"
                                                ],
                                                [
                                                    0.3333333333333333,
                                                    "#9c179e"
                                                ],
                                                [
                                                    0.4444444444444444,
                                                    "#bd3786"
                                                ],
                                                [
                                                    0.5555555555555556,
                                                    "#d8576b"
                                                ],
                                                [
                                                    0.6666666666666666,
                                                    "#ed7953"
                                                ],
                                                [
                                                    0.7777777777777778,
                                                    "#fb9f3a"
                                                ],
                                                [
                                                    0.8888888888888888,
                                                    "#fdca26"
                                                ],
                                                [
                                                    1,
                                                    "#f0f921"
                                                ]
                                            ],
                                            "sequentialminus": [
                                                [
                                                    0,
                                                    "#0d0887"
                                                ],
                                                [
                                                    0.1111111111111111,
                                                    "#46039f"
                                                ],
                                                [
                                                    0.2222222222222222,
                                                    "#7201a8"
                                                ],
                                                [
                                                    0.3333333333333333,
                                                    "#9c179e"
                                                ],
                                                [
                                                    0.4444444444444444,
                                                    "#bd3786"
                                                ],
                                                [
                                                    0.5555555555555556,
                                                    "#d8576b"
                                                ],
                                                [
                                                    0.6666666666666666,
                                                    "#ed7953"
                                                ],
                                                [
                                                    0.7777777777777778,
                                                    "#fb9f3a"
                                                ],
                                                [
                                                    0.8888888888888888,
                                                    "#fdca26"
                                                ],
                                                [
                                                    1,
                                                    "#f0f921"
                                                ]
                                            ]
                                        },
                                        "colorway": [
                                            "#636efa",
                                            "#EF553B",
                                            "#00cc96",
                                            "#ab63fa",
                                            "#FFA15A",
                                            "#19d3f3",
                                            "#FF6692",
                                            "#B6E880",
                                            "#FF97FF",
                                            "#FECB52"
                                        ],
                                        "font": {
                                            "color": "#2a3f5f"
                                        },
                                        "geo": {
                                            "bgcolor": "white",
                                            "lakecolor": "white",
                                            "landcolor": "#E5ECF6",
                                            "showlakes": true,
                                            "showland": true,
                                            "subunitcolor": "white"
                                        },
                                        "hoverlabel": {
                                            "align": "left"
                                        },
                                        "hovermode": "closest",
                                        "mapbox": {
                                            "style": "light"
                                        },
                                        "paper_bgcolor": "white",
                                        "plot_bgcolor": "#E5ECF6",
                                        "polar": {
                                            "angularaxis": {
                                                "gridcolor": "white",
                                                "linecolor": "white",
                                                "ticks": ""
                                            },
                                            "bgcolor": "#E5ECF6",
                                            "radialaxis": {
                                                "gridcolor": "white",
                                                "linecolor": "white",
                                                "ticks": ""
                                            }
                                        },
                                        "scene": {
                                            "xaxis": {
                                                "backgroundcolor": "#E5ECF6",
                                                "gridcolor": "white",
                                                "gridwidth": 2,
                                                "linecolor": "white",
                                                "showbackground": true,
                                                "ticks": "",
                                                "zerolinecolor": "white"
                                            },
                                            "yaxis": {
                                                "backgroundcolor": "#E5ECF6",
                                                "gridcolor": "white",
                                                "gridwidth": 2,
                                                "linecolor": "white",
                                                "showbackground": true,
                                                "ticks": "",
                                                "zerolinecolor": "white"
                                            },
                                            "zaxis": {
                                                "backgroundcolor": "#E5ECF6",
                                                "gridcolor": "white",
                                                "gridwidth": 2,
                                                "linecolor": "white",
                                                "showbackground": true,
                                                "ticks": "",
                                                "zerolinecolor": "white"
                                            }
                                        },
                                        "shapedefaults": {
                                            "line": {
                                                "color": "#2a3f5f"
                                            }
                                        },
                                        "ternary": {
                                            "aaxis": {
                                                "gridcolor": "white",
                                                "linecolor": "white",
                                                "ticks": ""
                                            },
                                            "baxis": {
                                                "gridcolor": "white",
                                                "linecolor": "white",
                                                "ticks": ""
                                            },
                                            "bgcolor": "#E5ECF6",
                                            "caxis": {
                                                "gridcolor": "white",
                                                "linecolor": "white",
                                                "ticks": ""
                                            }
                                        },
                                        "title": {
                                            "x": 0.05
                                        },
                                        "xaxis": {
                                            "automargin": true,
                                            "gridcolor": "white",
                                            "linecolor": "white",
                                            "ticks": "",
                                            "title": {
                                                "standoff": 15
                                            },
                                            "zerolinecolor": "white",
                                            "zerolinewidth": 2
                                        },
                                        "yaxis": {
                                            "automargin": true,
                                            "gridcolor": "white",
                                            "linecolor": "white",
                                            "ticks": "",
                                            "title": {
                                                "standoff": 15
                                            },
                                            "zerolinecolor": "white",
                                            "zerolinewidth": 2
                                        }
                                    }
                                },
                                "title": {
                                    "text": "the two candidate preferred vote was not counted between the labor and democrat candidates for broadmeadows"
                                },
                                "xaxis": {
                                    "title": {
                                        "text": "Paradigm"
                                    }
                                },
                                "yaxis": {
                                    "title": {
                                        "text": "Paradigm"
                                    }
                                }
                            }
                        }
                    },
                    "metadata": {}
                }
            ],
            "metadata": {}
        }
    ],
    "metadata": {
        "orig_nbformat": 4,
        "language_info": {
            "name": "python"
        }
    },
    "nbformat": 4,
    "nbformat_minor": 2
}