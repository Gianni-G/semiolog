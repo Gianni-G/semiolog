{
    "cells": [
        {
            "cell_type": "code",
            "execution_count": 1,
            "source": [
                "import os\n",
                "os.chdir(\"../\")\n",
                "\n",
                "import semiolog as slg"
            ],
            "outputs": [],
            "metadata": {}
        },
        {
            "cell_type": "code",
            "execution_count": 2,
            "source": [
                "semiotic = slg.Cenematic(\"fr_wiki\")"
            ],
            "outputs": [
                {
                    "output_type": "stream",
                    "name": "stdout",
                    "text": [
                        "Warning: models/fr_wiki/vocabulary/merges.txt does not exist.\n",
                        "Vocabulary will not be loaded from file.\n",
                        "\n"
                    ]
                }
            ],
            "metadata": {}
        },
        {
            "cell_type": "code",
            "execution_count": 3,
            "source": [
                "semiotic.vocab.build(vocab_size = 1650)"
            ],
            "outputs": [
                {
                    "output_type": "display_data",
                    "data": {
                        "text/plain": [
                            "HBox(children=(FloatProgress(value=0.0, description='Chain List & Alphabet:', max=252431.0, style=ProgressStyl…"
                        ],
                        "application/vnd.jupyter.widget-view+json": {
                            "version_major": 2,
                            "version_minor": 0,
                            "model_id": "60be501ae21a4a81a77754f7aa457253"
                        }
                    },
                    "metadata": {}
                },
                {
                    "output_type": "stream",
                    "name": "stdout",
                    "text": [
                        "\n"
                    ]
                },
                {
                    "output_type": "display_data",
                    "data": {
                        "text/plain": [
                            "HBox(children=(FloatProgress(value=0.0, max=28.0), HTML(value='')))"
                        ],
                        "application/vnd.jupyter.widget-view+json": {
                            "version_major": 2,
                            "version_minor": 0,
                            "model_id": "df273eb42e744e338048467a9db2d99a"
                        }
                    },
                    "metadata": {}
                },
                {
                    "output_type": "display_data",
                    "data": {
                        "text/plain": [
                            "HBox(children=(FloatProgress(value=0.0, description='Find Best Pair:', max=18245392.0, style=ProgressStyle(des…"
                        ],
                        "application/vnd.jupyter.widget-view+json": {
                            "version_major": 2,
                            "version_minor": 0,
                            "model_id": "2f5191ab4bdc42ff893374a4ed75ce51"
                        }
                    },
                    "metadata": {}
                },
                {
                    "output_type": "display_data",
                    "data": {
                        "text/plain": [
                            "HBox(children=(FloatProgress(value=0.0, description='Find Best Pair:', max=17773856.0, style=ProgressStyle(des…"
                        ],
                        "application/vnd.jupyter.widget-view+json": {
                            "version_major": 2,
                            "version_minor": 0,
                            "model_id": "a5aef0a95eea4818b899d02de13073f0"
                        }
                    },
                    "metadata": {}
                },
                {
                    "output_type": "display_data",
                    "data": {
                        "text/plain": [
                            "HBox(children=(FloatProgress(value=0.0, description='Find Best Pair:', max=17444221.0, style=ProgressStyle(des…"
                        ],
                        "application/vnd.jupyter.widget-view+json": {
                            "version_major": 2,
                            "version_minor": 0,
                            "model_id": "868dae2d6c844c44908e2f8ab1e73256"
                        }
                    },
                    "metadata": {}
                },
                {
                    "output_type": "display_data",
                    "data": {
                        "text/plain": [
                            "HBox(children=(FloatProgress(value=0.0, description='Find Best Pair:', max=17156081.0, style=ProgressStyle(des…"
                        ],
                        "application/vnd.jupyter.widget-view+json": {
                            "version_major": 2,
                            "version_minor": 0,
                            "model_id": "6c94505d5d8842279f0c6e2623ff6389"
                        }
                    },
                    "metadata": {}
                },
                {
                    "output_type": "display_data",
                    "data": {
                        "text/plain": [
                            "HBox(children=(FloatProgress(value=0.0, description='Find Best Pair:', max=16892384.0, style=ProgressStyle(des…"
                        ],
                        "application/vnd.jupyter.widget-view+json": {
                            "version_major": 2,
                            "version_minor": 0,
                            "model_id": "769934b71f0c4b08a4b22451eb3b2c8c"
                        }
                    },
                    "metadata": {}
                },
                {
                    "output_type": "display_data",
                    "data": {
                        "text/plain": [
                            "HBox(children=(FloatProgress(value=0.0, description='Find Best Pair:', max=16650241.0, style=ProgressStyle(des…"
                        ],
                        "application/vnd.jupyter.widget-view+json": {
                            "version_major": 2,
                            "version_minor": 0,
                            "model_id": "ac9158f171284732b38ae64873d5399a"
                        }
                    },
                    "metadata": {}
                },
                {
                    "output_type": "display_data",
                    "data": {
                        "text/plain": [
                            "HBox(children=(FloatProgress(value=0.0, description='Find Best Pair:', max=16431943.0, style=ProgressStyle(des…"
                        ],
                        "application/vnd.jupyter.widget-view+json": {
                            "version_major": 2,
                            "version_minor": 0,
                            "model_id": "3944f04895bb4df0959325b127d06ca0"
                        }
                    },
                    "metadata": {}
                },
                {
                    "output_type": "display_data",
                    "data": {
                        "text/plain": [
                            "HBox(children=(FloatProgress(value=0.0, description='Find Best Pair:', max=16230641.0, style=ProgressStyle(des…"
                        ],
                        "application/vnd.jupyter.widget-view+json": {
                            "version_major": 2,
                            "version_minor": 0,
                            "model_id": "972ee9349c0d4d4a9e6c6ca6e5aa5aa8"
                        }
                    },
                    "metadata": {}
                },
                {
                    "output_type": "display_data",
                    "data": {
                        "text/plain": [
                            "HBox(children=(FloatProgress(value=0.0, description='Find Best Pair:', max=16042873.0, style=ProgressStyle(des…"
                        ],
                        "application/vnd.jupyter.widget-view+json": {
                            "version_major": 2,
                            "version_minor": 0,
                            "model_id": "d2c626f899f64d219fa1de9871ff3b9d"
                        }
                    },
                    "metadata": {}
                },
                {
                    "output_type": "display_data",
                    "data": {
                        "text/plain": [
                            "HBox(children=(FloatProgress(value=0.0, description='Find Best Pair:', max=15858638.0, style=ProgressStyle(des…"
                        ],
                        "application/vnd.jupyter.widget-view+json": {
                            "version_major": 2,
                            "version_minor": 0,
                            "model_id": "6f2f87a194b44a02b4f1febc85563989"
                        }
                    },
                    "metadata": {}
                },
                {
                    "output_type": "display_data",
                    "data": {
                        "text/plain": [
                            "HBox(children=(FloatProgress(value=0.0, description='Find Best Pair:', max=15689841.0, style=ProgressStyle(des…"
                        ],
                        "application/vnd.jupyter.widget-view+json": {
                            "version_major": 2,
                            "version_minor": 0,
                            "model_id": "dc04b7d9fd264d1889b85a4c8b0efdc3"
                        }
                    },
                    "metadata": {}
                },
                {
                    "output_type": "display_data",
                    "data": {
                        "text/plain": [
                            "HBox(children=(FloatProgress(value=0.0, description='Find Best Pair:', max=15526951.0, style=ProgressStyle(des…"
                        ],
                        "application/vnd.jupyter.widget-view+json": {
                            "version_major": 2,
                            "version_minor": 0,
                            "model_id": "f7fee1c0743e4a1eb57cdea114d2f738"
                        }
                    },
                    "metadata": {}
                },
                {
                    "output_type": "display_data",
                    "data": {
                        "text/plain": [
                            "HBox(children=(FloatProgress(value=0.0, description='Find Best Pair:', max=15373174.0, style=ProgressStyle(des…"
                        ],
                        "application/vnd.jupyter.widget-view+json": {
                            "version_major": 2,
                            "version_minor": 0,
                            "model_id": "e47917dc5f30412ab81fd5b4ea49a62a"
                        }
                    },
                    "metadata": {}
                },
                {
                    "output_type": "display_data",
                    "data": {
                        "text/plain": [
                            "HBox(children=(FloatProgress(value=0.0, description='Find Best Pair:', max=15223443.0, style=ProgressStyle(des…"
                        ],
                        "application/vnd.jupyter.widget-view+json": {
                            "version_major": 2,
                            "version_minor": 0,
                            "model_id": "09874778fd6f4aa59b15103416d53b3d"
                        }
                    },
                    "metadata": {}
                },
                {
                    "output_type": "display_data",
                    "data": {
                        "text/plain": [
                            "HBox(children=(FloatProgress(value=0.0, description='Find Best Pair:', max=15076102.0, style=ProgressStyle(des…"
                        ],
                        "application/vnd.jupyter.widget-view+json": {
                            "version_major": 2,
                            "version_minor": 0,
                            "model_id": "0558c8b25b6742eb92c8d7d9d5a770f3"
                        }
                    },
                    "metadata": {}
                },
                {
                    "output_type": "display_data",
                    "data": {
                        "text/plain": [
                            "HBox(children=(FloatProgress(value=0.0, description='Find Best Pair:', max=14948303.0, style=ProgressStyle(des…"
                        ],
                        "application/vnd.jupyter.widget-view+json": {
                            "version_major": 2,
                            "version_minor": 0,
                            "model_id": "7ec1288b4efd42e8910420536751bd76"
                        }
                    },
                    "metadata": {}
                },
                {
                    "output_type": "display_data",
                    "data": {
                        "text/plain": [
                            "HBox(children=(FloatProgress(value=0.0, description='Find Best Pair:', max=14825066.0, style=ProgressStyle(des…"
                        ],
                        "application/vnd.jupyter.widget-view+json": {
                            "version_major": 2,
                            "version_minor": 0,
                            "model_id": "5969a7c9b249432eb5e820af7f055a92"
                        }
                    },
                    "metadata": {}
                },
                {
                    "output_type": "display_data",
                    "data": {
                        "text/plain": [
                            "HBox(children=(FloatProgress(value=0.0, description='Find Best Pair:', max=14712301.0, style=ProgressStyle(des…"
                        ],
                        "application/vnd.jupyter.widget-view+json": {
                            "version_major": 2,
                            "version_minor": 0,
                            "model_id": "be0fb5e2520c423586023e5feb5eb96c"
                        }
                    },
                    "metadata": {}
                },
                {
                    "output_type": "display_data",
                    "data": {
                        "text/plain": [
                            "HBox(children=(FloatProgress(value=0.0, description='Find Best Pair:', max=14602914.0, style=ProgressStyle(des…"
                        ],
                        "application/vnd.jupyter.widget-view+json": {
                            "version_major": 2,
                            "version_minor": 0,
                            "model_id": "57a71e6e97d44e1894bc75d24ccf0d30"
                        }
                    },
                    "metadata": {}
                },
                {
                    "output_type": "display_data",
                    "data": {
                        "text/plain": [
                            "HBox(children=(FloatProgress(value=0.0, description='Find Best Pair:', max=14495618.0, style=ProgressStyle(des…"
                        ],
                        "application/vnd.jupyter.widget-view+json": {
                            "version_major": 2,
                            "version_minor": 0,
                            "model_id": "a215d802fd674af9ab7c515e2ab2eca8"
                        }
                    },
                    "metadata": {}
                },
                {
                    "output_type": "display_data",
                    "data": {
                        "text/plain": [
                            "HBox(children=(FloatProgress(value=0.0, description='Find Best Pair:', max=14391380.0, style=ProgressStyle(des…"
                        ],
                        "application/vnd.jupyter.widget-view+json": {
                            "version_major": 2,
                            "version_minor": 0,
                            "model_id": "cef09f2deca54a7990bf8d461642a86f"
                        }
                    },
                    "metadata": {}
                },
                {
                    "output_type": "display_data",
                    "data": {
                        "text/plain": [
                            "HBox(children=(FloatProgress(value=0.0, description='Find Best Pair:', max=14289692.0, style=ProgressStyle(des…"
                        ],
                        "application/vnd.jupyter.widget-view+json": {
                            "version_major": 2,
                            "version_minor": 0,
                            "model_id": "718a9fd094264998a2c0cfcd93814bd1"
                        }
                    },
                    "metadata": {}
                },
                {
                    "output_type": "display_data",
                    "data": {
                        "text/plain": [
                            "HBox(children=(FloatProgress(value=0.0, description='Find Best Pair:', max=14196827.0, style=ProgressStyle(des…"
                        ],
                        "application/vnd.jupyter.widget-view+json": {
                            "version_major": 2,
                            "version_minor": 0,
                            "model_id": "b5ba63e44fc34e498bac8b0569e30c3b"
                        }
                    },
                    "metadata": {}
                },
                {
                    "output_type": "display_data",
                    "data": {
                        "text/plain": [
                            "HBox(children=(FloatProgress(value=0.0, description='Find Best Pair:', max=14106942.0, style=ProgressStyle(des…"
                        ],
                        "application/vnd.jupyter.widget-view+json": {
                            "version_major": 2,
                            "version_minor": 0,
                            "model_id": "7ee46c8758b249088fe55d43676c5711"
                        }
                    },
                    "metadata": {}
                },
                {
                    "output_type": "display_data",
                    "data": {
                        "text/plain": [
                            "HBox(children=(FloatProgress(value=0.0, description='Find Best Pair:', max=14018166.0, style=ProgressStyle(des…"
                        ],
                        "application/vnd.jupyter.widget-view+json": {
                            "version_major": 2,
                            "version_minor": 0,
                            "model_id": "e1bf31c89b3f48e3a1d20df5c0984895"
                        }
                    },
                    "metadata": {}
                },
                {
                    "output_type": "display_data",
                    "data": {
                        "text/plain": [
                            "HBox(children=(FloatProgress(value=0.0, description='Find Best Pair:', max=13933187.0, style=ProgressStyle(des…"
                        ],
                        "application/vnd.jupyter.widget-view+json": {
                            "version_major": 2,
                            "version_minor": 0,
                            "model_id": "ef12bfdb63f648279126f0d75140eabe"
                        }
                    },
                    "metadata": {}
                },
                {
                    "output_type": "display_data",
                    "data": {
                        "text/plain": [
                            "HBox(children=(FloatProgress(value=0.0, description='Find Best Pair:', max=13849322.0, style=ProgressStyle(des…"
                        ],
                        "application/vnd.jupyter.widget-view+json": {
                            "version_major": 2,
                            "version_minor": 0,
                            "model_id": "8b362254af3242f1a070d1ceb9be6fd4"
                        }
                    },
                    "metadata": {}
                },
                {
                    "output_type": "display_data",
                    "data": {
                        "text/plain": [
                            "HBox(children=(FloatProgress(value=0.0, description='Find Best Pair:', max=13765941.0, style=ProgressStyle(des…"
                        ],
                        "application/vnd.jupyter.widget-view+json": {
                            "version_major": 2,
                            "version_minor": 0,
                            "model_id": "7a0b3c1c52c44e61ac2861e0b2438ed0"
                        }
                    },
                    "metadata": {}
                },
                {
                    "output_type": "stream",
                    "name": "stdout",
                    "text": [
                        "\n"
                    ]
                },
                {
                    "output_type": "display_data",
                    "data": {
                        "text/plain": [
                            "HBox(children=(FloatProgress(value=0.0, description='Building Final Vocabulary', max=13688747.0, style=Progres…"
                        ],
                        "application/vnd.jupyter.widget-view+json": {
                            "version_major": 2,
                            "version_minor": 0,
                            "model_id": "d9862de8181448b1b19295022409fa04"
                        }
                    },
                    "metadata": {}
                },
                {
                    "output_type": "stream",
                    "name": "stdout",
                    "text": [
                        "\n",
                        "Vocabulary built\n"
                    ]
                }
            ],
            "metadata": {}
        },
        {
            "cell_type": "code",
            "execution_count": null,
            "source": [
                "semiotic.vocab.freq"
            ],
            "outputs": [],
            "metadata": {}
        },
        {
            "cell_type": "code",
            "execution_count": 25,
            "source": [
                "from collections import Counter\n",
                "from semiolog import util\n",
                "from functools import reduce\n",
                "import operator\n",
                "from tqdm.notebook import tqdm, trange\n",
                "import regex as re"
            ],
            "outputs": [],
            "metadata": {}
        },
        {
            "cell_type": "code",
            "execution_count": 33,
            "source": [
                "corpus = semiotic.corpus.train\n",
                "vocab_size = 1650\n",
                "\n",
                "def find_best_pair(\n",
                "    chain_spaced,\n",
                "    ):\n",
                "    \n",
                "    pre_units = chain_spaced.split()\n",
                "    pre_units_pairs = zip(pre_units, pre_units[1:])\n",
                "    \n",
                "    pairs = Counter(pre_units_pairs)\n",
                "    \n",
                "    return pairs.most_common()[0]\n",
                "\n",
                "def agglutinate_chain(pair, chain_list):\n",
                "    bigram = re.escape(\" \".join(pair))\n",
                "    p = re.compile(r\"(?<!\\S)\" + bigram + r\"(?!\\S)\")\n",
                "    chain_list = p.sub(\"\".join(pair), chain_list)\n",
                "    return chain_list\n",
                "\n",
                "normalizer = slg.syntagmatic.tokenizer.normalizers.Sequence(semiotic.vocab.config.normalizer)\n",
                "chain_list = []\n",
                "alphabet = Counter()\n",
                "for sent in tqdm(corpus, desc=\"Chain List & Alphabet:\"):\n",
                "    sent = normalizer.normalize(sent)\n",
                "    sent = list(sent)\n",
                "    if sent !=[]:\n",
                "        chain_list += sent\n",
                "        alphabet.update(Counter(sent))\n",
                "merges = []\n",
                "vocabulary = alphabet\n",
                "special_tokens_len = len(semiotic.vocab.config.special_tokens)\n",
                "voc_len = len(vocabulary) + special_tokens_len\n",
                "pair = None\n",
                "chain_list = \" \".join(chain_list)\n",
                "t = trange(vocab_size - voc_len)\n",
                "for i in t:\n",
                "    t.set_description(f\"Pair: {pair})\\n\")\n",
                "    t.refresh()\n",
                "    \n",
                "    pair = find_best_pair(\n",
                "        chain_list\n",
                "        )\n",
                "    \n",
                "    chain_list = agglutinate_chain(pair[0], chain_list)\n",
                "    \n",
                "    merges.append(\" \".join(pair[0]))\n",
                "    \n",
                "vocabulary = Counter()            \n",
                "for term in tqdm(chain_list,desc=\"Building Final Vocabulary\"):\n",
                "    vocabulary[term] += 1\n",
                "vocabulary = vocabulary.most_common()"
            ],
            "outputs": [
                {
                    "output_type": "display_data",
                    "data": {
                        "text/plain": [
                            "HBox(children=(FloatProgress(value=0.0, description='Chain List & Alphabet:', style=ProgressStyle(description_…"
                        ],
                        "application/vnd.jupyter.widget-view+json": {
                            "version_major": 2,
                            "version_minor": 0,
                            "model_id": "8909bdba2be147b88aa1399280d76d8c"
                        }
                    },
                    "metadata": {}
                },
                {
                    "output_type": "stream",
                    "name": "stdout",
                    "text": [
                        "\n"
                    ]
                },
                {
                    "output_type": "display_data",
                    "data": {
                        "text/plain": [
                            "HBox(children=(FloatProgress(value=0.0, max=28.0), HTML(value='')))"
                        ],
                        "application/vnd.jupyter.widget-view+json": {
                            "version_major": 2,
                            "version_minor": 0,
                            "model_id": "58455064ccf441fcb8ec8529c94c4c4c"
                        }
                    },
                    "metadata": {}
                },
                {
                    "output_type": "stream",
                    "name": "stdout",
                    "text": [
                        "\n"
                    ]
                },
                {
                    "output_type": "display_data",
                    "data": {
                        "text/plain": [
                            "HBox(children=(FloatProgress(value=0.0, description='Building Final Vocabulary', max=13319.0, style=ProgressSt…"
                        ],
                        "application/vnd.jupyter.widget-view+json": {
                            "version_major": 2,
                            "version_minor": 0,
                            "model_id": "2f6bf70935be40eda68fe0d774ca7aaf"
                        }
                    },
                    "metadata": {}
                },
                {
                    "output_type": "stream",
                    "name": "stdout",
                    "text": [
                        "\n"
                    ]
                }
            ],
            "metadata": {}
        },
        {
            "cell_type": "code",
            "execution_count": 34,
            "source": [
                "merges"
            ],
            "outputs": [
                {
                    "output_type": "execute_result",
                    "data": {
                        "text/plain": [
                            "['e s',\n",
                            " 'o n',\n",
                            " 'e n',\n",
                            " 'd e',\n",
                            " 'l e',\n",
                            " 't i',\n",
                            " 'l a',\n",
                            " 'e r',\n",
                            " 'a n',\n",
                            " 'u r',\n",
                            " 'a r',\n",
                            " 'e t',\n",
                            " 'q u',\n",
                            " 'r e',\n",
                            " 'i n',\n",
                            " 'o r',\n",
                            " 't e',\n",
                            " 'i s',\n",
                            " 'd es',\n",
                            " 'o u',\n",
                            " 'l es',\n",
                            " 'ti on',\n",
                            " 'c h',\n",
                            " 'i t',\n",
                            " 'a l',\n",
                            " 'n e',\n",
                            " 'd u',\n",
                            " 'i l']"
                        ]
                    },
                    "metadata": {},
                    "execution_count": 34
                }
            ],
            "metadata": {}
        },
        {
            "cell_type": "code",
            "execution_count": 30,
            "source": [
                "semiotic.vocab.merges"
            ],
            "outputs": [
                {
                    "output_type": "execute_result",
                    "data": {
                        "text/plain": [
                            "['e s',\n",
                            " 'e n',\n",
                            " 'o n',\n",
                            " 'd e',\n",
                            " 'a n',\n",
                            " 'l e',\n",
                            " 'l a',\n",
                            " 'r e',\n",
                            " 't i',\n",
                            " 'e r',\n",
                            " 'i s',\n",
                            " 'i n',\n",
                            " 'u r',\n",
                            " 'a r',\n",
                            " 'q u',\n",
                            " 'e t',\n",
                            " 'en t',\n",
                            " 'i t',\n",
                            " 'u n',\n",
                            " 'l es',\n",
                            " 'o r',\n",
                            " 'o u',\n",
                            " 'a u',\n",
                            " 'd es',\n",
                            " 't e',\n",
                            " 'i l',\n",
                            " 'c h',\n",
                            " 'a l']"
                        ]
                    },
                    "metadata": {},
                    "execution_count": 30
                }
            ],
            "metadata": {}
        },
        {
            "cell_type": "code",
            "execution_count": null,
            "source": [],
            "outputs": [],
            "metadata": {}
        }
    ],
    "metadata": {
        "orig_nbformat": 4,
        "language_info": {
            "name": "python"
        }
    },
    "nbformat": 4,
    "nbformat_minor": 2
}