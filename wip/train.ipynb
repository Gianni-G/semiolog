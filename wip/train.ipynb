{
    "cells": [
        {
            "cell_type": "code",
            "execution_count": 23,
            "source": [
                "import os\n",
                "os.chdir(\"../\")\n",
                "\n",
                "from collections import Counter\n",
                "from tqdm.notebook import tqdm\n",
                "from semiolog import util\n",
                "from functools import reduce\n",
                "import operator\n",
                "from importlib import reload\n",
                "from datetime import datetime\n",
                "\n",
                "import temp\n",
                "import semiolog as slg"
            ],
            "outputs": [],
            "metadata": {}
        },
        {
            "cell_type": "code",
            "execution_count": 2,
            "source": [
                "semiotic = slg.Cenematic(\"fr_wiki\")"
            ],
            "outputs": [
                {
                    "output_type": "stream",
                    "name": "stdout",
                    "text": [
                        "Warning: models/fr_wiki/vocabulary/merges.txt does not exist.\n",
                        "Vocabulary will not be loaded from file.\n",
                        "\n"
                    ]
                }
            ],
            "metadata": {}
        },
        {
            "cell_type": "code",
            "execution_count": 28,
            "source": [
                "corpus = semiotic.corpus.train\n",
                "\n",
                "normalizer = slg.syntagmatic.tokenizer.normalizers.Sequence(semiotic.vocab.config.normalizer)\n",
                "\n",
                "chain_list = []\n",
                "\n",
                "alphabet = Counter()\n",
                "\n",
                "for sent in tqdm(corpus, desc=\"Chain List & Alphabet:\"):\n",
                "    sent = normalizer.normalize(sent)\n",
                "    sent = list(sent)\n",
                "    if sent !=[]:\n",
                "        chain_list += sent\n",
                "        alphabet.update(Counter(sent))"
            ],
            "outputs": [
                {
                    "output_type": "display_data",
                    "data": {
                        "text/plain": [
                            "HBox(children=(FloatProgress(value=0.0, description='Chain List & Alphabet:', max=252431.0, style=ProgressStyl…"
                        ],
                        "application/vnd.jupyter.widget-view+json": {
                            "version_major": 2,
                            "version_minor": 0,
                            "model_id": "e57b723773654eb49d97d78eca1932f1"
                        }
                    },
                    "metadata": {}
                },
                {
                    "output_type": "stream",
                    "name": "stdout",
                    "text": [
                        "\n"
                    ]
                }
            ],
            "metadata": {}
        },
        {
            "cell_type": "code",
            "execution_count": 29,
            "source": [
                "reload(temp)"
            ],
            "outputs": [
                {
                    "output_type": "execute_result",
                    "data": {
                        "text/plain": [
                            "<module 'temp' from '/Users/Gianni/semiolog/wip/temp.py'>"
                        ]
                    },
                    "metadata": {},
                    "execution_count": 29
                }
            ],
            "metadata": {}
        },
        {
            "cell_type": "code",
            "execution_count": 30,
            "source": [
                "for i in range(5):\n",
                "    now = datetime.now()\n",
                "    result = util.multiprocessing(temp.find_best_pair, temp.parallel_chain(chain_list,4))\n",
                "\n",
                "    parallel = reduce(operator.add, result)\n",
                "        \n",
                "    parallel = parallel.most_common()\n",
                "    print(datetime.now() - now)"
            ],
            "outputs": [
                {
                    "output_type": "stream",
                    "name": "stdout",
                    "text": [
                        "0:00:02.837991\n",
                        "0:00:02.838272\n",
                        "0:00:03.141748\n",
                        "0:00:03.106652\n",
                        "0:00:02.933724\n"
                    ]
                }
            ],
            "metadata": {}
        },
        {
            "cell_type": "code",
            "execution_count": 25,
            "source": [
                "for i in range(5):\n",
                "    now = datetime.now()\n",
                "    \n",
                "    sequential = temp.find_best_pair(chain_list)\n",
                "    sequential = sequential.most_common()\n",
                "    \n",
                "    print(datetime.now() - now)"
            ],
            "outputs": [
                {
                    "output_type": "stream",
                    "name": "stdout",
                    "text": [
                        "0:00:05.527317\n",
                        "0:00:05.145561\n",
                        "0:00:05.272142\n",
                        "0:00:05.325645\n",
                        "0:00:05.272945\n"
                    ]
                }
            ],
            "metadata": {}
        },
        {
            "cell_type": "code",
            "execution_count": 19,
            "source": [
                " parallel == sequential"
            ],
            "outputs": [
                {
                    "output_type": "execute_result",
                    "data": {
                        "text/plain": [
                            "True"
                        ]
                    },
                    "metadata": {},
                    "execution_count": 19
                }
            ],
            "metadata": {}
        },
        {
            "cell_type": "code",
            "execution_count": 33,
            "source": [
                "semiotic.vocab.build(vocab_size = 1627)"
            ],
            "outputs": [
                {
                    "output_type": "display_data",
                    "data": {
                        "text/plain": [
                            "HBox(children=(FloatProgress(value=0.0, description='Chain List & Alphabet', max=252431.0, style=ProgressStyle…"
                        ],
                        "application/vnd.jupyter.widget-view+json": {
                            "version_major": 2,
                            "version_minor": 0,
                            "model_id": "40d3603e07314bed92d736b234d24abe"
                        }
                    },
                    "metadata": {}
                },
                {
                    "output_type": "stream",
                    "name": "stdout",
                    "text": [
                        "\n"
                    ]
                },
                {
                    "output_type": "display_data",
                    "data": {
                        "text/plain": [
                            "HBox(children=(FloatProgress(value=0.0, max=8.0), HTML(value='')))"
                        ],
                        "application/vnd.jupyter.widget-view+json": {
                            "version_major": 2,
                            "version_minor": 0,
                            "model_id": "2ce1bd08f1d6472e937cd47adc60e74c"
                        }
                    },
                    "metadata": {}
                },
                {
                    "output_type": "stream",
                    "name": "stdout",
                    "text": [
                        "\n"
                    ]
                },
                {
                    "output_type": "display_data",
                    "data": {
                        "text/plain": [
                            "HBox(children=(FloatProgress(value=0.0, description='Building Final Vocabulary', max=16042874.0, style=Progres…"
                        ],
                        "application/vnd.jupyter.widget-view+json": {
                            "version_major": 2,
                            "version_minor": 0,
                            "model_id": "de6d66383c0e43cdbf42d7c1f1f4b453"
                        }
                    },
                    "metadata": {}
                },
                {
                    "output_type": "stream",
                    "name": "stdout",
                    "text": [
                        "\n",
                        "Vocabulary built\n"
                    ]
                }
            ],
            "metadata": {}
        },
        {
            "cell_type": "code",
            "execution_count": null,
            "source": [
                "semiotic.vocab.build(vocab_size = 1627, parallel=True, parallel_mode=\"process\")"
            ],
            "outputs": [],
            "metadata": {}
        }
    ],
    "metadata": {
        "orig_nbformat": 4,
        "language_info": {
            "name": "python"
        }
    },
    "nbformat": 4,
    "nbformat_minor": 2
}