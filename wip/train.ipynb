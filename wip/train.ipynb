{
    "cells": [
        {
            "cell_type": "code",
            "execution_count": 1,
            "source": [
                "import os\n",
                "os.chdir(\"../\")\n",
                "\n",
                "import semiolog as slg"
            ],
            "outputs": [],
            "metadata": {}
        },
        {
            "cell_type": "code",
            "execution_count": 2,
            "source": [
                "semiotic = slg.Cenematic(\"fr_wiki\",requested_cpu=4)"
            ],
            "outputs": [
                {
                    "output_type": "stream",
                    "name": "stdout",
                    "text": [
                        "Warning: models/fr_wiki/vocabulary/merges.txt does not exist.\n",
                        "Vocabulary will not be loaded from file.\n",
                        "\n"
                    ]
                }
            ],
            "metadata": {}
        },
        {
            "cell_type": "code",
            "execution_count": 3,
            "source": [
                "semiotic.vocab.build_new(vocab_size = -10, parallel=True)"
            ],
            "outputs": [
                {
                    "output_type": "stream",
                    "name": "stdout",
                    "text": [
                        "Normalize & Alphabet in parallel...\n",
                        "Normalize & Alphabet computed in 0:00:06.766120\n",
                        "Computing matrix values in parallel...\n",
                        "Matrix values computed in 0:00:03.959623\n",
                        "Alphabet Size: 493\n"
                    ]
                },
                {
                    "output_type": "display_data",
                    "data": {
                        "text/plain": [
                            "HBox(children=(FloatProgress(value=0.0, max=10.0), HTML(value='')))"
                        ],
                        "application/vnd.jupyter.widget-view+json": {
                            "version_major": 2,
                            "version_minor": 0,
                            "model_id": "6f63f769ea1c4cd9b96b09283abadcc9"
                        }
                    },
                    "metadata": {}
                },
                {
                    "output_type": "stream",
                    "name": "stderr",
                    "text": [
                        "/usr/local/lib/python3.9/site-packages/scipy/sparse/_index.py:82: SparseEfficiencyWarning: Changing the sparsity structure of a csr_matrix is expensive. lil_matrix is more efficient.\n",
                        "  self._set_intXint(row, col, x.flat[0])\n"
                    ]
                },
                {
                    "output_type": "stream",
                    "name": "stdout",
                    "text": [
                        "\n",
                        "\n",
                        "  _     ._   __/__   _ _  _  _ _/_   Recorded: 00:12:14  Samples:  2737\n",
                        " /_//_/// /_\\ / //_// / //_'/ //     Duration: 42.442    CPU time: 20.500\n",
                        "/   _/                      v3.4.2\n",
                        "\n",
                        "Program: /Users/Gianni/Library/Python/3.9/lib/python/site-packages/ipykernel_launcher.py --ip=127.0.0.1 --stdin=9003 --control=9001 --hb=9000 --Session.signature_scheme=\"hmac-sha256\" --Session.key=b\"38304734-a79c-407e-8b17-ac1dacfd2a0b\" --shell=9002 --transport=\"tcp\" --iopub=9004 --f=/var/folders/k4/tv2m69x552l9grwtcdhc0zxm0000gn/T/tmp-11706I441N7Uaa8UC.json\n",
                        "\n",
                        "\u001b[31m42.442\u001b[0m \u001b[48;5;24m\u001b[38;5;15mbuild_new\u001b[0m  \u001b[2msemiolog/vocabulary.py:142\u001b[0m\n",
                        "├─ \u001b[31m27.520\u001b[0m \u001b[48;5;24m\u001b[38;5;15mmultiprocessing\u001b[0m  \u001b[2msemiolog/util.py:59\u001b[0m\n",
                        "│  └─ \u001b[31m27.515\u001b[0m __call__\u001b[0m  \u001b[2mjoblib/parallel.py:958\u001b[0m\n",
                        "│        [27 frames hidden]  \u001b[2mjoblib, concurrent, threading, <built...\u001b[0m\n",
                        "│           \u001b[31m27.442\u001b[0m lock.acquire\u001b[0m  \u001b[2m<built-in>:0\u001b[0m\n",
                        "├─ \u001b[32m4.630\u001b[0m \u001b[48;5;24m\u001b[38;5;15mseparate_chain\u001b[0m  \u001b[2msemiolog/vocabulary.py:202\u001b[0m\n",
                        "│  ├─ \u001b[32m3.292\u001b[0m str.join\u001b[0m  \u001b[2m<built-in>:0\u001b[0m\n",
                        "│  │     [2 frames hidden]  \u001b[2m<built-in>\u001b[0m\n",
                        "│  └─ \u001b[92m\u001b[2m1.339\u001b[0m [self]\u001b[0m  \u001b[2m\u001b[0m\n",
                        "├─ \u001b[32m3.791\u001b[0m str.split\u001b[0m  \u001b[2m<built-in>:0\u001b[0m\n",
                        "│     [2 frames hidden]  \u001b[2m<built-in>\u001b[0m\n",
                        "├─ \u001b[32m2.722\u001b[0m \u001b[48;5;24m\u001b[38;5;15magglutinate_chain\u001b[0m  \u001b[2msemiolog/vocabulary.py:218\u001b[0m\n",
                        "│  └─ \u001b[32m2.721\u001b[0m Pattern.sub\u001b[0m  \u001b[2m<built-in>:0\u001b[0m\n",
                        "│        [2 frames hidden]  \u001b[2m<built-in>\u001b[0m\n",
                        "├─ \u001b[32m2.279\u001b[0m [self]\u001b[0m  \u001b[2m\u001b[0m\n",
                        "└─ \u001b[92m\u001b[2m0.577\u001b[0m __setitem__\u001b[0m  \u001b[2mscipy/sparse/_index.py:75\u001b[0m\n",
                        "      [238 frames hidden]  \u001b[2mscipy, <built-in>, <__array_function_...\u001b[0m\n",
                        "\n",
                        "\n",
                        "Vocabulary built\n"
                    ]
                }
            ],
            "metadata": {}
        },
        {
            "cell_type": "code",
            "execution_count": 4,
            "source": [
                "semiotic.vocab.build_par(vocab_size = -10, parallel=True)"
            ],
            "outputs": [
                {
                    "output_type": "stream",
                    "name": "stdout",
                    "text": [
                        "Normalize & Alphabet in parallel...\n",
                        "Normalize & Alphabet computed in 0:00:02.461838\n",
                        "Computing matrix values in parallel...\n",
                        "Matrix values computed in 0:00:03.257000\n",
                        "Alphabet Size: 493\n"
                    ]
                },
                {
                    "output_type": "display_data",
                    "data": {
                        "text/plain": [
                            "HBox(children=(FloatProgress(value=0.0, max=10.0), HTML(value='')))"
                        ],
                        "application/vnd.jupyter.widget-view+json": {
                            "version_major": 2,
                            "version_minor": 0,
                            "model_id": "71c2da502a7042a4885d65708cd760f5"
                        }
                    },
                    "metadata": {}
                },
                {
                    "output_type": "stream",
                    "name": "stderr",
                    "text": [
                        "/usr/local/lib/python3.9/site-packages/scipy/sparse/_index.py:82: SparseEfficiencyWarning: Changing the sparsity structure of a csr_matrix is expensive. lil_matrix is more efficient.\n",
                        "  self._set_intXint(row, col, x.flat[0])\n"
                    ]
                },
                {
                    "output_type": "stream",
                    "name": "stdout",
                    "text": [
                        "\n",
                        "Vocabulary built\n"
                    ]
                }
            ],
            "metadata": {}
        },
        {
            "cell_type": "code",
            "execution_count": 5,
            "source": [
                "semiotic.vocab.build_par(vocab_size = -10, parallel=False)"
            ],
            "outputs": [
                {
                    "output_type": "display_data",
                    "data": {
                        "text/plain": [
                            "HBox(children=(FloatProgress(value=0.0, description='Normalize & Alphabet', max=252431.0, style=ProgressStyle(…"
                        ],
                        "application/vnd.jupyter.widget-view+json": {
                            "version_major": 2,
                            "version_minor": 0,
                            "model_id": "42e671ff513340dd9f7e2430e172961a"
                        }
                    },
                    "metadata": {}
                },
                {
                    "output_type": "stream",
                    "name": "stdout",
                    "text": [
                        "\n"
                    ]
                },
                {
                    "output_type": "display_data",
                    "data": {
                        "text/plain": [
                            "HBox(children=(FloatProgress(value=0.0, description='Finding Best Pair', max=18245392.0, style=ProgressStyle(d…"
                        ],
                        "application/vnd.jupyter.widget-view+json": {
                            "version_major": 2,
                            "version_minor": 0,
                            "model_id": "873be079486c4a98959ef471e45ee447"
                        }
                    },
                    "metadata": {}
                },
                {
                    "output_type": "stream",
                    "name": "stdout",
                    "text": [
                        "\n",
                        "Alphabet Size: 493\n"
                    ]
                },
                {
                    "output_type": "display_data",
                    "data": {
                        "text/plain": [
                            "HBox(children=(FloatProgress(value=0.0, max=10.0), HTML(value='')))"
                        ],
                        "application/vnd.jupyter.widget-view+json": {
                            "version_major": 2,
                            "version_minor": 0,
                            "model_id": "1f17cbd6a4d54695923bc4a0bbefa02a"
                        }
                    },
                    "metadata": {}
                },
                {
                    "output_type": "stream",
                    "name": "stderr",
                    "text": [
                        "/usr/local/lib/python3.9/site-packages/scipy/sparse/_index.py:82: SparseEfficiencyWarning: Changing the sparsity structure of a csr_matrix is expensive. lil_matrix is more efficient.\n",
                        "  self._set_intXint(row, col, x.flat[0])\n"
                    ]
                },
                {
                    "output_type": "stream",
                    "name": "stdout",
                    "text": [
                        "\n",
                        "Vocabulary built\n"
                    ]
                }
            ],
            "metadata": {}
        },
        {
            "cell_type": "code",
            "execution_count": null,
            "source": [],
            "outputs": [],
            "metadata": {}
        }
    ],
    "metadata": {
        "orig_nbformat": 4,
        "language_info": {
            "name": "python",
            "version": "3.9.5",
            "mimetype": "text/x-python",
            "codemirror_mode": {
                "name": "ipython",
                "version": 3
            },
            "pygments_lexer": "ipython3",
            "nbconvert_exporter": "python",
            "file_extension": ".py"
        },
        "kernelspec": {
            "name": "python3",
            "display_name": "Python 3.9.5 64-bit"
        },
        "interpreter": {
            "hash": "ac2eaa0ea0ebeafcc7822e65e46aa9d4f966f30b695406963e145ea4a91cd4fc"
        }
    },
    "nbformat": 4,
    "nbformat_minor": 2
}