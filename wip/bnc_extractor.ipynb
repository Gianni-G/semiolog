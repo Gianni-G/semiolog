{
 "cells": [
  {
   "cell_type": "code",
   "execution_count": 1,
   "metadata": {},
   "outputs": [],
   "source": [
    "import os\n",
    "os.chdir(\"../\")\n",
    "\n",
    "import nltk\n",
    "from collections import Counter\n",
    "from tqdm.notebook import tqdm\n",
    "from semiolog.util import save_file"
   ]
  },
  {
   "cell_type": "code",
   "execution_count": 2,
   "metadata": {},
   "outputs": [],
   "source": [
    "# bnc = nltk.corpus.reader.bnc.BNCCorpusReader(root='/Users/Gianni/Corpus/BNC/Original/Texts', fileids=r'[A-K]/\\w*/\\w*\\.xml', lazy=False)\n",
    "bnc = nltk.corpus.reader.bnc.BNCCorpusReader(root='/Users/Gianni/Corpus/BNC/Original/Texts', fileids=r'A/A0/\\w*\\.xml', lazy=False)"
   ]
  },
  {
   "cell_type": "code",
   "execution_count": 6,
   "metadata": {},
   "outputs": [
    {
     "data": {
      "application/vnd.jupyter.widget-view+json": {
       "model_id": "f1d32704d46a4de2893b8436b8ba332e",
       "version_major": 2,
       "version_minor": 0
      },
      "text/plain": [
       "  0%|          | 0/4049 [00:00<?, ?it/s]"
      ]
     },
     "metadata": {},
     "output_type": "display_data"
    }
   ],
   "source": [
    "n = 4\n",
    "\n",
    "tag_counts = Counter()\n",
    "word_counts = Counter()\n",
    "\n",
    "for fileid in tqdm(bnc.fileids()):\n",
    "    text = bnc.tagged_words(fileid)\n",
    "    for tup in zip(*[text[i:] for i in range(n)]): \n",
    "        words, tags = list(zip(*tup))\n",
    "        # words = tuple([w.lower() for w in words])\n",
    "        # word_counts[words] += 1\n",
    "        tag_counts[tags] += 1"
   ]
  },
  {
   "cell_type": "code",
   "execution_count": 7,
   "metadata": {},
   "outputs": [],
   "source": [
    "thres = 0\n",
    "tag_counts = {\" \".join(tup) : freq for tup, freq in tag_counts.most_common() if \" \" not in tup and freq>=thres}\n",
    "# word_counts = {\" \".join(tup) : freq for tup, freq in word_counts.most_common() if \" \" not in tup and freq>=thres}"
   ]
  },
  {
   "cell_type": "code",
   "execution_count": 8,
   "metadata": {},
   "outputs": [],
   "source": [
    "save_file(tag_counts,f\"wip/res_bnc/ng_t_{n}.json\")\n",
    "# save_file(word_counts,f\"wip/res_bnc/ng_w_{n}.json\")"
   ]
  },
  {
   "cell_type": "code",
   "execution_count": 2,
   "metadata": {},
   "outputs": [
    {
     "name": "stdout",
     "output_type": "stream",
     "text": [
      "2\n",
      "3\n"
     ]
    }
   ],
   "source": [
    "for n in range(2,4):\n",
    "    print(n)"
   ]
  }
 ],
 "metadata": {
  "interpreter": {
   "hash": "ac2eaa0ea0ebeafcc7822e65e46aa9d4f966f30b695406963e145ea4a91cd4fc"
  },
  "kernelspec": {
   "display_name": "Python 3.9.5 64-bit",
   "language": "python",
   "name": "python3"
  },
  "language_info": {
   "codemirror_mode": {
    "name": "ipython",
    "version": 3
   },
   "file_extension": ".py",
   "mimetype": "text/x-python",
   "name": "python",
   "nbconvert_exporter": "python",
   "pygments_lexer": "ipython3",
   "version": "3.9.10"
  },
  "orig_nbformat": 4
 },
 "nbformat": 4,
 "nbformat_minor": 2
}
