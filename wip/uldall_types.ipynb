{
    "cells": [
        {
            "cell_type": "code",
            "execution_count": 1,
            "metadata": {},
            "outputs": [],
            "source": [
                "import os\n",
                "os.chdir(\"../\")\n",
                "\n",
                "import random\n",
                "import ipywidgets as widgets\n",
                "import semiolog as slg\n",
                "\n",
                "with open(\"/Users/Gianni/semiolog/models/en_bnc_old_segments/classes/kmeans_ids.txt\", \"r\") as k_ids:\n",
                "    cluster_ids = [[int(id) for id in cluster.split()] for cluster in k_ids]\n",
                "\n",
                "with open(\"/Users/Gianni/semiolog/models/en_bnc_old_segments/classes/kmeans_corpus.txt\", \"r\") as k_corpus:\n",
                "    cluster_corpus = [[int(cl) for cl in cluster.split()] for cluster in k_corpus]\n",
                "\n",
                "with open(\"/Users/Gianni/semiolog/models/en_bnc_old_segments/classes/kmeans_values.txt\", \"r\") as k_values:\n",
                "    cluster_values = [[float(val) for val in cluster.split()] for cluster in k_values]"
            ]
        },
        {
            "cell_type": "code",
            "execution_count": 5,
            "metadata": {},
            "outputs": [
                {
                    "name": "stdout",
                    "output_type": "stream",
                    "text": [
                        "SLG [I]: Checking config correctness... Config correct!\n"
                    ]
                },
                {
                    "name": "stderr",
                    "output_type": "stream",
                    "text": [
                        "100%|██████████| 3/3 [00:00<00:00, 710.06it/s]"
                    ]
                },
                {
                    "name": "stdout",
                    "output_type": "stream",
                    "text": [
                        "SLG [I]: Dataset loaded from disk (TXT files)\n",
                        "SLG [I]: Vocabulary loaded from disk\n"
                    ]
                },
                {
                    "name": "stderr",
                    "output_type": "stream",
                    "text": [
                        "\n",
                        "All model checkpoint layers were used when initializing TFBertForMaskedLM.\n",
                        "\n",
                        "All the layers of TFBertForMaskedLM were initialized from the model checkpoint at models/en_bnc_old_segments/paradigms/tf_model.h5.\n",
                        "If your task is similar to the task the model of the checkpoint was trained on, you can already use TFBertForMaskedLM for predictions without further training.\n"
                    ]
                },
                {
                    "name": "stdout",
                    "output_type": "stream",
                    "text": [
                        "SLG [I]: Paradigmatizer loaded from disk\n",
                        "SLG [I]: Checking config correctness... Config correct!\n"
                    ]
                },
                {
                    "name": "stderr",
                    "output_type": "stream",
                    "text": [
                        "100%|██████████| 3/3 [00:00<00:00, 354.41it/s]"
                    ]
                },
                {
                    "name": "stdout",
                    "output_type": "stream",
                    "text": [
                        "SLG [I]: Dataset loaded from disk (TXT files)\n",
                        "SLG [I]: Vocabulary loaded from disk\n"
                    ]
                },
                {
                    "name": "stderr",
                    "output_type": "stream",
                    "text": [
                        "\n"
                    ]
                },
                {
                    "data": {
                        "application/vnd.jupyter.widget-view+json": {
                            "model_id": "31b7867348cb485eafeca8f4a439e5f8",
                            "version_major": 2,
                            "version_minor": 0
                        },
                        "text/plain": [
                            "  0%|          | 0/4 [00:00<?, ?it/s]"
                        ]
                    },
                    "metadata": {},
                    "output_type": "display_data"
                },
                {
                    "name": "stdout",
                    "output_type": "stream",
                    "text": [
                        "SLG [I]: nGrams loaded from disk (['2.json', '3.json', '4.json', '5.json'])\n"
                    ]
                },
                {
                    "name": "stderr",
                    "output_type": "stream",
                    "text": [
                        "All model checkpoint layers were used when initializing TFBertForMaskedLM.\n",
                        "\n",
                        "All the layers of TFBertForMaskedLM were initialized from the model checkpoint at models/en_bnc_test/paradigms/tf_model.h5.\n",
                        "If your task is similar to the task the model of the checkpoint was trained on, you can already use TFBertForMaskedLM for predictions without further training.\n"
                    ]
                },
                {
                    "name": "stdout",
                    "output_type": "stream",
                    "text": [
                        "SLG [I]: Paradigmatizer loaded from disk\n"
                    ]
                }
            ],
            "source": [
                "semiotic = slg.Cenematic(\"en_bnc_old_segments\")\n",
                "semiotic_seg = slg.Cenematic(\"en_bnc_test\")"
            ]
        },
        {
            "cell_type": "code",
            "execution_count": 8,
            "metadata": {},
            "outputs": [
                {
                    "name": "stdout",
                    "output_type": "stream",
                    "text": [
                        "I have made my plans and I must stick to them\n"
                    ]
                }
            ],
            "source": [
                "from random import randint\n",
                "n = randint(0,semiotic.corpus.train.num_rows)\n",
                "# n = 577894\n",
                "# n = 630149\n",
                "sent = semiotic.corpus.train[n][\"text\"]\n",
                "\n",
                "sent = semiotic_seg.corpus.train[n][\"text\"]\n",
                "sent = \"I have made my plans and I must stick to them\"\n",
                "# sent = \"The conference took place in a nice city\"\n",
                "print(sent)\n",
                "sent = \" \".join(semiotic_seg.syntagmatic.bert_tokenizer.tokenize(sent))"
            ]
        },
        {
            "cell_type": "code",
            "execution_count": 9,
            "metadata": {},
            "outputs": [
                {
                    "name": "stdout",
                    "output_type": "stream",
                    "text": [
                        "606206\n"
                    ]
                },
                {
                    "data": {
                        "application/vnd.jupyter.widget-view+json": {
                            "model_id": "e0b40bf8f3f947de930e263dafbd7b65",
                            "version_major": 2,
                            "version_minor": 0
                        },
                        "text/plain": [
                            "interactive(children=(Output(),), _dom_classes=('widget-interact',))"
                        ]
                    },
                    "metadata": {},
                    "output_type": "display_data"
                },
                {
                    "data": {
                        "text/plain": [
                            "<function semiolog.syntagmatic.tree.Tree.plot.<locals>.inter()>"
                        ]
                    },
                    "execution_count": 9,
                    "metadata": {},
                    "output_type": "execute_result"
                }
            ],
            "source": [
                "sent_seq = semiotic(sent)\n",
                "print(n)\n",
                "sent_seq.tree.plot()"
            ]
        },
        {
            "cell_type": "code",
            "execution_count": 10,
            "metadata": {},
            "outputs": [
                {
                    "data": {
                        "text/plain": [
                            "[Functive(ihave,(0, 5)),\n",
                            " Functive(made,(6, 10)),\n",
                            " Functive(my,(11, 13)),\n",
                            " Functive(plans,(14, 19)),\n",
                            " Functive(and,(20, 23)),\n",
                            " Functive(i,(24, 25)),\n",
                            " Functive(must,(26, 30)),\n",
                            " Functive(stick,(31, 36)),\n",
                            " Functive(tothem,(37, 43))]"
                        ]
                    },
                    "execution_count": 10,
                    "metadata": {},
                    "output_type": "execute_result"
                }
            ],
            "source": [
                "sent_seq.chain.tokens"
            ]
        },
        {
            "cell_type": "code",
            "execution_count": 11,
            "metadata": {},
            "outputs": [
                {
                    "data": {
                        "text/html": [
                            "<div>\n",
                            "<style scoped>\n",
                            "    .dataframe tbody tr th:only-of-type {\n",
                            "        vertical-align: middle;\n",
                            "    }\n",
                            "\n",
                            "    .dataframe tbody tr th {\n",
                            "        vertical-align: top;\n",
                            "    }\n",
                            "\n",
                            "    .dataframe thead th {\n",
                            "        text-align: right;\n",
                            "    }\n",
                            "</style>\n",
                            "<table border=\"1\" class=\"dataframe\">\n",
                            "  <thead>\n",
                            "    <tr style=\"text-align: right;\">\n",
                            "      <th></th>\n",
                            "      <th>ihave_0</th>\n",
                            "      <th>made_1</th>\n",
                            "      <th>my_2</th>\n",
                            "      <th>plans_3</th>\n",
                            "      <th>and_4</th>\n",
                            "      <th>i_5</th>\n",
                            "      <th>must_6</th>\n",
                            "      <th>stick_7</th>\n",
                            "      <th>tothem_8</th>\n",
                            "    </tr>\n",
                            "  </thead>\n",
                            "  <tbody>\n",
                            "    <tr>\n",
                            "      <th>0</th>\n",
                            "      <td>ihavent</td>\n",
                            "      <td>nothingtodowith</td>\n",
                            "      <td>detailsofthe</td>\n",
                            "      <td>responsibility</td>\n",
                            "      <td>toensurethat</td>\n",
                            "      <td>thatthegovernment</td>\n",
                            "      <td>startedto</td>\n",
                            "      <td>speak</td>\n",
                            "      <td>assoonaspossible</td>\n",
                            "    </tr>\n",
                            "    <tr>\n",
                            "      <th>1</th>\n",
                            "      <td>ivenever</td>\n",
                            "      <td>changed</td>\n",
                            "      <td>someofthe</td>\n",
                            "      <td>responsibilities</td>\n",
                            "      <td>that</td>\n",
                            "      <td>localauthorities</td>\n",
                            "      <td>decidedto</td>\n",
                            "      <td>comeback</td>\n",
                            "      <td>atthesametime</td>\n",
                            "    </tr>\n",
                            "    <tr>\n",
                            "      <th>2</th>\n",
                            "      <td>theyhave</td>\n",
                            "      <td>alotof</td>\n",
                            "      <td>thefollowing</td>\n",
                            "      <td>recommendations</td>\n",
                            "      <td>eventhough</td>\n",
                            "      <td>thatthey</td>\n",
                            "      <td>continuedto</td>\n",
                            "      <td>listen</td>\n",
                            "      <td>onbehalfofthe</td>\n",
                            "    </tr>\n",
                            "    <tr>\n",
                            "      <th>3</th>\n",
                            "      <td>ihave</td>\n",
                            "      <td>forgotten</td>\n",
                            "      <td>attentiontothe</td>\n",
                            "      <td>information</td>\n",
                            "      <td>otherwise</td>\n",
                            "      <td>thecountycouncil</td>\n",
                            "      <td>beganto</td>\n",
                            "      <td>respond</td>\n",
                            "      <td>together</td>\n",
                            "    </tr>\n",
                            "    <tr>\n",
                            "      <th>4</th>\n",
                            "      <td>iwouldhave</td>\n",
                            "      <td>responsibilityfor</td>\n",
                            "      <td>thenecessary</td>\n",
                            "      <td>advice</td>\n",
                            "      <td>because</td>\n",
                            "      <td>thesecretaryofstate</td>\n",
                            "      <td>willnot</td>\n",
                            "      <td>talk</td>\n",
                            "      <td>formanyyears</td>\n",
                            "    </tr>\n",
                            "    <tr>\n",
                            "      <th>5</th>\n",
                            "      <td>thesecretaryofstate</td>\n",
                            "      <td>verylittle</td>\n",
                            "      <td>anumberof</td>\n",
                            "      <td>comments</td>\n",
                            "      <td>aboutwhat</td>\n",
                            "      <td>thegovernment</td>\n",
                            "      <td>difficultto</td>\n",
                            "      <td>contribute</td>\n",
                            "      <td>verymuch</td>\n",
                            "    </tr>\n",
                            "    <tr>\n",
                            "      <th>6</th>\n",
                            "      <td>thecountycouncil</td>\n",
                            "      <td>anumberof</td>\n",
                            "      <td>alotof</td>\n",
                            "      <td>questions</td>\n",
                            "      <td>forthefirsttime</td>\n",
                            "      <td>thecouncil</td>\n",
                            "      <td>intendedto</td>\n",
                            "      <td>goback</td>\n",
                            "      <td>forthefirsttime</td>\n",
                            "    </tr>\n",
                            "    <tr>\n",
                            "      <th>7</th>\n",
                            "      <td>sihave</td>\n",
                            "      <td>implicationsfor</td>\n",
                            "      <td>particular</td>\n",
                            "      <td>arrangements</td>\n",
                            "      <td>intheway</td>\n",
                            "      <td>theprimeminister</td>\n",
                            "      <td>managedto</td>\n",
                            "      <td>explain</td>\n",
                            "      <td>verylittle</td>\n",
                            "    </tr>\n",
                            "    <tr>\n",
                            "      <th>8</th>\n",
                            "      <td>inever</td>\n",
                            "      <td>todealwith</td>\n",
                            "      <td>knowledgeofthe</td>\n",
                            "      <td>conversation</td>\n",
                            "      <td>and</td>\n",
                            "      <td>themanager</td>\n",
                            "      <td>iwouldliketo</td>\n",
                            "      <td>write</td>\n",
                            "      <td>theproblem</td>\n",
                            "    </tr>\n",
                            "    <tr>\n",
                            "      <th>9</th>\n",
                            "      <td>therehavebeen</td>\n",
                            "      <td>tochange</td>\n",
                            "      <td>considerable</td>\n",
                            "      <td>impression</td>\n",
                            "      <td>but</td>\n",
                            "      <td>myrighthonfriend</td>\n",
                            "      <td>promisedto</td>\n",
                            "      <td>agree</td>\n",
                            "      <td>tothem</td>\n",
                            "    </tr>\n",
                            "    <tr>\n",
                            "      <th>10</th>\n",
                            "      <td>iwouldliketo</td>\n",
                            "      <td>toaccept</td>\n",
                            "      <td>accountofthe</td>\n",
                            "      <td>contribution</td>\n",
                            "      <td>tomakesure</td>\n",
                            "      <td>thepolice</td>\n",
                            "      <td>agreedto</td>\n",
                            "      <td>comeout</td>\n",
                            "      <td>forawhile</td>\n",
                            "    </tr>\n",
                            "    <tr>\n",
                            "      <th>11</th>\n",
                            "      <td>ihadnt</td>\n",
                            "      <td>inmind</td>\n",
                            "      <td>oneortwo</td>\n",
                            "      <td>confidence</td>\n",
                            "      <td>something</td>\n",
                            "      <td>theminister</td>\n",
                            "      <td>willbeableto</td>\n",
                            "      <td>complain</td>\n",
                            "      <td>withthem</td>\n",
                            "    </tr>\n",
                            "    <tr>\n",
                            "      <th>12</th>\n",
                            "      <td>myrighthonfriend</td>\n",
                            "      <td>accessto</td>\n",
                            "      <td>financial</td>\n",
                            "      <td>expectations</td>\n",
                            "      <td>awarethat</td>\n",
                            "      <td>somepeople</td>\n",
                            "      <td>didnot</td>\n",
                            "      <td>understand</td>\n",
                            "      <td>everything</td>\n",
                            "    </tr>\n",
                            "    <tr>\n",
                            "      <th>13</th>\n",
                            "      <td>wehave</td>\n",
                            "      <td>discussed</td>\n",
                            "      <td>acoupleof</td>\n",
                            "      <td>opinion</td>\n",
                            "      <td>although</td>\n",
                            "      <td>everyone</td>\n",
                            "      <td>willhaveto</td>\n",
                            "      <td>refer</td>\n",
                            "      <td>allthetime</td>\n",
                            "    </tr>\n",
                            "    <tr>\n",
                            "      <th>14</th>\n",
                            "      <td>theminister</td>\n",
                            "      <td>toconsider</td>\n",
                            "      <td>awiderangeof</td>\n",
                            "      <td>application</td>\n",
                            "      <td>idontknowwhat</td>\n",
                            "      <td>thatyou</td>\n",
                            "      <td>continueto</td>\n",
                            "      <td>attend</td>\n",
                            "      <td>information</td>\n",
                            "    </tr>\n",
                            "    <tr>\n",
                            "      <th>15</th>\n",
                            "      <td>theprimeminister</td>\n",
                            "      <td>alookat</td>\n",
                            "      <td>interestinthe</td>\n",
                            "      <td>decision</td>\n",
                            "      <td>butithink</td>\n",
                            "      <td>people</td>\n",
                            "      <td>refusedto</td>\n",
                            "      <td>report</td>\n",
                            "      <td>atthemoment</td>\n",
                            "    </tr>\n",
                            "    <tr>\n",
                            "      <th>16</th>\n",
                            "      <td>and</td>\n",
                            "      <td>and</td>\n",
                            "      <td>and</td>\n",
                            "      <td>and</td>\n",
                            "      <td>and</td>\n",
                            "      <td>and</td>\n",
                            "      <td>and</td>\n",
                            "      <td>and</td>\n",
                            "      <td>and</td>\n",
                            "    </tr>\n",
                            "    <tr>\n",
                            "      <th>17</th>\n",
                            "      <td>and</td>\n",
                            "      <td>and</td>\n",
                            "      <td>and</td>\n",
                            "      <td>and</td>\n",
                            "      <td>and</td>\n",
                            "      <td>and</td>\n",
                            "      <td>and</td>\n",
                            "      <td>and</td>\n",
                            "      <td>and</td>\n",
                            "    </tr>\n",
                            "    <tr>\n",
                            "      <th>18</th>\n",
                            "      <td>and</td>\n",
                            "      <td>and</td>\n",
                            "      <td>and</td>\n",
                            "      <td>and</td>\n",
                            "      <td>and</td>\n",
                            "      <td>and</td>\n",
                            "      <td>and</td>\n",
                            "      <td>and</td>\n",
                            "      <td>and</td>\n",
                            "    </tr>\n",
                            "    <tr>\n",
                            "      <th>19</th>\n",
                            "      <td>and</td>\n",
                            "      <td>and</td>\n",
                            "      <td>and</td>\n",
                            "      <td>and</td>\n",
                            "      <td>and</td>\n",
                            "      <td>and</td>\n",
                            "      <td>and</td>\n",
                            "      <td>and</td>\n",
                            "      <td>and</td>\n",
                            "    </tr>\n",
                            "  </tbody>\n",
                            "</table>\n",
                            "</div>"
                        ],
                        "text/plain": [
                            "                ihave_0             made_1            my_2           plans_3  \\\n",
                            "0               ihavent    nothingtodowith    detailsofthe    responsibility   \n",
                            "1              ivenever            changed       someofthe  responsibilities   \n",
                            "2              theyhave             alotof    thefollowing   recommendations   \n",
                            "3                 ihave          forgotten  attentiontothe       information   \n",
                            "4            iwouldhave  responsibilityfor    thenecessary            advice   \n",
                            "5   thesecretaryofstate         verylittle       anumberof          comments   \n",
                            "6      thecountycouncil          anumberof          alotof         questions   \n",
                            "7                sihave    implicationsfor      particular      arrangements   \n",
                            "8                inever         todealwith  knowledgeofthe      conversation   \n",
                            "9         therehavebeen           tochange    considerable        impression   \n",
                            "10         iwouldliketo           toaccept    accountofthe      contribution   \n",
                            "11               ihadnt             inmind        oneortwo        confidence   \n",
                            "12     myrighthonfriend           accessto       financial      expectations   \n",
                            "13               wehave          discussed       acoupleof           opinion   \n",
                            "14          theminister         toconsider    awiderangeof       application   \n",
                            "15     theprimeminister            alookat   interestinthe          decision   \n",
                            "16                  and                and             and               and   \n",
                            "17                  and                and             and               and   \n",
                            "18                  and                and             and               and   \n",
                            "19                  and                and             and               and   \n",
                            "\n",
                            "              and_4                  i_5        must_6     stick_7  \\\n",
                            "0      toensurethat    thatthegovernment     startedto       speak   \n",
                            "1              that     localauthorities     decidedto    comeback   \n",
                            "2        eventhough             thatthey   continuedto      listen   \n",
                            "3         otherwise     thecountycouncil       beganto     respond   \n",
                            "4           because  thesecretaryofstate       willnot        talk   \n",
                            "5         aboutwhat        thegovernment   difficultto  contribute   \n",
                            "6   forthefirsttime           thecouncil    intendedto      goback   \n",
                            "7          intheway     theprimeminister     managedto     explain   \n",
                            "8               and           themanager  iwouldliketo       write   \n",
                            "9               but     myrighthonfriend    promisedto       agree   \n",
                            "10       tomakesure            thepolice      agreedto     comeout   \n",
                            "11        something          theminister  willbeableto    complain   \n",
                            "12        awarethat           somepeople        didnot  understand   \n",
                            "13         although             everyone    willhaveto       refer   \n",
                            "14    idontknowwhat              thatyou    continueto      attend   \n",
                            "15        butithink               people     refusedto      report   \n",
                            "16              and                  and           and         and   \n",
                            "17              and                  and           and         and   \n",
                            "18              and                  and           and         and   \n",
                            "19              and                  and           and         and   \n",
                            "\n",
                            "            tothem_8  \n",
                            "0   assoonaspossible  \n",
                            "1      atthesametime  \n",
                            "2      onbehalfofthe  \n",
                            "3           together  \n",
                            "4       formanyyears  \n",
                            "5           verymuch  \n",
                            "6    forthefirsttime  \n",
                            "7         verylittle  \n",
                            "8         theproblem  \n",
                            "9             tothem  \n",
                            "10         forawhile  \n",
                            "11          withthem  \n",
                            "12        everything  \n",
                            "13        allthetime  \n",
                            "14       information  \n",
                            "15       atthemoment  \n",
                            "16               and  \n",
                            "17               and  \n",
                            "18               and  \n",
                            "19               and  "
                        ]
                    },
                    "execution_count": 11,
                    "metadata": {},
                    "output_type": "execute_result"
                }
            ],
            "source": [
                "sent_seq.parad_chain.df()"
            ]
        },
        {
            "cell_type": "code",
            "execution_count": 38,
            "metadata": {},
            "outputs": [
                {
                    "data": {
                        "application/vnd.jupyter.widget-view+json": {
                            "model_id": "7152b6f89571453ba07c8a95debbaa67",
                            "version_major": 2,
                            "version_minor": 0
                        },
                        "text/plain": [
                            "interactive(children=(IntSlider(value=0, description='window', max=25), Output()), _dom_classes=('widget-inter…"
                        ]
                    },
                    "metadata": {},
                    "output_type": "display_data"
                }
            ],
            "source": [
                "cluster_labels = [[semiotic.vocab.decode[id] for id in cluster[:30]] for cluster in cluster_ids]\n",
                "@widgets.interact(window=(0,len(cluster_labels)-15))\n",
                "def f(window=0):\n",
                "    return slg.util.df(cluster_labels[window:window+15],keys=[f\"Type\\u00A0{n}\" for n in range(window,window+15)])"
            ]
        },
        {
            "cell_type": "code",
            "execution_count": 13,
            "metadata": {},
            "outputs": [
                {
                    "name": "stdout",
                    "output_type": "stream",
                    "text": [
                        "[[23, 0, 20, 36, 28, 11, 3, 36, 3, 7, 31, 14, 12, 11, 11, 27, 0, 20, 27, 26, 2, 18, 0, 7], [5, 37, 4, 7, 1, 38, 31, 35, 8, 15, 7, 26, 2, 7, 4, 0, 20, 27, 7, 35, 7], [5, 11, 16, 16, 11, 7, 1, 26, 2, 11, 7, 16, 35, 27, 11, 11, 16, 11, 20, 20, 16, 0, 11, 11, 16, 11, 20, 20], [34, 10, 15, 7, 3, 7, 34, 0, 20, 15, 7, 18, 15, 20, 0, 20, 12, 7, 3, 7, 3, 7, 0, 20], [6, 6, 11, 20, 26, 27, 0, 27, 12, 26, 2, 7, 0, 12, 20, 9, 28, 24, 15, 17, 33, 36, 18, 11, 22, 9, 12, 33], [14, 28, 24, 6, 8, 0, 12, 33, 31, 4, 11, 9, 3, 30, 30, 31, 38, 15, 12, 33, 28, 24, 15, 7, 33], [15, 12, 7, 1, 21, 10, 36, 18, 22, 8, 15, 11, 16, 37, 39, 35, 36, 4, 22], [0, 20, 25, 21, 0, 20, 11, 20, 9, 15, 12, 12, 0, 20, 20, 16, 12, 31, 11, 16, 12, 7, 31, 0, 20, 7, 27, 12, 7], [19, 29, 29, 12, 37, 39, 17, 7, 1, 35, 8, 1, 21, 17, 13], [19, 5, 33, 25, 38, 34, 10, 11, 16, 11, 20, 36, 5, 5, 24, 12, 12, 22], [19, 13, 27, 26, 16, 17, 37, 25, 15, 3, 37, 27, 17, 17, 30, 22], [39, 35, 17, 17, 31, 31, 17, 13, 33, 38, 37, 14, 3, 17, 17, 13], [22, 30, 20, 30, 25, 15, 22, 27, 17, 37, 34, 22, 16, 15, 13, 39, 0, 20, 9, 20, 9, 22, 33, 1, 38, 35], [6, 24, 3, 7, 7, 3, 6, 0, 20, 14, 0, 20, 16, 24, 3, 12, 7, 28, 24, 14, 36, 15, 11, 20, 9], [11, 33, 24, 14, 18, 10, 33, 8, 14, 24, 36, 28, 21, 0, 15, 11, 16, 4, 11, 26, 33], [39, 13, 39, 32, 22, 16, 23, 24, 38, 8, 13, 27, 22, 1, 35, 39, 22, 27, 33], [8, 37, 1, 38, 26, 2, 32, 32, 8, 39, 38, 38, 32, 22, 12, 17, 33], [5, 0, 16, 37, 1, 38, 11, 2, 8, 39, 5, 37, 37, 1, 35, 31, 21, 31, 31, 15, 13, 34, 10], [14, 36, 21, 33, 23, 32, 8, 5, 37, 10, 15, 13, 39, 6], [6, 33, 7, 38, 26, 2, 6, 9, 8, 6, 0, 20, 16, 24, 36, 28, 38, 24, 0, 20, 27, 33, 3, 11, 9], [5, 20, 34, 10, 5, 13, 26, 2, 15, 13, 34, 10, 15, 7, 7, 4, 7, 7], [19, 23, 22, 2, 4, 5, 20, 31, 14, 15, 26, 9, 26, 33, 8, 6, 38, 24, 14, 1, 38, 32, 8, 6, 24, 15, 7], [3, 12, 12, 25, 36, 32, 0, 11, 11, 16, 16, 7, 27, 0, 20, 27, 10, 27, 11, 16, 4, 7, 27, 12, 12, 11, 9], [34, 23, 21, 15, 12, 22, 7, 7, 34, 38, 10, 18, 22, 7, 3, 7, 33, 1, 35], [5, 12, 22, 27, 11, 11, 20, 33, 1, 26, 2, 10, 15, 17, 33, 3, 11, 20, 9, 20, 9], [3, 22, 3, 22, 23, 29, 29, 12, 17, 37, 35, 36, 39, 11, 9], [23, 38, 10, 20, 34, 34, 23, 15, 33, 39, 15, 13, 23, 15, 33, 3, 33], [6, 15, 22, 17, 6, 11, 11, 20, 9, 5, 6, 9, 11, 9, 0, 11, 20, 11, 9, 20, 11, 11, 11, 9, 22, 6, 11, 30, 20, 30, 30, 30, 30], [6, 24, 3, 15, 11, 11, 9, 27, 31, 28, 26, 2, 11, 20, 20, 9, 19, 38, 26, 2, 15, 33, 4, 22], [34, 10, 37, 39, 5, 22, 28, 21, 4, 31, 21, 37, 39, 17, 37, 18, 17, 33], [14, 24, 14, 13, 31, 15, 33, 28, 24, 36, 34, 10, 5, 17, 17, 17, 33], [3, 29, 32, 13, 11, 22, 16, 25, 1, 30, 37, 29, 37, 30, 30, 30, 30, 30, 30, 30, 30, 30, 30, 30, 30, 30], [22, 1, 35, 3, 12, 7, 18, 11, 21, 3, 22, 33, 24, 6, 22, 9, 22, 22], [15, 37, 27, 22, 9, 3, 32, 33, 39, 22, 1, 24, 39, 22, 30, 30, 0, 32, 30, 30, 30], [0, 20, 27, 1, 7, 4, 30, 30, 20, 30, 12, 7, 7, 4, 7, 2, 25, 21, 14, 18, 15, 11, 16, 9], [15, 11, 20, 28, 24, 19, 14, 34, 10, 3, 10, 8, 22, 10, 15, 22, 39, 13], [5, 37, 1, 35, 39, 17, 27, 27, 37, 30, 30, 30, 30, 17, 37], [0, 20, 9, 9, 24, 15, 6, 34, 38, 10, 21, 14, 4, 6, 11, 20, 3, 15, 0, 20, 27, 11, 20], [12, 0, 20, 12, 7, 27, 0, 27, 7, 2, 15, 32, 12, 7, 3, 7, 18, 11, 7, 26, 27, 7, 36], [15, 32, 13, 25, 22, 25, 35, 38, 26, 22, 32, 17, 37], [23, 23, 19, 23, 24, 36, 36, 31, 5, 5, 5, 4, 7, 8, 23, 14, 4, 12], [19, 6, 6, 22, 2, 36, 14, 25, 34, 20, 16, 15, 11, 22, 4, 37, 8, 22, 20, 33, 24, 36, 36], [14, 38, 24, 15, 32, 12, 7, 8, 23, 35, 28, 35, 18, 32, 32, 14], [3, 32, 37, 25, 14, 27, 20, 11, 9, 31, 38, 22, 16, 39, 4, 37, 8, 5, 1, 24, 31, 5, 32, 37], [19, 23, 15, 13, 8, 6, 30, 30, 30, 22, 6, 26, 3, 33, 18, 22, 27, 17, 33, 33], [19, 19, 15, 14, 34, 11, 38, 10, 15, 13, 39, 6, 20, 27, 13, 39, 14], [21, 3, 12, 0, 0, 20, 0, 0, 11, 20, 7, 36, 18, 36, 21, 15, 7, 4, 14, 26, 2, 7, 28, 0, 20, 2, 14], [6, 10, 27, 6, 1, 21, 10, 20, 0, 20, 9, 28, 10, 3, 12, 36, 18, 14, 36], [34, 16, 14, 26, 2, 30, 29, 30, 29, 30, 29, 29, 29, 37, 39, 32, 11, 16, 26, 2, 17, 13], [23, 15, 17, 16, 23, 38, 24, 18, 32, 33, 31, 31, 36, 3, 22, 31, 31, 4, 5, 13], [15, 11, 33, 1, 26, 2, 11, 16, 3, 30, 18, 30, 30, 28, 24, 22, 30, 30, 30, 30, 18, 30, 30, 4, 30, 30, 30, 22, 18, 30, 30, 30], [19, 13, 34, 10, 5, 22, 37, 27, 14, 16, 39, 12, 37, 1, 32, 38, 26, 2], [29, 29, 29, 17, 30, 31, 31, 15, 22, 39, 30, 30, 37, 30, 24, 39, 11, 22, 27, 11, 20, 12, 27, 12, 7], [23, 32, 31, 26, 34, 10, 14, 39, 0, 20, 28, 25, 5, 5, 37, 39, 21, 32, 22, 22, 13], [19, 15, 17, 13, 22, 15, 22, 32, 37, 22, 34, 25, 14], [5, 32, 12, 22, 16, 29, 12, 22, 16, 37, 24, 0, 20, 11, 16, 27, 30, 30, 30, 30, 30, 30, 30, 30, 30, 30], [19, 23, 34, 13, 1, 13, 3, 13, 25, 26, 2, 33, 1, 26, 2, 15, 13], [15, 31, 32, 37, 19, 34, 10, 36, 34, 38, 10, 36, 36], [3, 22, 19, 15, 17, 37, 39, 22, 16, 13, 25, 21, 32, 2, 32, 13, 39, 32, 37], [23, 21, 36, 36, 8, 22, 10, 36, 3, 17, 34, 10, 6, 12, 9, 9]]\n"
                    ]
                }
            ],
            "source": [
                "print(cluster_corpus[:60])"
            ]
        },
        {
            "cell_type": "code",
            "execution_count": 46,
            "metadata": {},
            "outputs": [],
            "source": [
                "from collections import Counter\n",
                "\n",
                "def count_ngrams_list(corpus,n):\n",
                "    ngrams = Counter()\n",
                "    for sent in cluster_corpus:\n",
                "        for ng in zip(*[sent[i:] for i in range(n)]):\n",
                "            ngrams[ng]+=1\n",
                "    return ngrams\n",
                "\n",
                "max_n = 6\n",
                "Tngs = [count_ngrams_list(cluster_corpus,n) for n in range(2,max_n+1)]\n",
                "\n",
                "top_k = 20\n",
                "top_Tngs = [[k for k,v in Tng.most_common(top_k)] for Tng in Tngs]"
            ]
        },
        {
            "cell_type": "code",
            "execution_count": 47,
            "metadata": {},
            "outputs": [
                {
                    "data": {
                        "application/vnd.jupyter.widget-view+json": {
                            "model_id": "fd234da7d7e54972bce677d607c8d7ec",
                            "version_major": 2,
                            "version_minor": 0
                        },
                        "text/plain": [
                            "interactive(children=(Dropdown(description='T_ngram', options=(2, 3, 4, 5, 6), value=2), IntSlider(value=1, de…"
                        ]
                    },
                    "metadata": {},
                    "output_type": "display_data"
                }
            ],
            "source": [
                "@widgets.interact(T_ngram=list(range(2,max_n+1)),n_of_top_k=(1, top_k))\n",
                "def f(T_ngram=2,n_of_top_k=1):\n",
                "    top_ng = top_Tngs[T_ngram-2]\n",
                "\n",
                "    type_seq = top_ng[n_of_top_k-1]\n",
                "\n",
                "    sample = [\"|\".join(pair) for pair in zip(*[random.sample(cluster_labels[t],20) for t in type_seq])]\n",
                "\n",
                "    df = slg.util.df([cluster_labels[i][:20] for i in type_seq]+[sample],keys=[f\"Type {n}\" for n in type_seq]+[\"Sample\"])\n",
                "\n",
                "    return df"
            ]
        },
        {
            "cell_type": "code",
            "execution_count": 20,
            "metadata": {},
            "outputs": [],
            "source": [
                "from collections import defaultdict\n",
                "import string\n",
                "import itertools\n",
                "import numpy as np\n",
                "from tqdm.notebook import tqdm"
            ]
        },
        {
            "cell_type": "code",
            "execution_count": 25,
            "metadata": {},
            "outputs": [],
            "source": [
                "types = list(range(40))\n",
                "\n",
                "def norm_dict(ng_dict:dict):\n",
                "    val_array = np.array(list(ng_dict.values()))\n",
                "    thres = 5 #val_array.mean()\n",
                "    val_array = np.where(val_array>thres,1,0)\n",
                "    ng_dict_norm = {k:v for k,v in zip(ng_dict.keys(),val_array)}\n",
                "    return ng_dict_norm"
            ]
        },
        {
            "cell_type": "code",
            "execution_count": 22,
            "metadata": {},
            "outputs": [],
            "source": [
                "top_Tngs_dict = [dict(Tng.most_common()) for Tng in Tngs]"
            ]
        },
        {
            "cell_type": "code",
            "execution_count": 26,
            "metadata": {},
            "outputs": [],
            "source": [
                "ng_dicts = defaultdict(dict)\n",
                "\n",
                "for n in range(2,5):\n",
                "    ng_dict = dict(Tngs[n-2].most_common())\n",
                "    ng_dicts[n] = ng_dict\n"
            ]
        },
        {
            "cell_type": "code",
            "execution_count": 27,
            "metadata": {},
            "outputs": [],
            "source": [
                "ng2_norm = norm_dict(ng_dicts[2])\n",
                "pairs_index = [(i,j) for i in range(40) for j in range(40)]\n",
                "pairs_index = {element:i for i,element in enumerate(pairs_index) }"
            ]
        },
        {
            "cell_type": "code",
            "execution_count": 29,
            "metadata": {},
            "outputs": [
                {
                    "data": {
                        "application/vnd.jupyter.widget-view+json": {
                            "model_id": "5b3bbdfb9b5f499987e0272a8eb51e1b",
                            "version_major": 2,
                            "version_minor": 0
                        },
                        "text/plain": [
                            "  0%|          | 0/40 [00:00<?, ?it/s]"
                        ]
                    },
                    "metadata": {},
                    "output_type": "display_data"
                }
            ],
            "source": [
                "connective_data_full = []\n",
                "\n",
                "for c_l in tqdm(types):\n",
                "    for c_r in types:\n",
                "\n",
                "        LR = ng2_norm.get((c_l,c_r),0)\n",
                "\n",
                "        context_dict_1 = {k:v for k,v in ng_dicts[3].items() if k[0]==c_l and k[-1]==c_r}\n",
                "        context_dict_1 = norm_dict(context_dict_1)\n",
                "\n",
                "        context_dict_2 = {k:v for k,v in ng_dicts[4].items() if k[0]==c_l and k[-1]==c_r}\n",
                "        context_dict_2 = norm_dict(context_dict_2)\n",
                "\n",
                "        connectives_data = []\n",
                "\n",
                "        for l in types:\n",
                "            lR = context_dict_1.get((c_l,l,c_r),0)\n",
                "            for r in types:\n",
                "                Lr = context_dict_1.get((c_l,r,c_r),0)\n",
                "                lr = context_dict_2.get((c_l,l,r,c_r),0)\n",
                "                connectives_data.append([lr,lR,Lr,LR])\n",
                "\n",
                "        connectives_data = np.array(connectives_data)\n",
                "\n",
                "        connective_data_full.append(connectives_data)\n",
                "\n",
                "connective_data_full = np.array(connective_data_full)"
            ]
        },
        {
            "cell_type": "code",
            "execution_count": 30,
            "metadata": {},
            "outputs": [
                {
                    "data": {
                        "text/plain": [
                            "(1600, 1600, 4)"
                        ]
                    },
                    "execution_count": 30,
                    "metadata": {},
                    "output_type": "execute_result"
                }
            ],
            "source": [
                "connective_data_full.shape"
            ]
        },
        {
            "cell_type": "code",
            "execution_count": 62,
            "metadata": {},
            "outputs": [
                {
                    "data": {
                        "text/plain": [
                            "(30, 30, 30, 30)"
                        ]
                    },
                    "execution_count": 62,
                    "metadata": {},
                    "output_type": "execute_result"
                }
            ],
            "source": []
        },
        {
            "cell_type": "code",
            "execution_count": 31,
            "metadata": {},
            "outputs": [
                {
                    "data": {
                        "text/plain": [
                            "array([0, 0, 1, 1])"
                        ]
                    },
                    "execution_count": 31,
                    "metadata": {},
                    "output_type": "execute_result"
                }
            ],
            "source": [
                "context = (5,6)\n",
                "term = (5,7)\n",
                "\n",
                "connective_data_full[pairs_index[context],pairs_index[term]]"
            ]
        },
        {
            "cell_type": "code",
            "execution_count": 76,
            "metadata": {},
            "outputs": [],
            "source": [
                "top_Tng4 = list(ng_dicts[4].keys())[2]\n",
                "context = (top_Tng4[0],top_Tng4[-1])\n",
                "cases_dict = defaultdict(list)\n",
                "\n",
                "for case, key in zip(connective_data_full[pairs_index[context]],pairs_index.keys()):\n",
                "    cases_dict[tuple(case)]+=[key]"
            ]
        },
        {
            "cell_type": "code",
            "execution_count": 86,
            "metadata": {},
            "outputs": [
                {
                    "data": {
                        "text/plain": [
                            "[(24, 15)]"
                        ]
                    },
                    "execution_count": 86,
                    "metadata": {},
                    "output_type": "execute_result"
                }
            ],
            "source": [
                "selection = cases_dict[(1,0,1,1)]\n",
                "selection"
            ]
        },
        {
            "cell_type": "code",
            "execution_count": 87,
            "metadata": {},
            "outputs": [],
            "source": [
                "type_seq = selection[0]\n",
                "type_seq = (context[0],type_seq[0],type_seq[1],context[1])"
            ]
        },
        {
            "cell_type": "code",
            "execution_count": 88,
            "metadata": {},
            "outputs": [
                {
                    "data": {
                        "text/plain": [
                            "['will|was|his|view',\n",
                            " 'would|came|its|order',\n",
                            " 'to|found|a|effect',\n",
                            " 'and|held|their|experience',\n",
                            " 'they|were|an|action',\n",
                            " 'or|got|that|work',\n",
                            " 'can|made|one|behaviour',\n",
                            " 'could|had|this|position',\n",
                            " 'may|reached|the|time',\n",
                            " 'should|left|another|power']"
                        ]
                    },
                    "execution_count": 88,
                    "metadata": {},
                    "output_type": "execute_result"
                }
            ],
            "source": [
                "sample = [\"|\".join(pair) for pair in zip(*[random.sample(cluster_labels[t][:10],10) for t in type_seq])]\n",
                "sample"
            ]
        },
        {
            "cell_type": "code",
            "execution_count": null,
            "metadata": {},
            "outputs": [],
            "source": []
        }
    ],
    "metadata": {
        "interpreter": {
            "hash": "cccfb5a2fd0f3598afe9b50a9347d4d83dedd025ace78c5a47e49a8025e0aa16"
        },
        "kernelspec": {
            "display_name": "Python 3.9.4 64-bit ('3.9.4')",
            "name": "python3"
        },
        "language_info": {
            "codemirror_mode": {
                "name": "ipython",
                "version": 3
            },
            "file_extension": ".py",
            "mimetype": "text/x-python",
            "name": "python",
            "nbconvert_exporter": "python",
            "pygments_lexer": "ipython3",
            "version": "3.9.7"
        },
        "orig_nbformat": 4
    },
    "nbformat": 4,
    "nbformat_minor": 2
}
