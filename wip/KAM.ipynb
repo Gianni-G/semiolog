{
 "cells": [
  {
   "cell_type": "code",
   "execution_count": 1,
   "metadata": {},
   "outputs": [],
   "source": [
    "import os\n",
    "os.chdir(\"../\")\n",
    "\n",
    "import semiolog as slg"
   ]
  },
  {
   "cell_type": "code",
   "execution_count": 35,
   "metadata": {},
   "outputs": [],
   "source": [
    "from statistics import mean"
   ]
  },
  {
   "cell_type": "code",
   "execution_count": 25,
   "metadata": {},
   "outputs": [],
   "source": [
    "level = \"chars\"\n",
    "\n",
    "if level == \"tags\":\n",
    "    ng1 = slg.util.load_file(\"wip/res_bnc/ng_t_1.json\")\n",
    "    ng2 = slg.util.load_file(\"wip/res_bnc/ng_t_2.json\")\n",
    "    ng3 = slg.util.load_file(\"wip/res_bnc/ng_t_3.json\")\n",
    "    ng4 = slg.util.load_file(\"wip/res_bnc/ng_t_4.json\")\n",
    "\n",
    "elif level == \"words\":\n",
    "    ng1 = slg.util.load_file(\"wip/res_bnc/ng_w_1.json\")\n",
    "    ng2 = slg.util.load_file(\"wip/res_bnc/ng_w_2.json\")\n",
    "    ng3 = slg.util.load_file(\"wip/res_bnc/ng_w_3_5.json\")\n",
    "    ng4 = slg.util.load_file(\"wip/res_bnc/ng_w_4_5.json\")\n",
    "\n",
    "elif level == \"chars\":\n",
    "    ng1 = slg.util.load_file(\"models/en_bnc/vocabulary/alpha.json\")\n",
    "    ng2 = slg.util.load_file(\"models/en_bnc/vocabulary/ngrams/big_ng/2.json\")\n",
    "    ng3 = slg.util.load_file(\"models/en_bnc/vocabulary/ngrams/big_ng/3.json\")\n",
    "    ng4 = slg.util.load_file(\"models/en_bnc/vocabulary/ngrams/big_ng/4.json\")"
   ]
  },
  {
   "cell_type": "code",
   "execution_count": 11,
   "metadata": {},
   "outputs": [],
   "source": [
    "sent = \"thisisverygood\"\n",
    "\n",
    "term = list(sent)\n",
    "term_T = \"S\"\n",
    "pi = [\"π\"]\n",
    "pi_T = \"S*\""
   ]
  },
  {
   "cell_type": "code",
   "execution_count": 24,
   "metadata": {},
   "outputs": [
    {
     "name": "stdout",
     "output_type": "stream",
     "text": [
      "['t']\n",
      "['h', 'i', 's', 'i', 's', 'v', 'e', 'r', 'y', 'g', 'o', 'o', 'd', 'π']\n"
     ]
    }
   ],
   "source": [
    "pi.insert(0,term.pop())\n",
    "print(term)\n",
    "print(pi)"
   ]
  },
  {
   "cell_type": "code",
   "execution_count": 30,
   "metadata": {},
   "outputs": [
    {
     "data": {
      "text/plain": [
       "'t'"
      ]
     },
     "execution_count": 30,
     "metadata": {},
     "output_type": "execute_result"
    }
   ],
   "source": [
    "\"\".join(term[0])"
   ]
  },
  {
   "cell_type": "code",
   "execution_count": 41,
   "metadata": {},
   "outputs": [
    {
     "data": {
      "text/plain": [
       "[('et', 127475),\n",
       " ('it', 109189),\n",
       " ('sw', 82357),\n",
       " ('tt', 71017),\n",
       " ('ot', 70771),\n",
       " ('nt', 65967),\n",
       " ('ac', 65166),\n",
       " ('yt', 63589),\n",
       " ('nw', 63544),\n",
       " ('ed', 57303),\n",
       " ('ew', 56666),\n",
       " ('of', 54104),\n",
       " ('ic', 52263),\n",
       " ('ft', 45839),\n",
       " ('st', 41719),\n",
       " ('dt', 40689),\n",
       " ('in', 39427),\n",
       " ('at', 39215),\n",
       " ('to', 37311),\n",
       " ('rt', 36536),\n",
       " ('ng', 34724),\n",
       " ('tw', 34589),\n",
       " ('rc', 34470),\n",
       " ('nd', 34128),\n",
       " ('as', 33436),\n",
       " ('ns', 31402),\n",
       " ('rs', 30529),\n",
       " ('ec', 30455),\n",
       " ('is', 29364),\n",
       " ('he', 26429),\n",
       " ('ut', 25863),\n",
       " ('yw', 25200),\n",
       " ('dw', 24513),\n",
       " ('tc', 23786),\n",
       " ('be', 22627),\n",
       " ('th', 22625),\n",
       " ('ug', 22623),\n",
       " ('rw', 22343),\n",
       " ('or', 20843),\n",
       " ('es', 20238),\n",
       " ('on', 20160),\n",
       " ('ve', 16963),\n",
       " ('lt', 16820),\n",
       " ('gt', 16608),\n",
       " ('ht', 16445),\n",
       " ('er', 15657),\n",
       " ('fw', 15622),\n",
       " ('ow', 15303),\n",
       " ('aw', 13984),\n",
       " ('ds', 13778),\n",
       " ('nc', 13687),\n",
       " ('mw', 12855),\n",
       " ('hw', 12629),\n",
       " ('ap', 12027),\n",
       " ('gw', 11804),\n",
       " ('uc', 10470),\n",
       " ('om', 10189),\n",
       " ('sc', 9803),\n",
       " ('dc', 9515),\n",
       " ('op', 9513),\n",
       " ('ts', 9335),\n",
       " ('en', 9250),\n",
       " ('lw', 9189),\n",
       " ('ex', 9028),\n",
       " ('re', 8654),\n",
       " ('mt', 7976),\n",
       " ('ea', 7667),\n",
       " ('us', 7652),\n",
       " ('ll', 7562),\n",
       " ('by', 7512),\n",
       " ('yc', 7403),\n",
       " ('wt', 7184),\n",
       " ('ly', 6453),\n",
       " ('ks', 6391),\n",
       " ('de', 6142),\n",
       " ('fc', 6111),\n",
       " ('ld', 6103),\n",
       " ('ke', 5830),\n",
       " ('ss', 5686),\n",
       " ('kw', 5231),\n",
       " ('oc', 4973),\n",
       " ('ep', 4744),\n",
       " ('se', 4654),\n",
       " ('al', 4476),\n",
       " ('an', 4378),\n",
       " ('lp', 4268),\n",
       " ('te', 3914),\n",
       " ('pt', 3874),\n",
       " ('gc', 3835),\n",
       " ('ch', 3830),\n",
       " ('lc', 3789),\n",
       " ('ys', 3726),\n",
       " ('ok', 3636),\n",
       " ('pw', 3535),\n",
       " ('ce', 3491),\n",
       " ('ad', 3447),\n",
       " ('ig', 3445),\n",
       " ('ee', 3357),\n",
       " ('ry', 3336),\n",
       " ('kt', 3208),\n",
       " ('ww', 3087),\n",
       " ('up', 3050),\n",
       " ('ls', 3045),\n",
       " ('hc', 2925),\n",
       " ('gh', 2916),\n",
       " ('le', 2773),\n",
       " ('os', 2636),\n",
       " ('ps', 2466),\n",
       " ('sa', 2376),\n",
       " ('id', 2368),\n",
       " ('ct', 2318),\n",
       " ('me', 2288),\n",
       " ('ar', 2250),\n",
       " ('ro', 2175),\n",
       " ('ms', 2156),\n",
       " ('wn', 2138),\n",
       " ('cw', 2109),\n",
       " ('rp', 2086),\n",
       " ('rd', 2057),\n",
       " ('sp', 1976),\n",
       " ('na', 1951),\n",
       " ('ck', 1888),\n",
       " ('dp', 1869),\n",
       " ('gs', 1827),\n",
       " ('ay', 1826),\n",
       " ('ws', 1822),\n",
       " ('sh', 1737),\n",
       " ('ne', 1654),\n",
       " ('ff', 1641),\n",
       " ('ge', 1633),\n",
       " ('hs', 1588),\n",
       " ('da', 1501),\n",
       " ('mp', 1498),\n",
       " ('0w', 1382),\n",
       " ('np', 1350),\n",
       " ('so', 1332),\n",
       " ('oo', 1299),\n",
       " ('ta', 1293),\n",
       " ('ha', 1287),\n",
       " ('yp', 1250),\n",
       " ('ra', 1240),\n",
       " ('el', 1216),\n",
       " ('rn', 1128),\n",
       " ('sk', 1125),\n",
       " ('mc', 1116),\n",
       " ('il', 1115),\n",
       " ('fs', 1060),\n",
       " ('tp', 1057),\n",
       " ('im', 1014),\n",
       " ('cc', 975),\n",
       " ('ir', 970),\n",
       " ('bw', 956),\n",
       " ('fa', 946),\n",
       " ('xw', 922),\n",
       " ('iw', 893),\n",
       " ('1w', 890),\n",
       " ('if', 888),\n",
       " ('ur', 870),\n",
       " ('do', 865),\n",
       " ('ey', 826),\n",
       " ('2w', 814),\n",
       " ('ny', 812),\n",
       " ('no', 781),\n",
       " ('fp', 762),\n",
       " ('oa', 714),\n",
       " ('ty', 690)]"
      ]
     },
     "execution_count": 41,
     "metadata": {},
     "output_type": "execute_result"
    }
   ],
   "source": [
    "ng4_mean = mean(ng4.values())\n",
    "[(k[:2],v) for k,v in ng4.items() if k[-2:]==\"\".join(pi[:2]) and v>ng4_mean]"
   ]
  },
  {
   "cell_type": "code",
   "execution_count": null,
   "metadata": {},
   "outputs": [],
   "source": []
  }
 ],
 "metadata": {
  "interpreter": {
   "hash": "4bd624a0593993fe43ac4046b27b898fb2ef75c21c08f81e89e64ea0f51df676"
  },
  "kernelspec": {
   "display_name": "Python 3.9.7 ('tensorflow')",
   "language": "python",
   "name": "python3"
  },
  "language_info": {
   "codemirror_mode": {
    "name": "ipython",
    "version": 3
   },
   "file_extension": ".py",
   "mimetype": "text/x-python",
   "name": "python",
   "nbconvert_exporter": "python",
   "pygments_lexer": "ipython3",
   "version": "3.9.7"
  },
  "orig_nbformat": 4
 },
 "nbformat": 4,
 "nbformat_minor": 2
}
