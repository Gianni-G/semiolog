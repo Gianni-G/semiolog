{
 "cells": [
  {
   "cell_type": "code",
   "execution_count": 1,
   "metadata": {},
   "outputs": [],
   "source": [
    "import os\n",
    "os.chdir(\"../\")\n",
    "\n",
    "import semiolog as slg"
   ]
  },
  {
   "cell_type": "code",
   "execution_count": 2,
   "metadata": {},
   "outputs": [
    {
     "name": "stdout",
     "output_type": "stream",
     "text": [
      "SLG [I]: Checking config correctness... Config correct!\n"
     ]
    },
    {
     "name": "stderr",
     "output_type": "stream",
     "text": [
      "100%|██████████| 3/3 [00:00<00:00, 48.69it/s]"
     ]
    },
    {
     "name": "stdout",
     "output_type": "stream",
     "text": [
      "SLG [I]: Dataset loaded from disk (TXT files)\n"
     ]
    },
    {
     "name": "stderr",
     "output_type": "stream",
     "text": [
      "\n"
     ]
    },
    {
     "name": "stdout",
     "output_type": "stream",
     "text": [
      "SLG [I]: Vocabulary loaded from disk\n"
     ]
    },
    {
     "name": "stderr",
     "output_type": "stream",
     "text": [
      "All model checkpoint layers were used when initializing TFBertForMaskedLM.\n",
      "\n",
      "All the layers of TFBertForMaskedLM were initialized from the model checkpoint at models/en_bnc_test/paradigms/tf_model.h5.\n",
      "If your task is similar to the task the model of the checkpoint was trained on, you can already use TFBertForMaskedLM for predictions without further training.\n"
     ]
    },
    {
     "name": "stdout",
     "output_type": "stream",
     "text": [
      "SLG [I]: Paradigmatizer loaded from disk\n"
     ]
    }
   ],
   "source": [
    "semiotic = slg.Cenematic(\"en_bnc_test\")"
   ]
  },
  {
   "cell_type": "code",
   "execution_count": 90,
   "metadata": {},
   "outputs": [],
   "source": [
    "from collections import Counter, defaultdict\n",
    "from tqdm.notebook import tqdm\n",
    "import seaborn as sns\n",
    "from os.path import isfile\n",
    "import networkx as nx\n",
    "import graphviz as gv\n",
    "from ipywidgets import interact\n",
    "import numpy as np"
   ]
  },
  {
   "cell_type": "code",
   "execution_count": 17,
   "metadata": {},
   "outputs": [],
   "source": [
    "def extract_char_ngrams(text, n):\n",
    "    n_grams = Counter(zip(*[text[i:] for i in range(n)]))\n",
    "    return n_grams"
   ]
  },
  {
   "cell_type": "code",
   "execution_count": 4,
   "metadata": {},
   "outputs": [],
   "source": [
    "ngrams_2 = {tuple(k.split()): v for k,v in slg.util.json2dict(\"ngrams_2\",semiotic.paths.vocabulary).items()}"
   ]
  },
  {
   "cell_type": "code",
   "execution_count": 5,
   "metadata": {},
   "outputs": [],
   "source": [
    "terms = contexts = list(semiotic.vocab.alpha.keys())[:37]\n",
    "terms_dict = {t:i for i,t in enumerate(terms)}"
   ]
  },
  {
   "cell_type": "code",
   "execution_count": 6,
   "metadata": {},
   "outputs": [
    {
     "name": "stdout",
     "output_type": "stream",
     "text": [
      "Building oR Matrix...\n",
      "Term-Context Matrix built in 0.01 secs.\n",
      "\n"
     ]
    }
   ],
   "source": [
    "m_freq = slg.util.build_term_context_matrix(\n",
    "    terms = terms,\n",
    "    contexts = contexts,\n",
    "    orthogonals = ngrams_2,\n",
    "    normalizeQ = False)"
   ]
  },
  {
   "cell_type": "code",
   "execution_count": 63,
   "metadata": {},
   "outputs": [
    {
     "name": "stdout",
     "output_type": "stream",
     "text": [
      "Computing PMI Matrix...\n",
      "Type: spmi\n",
      "Smoothing (alpha): 0.5\n",
      "Done\n",
      "PMI Matrix built in 0.04 secs.\n",
      "Done\n",
      "\n"
     ]
    }
   ],
   "source": [
    "m_pmi = slg.util.build_pmi_matrix(\n",
    "    m_freq,\n",
    "    type = \"spmi\",\n",
    "    alpha = .5,\n",
    "    normalizeQ = False,\n",
    "    )"
   ]
  },
  {
   "cell_type": "code",
   "execution_count": 64,
   "metadata": {},
   "outputs": [
    {
     "data": {
      "image/png": "[encoded data removed]",
      "text/plain": [
       "<Figure size 432x288 with 2 Axes>"
      ]
     },
     "metadata": {
      "needs_background": "light"
     },
     "output_type": "display_data"
    }
   ],
   "source": [
    "ax = sns.heatmap(m_pmi.toarray())"
   ]
  },
  {
   "cell_type": "code",
   "execution_count": 130,
   "metadata": {},
   "outputs": [],
   "source": [
    "from numpy.linalg import svd, eig, inv\n",
    "\n",
    "mf_type = \"eig\"\n",
    "\n",
    "if mf_type == \"svd\":\n",
    "    U, s, Vh = svd(m_pmi.toarray())\n",
    "\n",
    "elif mf_type == \"eig\":\n",
    "    s, U = eig(m_pmi.toarray())\n",
    "    Vh = la.inv(U)\n"
   ]
  },
  {
   "cell_type": "code",
   "execution_count": 131,
   "metadata": {},
   "outputs": [
    {
     "data": {
      "text/plain": [
       "'I wondered if it would er be appropriate for me to respond at this juncture ?'"
      ]
     },
     "execution_count": 131,
     "metadata": {},
     "output_type": "execute_result"
    }
   ],
   "source": [
    "from random import randint\n",
    "sent = semiotic.corpus.train[randint(0,100000)][\"text\"]\n",
    "# sent = \"This is very good\"\n",
    "norm_text = semiotic.syntagmatic.tokenizer.normalizer.normalize_str(sent)\n",
    "sent"
   ]
  },
  {
   "cell_type": "code",
   "execution_count": 132,
   "metadata": {},
   "outputs": [],
   "source": [
    "sent_ngrams = extract_char_ngrams(norm_text,2)\n",
    "pairs = sent_ngrams.keys()\n",
    "# pairs = [(l,r) for l in terms for r in terms]\n",
    "\n",
    "pair_scores = []\n",
    "for pair in pairs:\n",
    "    l = pair[0]\n",
    "    r = pair[1]\n",
    "\n",
    "    Tn_scores = []\n",
    "    for type_n in range(s.size):\n",
    "        Tl_score = U.T[type_n,terms_dict[l]]\n",
    "        Tr_score = Vh[type_n,terms_dict[r]]\n",
    "        Tn_score = Tl_score*Tr_score*s[type_n]\n",
    "        signature = 1 if Tl_score>=0 else -1\n",
    "        Tn_scores.append((Tn_score, type_n, signature))\n",
    "\n",
    "    Tn_scores = sorted(Tn_scores,reverse=True)\n",
    "    \n",
    "    pair_scores.append((pair,Tn_scores[0]))\n",
    "\n",
    "pair_scores_dict = dict(pair_scores)\n",
    "\n",
    "segmentation_index = defaultdict(list)\n",
    "for i, pair in enumerate(zip(norm_text, norm_text[1:])):\n",
    "     segmentation_index[pair] += [i+1]\n",
    "\n",
    "pair_scores_sorted = sorted(pair_scores,key=lambda x: x[1][0])"
   ]
  },
  {
   "cell_type": "code",
   "execution_count": 133,
   "metadata": {},
   "outputs": [],
   "source": [
    "G = nx.DiGraph()\n",
    "\n",
    "to_segment = [(norm_text,(0,len(norm_text)))]\n",
    "\n",
    "while len(to_segment)>0:\n",
    "    for segment, offset in to_segment:\n",
    "        segmentation_index = defaultdict(list)\n",
    "        pairs = []\n",
    "        for i, pair in enumerate(zip(segment, segment[1:])):\n",
    "            segmentation_index[pair] += [i+1]\n",
    "            pairs.append(pair)\n",
    "        best_pair = sorted([(pair_scores_dict[pair][0], pair) for pair in pairs])[0][1]\n",
    "        best_cut = segmentation_index[best_pair][0]\n",
    "        G.add_edge((segment,offset), (segment[:best_cut],(offset[0],offset[0]+best_cut)))\n",
    "        G.add_edge((segment,offset), (segment[best_cut:],(offset[0]+best_cut,offset[1])))\n",
    "        \n",
    "        to_segment = [x for x in G.nodes() if G.out_degree(x)==0 and G.in_degree(x)==1]\n",
    "        to_segment = [seg for seg in to_segment if len(seg[0])>2]"
   ]
  },
  {
   "cell_type": "code",
   "execution_count": 134,
   "metadata": {},
   "outputs": [
    {
     "data": {
      "application/vnd.jupyter.widget-view+json": {
       "model_id": "d2ee9857ab2843a7b8cb9cdf5636f71c",
       "version_major": 2,
       "version_minor": 0
      },
      "text/plain": [
       "interactive(children=(Output(),), _dom_classes=('widget-interact',))"
      ]
     },
     "metadata": {},
     "output_type": "display_data"
    }
   ],
   "source": [
    "seg_tree = G\n",
    "seg_tree_graph = gv.Digraph(name=\"seg_tree\")\n",
    "\n",
    "tree_nodes_list = [(str(i), l) for l, i in list(seg_tree.nodes)]\n",
    "for node in tree_nodes_list:\n",
    "    seg_tree_graph.node(\n",
    "        *node, color=\"white\", fontsize=\"20\", fontname=\"RobotoMono-Thin\"\n",
    "    )  # style=\"filled\", color=\"grey\")\n",
    "seg_tree_graph.attr(\"edge\", color=\"slategrey\")\n",
    "seg_tree_graph.edges([(str(p[1]), str(c[1])) for p, c in list(seg_tree.edges)])\n",
    "\n",
    "@interact\n",
    "def inter():\n",
    "    return seg_tree_graph"
   ]
  },
  {
   "cell_type": "code",
   "execution_count": 148,
   "metadata": {},
   "outputs": [
    {
     "name": "stdout",
     "output_type": "stream",
     "text": [
      "10\n",
      "(0.5845011278633779-8.572020040236759e-17j)\n"
     ]
    },
    {
     "name": "stderr",
     "output_type": "stream",
     "text": [
      "<ipython-input-148-ea18d0b6c492>:8: DeprecationWarning: The Python built-in `round` is deprecated for complex scalars, and will raise a `TypeError` in a future release. Use `np.round` or `scalar.round` instead.\n",
      "  type_L = sorted([(round(score*T_sign,2),term) for term, score in zip(terms,U.T[Tn])], reverse=True)\n",
      "<ipython-input-148-ea18d0b6c492>:9: DeprecationWarning: The Python built-in `round` is deprecated for complex scalars, and will raise a `TypeError` in a future release. Use `np.round` or `scalar.round` instead.\n",
      "  type_R = sorted([(round(score*T_sign,2),context) for context, score in zip(contexts,Vh[Tn])], reverse=True)\n"
     ]
    },
    {
     "data": {
      "text/html": [
       "<div>\n",
       "<style scoped>\n",
       "    .dataframe tbody tr th:only-of-type {\n",
       "        vertical-align: middle;\n",
       "    }\n",
       "\n",
       "    .dataframe tbody tr th {\n",
       "        vertical-align: top;\n",
       "    }\n",
       "\n",
       "    .dataframe thead th {\n",
       "        text-align: right;\n",
       "    }\n",
       "</style>\n",
       "<table border=\"1\" class=\"dataframe\">\n",
       "  <thead>\n",
       "    <tr style=\"text-align: right;\">\n",
       "      <th></th>\n",
       "      <th>0</th>\n",
       "      <th>1</th>\n",
       "    </tr>\n",
       "  </thead>\n",
       "  <tbody>\n",
       "    <tr>\n",
       "      <th>0</th>\n",
       "      <td>((0.27+0.07j), l)</td>\n",
       "      <td>((0.68-0.02j), z)</td>\n",
       "    </tr>\n",
       "    <tr>\n",
       "      <th>1</th>\n",
       "      <td>((0.25-0.08j), c)</td>\n",
       "      <td>((0.44-0.1j), h)</td>\n",
       "    </tr>\n",
       "    <tr>\n",
       "      <th>2</th>\n",
       "      <td>((0.15-0.03j), a)</td>\n",
       "      <td>((0.36-0.26j), l)</td>\n",
       "    </tr>\n",
       "    <tr>\n",
       "      <th>3</th>\n",
       "      <td>((0.15-0.16j), u)</td>\n",
       "      <td>((0.32+0.26j), x)</td>\n",
       "    </tr>\n",
       "    <tr>\n",
       "      <th>4</th>\n",
       "      <td>((0.14-0.06j), z)</td>\n",
       "      <td>((0.31-0.04j), q)</td>\n",
       "    </tr>\n",
       "    <tr>\n",
       "      <th>5</th>\n",
       "      <td>((0.12+0.01j), 7)</td>\n",
       "      <td>((0.3+0.02j), t)</td>\n",
       "    </tr>\n",
       "    <tr>\n",
       "      <th>6</th>\n",
       "      <td>((0.12-0.05j), 9)</td>\n",
       "      <td>((0.23+0.16j), p)</td>\n",
       "    </tr>\n",
       "    <tr>\n",
       "      <th>7</th>\n",
       "      <td>((0.11+0.23j), b)</td>\n",
       "      <td>((0.23-0.07j), 3)</td>\n",
       "    </tr>\n",
       "    <tr>\n",
       "      <th>8</th>\n",
       "      <td>((0.1-0.09j), g)</td>\n",
       "      <td>((0.22-0.22j), 8)</td>\n",
       "    </tr>\n",
       "    <tr>\n",
       "      <th>9</th>\n",
       "      <td>((0.09+0.08j), d)</td>\n",
       "      <td>((0.2+0.22j), r)</td>\n",
       "    </tr>\n",
       "    <tr>\n",
       "      <th>10</th>\n",
       "      <td>((0.08-0.02j), n)</td>\n",
       "      <td>((0.13-0.1j), c)</td>\n",
       "    </tr>\n",
       "    <tr>\n",
       "      <th>11</th>\n",
       "      <td>((0.07+0.07j), 6)</td>\n",
       "      <td>((0.12-0.04j), 1)</td>\n",
       "    </tr>\n",
       "    <tr>\n",
       "      <th>12</th>\n",
       "      <td>((0.07+0.05j), 3)</td>\n",
       "      <td>((0.1+0.06j), 2)</td>\n",
       "    </tr>\n",
       "    <tr>\n",
       "      <th>13</th>\n",
       "      <td>((0.06-0.02j), 8)</td>\n",
       "      <td>((0.1-0.31j), i)</td>\n",
       "    </tr>\n",
       "    <tr>\n",
       "      <th>14</th>\n",
       "      <td>((0.05+0.08j), r)</td>\n",
       "      <td>((0.08-0.19j), 5)</td>\n",
       "    </tr>\n",
       "  </tbody>\n",
       "</table>\n",
       "</div>"
      ],
      "text/plain": [
       "                    0                  1\n",
       "0   ((0.27+0.07j), l)  ((0.68-0.02j), z)\n",
       "1   ((0.25-0.08j), c)   ((0.44-0.1j), h)\n",
       "2   ((0.15-0.03j), a)  ((0.36-0.26j), l)\n",
       "3   ((0.15-0.16j), u)  ((0.32+0.26j), x)\n",
       "4   ((0.14-0.06j), z)  ((0.31-0.04j), q)\n",
       "5   ((0.12+0.01j), 7)   ((0.3+0.02j), t)\n",
       "6   ((0.12-0.05j), 9)  ((0.23+0.16j), p)\n",
       "7   ((0.11+0.23j), b)  ((0.23-0.07j), 3)\n",
       "8    ((0.1-0.09j), g)  ((0.22-0.22j), 8)\n",
       "9   ((0.09+0.08j), d)   ((0.2+0.22j), r)\n",
       "10  ((0.08-0.02j), n)   ((0.13-0.1j), c)\n",
       "11  ((0.07+0.07j), 6)  ((0.12-0.04j), 1)\n",
       "12  ((0.07+0.05j), 3)   ((0.1+0.06j), 2)\n",
       "13  ((0.06-0.02j), 8)   ((0.1-0.31j), i)\n",
       "14  ((0.05+0.08j), r)  ((0.08-0.19j), 5)"
      ]
     },
     "execution_count": 148,
     "metadata": {},
     "output_type": "execute_result"
    }
   ],
   "source": [
    "T_score, Tn, T_sign = pair_scores[10][1]\n",
    "\n",
    "Tn = 10\n",
    "T_sign = -1\n",
    "print(Tn)\n",
    "print(T_score)\n",
    "\n",
    "type_L = sorted([(round(score*T_sign,2),term) for term, score in zip(terms,U.T[Tn])], reverse=True)\n",
    "type_R = sorted([(round(score*T_sign,2),context) for context, score in zip(contexts,Vh[Tn])], reverse=True)\n",
    "slg.util.df([type_L[:15],type_R[:15]])"
   ]
  },
  {
   "cell_type": "code",
   "execution_count": 118,
   "metadata": {},
   "outputs": [],
   "source": [
    "tl_vector = m_pmi.T[terms_dict[\"4\"]].toarray()"
   ]
  },
  {
   "cell_type": "code",
   "execution_count": 119,
   "metadata": {},
   "outputs": [
    {
     "data": {
      "text/plain": [
       "array([[-1.86881086e+01, -8.13232459e+00,  9.55414896e-01,\n",
       "         1.90206358e-01,  1.38474781e-01,  4.91416929e-01,\n",
       "        -2.97435760e-01, -1.84651855e-01, -7.68004556e-02,\n",
       "        -7.78374581e-03,  2.38783844e-01, -1.15212839e-02,\n",
       "        -6.63347738e-02, -1.71792098e-01,  1.94089425e-01,\n",
       "         2.91487575e-01, -2.41300017e-01, -7.80982054e-01,\n",
       "        -4.81206430e-01,  1.33616633e-01, -1.22420884e-01,\n",
       "         1.04053170e-01,  2.64027820e-01, -1.41723408e-01,\n",
       "         1.27779253e-01, -1.29572851e-01,  9.37687992e-03,\n",
       "        -1.65697915e-01, -3.73613729e-02, -7.50033756e-02,\n",
       "         5.43353961e-02,  1.10491618e-01, -6.93184827e-02,\n",
       "        -2.94402181e-02, -5.68985551e-03, -1.37283783e-02,\n",
       "        -1.90714492e-02]])"
      ]
     },
     "execution_count": 119,
     "metadata": {},
     "output_type": "execute_result"
    }
   ],
   "source": [
    "U_projection = tl_vector.dot(U)\n",
    "U_projection"
   ]
  },
  {
   "cell_type": "code",
   "execution_count": 120,
   "metadata": {},
   "outputs": [
    {
     "data": {
      "text/plain": [
       "array([[ 0,  1, 17, 18,  6, 16,  7, 13, 27, 23, 25, 20,  8, 29, 32, 12,\n",
       "        28, 33, 36, 35, 11,  9, 34, 26, 30, 21, 31, 24, 19,  4,  3, 14,\n",
       "        10, 22, 15,  5,  2]])"
      ]
     },
     "execution_count": 120,
     "metadata": {},
     "output_type": "execute_result"
    }
   ],
   "source": [
    "np.argsort(U_projection)"
   ]
  },
  {
   "cell_type": "code",
   "execution_count": 128,
   "metadata": {},
   "outputs": [
    {
     "name": "stdout",
     "output_type": "stream",
     "text": [
      "[[-0.63466315-2.75200473e-15j  0.0164215 -5.69448559e-16j\n",
      "   0.30552545+2.06421287e-15j ... -3.87523571+7.52791719e-16j\n",
      "  -3.60600589+6.98948448e-16j -2.95095166-9.91135837e-16j]\n",
      " [ 0.30658162-3.97286026e-15j -0.16383049-4.11261955e-15j\n",
      "   0.11880024+3.28436933e-15j ... -3.88738298-1.15145866e-15j\n",
      "  -3.78214875+4.70803622e-16j -2.4639938 -8.12268154e-16j]\n",
      " [-3.72048863-2.81670428e-15j  0.8164903 -1.27628912e-15j\n",
      "  -3.12182361+3.88392417e-15j ... -4.7621882 +3.38384431e-15j\n",
      "  -4.44929483+9.07092714e-16j -3.42554432-1.60009573e-15j]\n",
      " ...\n",
      " [-2.50872499+1.05404166e-15j -0.46100557+2.27503322e-15j\n",
      "  -0.248713  -2.39228596e-15j ...  2.53353461-5.33969901e-15j\n",
      "   2.5227728 -3.71175611e-15j -2.04974945+1.52644247e-15j]\n",
      " [-2.52772283+1.50099611e-15j -0.37027337+2.19944420e-15j\n",
      "  -0.08620453-2.19619781e-15j ...  2.38296295-4.84336589e-15j\n",
      "   2.39067981-3.45535117e-15j -1.64929515+1.55109687e-15j]\n",
      " [-6.15183653-5.90368018e-15j -5.07492453+5.55513557e-15j\n",
      "  -5.14139368-2.56993300e-15j ...  2.36579489-1.40414437e-14j\n",
      "   2.61100526-6.76248747e-15j -1.40736819+1.29522855e-16j]]\n",
      "[-62.17776719+0.j          44.66809138+0.j\n",
      " -12.46958567+0.j           6.1313019 +3.56027074j\n",
      "   6.1313019 -3.56027074j   6.37288932+0.j\n",
      "  -3.19457387+3.08670794j  -3.19457387-3.08670794j\n",
      "  -0.90506729+4.17212703j  -0.90506729-4.17212703j\n",
      "   3.06236611+3.00165526j   3.06236611-3.00165526j\n",
      "   4.44641743+0.76234042j   4.44641743-0.76234042j\n",
      "   3.42684078+0.j          -1.34132595+2.76520147j\n",
      "  -1.34132595-2.76520147j  -3.08009195+0.j\n",
      "   2.49517414+0.j           1.62179564+0.88027501j\n",
      "   1.62179564-0.88027501j  -2.18882305+0.j\n",
      "  -1.92420829+0.j          -0.16022433+1.50156143j\n",
      "  -0.16022433-1.50156143j  -0.12392558+1.29629429j\n",
      "  -0.12392558-1.29629429j   0.86676072+0.j\n",
      "   0.51145552+0.j           0.13742636+0.47788403j\n",
      "   0.13742636-0.47788403j   0.10947026+0.11480011j\n",
      "   0.10947026-0.11480011j  -0.48616207+0.122096j\n",
      "  -0.48616207-0.122096j    -0.17982234+0.j\n",
      "  -0.39665906+0.j        ]\n"
     ]
    }
   ],
   "source": []
  },
  {
   "cell_type": "code",
   "execution_count": null,
   "metadata": {},
   "outputs": [],
   "source": []
  }
 ],
 "metadata": {
  "interpreter": {
   "hash": "e2d2405374502165a8bd1b0d292560b3bd4b111edf332d1a06bb58389351bced"
  },
  "kernelspec": {
   "display_name": "Python 3.9.4 64-bit ('3.9.4')",
   "language": "python",
   "name": "python3"
  },
  "language_info": {
   "codemirror_mode": {
    "name": "ipython",
    "version": 3
   },
   "file_extension": ".py",
   "mimetype": "text/x-python",
   "name": "python",
   "nbconvert_exporter": "python",
   "pygments_lexer": "ipython3",
   "version": "3.9.4"
  },
  "orig_nbformat": 4
 },
 "nbformat": 4,
 "nbformat_minor": 2
}
