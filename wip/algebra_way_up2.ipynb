{
 "cells": [
  {
   "cell_type": "code",
   "execution_count": 1,
   "metadata": {},
   "outputs": [],
   "source": [
    "import os\n",
    "os.chdir(\"../\")\n",
    "\n",
    "import semiolog as slg"
   ]
  },
  {
   "cell_type": "code",
   "execution_count": 2,
   "metadata": {},
   "outputs": [
    {
     "name": "stdout",
     "output_type": "stream",
     "text": [
      "SLG [I]: Checking config correctness... Config correct!\n"
     ]
    },
    {
     "name": "stderr",
     "output_type": "stream",
     "text": [
      "100%|██████████| 3/3 [00:00<00:00, 134.79it/s]"
     ]
    },
    {
     "name": "stdout",
     "output_type": "stream",
     "text": [
      "SLG [I]: Dataset loaded from disk (TXT files)\n",
      "SLG [I]: Vocabulary loaded from disk\n"
     ]
    },
    {
     "name": "stderr",
     "output_type": "stream",
     "text": [
      "\n"
     ]
    },
    {
     "data": {
      "application/vnd.jupyter.widget-view+json": {
       "model_id": "5feb25730b434335ba72fbc044a5bd35",
       "version_major": 2,
       "version_minor": 0
      },
      "text/plain": [
       "  0%|          | 0/3 [00:00<?, ?it/s]"
      ]
     },
     "metadata": {},
     "output_type": "display_data"
    },
    {
     "name": "stdout",
     "output_type": "stream",
     "text": [
      "SLG [I]: nGrams loaded from disk (['2_5.json', '3_5.json', '4_5.json'])\n"
     ]
    },
    {
     "name": "stderr",
     "output_type": "stream",
     "text": [
      "All model checkpoint layers were used when initializing TFBertForMaskedLM.\n",
      "\n",
      "All the layers of TFBertForMaskedLM were initialized from the model checkpoint at models/en_bnc/paradigms/tf_model.h5.\n",
      "If your task is similar to the task the model of the checkpoint was trained on, you can already use TFBertForMaskedLM for predictions without further training.\n"
     ]
    },
    {
     "name": "stdout",
     "output_type": "stream",
     "text": [
      "SLG [I]: Paradigmatizer loaded from disk\n"
     ]
    }
   ],
   "source": [
    "semiotic = slg.Cenematic(\"en_bnc\")"
   ]
  },
  {
   "cell_type": "code",
   "execution_count": 3,
   "metadata": {},
   "outputs": [],
   "source": [
    "from collections import Counter, defaultdict\n",
    "from tqdm.notebook import tqdm\n",
    "import seaborn as sns\n",
    "from os.path import isfile\n",
    "import networkx as nx\n",
    "import graphviz as gv\n",
    "from ipywidgets import interact\n",
    "import numpy as np"
   ]
  },
  {
   "cell_type": "code",
   "execution_count": 4,
   "metadata": {},
   "outputs": [],
   "source": [
    "def extract_char_ngrams(text, n):\n",
    "    n_grams = Counter(zip(*[text[i:] for i in range(n)]))\n",
    "    return n_grams"
   ]
  },
  {
   "cell_type": "code",
   "execution_count": 34,
   "metadata": {},
   "outputs": [],
   "source": [
    "ngrams_2 = {tuple(list(k)): v for k,v in semiotic.vocab.ng2_5.freq.items()}"
   ]
  },
  {
   "cell_type": "code",
   "execution_count": 36,
   "metadata": {},
   "outputs": [],
   "source": [
    "terms = contexts = list(semiotic.vocab.alpha.keys())[:37]\n",
    "terms_dict = {t:i for i,t in enumerate(terms)}"
   ]
  },
  {
   "cell_type": "code",
   "execution_count": 37,
   "metadata": {},
   "outputs": [
    {
     "name": "stdout",
     "output_type": "stream",
     "text": [
      "Building oR Matrix...\n",
      "Term-Context Matrix built in 0.01 secs.\n",
      "\n"
     ]
    }
   ],
   "source": [
    "m_freq = slg.util.build_term_context_matrix(\n",
    "    terms = terms,\n",
    "    contexts = contexts,\n",
    "    orthogonals = ngrams_2,\n",
    "    normalizeQ = False)"
   ]
  },
  {
   "cell_type": "code",
   "execution_count": 38,
   "metadata": {},
   "outputs": [
    {
     "name": "stdout",
     "output_type": "stream",
     "text": [
      "Computing PMI Matrix...\n",
      "Type: spmi\n",
      "Smoothing (alpha): 0.5\n",
      "Done\n",
      "PMI Matrix built in 0.04 secs.\n",
      "Done\n",
      "\n"
     ]
    }
   ],
   "source": [
    "m_pmi = slg.util.build_pmi_matrix(\n",
    "    m_freq,\n",
    "    type = \"spmi\",\n",
    "    alpha = .5,\n",
    "    normalizeQ = False,\n",
    "    )"
   ]
  },
  {
   "cell_type": "code",
   "execution_count": 39,
   "metadata": {},
   "outputs": [
    {
     "data": {
      "image/png": "[encoded data removed]",
      "text/plain": [
       "<Figure size 432x288 with 2 Axes>"
      ]
     },
     "metadata": {
      "needs_background": "light"
     },
     "output_type": "display_data"
    }
   ],
   "source": [
    "ax = sns.heatmap(m_pmi.toarray())"
   ]
  },
  {
   "cell_type": "code",
   "execution_count": 41,
   "metadata": {},
   "outputs": [],
   "source": [
    "from numpy.linalg import svd, eig, inv\n",
    "\n",
    "mf_type = \"eig\"\n",
    "\n",
    "if mf_type == \"svd\":\n",
    "    U, s, Vh = svd(m_pmi.toarray())\n",
    "\n",
    "elif mf_type == \"eig\":\n",
    "    s, U = eig(m_pmi.toarray())\n",
    "    Vh = inv(U)\n"
   ]
  },
  {
   "cell_type": "code",
   "execution_count": 42,
   "metadata": {},
   "outputs": [
    {
     "data": {
      "text/plain": [
       "'Being summer , the window is wide open .'"
      ]
     },
     "execution_count": 42,
     "metadata": {},
     "output_type": "execute_result"
    }
   ],
   "source": [
    "from random import randint\n",
    "sent = semiotic.corpus.train[randint(0,100000)][\"text\"]\n",
    "# sent = \"This is very good\"\n",
    "norm_text = semiotic.syntagmatic.tokenizer.normalizer.normalize_str(sent)\n",
    "sent"
   ]
  },
  {
   "cell_type": "code",
   "execution_count": 43,
   "metadata": {},
   "outputs": [],
   "source": [
    "sent_ngrams = extract_char_ngrams(norm_text,2)\n",
    "pairs = sent_ngrams.keys()\n",
    "# pairs = [(l,r) for l in terms for r in terms]\n",
    "\n",
    "pair_scores = []\n",
    "for pair in pairs:\n",
    "    l = pair[0]\n",
    "    r = pair[1]\n",
    "\n",
    "    Tn_scores = []\n",
    "    for type_n in range(s.size):\n",
    "        Tl_score = U.T[type_n,terms_dict[l]]\n",
    "        Tr_score = Vh[type_n,terms_dict[r]]\n",
    "        Tn_score = Tl_score*Tr_score*s[type_n]\n",
    "        signature = 1 if Tl_score>=0 else -1\n",
    "        Tn_scores.append((Tn_score, type_n, signature))\n",
    "\n",
    "    Tn_scores = sorted(Tn_scores,reverse=True)\n",
    "    \n",
    "    pair_scores.append((pair,Tn_scores[0]))\n",
    "\n",
    "pair_scores_dict = dict(pair_scores)\n",
    "\n",
    "segmentation_index = defaultdict(list)\n",
    "for i, pair in enumerate(zip(norm_text, norm_text[1:])):\n",
    "     segmentation_index[pair] += [i+1]\n",
    "\n",
    "pair_scores_sorted = sorted(pair_scores,key=lambda x: x[1][0])"
   ]
  },
  {
   "cell_type": "code",
   "execution_count": 44,
   "metadata": {},
   "outputs": [],
   "source": [
    "G = nx.DiGraph()\n",
    "\n",
    "to_segment = [(norm_text,(0,len(norm_text)))]\n",
    "\n",
    "while len(to_segment)>0:\n",
    "    for segment, offset in to_segment:\n",
    "        segmentation_index = defaultdict(list)\n",
    "        pairs = []\n",
    "        for i, pair in enumerate(zip(segment, segment[1:])):\n",
    "            segmentation_index[pair] += [i+1]\n",
    "            pairs.append(pair)\n",
    "        best_pair = sorted([(pair_scores_dict[pair][0], pair) for pair in pairs])[0][1]\n",
    "        best_cut = segmentation_index[best_pair][0]\n",
    "        G.add_edge((segment,offset), (segment[:best_cut],(offset[0],offset[0]+best_cut)))\n",
    "        G.add_edge((segment,offset), (segment[best_cut:],(offset[0]+best_cut,offset[1])))\n",
    "        \n",
    "        to_segment = [x for x in G.nodes() if G.out_degree(x)==0 and G.in_degree(x)==1]\n",
    "        to_segment = [seg for seg in to_segment if len(seg[0])>2]"
   ]
  },
  {
   "cell_type": "code",
   "execution_count": 45,
   "metadata": {},
   "outputs": [
    {
     "data": {
      "application/vnd.jupyter.widget-view+json": {
       "model_id": "24e42d03f5e14212b771b3cc69ee2489",
       "version_major": 2,
       "version_minor": 0
      },
      "text/plain": [
       "interactive(children=(Output(),), _dom_classes=('widget-interact',))"
      ]
     },
     "metadata": {},
     "output_type": "display_data"
    }
   ],
   "source": [
    "seg_tree = G\n",
    "seg_tree_graph = gv.Digraph(name=\"seg_tree\")\n",
    "\n",
    "tree_nodes_list = [(str(i), l) for l, i in list(seg_tree.nodes)]\n",
    "for node in tree_nodes_list:\n",
    "    seg_tree_graph.node(\n",
    "        *node, color=\"white\", fontsize=\"20\", fontname=\"RobotoMono-Thin\"\n",
    "    )  # style=\"filled\", color=\"grey\")\n",
    "seg_tree_graph.attr(\"edge\", color=\"slategrey\")\n",
    "seg_tree_graph.edges([(str(p[1]), str(c[1])) for p, c in list(seg_tree.edges)])\n",
    "\n",
    "@interact\n",
    "def inter():\n",
    "    return seg_tree_graph"
   ]
  },
  {
   "cell_type": "code",
   "execution_count": 46,
   "metadata": {},
   "outputs": [
    {
     "name": "stdout",
     "output_type": "stream",
     "text": [
      "10\n",
      "(0.40816471271105154-0.05328055479687205j)\n"
     ]
    },
    {
     "name": "stderr",
     "output_type": "stream",
     "text": [
      "<ipython-input-46-ea18d0b6c492>:8: DeprecationWarning: The Python built-in `round` is deprecated for complex scalars, and will raise a `TypeError` in a future release. Use `np.round` or `scalar.round` instead.\n",
      "  type_L = sorted([(round(score*T_sign,2),term) for term, score in zip(terms,U.T[Tn])], reverse=True)\n",
      "<ipython-input-46-ea18d0b6c492>:9: DeprecationWarning: The Python built-in `round` is deprecated for complex scalars, and will raise a `TypeError` in a future release. Use `np.round` or `scalar.round` instead.\n",
      "  type_R = sorted([(round(score*T_sign,2),context) for context, score in zip(contexts,Vh[Tn])], reverse=True)\n"
     ]
    },
    {
     "data": {
      "text/html": [
       "<div>\n",
       "<style scoped>\n",
       "    .dataframe tbody tr th:only-of-type {\n",
       "        vertical-align: middle;\n",
       "    }\n",
       "\n",
       "    .dataframe tbody tr th {\n",
       "        vertical-align: top;\n",
       "    }\n",
       "\n",
       "    .dataframe thead th {\n",
       "        text-align: right;\n",
       "    }\n",
       "</style>\n",
       "<table border=\"1\" class=\"dataframe\">\n",
       "  <thead>\n",
       "    <tr style=\"text-align: right;\">\n",
       "      <th></th>\n",
       "      <th>0</th>\n",
       "      <th>1</th>\n",
       "    </tr>\n",
       "  </thead>\n",
       "  <tbody>\n",
       "    <tr>\n",
       "      <th>0</th>\n",
       "      <td>((0.36+0.08j), a)</td>\n",
       "      <td>((1+0.7j), u)</td>\n",
       "    </tr>\n",
       "    <tr>\n",
       "      <th>1</th>\n",
       "      <td>((0.2-0.01j), x)</td>\n",
       "      <td>((0.55-0.81j), o)</td>\n",
       "    </tr>\n",
       "    <tr>\n",
       "      <th>2</th>\n",
       "      <td>((0.19-0.13j), y)</td>\n",
       "      <td>((0.39+0.12j), v)</td>\n",
       "    </tr>\n",
       "    <tr>\n",
       "      <th>3</th>\n",
       "      <td>((0.18-0.04j), d)</td>\n",
       "      <td>((0.36+0.69j), w)</td>\n",
       "    </tr>\n",
       "    <tr>\n",
       "      <th>4</th>\n",
       "      <td>((0.15-0.05j), s)</td>\n",
       "      <td>((0.33+0.23j), d)</td>\n",
       "    </tr>\n",
       "    <tr>\n",
       "      <th>5</th>\n",
       "      <td>((0.14-0.03j), t)</td>\n",
       "      <td>((0.31-0.17j), 1)</td>\n",
       "    </tr>\n",
       "    <tr>\n",
       "      <th>6</th>\n",
       "      <td>((0.13+0.03j), £)</td>\n",
       "      <td>((0.22-0.27j), q)</td>\n",
       "    </tr>\n",
       "    <tr>\n",
       "      <th>7</th>\n",
       "      <td>((0.11+0.1j), n)</td>\n",
       "      <td>((0.21-0.13j), 3)</td>\n",
       "    </tr>\n",
       "    <tr>\n",
       "      <th>8</th>\n",
       "      <td>((0.11-0.06j), u)</td>\n",
       "      <td>((0.17+0.4j), f)</td>\n",
       "    </tr>\n",
       "    <tr>\n",
       "      <th>9</th>\n",
       "      <td>((0.09+0.1j), o)</td>\n",
       "      <td>((0.16-0.21j), 5)</td>\n",
       "    </tr>\n",
       "    <tr>\n",
       "      <th>10</th>\n",
       "      <td>((0.07+0.1j), q)</td>\n",
       "      <td>((0.13+0.25j), x)</td>\n",
       "    </tr>\n",
       "    <tr>\n",
       "      <th>11</th>\n",
       "      <td>((0.05-0.01j), 6)</td>\n",
       "      <td>((0.13+0.06j), 4)</td>\n",
       "    </tr>\n",
       "    <tr>\n",
       "      <th>12</th>\n",
       "      <td>((0.04-0.04j), 7)</td>\n",
       "      <td>((0.09-0.37j), l)</td>\n",
       "    </tr>\n",
       "    <tr>\n",
       "      <th>13</th>\n",
       "      <td>((0.03+0.11j), l)</td>\n",
       "      <td>((0.07-0.3j), s)</td>\n",
       "    </tr>\n",
       "    <tr>\n",
       "      <th>14</th>\n",
       "      <td>((0.03+0.02j), 5)</td>\n",
       "      <td>((0.05-0.08j), h)</td>\n",
       "    </tr>\n",
       "  </tbody>\n",
       "</table>\n",
       "</div>"
      ],
      "text/plain": [
       "                    0                  1\n",
       "0   ((0.36+0.08j), a)      ((1+0.7j), u)\n",
       "1    ((0.2-0.01j), x)  ((0.55-0.81j), o)\n",
       "2   ((0.19-0.13j), y)  ((0.39+0.12j), v)\n",
       "3   ((0.18-0.04j), d)  ((0.36+0.69j), w)\n",
       "4   ((0.15-0.05j), s)  ((0.33+0.23j), d)\n",
       "5   ((0.14-0.03j), t)  ((0.31-0.17j), 1)\n",
       "6   ((0.13+0.03j), £)  ((0.22-0.27j), q)\n",
       "7    ((0.11+0.1j), n)  ((0.21-0.13j), 3)\n",
       "8   ((0.11-0.06j), u)   ((0.17+0.4j), f)\n",
       "9    ((0.09+0.1j), o)  ((0.16-0.21j), 5)\n",
       "10   ((0.07+0.1j), q)  ((0.13+0.25j), x)\n",
       "11  ((0.05-0.01j), 6)  ((0.13+0.06j), 4)\n",
       "12  ((0.04-0.04j), 7)  ((0.09-0.37j), l)\n",
       "13  ((0.03+0.11j), l)   ((0.07-0.3j), s)\n",
       "14  ((0.03+0.02j), 5)  ((0.05-0.08j), h)"
      ]
     },
     "execution_count": 46,
     "metadata": {},
     "output_type": "execute_result"
    }
   ],
   "source": [
    "T_score, Tn, T_sign = pair_scores[10][1]\n",
    "\n",
    "Tn = 10\n",
    "T_sign = -1\n",
    "print(Tn)\n",
    "print(T_score)\n",
    "\n",
    "type_L = sorted([(round(score*T_sign,2),term) for term, score in zip(terms,U.T[Tn])], reverse=True)\n",
    "type_R = sorted([(round(score*T_sign,2),context) for context, score in zip(contexts,Vh[Tn])], reverse=True)\n",
    "slg.util.df([type_L[:15],type_R[:15]])"
   ]
  },
  {
   "cell_type": "code",
   "execution_count": 47,
   "metadata": {},
   "outputs": [],
   "source": [
    "tl_vector = m_pmi.T[terms_dict[\"4\"]].toarray()"
   ]
  },
  {
   "cell_type": "code",
   "execution_count": 48,
   "metadata": {},
   "outputs": [
    {
     "data": {
      "text/plain": [
       "array([[ 14.23609017+0.j        , -17.76429664+0.j        ,\n",
       "         -2.03120046+0.j        ,   4.72969412+0.97850303j,\n",
       "          4.72969412-0.97850303j,  -0.02126664+1.15454518j,\n",
       "         -0.02126664-1.15454518j,  -0.65657083+2.28277402j,\n",
       "         -0.65657083-2.28277402j,  -3.08283737+1.44334338j,\n",
       "         -3.08283737-1.44334338j,  -0.09851013-2.23513747j,\n",
       "         -0.09851013+2.23513747j,  -1.0468009 +0.j        ,\n",
       "          3.65042439+1.07410596j,   3.65042439-1.07410596j,\n",
       "          2.01598924-2.83975379j,   2.01598924+2.83975379j,\n",
       "          2.47388744+1.63888998j,   2.47388744-1.63888998j,\n",
       "          1.17623174+0.j        ,   1.00572359+1.35848692j,\n",
       "          1.00572359-1.35848692j,  -1.39846556+0.j        ,\n",
       "          0.80123555+0.76207912j,   0.80123555-0.76207912j,\n",
       "         -1.52448237+0.87631243j,  -1.52448237-0.87631243j,\n",
       "         -0.71395116+1.13989912j,  -0.71395116-1.13989912j,\n",
       "         -2.37555084+0.j        ,  -1.61178298-0.12134959j,\n",
       "         -1.61178298+0.12134959j,   0.83275205+0.j        ,\n",
       "          0.16991624+0.02564743j,   0.16991624-0.02564743j,\n",
       "         -0.11845389+0.j        ]])"
      ]
     },
     "execution_count": 48,
     "metadata": {},
     "output_type": "execute_result"
    }
   ],
   "source": [
    "U_projection = tl_vector.dot(U)\n",
    "U_projection"
   ]
  },
  {
   "cell_type": "code",
   "execution_count": 49,
   "metadata": {},
   "outputs": [
    {
     "data": {
      "text/plain": [
       "array([[ 1, 10,  9, 30,  2, 31, 32, 27, 26, 23, 13, 29, 28,  8,  7, 36,\n",
       "        11, 12,  6,  5, 35, 34, 25, 24, 33, 22, 21, 20, 16, 17, 19, 18,\n",
       "        15, 14,  4,  3,  0]])"
      ]
     },
     "execution_count": 49,
     "metadata": {},
     "output_type": "execute_result"
    }
   ],
   "source": [
    "np.argsort(U_projection)"
   ]
  }
 ],
 "metadata": {
  "kernelspec": {
   "display_name": "Python 3.9.5 64-bit",
   "language": "python",
   "name": "python3"
  },
  "language_info": {
   "codemirror_mode": {
    "name": "ipython",
    "version": 3
   },
   "file_extension": ".py",
   "mimetype": "text/x-python",
   "name": "python",
   "nbconvert_exporter": "python",
   "pygments_lexer": "ipython3",
   "version": "3.9.13"
  },
  "orig_nbformat": 4,
  "vscode": {
   "interpreter": {
    "hash": "ac2eaa0ea0ebeafcc7822e65e46aa9d4f966f30b695406963e145ea4a91cd4fc"
   }
  }
 },
 "nbformat": 4,
 "nbformat_minor": 2
}
