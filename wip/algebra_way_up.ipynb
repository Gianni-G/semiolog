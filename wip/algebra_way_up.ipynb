{
 "cells": [
  {
   "cell_type": "code",
   "execution_count": 1,
   "metadata": {},
   "outputs": [],
   "source": [
    "import os\n",
    "os.chdir(\"../\")\n",
    "\n",
    "import semiolog as slg"
   ]
  },
  {
   "cell_type": "code",
   "execution_count": 2,
   "metadata": {},
   "outputs": [
    {
     "name": "stdout",
     "output_type": "stream",
     "text": [
      "SLG [I]: Checking config correctness... Config correct!\n"
     ]
    },
    {
     "name": "stderr",
     "output_type": "stream",
     "text": [
      "100%|██████████| 3/3 [00:00<00:00, 26.51it/s]"
     ]
    },
    {
     "name": "stdout",
     "output_type": "stream",
     "text": [
      "SLG [I]: Dataset loaded from disk (TXT files)\n",
      "SLG [I]: Vocabulary loaded from disk\n"
     ]
    },
    {
     "name": "stderr",
     "output_type": "stream",
     "text": [
      "\n"
     ]
    },
    {
     "name": "stdout",
     "output_type": "stream",
     "text": [
      "SLG [I]: nGrams loaded from disk (['6.json', '7.json', '2.json', '3.json', '4.json', '5.json'])\n",
      "Metal device set to: Apple M1\n",
      "\n",
      "systemMemory: 16.00 GB\n",
      "maxCacheSize: 5.33 GB\n",
      "\n"
     ]
    },
    {
     "name": "stderr",
     "output_type": "stream",
     "text": [
      "2022-04-25 22:39:26.657405: I tensorflow/core/common_runtime/pluggable_device/pluggable_device_factory.cc:305] Could not identify NUMA node of platform GPU ID 0, defaulting to 0. Your kernel may not have been built with NUMA support.\n",
      "2022-04-25 22:39:26.657655: I tensorflow/core/common_runtime/pluggable_device/pluggable_device_factory.cc:271] Created TensorFlow device (/job:localhost/replica:0/task:0/device:GPU:0 with 0 MB memory) -> physical PluggableDevice (device: 0, name: METAL, pci bus id: <undefined>)\n",
      "All model checkpoint layers were used when initializing TFBertForMaskedLM.\n",
      "\n",
      "All the layers of TFBertForMaskedLM were initialized from the model checkpoint at models/en_bnc/paradigms/tf_model.h5.\n",
      "If your task is similar to the task the model of the checkpoint was trained on, you can already use TFBertForMaskedLM for predictions without further training.\n"
     ]
    },
    {
     "name": "stdout",
     "output_type": "stream",
     "text": [
      "SLG [I]: Paradigmatizer loaded from disk\n"
     ]
    }
   ],
   "source": [
    "semiotic = slg.Cenematic(\"en_bnc\")"
   ]
  },
  {
   "cell_type": "code",
   "execution_count": 3,
   "metadata": {},
   "outputs": [],
   "source": [
    "from collections import defaultdict\n",
    "import seaborn as sns\n",
    "import networkx as nx\n",
    "import graphviz as gv\n",
    "from ipywidgets import interact\n",
    "from math import log\n",
    "from numpy.linalg import svd\n",
    "import numpy as np"
   ]
  },
  {
   "cell_type": "code",
   "execution_count": 4,
   "metadata": {},
   "outputs": [],
   "source": [
    "def norm_pmi_dict(a:dict, ab:dict):\n",
    "    #TODO this needs to be revised, in particular for the \"\\\\\"\n",
    "    norm_factor = 1/sum(a.values())\n",
    "    a_norm = {k:v*norm_factor for k,v in a.items()}\n",
    "    ab_norm = {k:v*norm_factor for k,v in ab.items()}\n",
    "\n",
    "    ab_norm_pmi = defaultdict(lambda: -1)\n",
    "    for k,v in ab_norm.items():\n",
    "        if '\\\\' not in k:\n",
    "            ab_norm_pmi[k] = log(v/(a_norm[k[0]]*a_norm[k[1]]))*-1/log(v)\n",
    "\n",
    "    # ab_norm_pmi = {k:log(v/(a_norm[k[0]]*a_norm[k[1]]))*1/log(v) for k,v in ab_norm.items() if '\\\\' not in k}\n",
    "\n",
    "    return ab_norm_pmi"
   ]
  },
  {
   "cell_type": "code",
   "execution_count": 5,
   "metadata": {},
   "outputs": [],
   "source": [
    "ng1 = semiotic.vocab.ng1\n",
    "ng2 = semiotic.vocab.ng2\n",
    "ng3 = semiotic.vocab.ng3\n",
    "ng4 = semiotic.vocab.ng4\n",
    "ng5 = semiotic.vocab.ng5\n",
    "ng6 = semiotic.vocab.ng6\n",
    "ng7 = semiotic.vocab.ng7"
   ]
  },
  {
   "cell_type": "code",
   "execution_count": 5,
   "metadata": {},
   "outputs": [],
   "source": [
    "ng1keys = semiotic.vocab.ng1.keys[:37]\n",
    "ng1freq = semiotic.vocab.ng1.freq\n",
    "ng1_enc = semiotic.vocab.ng1.encode\n",
    "ng1_dec = semiotic.vocab.ng1.decode\n",
    "ng2keys = [l+r for l in ng1keys for r in ng1keys]\n",
    "ng2_enc = {k: i for i,k in enumerate(ng2keys)}\n",
    "ng2_dec = {i: k for i,k in enumerate(ng2keys)}\n",
    "ng1 = semiotic.vocab.ng1\n",
    "ng2 = semiotic.vocab.ng2\n",
    "ng3 = semiotic.vocab.ng3\n",
    "\n",
    "ng2_norm_pmi = norm_pmi_dict(ng1.freq, ng2.freq)"
   ]
  },
  {
   "cell_type": "code",
   "execution_count": 5,
   "metadata": {},
   "outputs": [
    {
     "name": "stdout",
     "output_type": "stream",
     "text": [
      "Building oR Matrix...\n",
      "Term-Context Matrix built in 0.0 secs.\n",
      "\n",
      "Building oR Matrix...\n",
      "Term-Context Matrix built in 0.28 secs.\n",
      "\n",
      "Building oR Matrix...\n",
      "Term-Context Matrix built in 0.02 secs.\n",
      "\n"
     ]
    }
   ],
   "source": [
    "m_freq_1_1 = slg.util.build_term_context_matrix(\n",
    "    terms = ng1keys,\n",
    "    contexts = ng1keys,\n",
    "    orthogonals = ng2.freq,\n",
    "    normalizeQ = False)\n",
    "    \n",
    "m_freq_2_1 = slg.util.build_term_context_matrix(\n",
    "    terms = ng2keys,\n",
    "    contexts = ng1keys,\n",
    "    orthogonals = ng3.freq,\n",
    "    normalizeQ = False)\n",
    "\n",
    "m_freq_1_2 = slg.util.build_term_context_matrix(\n",
    "    terms = ng1keys,\n",
    "    contexts = ng2keys,\n",
    "    orthogonals = ng3.freq,\n",
    "    normalizeQ = False)"
   ]
  },
  {
   "cell_type": "code",
   "execution_count": 6,
   "metadata": {},
   "outputs": [
    {
     "name": "stdout",
     "output_type": "stream",
     "text": [
      "Computing PMI Matrix...\n",
      "Type: spmi\n",
      "Smoothing (alpha): 0.75\n",
      "Done\n",
      "PMI Matrix built in 0.03 secs.\n",
      "Done\n",
      "\n",
      "Computing PMI Matrix...\n",
      "Type: spmi\n",
      "Smoothing (alpha): 0.75\n",
      "Done\n",
      "PMI Matrix built in 0.77 secs.\n",
      "Done\n",
      "\n",
      "Computing PMI Matrix...\n",
      "Type: spmi\n",
      "Smoothing (alpha): 0.75\n",
      "Done\n",
      "PMI Matrix built in 0.78 secs.\n",
      "Done\n",
      "\n"
     ]
    }
   ],
   "source": [
    "m_pmi_1_1 = slg.util.build_pmi_matrix(\n",
    "    m_freq_1_1,\n",
    "    type = \"spmi\",\n",
    "    alpha = .75,\n",
    "    normalizeQ = False,\n",
    "    )\n",
    "m_pmi_2_1 = slg.util.build_pmi_matrix(\n",
    "    m_freq_2_1,\n",
    "    type = \"spmi\",\n",
    "    alpha = .75,\n",
    "    normalizeQ = False,\n",
    "    )\n",
    "m_pmi_1_2 = slg.util.build_pmi_matrix(\n",
    "    m_freq_1_2,\n",
    "    type = \"spmi\",\n",
    "    alpha = .75,\n",
    "    normalizeQ = False,\n",
    "    )"
   ]
  },
  {
   "cell_type": "code",
   "execution_count": 7,
   "metadata": {},
   "outputs": [
    {
     "name": "stdout",
     "output_type": "stream",
     "text": [
      "Building oR Matrix...\n",
      "Term-Context Matrix built in 0.01 secs.\n",
      "\n"
     ]
    }
   ],
   "source": [
    "m_norm_pmi_1_1 = slg.util.build_term_context_matrix(\n",
    "    terms = ng1keys,\n",
    "    contexts = ng1keys,\n",
    "    orthogonals = ng2_norm_pmi,\n",
    "    normalizeQ = False)"
   ]
  },
  {
   "cell_type": "code",
   "execution_count": 8,
   "metadata": {},
   "outputs": [
    {
     "data": {
      "image/png": "[encoded data removed]",
      "text/plain": [
       "<Figure size 432x288 with 2 Axes>"
      ]
     },
     "metadata": {
      "needs_background": "light"
     },
     "output_type": "display_data"
    }
   ],
   "source": [
    "ax = sns.heatmap(m_norm_pmi_1_1.toarray())"
   ]
  },
  {
   "cell_type": "code",
   "execution_count": 8,
   "metadata": {},
   "outputs": [],
   "source": [
    "U11, s11, Vh11 = svd11 = svd(m_pmi_1_1.toarray())\n",
    "U21, s21, Vh21 = svd21 = svd(m_pmi_2_1.toarray())\n",
    "U12, s12, Vh12 = svd12 = svd(m_pmi_1_2.toarray())"
   ]
  },
  {
   "cell_type": "code",
   "execution_count": 9,
   "metadata": {},
   "outputs": [],
   "source": [
    "U11, s11, Vh11 = svd11 = svd(m_norm_pmi_1_1.toarray())"
   ]
  },
  {
   "cell_type": "code",
   "execution_count": 10,
   "metadata": {},
   "outputs": [
    {
     "data": {
      "text/html": [
       "<div>\n",
       "<style scoped>\n",
       "    .dataframe tbody tr th:only-of-type {\n",
       "        vertical-align: middle;\n",
       "    }\n",
       "\n",
       "    .dataframe tbody tr th {\n",
       "        vertical-align: top;\n",
       "    }\n",
       "\n",
       "    .dataframe thead th {\n",
       "        text-align: right;\n",
       "    }\n",
       "</style>\n",
       "<table border=\"1\" class=\"dataframe\">\n",
       "  <thead>\n",
       "    <tr style=\"text-align: right;\">\n",
       "      <th></th>\n",
       "      <th>0</th>\n",
       "      <th>1</th>\n",
       "    </tr>\n",
       "  </thead>\n",
       "  <tbody>\n",
       "    <tr>\n",
       "      <th>0</th>\n",
       "      <td>(0.3284938221771163, 1)</td>\n",
       "      <td>(0.3496899236221681, 0)</td>\n",
       "    </tr>\n",
       "    <tr>\n",
       "      <th>1</th>\n",
       "      <td>(0.32597298347372805, 9)</td>\n",
       "      <td>(0.31232626236083033, 8)</td>\n",
       "    </tr>\n",
       "    <tr>\n",
       "      <th>2</th>\n",
       "      <td>(0.2946954550710602, 8)</td>\n",
       "      <td>(0.3099012819651378, 5)</td>\n",
       "    </tr>\n",
       "    <tr>\n",
       "      <th>3</th>\n",
       "      <td>(0.289136814374553, £)</td>\n",
       "      <td>(0.30819761873749923, 9)</td>\n",
       "    </tr>\n",
       "    <tr>\n",
       "      <th>4</th>\n",
       "      <td>(0.28311291829309304, 2)</td>\n",
       "      <td>(0.30581311256527033, 7)</td>\n",
       "    </tr>\n",
       "    <tr>\n",
       "      <th>5</th>\n",
       "      <td>(0.27610544125336456, 7)</td>\n",
       "      <td>(0.2961987547861401, 6)</td>\n",
       "    </tr>\n",
       "    <tr>\n",
       "      <th>6</th>\n",
       "      <td>(0.27562053043779094, 3)</td>\n",
       "      <td>(0.28891767227786336, 4)</td>\n",
       "    </tr>\n",
       "    <tr>\n",
       "      <th>7</th>\n",
       "      <td>(0.26321254421318546, 6)</td>\n",
       "      <td>(0.28305635041447874, 3)</td>\n",
       "    </tr>\n",
       "    <tr>\n",
       "      <th>8</th>\n",
       "      <td>(0.2600356988533819, 4)</td>\n",
       "      <td>(0.2732544547961956, 2)</td>\n",
       "    </tr>\n",
       "    <tr>\n",
       "      <th>9</th>\n",
       "      <td>(0.2504448675507056, 5)</td>\n",
       "      <td>(0.24309146789874217, 1)</td>\n",
       "    </tr>\n",
       "    <tr>\n",
       "      <th>10</th>\n",
       "      <td>(0.22261328239526762, 0)</td>\n",
       "      <td>(0.0628797208708586, £)</td>\n",
       "    </tr>\n",
       "    <tr>\n",
       "      <th>11</th>\n",
       "      <td>(0.009170681046746756, x)</td>\n",
       "      <td>(0.03503274780456802, j)</td>\n",
       "    </tr>\n",
       "    <tr>\n",
       "      <th>12</th>\n",
       "      <td>(-0.006364800535821837, z)</td>\n",
       "      <td>(0.018350600313179408, p)</td>\n",
       "    </tr>\n",
       "    <tr>\n",
       "      <th>13</th>\n",
       "      <td>(-0.011585494329142385, y)</td>\n",
       "      <td>(0.0033045119305946695, w)</td>\n",
       "    </tr>\n",
       "    <tr>\n",
       "      <th>14</th>\n",
       "      <td>(-0.027847031572359404, q)</td>\n",
       "      <td>(0.003017962492279515, x)</td>\n",
       "    </tr>\n",
       "  </tbody>\n",
       "</table>\n",
       "</div>"
      ],
      "text/plain": [
       "                             0                           1\n",
       "0      (0.3284938221771163, 1)     (0.3496899236221681, 0)\n",
       "1     (0.32597298347372805, 9)    (0.31232626236083033, 8)\n",
       "2      (0.2946954550710602, 8)     (0.3099012819651378, 5)\n",
       "3       (0.289136814374553, £)    (0.30819761873749923, 9)\n",
       "4     (0.28311291829309304, 2)    (0.30581311256527033, 7)\n",
       "5     (0.27610544125336456, 7)     (0.2961987547861401, 6)\n",
       "6     (0.27562053043779094, 3)    (0.28891767227786336, 4)\n",
       "7     (0.26321254421318546, 6)    (0.28305635041447874, 3)\n",
       "8      (0.2600356988533819, 4)     (0.2732544547961956, 2)\n",
       "9      (0.2504448675507056, 5)    (0.24309146789874217, 1)\n",
       "10    (0.22261328239526762, 0)     (0.0628797208708586, £)\n",
       "11   (0.009170681046746756, x)    (0.03503274780456802, j)\n",
       "12  (-0.006364800535821837, z)   (0.018350600313179408, p)\n",
       "13  (-0.011585494329142385, y)  (0.0033045119305946695, w)\n",
       "14  (-0.027847031572359404, q)   (0.003017962492279515, x)"
      ]
     },
     "execution_count": 10,
     "metadata": {},
     "output_type": "execute_result"
    }
   ],
   "source": [
    "Tn = 0\n",
    "T_sign = -1\n",
    "U = U11\n",
    "Vh = Vh11\n",
    "\n",
    "type_L = sorted([(score*T_sign,term) for term, score in zip(ng1keys,U.T[Tn])], reverse=True)\n",
    "type_R = sorted([(score*T_sign,context) for context, score in zip(ng1keys,Vh[Tn])], reverse=True)\n",
    "slg.util.df([type_L[:15],type_R[:15]])"
   ]
  },
  {
   "cell_type": "code",
   "execution_count": 13,
   "metadata": {},
   "outputs": [
    {
     "data": {
      "text/plain": [
       "'understanding'"
      ]
     },
     "execution_count": 13,
     "metadata": {},
     "output_type": "execute_result"
    }
   ],
   "source": [
    "from random import randint\n",
    "sent = semiotic.corpus.train[randint(0,100000)][\"text\"]\n",
    "# sent = \"This is very good\"\n",
    "sent = \"understanding\"\n",
    "norm_text = semiotic.syntagmatic.tokenizer.normalizer.normalize_str(sent)\n",
    "sent"
   ]
  },
  {
   "cell_type": "code",
   "execution_count": 14,
   "metadata": {},
   "outputs": [],
   "source": [
    "pairs = set(slg.vocabulary.nGram.extract_ngrams(norm_text,2))\n",
    "triplets = set(slg.vocabulary.nGram.extract_ngrams(norm_text,3))\n",
    "triplets21 = {(\"\".join((l,c)),r) for l,c,r in triplets}\n",
    "triplets12 = {(l,\"\".join((c,r))) for l,c,r in triplets}\n"
   ]
  },
  {
   "cell_type": "code",
   "execution_count": 15,
   "metadata": {},
   "outputs": [],
   "source": [
    "def tuple_scores(tuples,svd,ng_l,ng_r):\n",
    "    U,s,Vh = svd\n",
    "    tup_scores = []\n",
    "    for tup in tuples:\n",
    "        l = tup[0]\n",
    "        r = tup[1]\n",
    "\n",
    "        Tn_scores = []\n",
    "        for type_n in range(s.size):\n",
    "            Tl_score = U.T[type_n,ng_l[l]]\n",
    "            Tr_score = Vh[type_n,ng_r[r]]\n",
    "            Tn_score = Tl_score*Tr_score*s[type_n]\n",
    "            signature = 1 if Tl_score>=0 else -1\n",
    "            Tn_scores.append((Tn_score, type_n, signature))\n",
    "\n",
    "        Tn_scores = sorted(Tn_scores,reverse=True)\n",
    "        \n",
    "        tup_scores.append((tup,Tn_scores[0]))\n",
    "\n",
    "    tup_scores_dict = dict(tup_scores)\n",
    "\n",
    "    segmentation_index = defaultdict(list)\n",
    "    for i, tup in enumerate(zip(norm_text, norm_text[1:])):\n",
    "        segmentation_index[tup] += [i+1]\n",
    "        \n",
    "    tup_scores_sorted = sorted(tup_scores,key=lambda x: x[1][0])\n",
    "    return tup_scores_sorted"
   ]
  },
  {
   "cell_type": "code",
   "execution_count": 16,
   "metadata": {},
   "outputs": [],
   "source": [
    "norm_pmi = {k:v for k,(v,t,s) in tuple_scores(pairs,svd11,ng1_enc,ng1_enc)}"
   ]
  },
  {
   "cell_type": "code",
   "execution_count": 17,
   "metadata": {},
   "outputs": [],
   "source": [
    "G = nx.DiGraph()\n",
    "\n",
    "to_segment = [(norm_text,(0,len(norm_text)))]\n",
    "\n",
    "while len(to_segment)>0:\n",
    "    for segment, offset in to_segment:\n",
    "        segmentation_index = defaultdict(list)\n",
    "        pairs = []\n",
    "        for i, pair in enumerate(zip(segment, segment[1:])):\n",
    "            segmentation_index[pair] += [i+1]\n",
    "            pairs.append(pair)\n",
    "        best_pair = sorted([(norm_pmi[pair], pair) for pair in pairs])[0][1]\n",
    "        best_cut = segmentation_index[best_pair][0]\n",
    "        G.add_edge((segment,offset), (segment[:best_cut],(offset[0],offset[0]+best_cut)))\n",
    "        G.add_edge((segment,offset), (segment[best_cut:],(offset[0]+best_cut,offset[1])))\n",
    "        \n",
    "        to_segment = [x for x in G.nodes() if G.out_degree(x)==0 and G.in_degree(x)==1]\n",
    "        to_segment = [seg for seg in to_segment if len(seg[0])>2]"
   ]
  },
  {
   "cell_type": "code",
   "execution_count": 18,
   "metadata": {},
   "outputs": [
    {
     "data": {
      "application/vnd.jupyter.widget-view+json": {
       "model_id": "119633658861466184a1b2ed5d3fa085",
       "version_major": 2,
       "version_minor": 0
      },
      "text/plain": [
       "interactive(children=(Output(),), _dom_classes=('widget-interact',))"
      ]
     },
     "metadata": {},
     "output_type": "display_data"
    }
   ],
   "source": [
    "seg_tree = G\n",
    "seg_tree_graph = gv.Digraph(name=\"seg_tree\")\n",
    "\n",
    "tree_nodes_list = [(str(i), l) for l, i in list(seg_tree.nodes)]\n",
    "for node in tree_nodes_list:\n",
    "    seg_tree_graph.node(\n",
    "        *node, color=\"white\", fontsize=\"20\", fontname=\"RobotoMono-Thin\"\n",
    "    )  # style=\"filled\", color=\"grey\")\n",
    "seg_tree_graph.attr(\"edge\", color=\"slategrey\")\n",
    "seg_tree_graph.edges([(str(p[1]), str(c[1])) for p, c in list(seg_tree.edges)])\n",
    "\n",
    "@interact\n",
    "def inter():\n",
    "    return seg_tree_graph"
   ]
  },
  {
   "cell_type": "code",
   "execution_count": 6,
   "metadata": {},
   "outputs": [],
   "source": [
    "ng1.freq\n",
    "norm_factor = 1/sum(ng1.freq.values())\n",
    "\n",
    "ng1.prob = {k:v*norm_factor for k,v in ng1.freq.items()}\n",
    "ng2.prob = {k:v*norm_factor for k,v in ng2.freq.items()}\n",
    "ng3.prob = {k:v*norm_factor for k,v in ng3.freq.items()}\n",
    "\n",
    "ng_prob = {**ng1.prob,**ng2.prob,**ng3.prob}"
   ]
  },
  {
   "cell_type": "code",
   "execution_count": 7,
   "metadata": {},
   "outputs": [],
   "source": [
    "def pmi(prob_a,prob_b,prob_ab):\n",
    "    return log(prob_ab/(prob_a*prob_b))*-1/log(prob_ab)"
   ]
  },
  {
   "cell_type": "code",
   "execution_count": 8,
   "metadata": {},
   "outputs": [
    {
     "data": {
      "text/plain": [
       "0.4208809512081089"
      ]
     },
     "execution_count": 8,
     "metadata": {},
     "output_type": "execute_result"
    }
   ],
   "source": [
    "pmi(ng_prob[\"th\"],ng_prob[\"e\"],ng_prob[\"the\"])"
   ]
  },
  {
   "cell_type": "code",
   "execution_count": 9,
   "metadata": {},
   "outputs": [
    {
     "name": "stdout",
     "output_type": "stream",
     "text": [
      "['e', 't', 'a', 'o', 'i', 'n', 's', 'r', 'h', 'l', 'd', 'c', 'th', 'u', 'm', 'he', 'f', 'p', 'g', 'w', 'in', 'the', 'y', 'er', 'b', 'an', 're', 'on', 'es', 'nt', 'en', 'st', 'at', 'ti', 'ed', 'nd', 'to', 'v', 'or', 'ea', 'ha', 'it', 'te', 'ar', 'ou', 'ng', 'is', 'al', 'as', 'of', 'et', 'se', 'k', 'and', 'ing', 've', 'le', 'ro', 'hi', 'me', 'co', 'sa', 'ra', 'ne', 'ec', 'ta', 'ri', 'de', 'si', 'so', 'el', 'll', 'li', 'io', 'ic', 'di', 'no', 'be', 'ot', 'tt', 'om', 'ce', 'rt', 'la', 'ee', 'ma', 'ch', 'na', 'ent', 'em', 'ns', 'ion', 'ho', 'ur', 'her', 'ss', 'ts', 'rs', 'ca', 'fo', 'wa', 'sh', 'ac', 'ni', 'ere', 'ei', 'tha', 'il', 'ut', 'dt', 'pe', 'ly', 'us', 'nc', 'da', 'lo', 'tr', 'ew', 'tio', 'we', 'eo', 'ad', 'wh', 'ow', 'ep', 'wi', 'pr', 'un', 'ge', 'ft', 'for', 'hat', 'do', 'nth', 'ct', 'int', 'ai', 'ef', 'ati', 'yo', 'os', 'ol', 'id', 'ie', 'ul', 'mo', 'po', 'pa', 'ter', 'mi', 'fi', 'ld', 'eth', 'im', 'ir', 'su', 'est', 'am', 'gh', 'oft', 'ds', 'ke', 'ev', 'oo', 'hes', 'tw', 'fth', 'ers', 'tth', 'thi', 'op', 'all', 'sp', 'ay', 'ht', 'wo', 'ver', 'ab', 'oth', 'res', 'his', 'ate', 'sc', 'rea', 'pl', 'ith', 'dth', 'ig', 'ga', 'x', 'iv', 'ry', 'vi', 'was', 'are', 'ont', 'fe', 'fa', 'ia', 'sw', 'rd', 'eb', 'ci', 'sth', 'you', 'av', 'ap', 'go', 'tu', 'ey', 'ty', 'ag', 'rm', 'tin', 'ons', 'con', 'mp', 'od', 'eh', 'bl', 'ear', 'fr', 'wit', '1', 'sin', 'bu', 'men', 'ort', 'edt', 'eg', 'bo', 'eco', 'oc', 'nce', 'yt', 'ys', 'rth', 'j', 'eve', 'ls', 'sto', 'ist', 'ted', 'din', 'if', 'sta', 'lt', 'ess', 'pro', 'san', 'ov', 'our', 'eof', 'db', 'gi', 'one', 'ya', 'sof', 'ive', 'com', 'ye', 'att', 'gr', 'ex', 'ome', 'uc', 'era', 'rc', 'iti', 'ast', 'ean', 'gt', 'hec', 'ein', 'out', 'rn', 'hen', 'ff', 'ght', 'edi', 'ngt', 'ore', 'ob', 'not', 'ba', 'ill', 'ave', '0', 'she', 'ert', 'hem', 'ck', 'nto', 'ndt', 'ect', 'een', 'ant', 'hin', 'du', 'ain', 'esa', 'rr', 'tl', 'eri', 'eto', 'up', 'by', 'oa', 'nin', 'man', 'oul', 'hea', 'tan', 'sm', 'tof', 'ona', 'cl', 'oun', 'ine', 'dr', 'ove', 'per', 'eda', 'ug', 'nde', 'dto', 'oi', 'tot', 'igh', 'ste', 'ki', 'cr', 'uld', 'ese', 'pp', 'hep', 'ndi', 'eas', 'red', 'sti', 'ide', 'sf', 'cu', 'art', 'nte', 'hav', 'str', 'ran', 'han', 'rin', 'nti', 'sb', 'dw', 'der', 'tho', 'tra', 'ica', 'ina', 'hed', 'cha', 'tor', 'but', 'cti', 'rom', 'whi', 'q', 'dh', 'hei', 'cou', 'nf', 'hou', 'yi', 'pi', 'rat', 'fro', 'tc', 'und', 'rl', 'ny', 'ua', 'ru', 'ble', 'wer', 'use', 'af', '9', 'qu', 'ak', 'yth', 'ure', 'lin', 'par', 'sl', 'au', 'hey', 'hel', 'br', 'ue', 'enc', 'hew', 'nds', 'ret', 'lan', 'had', 'eat', 'um', 'eso', 'lu', 'ich', 'its', 'ell', 'son', 'nw', 'ins', 'ren', 'ono', 'ind', 'eme', 'lea', 'rg', 'nal', 'het', 'nn', 'ies', 'act', 'sn', 'nda', 'ene', 'pre', 'nts', 'whe', 'min', 'ous', 'ass', 'rk', 'ust', 'ewa', 'nga', 'hic', 'mm', 'pt', 'ms', 'tic', 'esi', 'rou', 'can', 'efo', 'end', 'cal', 'bi', 'mu', 'dd', 'ugh', 'ema', 'og', 'sed', 'tur', 'tm', 'rec', 'tb', 'inc', 'anc', 'va', 'ces', 'age', 'eal', 'tis', 'yw', 'mb', 'lly', 'gth', 'don', 'nl', 'wor', 'fu', 'ath', 'les', 'hef', 'ssi', 'ui', 'aw', 'df', 'ten', 'oug', 'sho', 'nan', 'pu', 'gs', 'nta', 'rp', 'kin', 'ard', 'ose', 'oh', 'ok', '2', 'has', 'hr', 'nh', 'nm']\n"
     ]
    }
   ],
   "source": [
    "sorted([()])\n",
    "print([k for v,k in sorted([(-v,k) for k,v in ng_prob.items()])][:500])"
   ]
  },
  {
   "cell_type": "code",
   "execution_count": 12,
   "metadata": {},
   "outputs": [],
   "source": [
    "from itertools import chain, combinations\n",
    "\n",
    "def powerset(iterable):\n",
    "    \"powerset([1,2,3]) --> () (1,) (2,) (3,) (1,2) (1,3) (2,3) (1,2,3)\"\n",
    "    s = list(iterable)\n",
    "    return chain.from_iterable(combinations(s, r) for r in range(len(s)+1))"
   ]
  },
  {
   "cell_type": "code",
   "execution_count": 78,
   "metadata": {},
   "outputs": [
    {
     "data": {
      "text/plain": [
       "[(4.903867366027767e-11, ['id', 'ont', 'kno', 'w']),\n",
       " (4.76842250274295e-11, ['i', 'don', 't', 'kno', 'w']),\n",
       " (4.6859339693523e-11, ['i', 'd', 'ont', 'kno', 'w']),\n",
       " (3.18650729523893e-11, ['id', 'ont', 'k', 'now']),\n",
       " (3.098495933441168e-11, ['i', 'don', 't', 'k', 'now']),\n",
       " (3.0448953170697307e-11, ['i', 'd', 'ont', 'k', 'now']),\n",
       " (2.8792374341417805e-11, ['id', 'on', 't', 'kno', 'w']),\n",
       " (2.7512808751604654e-11, ['i', 'd', 'on', 't', 'kno', 'w']),\n",
       " (2.2840795545803972e-11, ['i', 'do', 'nt', 'kno', 'w']),\n",
       " (2.2000307192469672e-11, ['id', 'o', 'nt', 'kno', 'w'])]"
      ]
     },
     "execution_count": 78,
     "metadata": {},
     "output_type": "execute_result"
    }
   ],
   "source": [
    "sent = \"idontknow\"\n",
    "len_sent = len(sent)\n",
    "pws = list(powerset(range(len_sent+1)))\n",
    "possible_cuts = [i for i in pws if 0 in i and len_sent in i]\n",
    "possible_offsets = []\n",
    "for cut in possible_cuts:\n",
    "    possible_offsets.append(list(zip(cut,cut[1:])))\n",
    "possible_offsets_3 = []\n",
    "for offset in possible_offsets:\n",
    "    if max([r-l for l,r in offset])<4:\n",
    "        possible_offsets_3.append(offset)\n",
    "seg_probs = []\n",
    "for offsets in possible_offsets_3:\n",
    "    segs = [sent[l:r] for l,r in offsets]\n",
    "    seg_probs.append((np.prod([ng_prob[seg] for seg in segs]), segs))\n",
    "\n",
    "sorted(seg_probs, reverse=True)[:10]"
   ]
  },
  {
   "cell_type": "code",
   "execution_count": 19,
   "metadata": {},
   "outputs": [
    {
     "data": {
      "text/plain": [
       "['un', 'd', 'er', 's', 't', 'an', 'd', 'in', 'g']"
      ]
     },
     "execution_count": 19,
     "metadata": {},
     "output_type": "execute_result"
    }
   ],
   "source": [
    "leaves = sorted([x for x in G.nodes() if G.out_degree(x)==0 and G.in_degree(x)==1],key=lambda x:x[1])\n",
    "[k for k,o in leaves]"
   ]
  },
  {
   "cell_type": "code",
   "execution_count": null,
   "metadata": {},
   "outputs": [],
   "source": [
    "types = defaultdict(list)\n",
    "for pair, (score,type,sig) in pair_scores:\n",
    "    types[(type,sig)] += [pair]"
   ]
  },
  {
   "cell_type": "code",
   "execution_count": null,
   "metadata": {},
   "outputs": [
    {
     "name": "stdout",
     "output_type": "stream",
     "text": [
      "Building oR Matrix...\n",
      "Term-Context Matrix built in 0.09 secs.\n",
      "\n",
      "Building oR Matrix...\n",
      "Term-Context Matrix built in 0.03 secs.\n",
      "\n"
     ]
    }
   ],
   "source": [
    "m_freq_2_1 = slg.util.build_term_context_matrix(\n",
    "    terms = ng1keys+ng2keys,\n",
    "    contexts = ng1keys,\n",
    "    orthogonals = {**ng2.freq, **ng3.freq},\n",
    "    normalizeQ = False)\n",
    "\n",
    "m_freq_1_2 = slg.util.build_term_context_matrix(\n",
    "    terms = ng1keys,\n",
    "    contexts = ng1keys+ng2keys,\n",
    "    orthogonals = {**ng2.freq, **ng3.freq},\n",
    "    normalizeQ = False)"
   ]
  },
  {
   "cell_type": "code",
   "execution_count": null,
   "metadata": {},
   "outputs": [
    {
     "name": "stdout",
     "output_type": "stream",
     "text": [
      "Computing PMI Matrix...\n",
      "Type: spmi\n",
      "Smoothing (alpha): 0.75\n",
      "Done\n",
      "PMI Matrix built in 0.96 secs.\n",
      "Done\n",
      "\n",
      "Computing PMI Matrix...\n",
      "Type: spmi\n",
      "Smoothing (alpha): 0.75\n",
      "Done\n",
      "PMI Matrix built in 0.9 secs.\n",
      "Done\n",
      "\n"
     ]
    }
   ],
   "source": [
    "m_pmi_2_1 = slg.util.build_pmi_matrix(\n",
    "    m_freq_2_1,\n",
    "    type = \"spmi\",\n",
    "    alpha = .75,\n",
    "    normalizeQ = False,\n",
    "    )\n",
    "m_pmi_1_2 = slg.util.build_pmi_matrix(\n",
    "    m_freq_1_2,\n",
    "    type = \"spmi\",\n",
    "    alpha = .75,\n",
    "    normalizeQ = False,\n",
    "    )"
   ]
  },
  {
   "cell_type": "code",
   "execution_count": null,
   "metadata": {},
   "outputs": [],
   "source": [
    "U21, s21, Vh21 = svd21 = svd(m_pmi_2_1.toarray())\n",
    "U12, s12, Vh12 = svd12 = svd(m_pmi_1_2.toarray())"
   ]
  },
  {
   "cell_type": "code",
   "execution_count": 22,
   "metadata": {},
   "outputs": [
    {
     "data": {
      "text/html": [
       "<div>\n",
       "<style scoped>\n",
       "    .dataframe tbody tr th:only-of-type {\n",
       "        vertical-align: middle;\n",
       "    }\n",
       "\n",
       "    .dataframe tbody tr th {\n",
       "        vertical-align: top;\n",
       "    }\n",
       "\n",
       "    .dataframe thead th {\n",
       "        text-align: right;\n",
       "    }\n",
       "</style>\n",
       "<table border=\"1\" class=\"dataframe\">\n",
       "  <thead>\n",
       "    <tr style=\"text-align: right;\">\n",
       "      <th></th>\n",
       "      <th>0_l</th>\n",
       "      <th>0_r</th>\n",
       "      <th>-0_l</th>\n",
       "      <th>-0_r</th>\n",
       "      <th>1_l</th>\n",
       "      <th>1_r</th>\n",
       "      <th>-1_l</th>\n",
       "      <th>-1_r</th>\n",
       "      <th>2_l</th>\n",
       "      <th>2_r</th>\n",
       "      <th>-2_l</th>\n",
       "      <th>-2_r</th>\n",
       "      <th>3_l</th>\n",
       "      <th>3_r</th>\n",
       "      <th>-3_l</th>\n",
       "      <th>-3_r</th>\n",
       "      <th>4_l</th>\n",
       "      <th>4_r</th>\n",
       "      <th>-4_l</th>\n",
       "      <th>-4_r</th>\n",
       "    </tr>\n",
       "  </thead>\n",
       "  <tbody>\n",
       "    <tr>\n",
       "      <th>0</th>\n",
       "      <td>£</td>\n",
       "      <td>gn</td>\n",
       "      <td>h</td>\n",
       "      <td>tn</td>\n",
       "      <td>a</td>\n",
       "      <td>id</td>\n",
       "      <td>1</td>\n",
       "      <td>js</td>\n",
       "      <td>t</td>\n",
       "      <td>oo</td>\n",
       "      <td>i</td>\n",
       "      <td>dk</td>\n",
       "      <td>v</td>\n",
       "      <td>m£</td>\n",
       "      <td>e</td>\n",
       "      <td>75</td>\n",
       "      <td>q</td>\n",
       "      <td>gn</td>\n",
       "      <td>u</td>\n",
       "      <td>jg</td>\n",
       "    </tr>\n",
       "    <tr>\n",
       "      <th>1</th>\n",
       "      <td>7</td>\n",
       "      <td>jp</td>\n",
       "      <td>t</td>\n",
       "      <td>on</td>\n",
       "      <td>o</td>\n",
       "      <td>et</td>\n",
       "      <td>9</td>\n",
       "      <td>jp</td>\n",
       "      <td>s</td>\n",
       "      <td>e</td>\n",
       "      <td>u</td>\n",
       "      <td>id</td>\n",
       "      <td>j</td>\n",
       "      <td>jh</td>\n",
       "      <td>n</td>\n",
       "      <td>30</td>\n",
       "      <td>o</td>\n",
       "      <td>ci</td>\n",
       "      <td>i</td>\n",
       "      <td>d</td>\n",
       "    </tr>\n",
       "    <tr>\n",
       "      <th>2</th>\n",
       "      <td>6</td>\n",
       "      <td>ja</td>\n",
       "      <td>w</td>\n",
       "      <td>s</td>\n",
       "      <td>i</td>\n",
       "      <td>it</td>\n",
       "      <td>8</td>\n",
       "      <td>jm</td>\n",
       "      <td>g</td>\n",
       "      <td>ao</td>\n",
       "      <td>a</td>\n",
       "      <td>hk</td>\n",
       "      <td>q</td>\n",
       "      <td>jl</td>\n",
       "      <td>r</td>\n",
       "      <td>eh</td>\n",
       "      <td>£</td>\n",
       "      <td>ce</td>\n",
       "      <td>w</td>\n",
       "      <td>e</td>\n",
       "    </tr>\n",
       "    <tr>\n",
       "      <th>3</th>\n",
       "      <td>4</td>\n",
       "      <td>sk</td>\n",
       "      <td>v</td>\n",
       "      <td>6z</td>\n",
       "      <td>e</td>\n",
       "      <td>hl</td>\n",
       "      <td>2</td>\n",
       "      <td>j0</td>\n",
       "      <td>c</td>\n",
       "      <td>y</td>\n",
       "      <td>o</td>\n",
       "      <td>ik</td>\n",
       "      <td>z</td>\n",
       "      <td>jk</td>\n",
       "      <td>s</td>\n",
       "      <td>mu</td>\n",
       "      <td>a</td>\n",
       "      <td>ca</td>\n",
       "      <td>k</td>\n",
       "      <td>au</td>\n",
       "    </tr>\n",
       "    <tr>\n",
       "      <th>4</th>\n",
       "      <td>5</td>\n",
       "      <td>ji</td>\n",
       "      <td>b</td>\n",
       "      <td>6q</td>\n",
       "      <td>r</td>\n",
       "      <td>hd</td>\n",
       "      <td>7</td>\n",
       "      <td>ja</td>\n",
       "      <td>d</td>\n",
       "      <td>oe</td>\n",
       "      <td>e</td>\n",
       "      <td>2z</td>\n",
       "      <td>b</td>\n",
       "      <td>jc</td>\n",
       "      <td>y</td>\n",
       "      <td>40</td>\n",
       "      <td>e</td>\n",
       "      <td>gc</td>\n",
       "      <td>0</td>\n",
       "      <td>a</td>\n",
       "    </tr>\n",
       "    <tr>\n",
       "      <th>5</th>\n",
       "      <td>2</td>\n",
       "      <td>jf</td>\n",
       "      <td>c</td>\n",
       "      <td>tr</td>\n",
       "      <td>l</td>\n",
       "      <td>is</td>\n",
       "      <td>3</td>\n",
       "      <td>jt</td>\n",
       "      <td>h</td>\n",
       "      <td>o</td>\n",
       "      <td>q</td>\n",
       "      <td>ig</td>\n",
       "      <td>w</td>\n",
       "      <td>pz</td>\n",
       "      <td>a</td>\n",
       "      <td>70</td>\n",
       "      <td>9</td>\n",
       "      <td>co</td>\n",
       "      <td>y</td>\n",
       "      <td>r</td>\n",
       "    </tr>\n",
       "    <tr>\n",
       "      <th>6</th>\n",
       "      <td>8</td>\n",
       "      <td>q8</td>\n",
       "      <td>p</td>\n",
       "      <td>6j</td>\n",
       "      <td>u</td>\n",
       "      <td>ig</td>\n",
       "      <td>6</td>\n",
       "      <td>jh</td>\n",
       "      <td>b</td>\n",
       "      <td>am</td>\n",
       "      <td>1</td>\n",
       "      <td>mf</td>\n",
       "      <td>k</td>\n",
       "      <td>sq</td>\n",
       "      <td>d</td>\n",
       "      <td>fe</td>\n",
       "      <td>j</td>\n",
       "      <td>gd</td>\n",
       "      <td>g</td>\n",
       "      <td>tl</td>\n",
       "    </tr>\n",
       "  </tbody>\n",
       "</table>\n",
       "</div>"
      ],
      "text/plain": [
       "  0_l 0_r -0_l -0_r 1_l 1_r -1_l -1_r 2_l 2_r -2_l -2_r 3_l 3_r -3_l -3_r 4_l  \\\n",
       "0   £  gn    h   tn   a  id    1   js   t  oo    i   dk   v  m£    e   75   q   \n",
       "1   7  jp    t   on   o  et    9   jp   s   e    u   id   j  jh    n   30   o   \n",
       "2   6  ja    w    s   i  it    8   jm   g  ao    a   hk   q  jl    r   eh   £   \n",
       "3   4  sk    v   6z   e  hl    2   j0   c   y    o   ik   z  jk    s   mu   a   \n",
       "4   5  ji    b   6q   r  hd    7   ja   d  oe    e   2z   b  jc    y   40   e   \n",
       "5   2  jf    c   tr   l  is    3   jt   h   o    q   ig   w  pz    a   70   9   \n",
       "6   8  q8    p   6j   u  ig    6   jh   b  am    1   mf   k  sq    d   fe   j   \n",
       "\n",
       "  4_r -4_l -4_r  \n",
       "0  gn    u   jg  \n",
       "1  ci    i    d  \n",
       "2  ce    w    e  \n",
       "3  ca    k   au  \n",
       "4  gc    0    a  \n",
       "5  co    y    r  \n",
       "6  gd    g   tl  "
      ]
     },
     "execution_count": 22,
     "metadata": {},
     "output_type": "execute_result"
    }
   ],
   "source": [
    "all_types = []\n",
    "columns = []\n",
    "for Tn in range(5):\n",
    "    for T_sign in [1,-1]:\n",
    "        U = U12\n",
    "        Vh = Vh12\n",
    "\n",
    "        keys_left = ng1keys\n",
    "        keys_right = ng1keys+ng2keys\n",
    "        i = 0\n",
    "        j = 30\n",
    "\n",
    "        type_L = sorted([(score*T_sign,term) for term, score in zip(keys_left,U.T[Tn])], reverse=True)\n",
    "        type_R = sorted([(score*T_sign,context) for context, score in zip(keys_right,Vh[Tn])], reverse=True)\n",
    "\n",
    "        all_types.extend([[k for v,k in type_L[:7]],[k for v,k in type_R[:7]]])\n",
    "        columns.extend([f\"{str(T_sign).replace('1','')}{Tn}_l\",f\"{str(T_sign).replace('1','')}{Tn}_r\"])\n",
    "\n",
    "slg.util.df(all_types,columns)"
   ]
  },
  {
   "cell_type": "code",
   "execution_count": null,
   "metadata": {},
   "outputs": [],
   "source": [
    "enc3 = {k:i for i,k in enumerate(ng1keys+ng2keys)}"
   ]
  },
  {
   "cell_type": "code",
   "execution_count": null,
   "metadata": {},
   "outputs": [],
   "source": [
    "tuple_scores([(\"t\",\"he\")],svd12,ng1_enc,enc3)"
   ]
  },
  {
   "cell_type": "code",
   "execution_count": null,
   "metadata": {},
   "outputs": [
    {
     "data": {
      "text/plain": [
       "[(('th', 'e'), (0.3849925595943337, 19, -1))]"
      ]
     },
     "execution_count": 99,
     "metadata": {},
     "output_type": "execute_result"
    }
   ],
   "source": [
    "tuple_scores([(\"th\",\"e\")],svd21,enc3,ng1_enc)"
   ]
  }
 ],
 "metadata": {
  "interpreter": {
   "hash": "ac2eaa0ea0ebeafcc7822e65e46aa9d4f966f30b695406963e145ea4a91cd4fc"
  },
  "kernelspec": {
   "display_name": "Python 3.9.5 64-bit",
   "language": "python",
   "name": "python3"
  },
  "language_info": {
   "codemirror_mode": {
    "name": "ipython",
    "version": 3
   },
   "file_extension": ".py",
   "mimetype": "text/x-python",
   "name": "python",
   "nbconvert_exporter": "python",
   "pygments_lexer": "ipython3",
   "version": "3.9.10"
  },
  "orig_nbformat": 4
 },
 "nbformat": 4,
 "nbformat_minor": 2
}
