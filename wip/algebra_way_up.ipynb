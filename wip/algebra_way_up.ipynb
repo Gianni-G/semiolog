{
 "cells": [
  {
   "cell_type": "code",
   "execution_count": 1,
   "metadata": {},
   "outputs": [],
   "source": [
    "import os\n",
    "os.chdir(\"../\")\n",
    "\n",
    "import semiolog as slg"
   ]
  },
  {
   "cell_type": "code",
   "execution_count": 2,
   "metadata": {},
   "outputs": [
    {
     "name": "stdout",
     "output_type": "stream",
     "text": [
      "SLG [I]: Checking config correctness... Config correct!\n"
     ]
    },
    {
     "name": "stderr",
     "output_type": "stream",
     "text": [
      "100%|██████████| 3/3 [00:00<00:00, 13.08it/s]\n"
     ]
    },
    {
     "name": "stdout",
     "output_type": "stream",
     "text": [
      "SLG [I]: Dataset loaded from disk (TXT files)\n",
      "SLG [I]: Vocabulary loaded from disk\n"
     ]
    },
    {
     "name": "stderr",
     "output_type": "stream",
     "text": [
      "All model checkpoint layers were used when initializing TFBertForMaskedLM.\n",
      "\n",
      "All the layers of TFBertForMaskedLM were initialized from the model checkpoint at models/en_bnc_test/paradigms/tf_model.h5.\n",
      "If your task is similar to the task the model of the checkpoint was trained on, you can already use TFBertForMaskedLM for predictions without further training.\n"
     ]
    },
    {
     "name": "stdout",
     "output_type": "stream",
     "text": [
      "SLG [I]: Paradigmatizer loaded from disk\n"
     ]
    }
   ],
   "source": [
    "semiotic = slg.Cenematic(\"en_bnc_test\")"
   ]
  },
  {
   "cell_type": "code",
   "execution_count": 3,
   "metadata": {},
   "outputs": [],
   "source": [
    "from collections import Counter, defaultdict\n",
    "from tqdm.notebook import tqdm\n",
    "import seaborn as sns\n",
    "from os.path import isfile\n",
    "import networkx as nx\n",
    "import graphviz as gv\n",
    "from ipywidgets import interact"
   ]
  },
  {
   "cell_type": "code",
   "execution_count": 4,
   "metadata": {},
   "outputs": [],
   "source": [
    "def extract_char_ngrams(text, n):\n",
    "    n_grams = Counter(zip(*[text[i:] for i in range(n)]))\n",
    "    return n_grams"
   ]
  },
  {
   "cell_type": "code",
   "execution_count": 6,
   "metadata": {},
   "outputs": [],
   "source": [
    "\n",
    "load_ngrams = True\n",
    "save_ngrams = False\n",
    "\n",
    "if isfile(semiotic.paths.vocabulary / \"ngrams_2.json\") and load_ngrams:\n",
    "\n",
    "    ngrams_2 = {tuple(k.split()): v for k,v in slg.util.json2dict(\"ngrams_2\",semiotic.paths.vocabulary).items()}\n",
    "\n",
    "else:\n",
    "    \n",
    "    ngrams_2 = Counter()\n",
    "    for sent in tqdm(semiotic.corpus.train[\"text\"]):\n",
    "        norm_text = semiotic.syntagmatic.tokenizer.normalizer.normalize_str(sent)\n",
    "        sent_ngrams = extract_char_ngrams(norm_text,2)\n",
    "        ngrams_2 += sent_ngrams\n",
    "\n",
    "    ngrams_2.most_common(10)\n",
    "    ngrams_2_to_disk = {l+\" \"+r : freq for (l,r), freq in ngrams_2.most_common()}\n",
    "\n",
    "    if save_ngrams:\n",
    "        slg.util.dict2json(ngrams_2_to_disk,\"ngrams_2\",semiotic.paths.vocabulary / \"ngrams\")"
   ]
  },
  {
   "cell_type": "code",
   "execution_count": 30,
   "metadata": {},
   "outputs": [
    {
     "data": {
      "application/vnd.jupyter.widget-view+json": {
       "model_id": "5de8be036d114a5d987af29f83fdf1e2",
       "version_major": 2,
       "version_minor": 0
      },
      "text/plain": [
       "  0%|          | 0/5423648 [00:00<?, ?it/s]"
      ]
     },
     "metadata": {},
     "output_type": "display_data"
    },
    {
     "data": {
      "text/plain": [
       "[(('t', 'h', 'e'), 7567830),\n",
       " (('a', 'n', 'd'), 2837044),\n",
       " (('i', 'n', 'g'), 2785563),\n",
       " (('e', 'n', 't'), 1836104),\n",
       " (('i', 'o', 'n'), 1788147),\n",
       " (('h', 'e', 'r'), 1739477),\n",
       " (('e', 'r', 'e'), 1530324),\n",
       " (('t', 'h', 'a'), 1505008),\n",
       " (('t', 'i', 'o'), 1413011),\n",
       " (('f', 'o', 'r'), 1297977)]"
      ]
     },
     "execution_count": 30,
     "metadata": {},
     "output_type": "execute_result"
    }
   ],
   "source": [
    "ngrams_3 = Counter()\n",
    "for sent in tqdm(semiotic.corpus.train[\"text\"]):\n",
    "    norm_text = semiotic.syntagmatic.tokenizer.normalizer.normalize_str(sent)\n",
    "    sent_ngrams = extract_char_ngrams(norm_text,3)\n",
    "    ngrams_3 += sent_ngrams\n",
    "\n",
    "ngrams_3.most_common(10)\n"
   ]
  },
  {
   "cell_type": "code",
   "execution_count": null,
   "metadata": {},
   "outputs": [],
   "source": [
    "slg.util.dict2json(ngrams_3,\"ngrams_3\",semiotic.paths.vocabulary / \"ngrams\")"
   ]
  },
  {
   "cell_type": "code",
   "execution_count": 33,
   "metadata": {},
   "outputs": [],
   "source": [
    "\n",
    "ngrams_3_to_disk = {\"\".join(ngram) : freq for ngram, freq in ngrams_3.most_common()}\n"
   ]
  },
  {
   "cell_type": "code",
   "execution_count": 34,
   "metadata": {},
   "outputs": [],
   "source": [
    "save_ngrams = True\n",
    "if save_ngrams:\n",
    "    slg.util.dict2json(ngrams_3_to_disk,\"ngrams_3\",semiotic.paths.vocabulary / \"ngrams\")"
   ]
  },
  {
   "cell_type": "code",
   "execution_count": 5,
   "metadata": {},
   "outputs": [],
   "source": [
    "ngrams_3 = {tuple(k): v for k,v in slg.util.json2dict(\"ngrams_3\",semiotic.paths.vocabulary / \"ngrams\").items()}"
   ]
  },
  {
   "cell_type": "code",
   "execution_count": 7,
   "metadata": {},
   "outputs": [],
   "source": [
    "terms = contexts = list(semiotic.vocab.alpha.keys())[:37]\n",
    "terms_dict = {t:i for i,t in enumerate(terms)}"
   ]
  },
  {
   "cell_type": "code",
   "execution_count": 6,
   "metadata": {},
   "outputs": [
    {
     "name": "stdout",
     "output_type": "stream",
     "text": [
      "Building oR Matrix...\n",
      "Term-Context Matrix built in 0.01 secs.\n",
      "\n"
     ]
    }
   ],
   "source": [
    "m_freq = slg.util.build_term_context_matrix(\n",
    "    terms = terms,\n",
    "    contexts = contexts,\n",
    "    orthogonals = ngrams_2,\n",
    "    normalizeQ = False)"
   ]
  },
  {
   "cell_type": "code",
   "execution_count": 7,
   "metadata": {},
   "outputs": [
    {
     "name": "stdout",
     "output_type": "stream",
     "text": [
      "Computing PMI Matrix...\n",
      "Type: spmi\n",
      "Smoothing (alpha): 0.75\n",
      "Done\n",
      "PMI Matrix built in 0.05 secs.\n",
      "Done\n",
      "\n"
     ]
    }
   ],
   "source": [
    "m_pmi = slg.util.build_pmi_matrix(\n",
    "    m_freq,\n",
    "    type = \"spmi\",\n",
    "    alpha = .75,\n",
    "    normalizeQ = False,\n",
    "    )"
   ]
  },
  {
   "cell_type": "code",
   "execution_count": 8,
   "metadata": {},
   "outputs": [
    {
     "data": {
      "image/png": "[encoded data removed]",
      "text/plain": [
       "<Figure size 432x288 with 2 Axes>"
      ]
     },
     "metadata": {
      "needs_background": "light"
     },
     "output_type": "display_data"
    }
   ],
   "source": [
    "ax = sns.heatmap(m_pmi.toarray())"
   ]
  },
  {
   "cell_type": "code",
   "execution_count": 9,
   "metadata": {},
   "outputs": [],
   "source": [
    "from numpy.linalg import svd\n",
    "\n",
    "U, s, Vh = svd(m_pmi.toarray())"
   ]
  },
  {
   "cell_type": "code",
   "execution_count": 10,
   "metadata": {},
   "outputs": [
    {
     "data": {
      "image/png": "[encoded data removed]",
      "text/plain": [
       "<Figure size 432x288 with 2 Axes>"
      ]
     },
     "metadata": {
      "needs_background": "light"
     },
     "output_type": "display_data"
    }
   ],
   "source": [
    "ax = sns.heatmap(U)"
   ]
  },
  {
   "cell_type": "code",
   "execution_count": 11,
   "metadata": {},
   "outputs": [
    {
     "data": {
      "image/png": "[encoded data removed]",
      "text/plain": [
       "<Figure size 432x288 with 2 Axes>"
      ]
     },
     "metadata": {
      "needs_background": "light"
     },
     "output_type": "display_data"
    }
   ],
   "source": [
    "ax = sns.heatmap(Vh)"
   ]
  },
  {
   "cell_type": "code",
   "execution_count": 12,
   "metadata": {},
   "outputs": [
    {
     "data": {
      "text/plain": [
       "'But then he said seen some people'"
      ]
     },
     "execution_count": 12,
     "metadata": {},
     "output_type": "execute_result"
    }
   ],
   "source": [
    "from random import randint\n",
    "sent = semiotic.corpus.train[randint(0,100000)][\"text\"]\n",
    "# sent = \"This is very good\"\n",
    "norm_text = semiotic.syntagmatic.tokenizer.normalizer.normalize_str(sent)\n",
    "sent"
   ]
  },
  {
   "cell_type": "code",
   "execution_count": 13,
   "metadata": {},
   "outputs": [],
   "source": [
    "sent_ngrams = extract_char_ngrams(norm_text,2)\n",
    "pairs = sent_ngrams.keys()\n",
    "# pairs = [(l,r) for l in terms for r in terms]"
   ]
  },
  {
   "cell_type": "code",
   "execution_count": 16,
   "metadata": {},
   "outputs": [],
   "source": [
    "pair_scores = []\n",
    "for pair in pairs:\n",
    "    l = pair[0]\n",
    "    r = pair[1]\n",
    "\n",
    "    Tn_scores = []\n",
    "    for type_n in range(s.size):\n",
    "        Tl_score = U.T[type_n,terms_dict[l]]\n",
    "        Tr_score = Vh[type_n,terms_dict[r]]\n",
    "        Tn_score = Tl_score*Tr_score*s[type_n]\n",
    "        signature = 1 if Tl_score>=0 else -1\n",
    "        Tn_scores.append((Tn_score, type_n, signature))\n",
    "\n",
    "    Tn_scores = sorted(Tn_scores,reverse=True)\n",
    "    \n",
    "    pair_scores.append((pair,Tn_scores[0]))\n",
    "\n",
    "pair_scores_dict = dict(pair_scores)\n",
    "\n",
    "segmentation_index = defaultdict(list)\n",
    "for i, pair in enumerate(zip(norm_text, norm_text[1:])):\n",
    "     segmentation_index[pair] += [i+1]\n",
    "     \n",
    "pair_scores_sorted = sorted(pair_scores,key=lambda x: x[1][0])"
   ]
  },
  {
   "cell_type": "code",
   "execution_count": 20,
   "metadata": {},
   "outputs": [],
   "source": [
    "G = nx.DiGraph()\n",
    "\n",
    "to_segment = [(norm_text,(0,len(norm_text)))]\n",
    "\n",
    "while len(to_segment)>0:\n",
    "    for segment, offset in to_segment:\n",
    "        segmentation_index = defaultdict(list)\n",
    "        pairs = []\n",
    "        for i, pair in enumerate(zip(segment, segment[1:])):\n",
    "            segmentation_index[pair] += [i+1]\n",
    "            pairs.append(pair)\n",
    "        best_pair = sorted([(pair_scores_dict[pair][0], pair) for pair in pairs])[0][1]\n",
    "        best_cut = segmentation_index[best_pair][0]\n",
    "        G.add_edge((segment,offset), (segment[:best_cut],(offset[0],offset[0]+best_cut)))\n",
    "        G.add_edge((segment,offset), (segment[best_cut:],(offset[0]+best_cut,offset[1])))\n",
    "        \n",
    "        to_segment = [x for x in G.nodes() if G.out_degree(x)==0 and G.in_degree(x)==1]\n",
    "        to_segment = [seg for seg in to_segment if len(seg[0])>2]"
   ]
  },
  {
   "cell_type": "code",
   "execution_count": 21,
   "metadata": {},
   "outputs": [
    {
     "data": {
      "application/vnd.jupyter.widget-view+json": {
       "model_id": "030a5d0ad55c48ecb17f929b80927c5a",
       "version_major": 2,
       "version_minor": 0
      },
      "text/plain": [
       "interactive(children=(Output(),), _dom_classes=('widget-interact',))"
      ]
     },
     "metadata": {},
     "output_type": "display_data"
    }
   ],
   "source": [
    "seg_tree = G\n",
    "seg_tree_graph = gv.Digraph(name=\"seg_tree\")\n",
    "\n",
    "tree_nodes_list = [(str(i), l) for l, i in list(seg_tree.nodes)]\n",
    "for node in tree_nodes_list:\n",
    "    seg_tree_graph.node(\n",
    "        *node, color=\"white\", fontsize=\"20\", fontname=\"RobotoMono-Thin\"\n",
    "    )  # style=\"filled\", color=\"grey\")\n",
    "seg_tree_graph.attr(\"edge\", color=\"slategrey\")\n",
    "seg_tree_graph.edges([(str(p[1]), str(c[1])) for p, c in list(seg_tree.edges)])\n",
    "\n",
    "@interact\n",
    "def inter():\n",
    "    return seg_tree_graph"
   ]
  },
  {
   "cell_type": "code",
   "execution_count": 140,
   "metadata": {},
   "outputs": [
    {
     "data": {
      "text/plain": [
       "[('id', (0, 2)),\n",
       " ('lo', (2, 4)),\n",
       " ('ve', (4, 6)),\n",
       " ('to', (6, 8)),\n",
       " ('s', (8, 9)),\n",
       " ('ta', (9, 11)),\n",
       " ('r', (11, 12)),\n",
       " ('t', (12, 13)),\n",
       " ('my', (13, 15)),\n",
       " ('o', (15, 16)),\n",
       " ('wn', (16, 18)),\n",
       " ('c', (18, 19)),\n",
       " ('ar', (19, 21)),\n",
       " ('re', (21, 23)),\n",
       " ('er', (23, 25)),\n",
       " ('mr', (25, 27)),\n",
       " ('e', (27, 28)),\n",
       " ('f', (28, 29)),\n",
       " ('ur', (29, 31)),\n",
       " ('bi', (31, 33)),\n",
       " ('sh', (33, 35)),\n",
       " ('me', (35, 37)),\n",
       " ('n', (37, 38)),\n",
       " ('t', (38, 39)),\n",
       " ('bu', (39, 41)),\n",
       " ('s', (41, 42)),\n",
       " ('in', (42, 44)),\n",
       " ('e', (44, 45)),\n",
       " ('s', (45, 46)),\n",
       " ('sy', (46, 48)),\n",
       " ('ou', (48, 50)),\n",
       " ('s', (50, 51)),\n",
       " ('e', (51, 52)),\n",
       " ('e', (52, 53))]"
      ]
     },
     "execution_count": 140,
     "metadata": {},
     "output_type": "execute_result"
    }
   ],
   "source": [
    "leaves = sorted([x for x in G.nodes() if G.out_degree(x)==0 and G.in_degree(x)==1],key=lambda x:x[1])\n",
    "leaves"
   ]
  },
  {
   "cell_type": "code",
   "execution_count": 55,
   "metadata": {},
   "outputs": [
    {
     "data": {
      "text/plain": [
       "[(('s', 'v'), (0.09779468386438131, 7, 1)),\n",
       " (('y', 'g'), (0.33611240640936896, 3, -1)),\n",
       " (('r', 'y'), (0.35453086053399163, 8, 1)),\n",
       " (('o', 'o'), (0.4226322372126632, 14, -1)),\n",
       " (('o', 'd'), (0.4975252467708134, 1, 1)),\n",
       " (('e', 'r'), (0.5296574968117626, 1, 1)),\n",
       " (('i', 's'), (0.5598319217617619, 1, 1)),\n",
       " (('s', 'i'), (0.605438997813863, 2, 1)),\n",
       " (('t', 'h'), (0.8182791185281078, 5, -1)),\n",
       " (('h', 'i'), (0.8210714892127832, 2, 1)),\n",
       " (('g', 'o'), (0.901120528583532, 2, 1)),\n",
       " (('v', 'e'), (1.2280171647647034, 3, 1))]"
      ]
     },
     "execution_count": 55,
     "metadata": {},
     "output_type": "execute_result"
    }
   ],
   "source": [
    "pair_scores_sorted"
   ]
  },
  {
   "cell_type": "code",
   "execution_count": 198,
   "metadata": {},
   "outputs": [],
   "source": [
    "types = defaultdict(list)\n",
    "for pair, (score,type,sig) in pair_scores:\n",
    "    types[(type,sig)] += [pair]"
   ]
  },
  {
   "cell_type": "code",
   "execution_count": 159,
   "metadata": {},
   "outputs": [
    {
     "name": "stdout",
     "output_type": "stream",
     "text": [
      "2\n",
      "0.4685783878296999\n"
     ]
    },
    {
     "data": {
      "text/html": [
       "<div>\n",
       "<style scoped>\n",
       "    .dataframe tbody tr th:only-of-type {\n",
       "        vertical-align: middle;\n",
       "    }\n",
       "\n",
       "    .dataframe tbody tr th {\n",
       "        vertical-align: top;\n",
       "    }\n",
       "\n",
       "    .dataframe thead th {\n",
       "        text-align: right;\n",
       "    }\n",
       "</style>\n",
       "<table border=\"1\" class=\"dataframe\">\n",
       "  <thead>\n",
       "    <tr style=\"text-align: right;\">\n",
       "      <th></th>\n",
       "      <th>0</th>\n",
       "      <th>1</th>\n",
       "    </tr>\n",
       "  </thead>\n",
       "  <tbody>\n",
       "    <tr>\n",
       "      <th>0</th>\n",
       "      <td>(0.18926592815526744, b)</td>\n",
       "      <td>(0.38051566998326974, e)</td>\n",
       "    </tr>\n",
       "    <tr>\n",
       "      <th>1</th>\n",
       "      <td>(0.17406530600157966, p)</td>\n",
       "      <td>(0.36012150217223243, o)</td>\n",
       "    </tr>\n",
       "    <tr>\n",
       "      <th>2</th>\n",
       "      <td>(0.17282818384057513, m)</td>\n",
       "      <td>(0.3099165673628348, a)</td>\n",
       "    </tr>\n",
       "    <tr>\n",
       "      <th>3</th>\n",
       "      <td>(0.15508567377988253, t)</td>\n",
       "      <td>(0.30277292959131974, i)</td>\n",
       "    </tr>\n",
       "    <tr>\n",
       "      <th>4</th>\n",
       "      <td>(0.1419071487470683, h)</td>\n",
       "      <td>(0.2814045182992873, y)</td>\n",
       "    </tr>\n",
       "    <tr>\n",
       "      <th>5</th>\n",
       "      <td>(0.13258041214326793, f)</td>\n",
       "      <td>(0.22246833976066827, h)</td>\n",
       "    </tr>\n",
       "    <tr>\n",
       "      <th>6</th>\n",
       "      <td>(0.13094055448226036, g)</td>\n",
       "      <td>(0.19335170413534025, u)</td>\n",
       "    </tr>\n",
       "    <tr>\n",
       "      <th>7</th>\n",
       "      <td>(0.12297035968196224, c)</td>\n",
       "      <td>(0.14805812101193513, j)</td>\n",
       "    </tr>\n",
       "    <tr>\n",
       "      <th>8</th>\n",
       "      <td>(0.1115697086616051, d)</td>\n",
       "      <td>(0.10826395395333002, 0)</td>\n",
       "    </tr>\n",
       "    <tr>\n",
       "      <th>9</th>\n",
       "      <td>(0.10582490071708095, l)</td>\n",
       "      <td>(0.0916079273938416, w)</td>\n",
       "    </tr>\n",
       "    <tr>\n",
       "      <th>10</th>\n",
       "      <td>(0.10463902723308711, s)</td>\n",
       "      <td>(0.07933298959148047, £)</td>\n",
       "    </tr>\n",
       "    <tr>\n",
       "      <th>11</th>\n",
       "      <td>(0.0968135741378423, w)</td>\n",
       "      <td>(0.05701900584481027, 7)</td>\n",
       "    </tr>\n",
       "    <tr>\n",
       "      <th>12</th>\n",
       "      <td>(0.09458486939789557, v)</td>\n",
       "      <td>(0.05186646764074554, t)</td>\n",
       "    </tr>\n",
       "    <tr>\n",
       "      <th>13</th>\n",
       "      <td>(0.08586601776293289, k)</td>\n",
       "      <td>(0.04995089691380771, 4)</td>\n",
       "    </tr>\n",
       "    <tr>\n",
       "      <th>14</th>\n",
       "      <td>(0.07231754863890714, j)</td>\n",
       "      <td>(0.04825440703706129, 3)</td>\n",
       "    </tr>\n",
       "  </tbody>\n",
       "</table>\n",
       "</div>"
      ],
      "text/plain": [
       "                           0                         1\n",
       "0   (0.18926592815526744, b)  (0.38051566998326974, e)\n",
       "1   (0.17406530600157966, p)  (0.36012150217223243, o)\n",
       "2   (0.17282818384057513, m)   (0.3099165673628348, a)\n",
       "3   (0.15508567377988253, t)  (0.30277292959131974, i)\n",
       "4    (0.1419071487470683, h)   (0.2814045182992873, y)\n",
       "5   (0.13258041214326793, f)  (0.22246833976066827, h)\n",
       "6   (0.13094055448226036, g)  (0.19335170413534025, u)\n",
       "7   (0.12297035968196224, c)  (0.14805812101193513, j)\n",
       "8    (0.1115697086616051, d)  (0.10826395395333002, 0)\n",
       "9   (0.10582490071708095, l)   (0.0916079273938416, w)\n",
       "10  (0.10463902723308711, s)  (0.07933298959148047, £)\n",
       "11   (0.0968135741378423, w)  (0.05701900584481027, 7)\n",
       "12  (0.09458486939789557, v)  (0.05186646764074554, t)\n",
       "13  (0.08586601776293289, k)  (0.04995089691380771, 4)\n",
       "14  (0.07231754863890714, j)  (0.04825440703706129, 3)"
      ]
     },
     "execution_count": 159,
     "metadata": {},
     "output_type": "execute_result"
    }
   ],
   "source": [
    "T_score, Tn, T_sign = pair_scores[5][1]\n",
    "print(Tn)\n",
    "print(T_score)\n",
    "type_L = sorted([(score*T_sign,term) for term, score in zip(terms,U.T[Tn])], reverse=True)\n",
    "type_R = sorted([(score*T_sign,context) for context, score in zip(contexts,Vh[Tn])], reverse=True)\n",
    "slg.util.df([type_L[:15],type_R[:15]])"
   ]
  },
  {
   "cell_type": "code",
   "execution_count": null,
   "metadata": {},
   "outputs": [],
   "source": []
  }
 ],
 "metadata": {
  "interpreter": {
   "hash": "e2d2405374502165a8bd1b0d292560b3bd4b111edf332d1a06bb58389351bced"
  },
  "kernelspec": {
   "display_name": "Python 3.9.4 64-bit ('3.9.4')",
   "language": "python",
   "name": "python3"
  },
  "language_info": {
   "codemirror_mode": {
    "name": "ipython",
    "version": 3
   },
   "file_extension": ".py",
   "mimetype": "text/x-python",
   "name": "python",
   "nbconvert_exporter": "python",
   "pygments_lexer": "ipython3",
   "version": "3.9.10"
  },
  "orig_nbformat": 4
 },
 "nbformat": 4,
 "nbformat_minor": 2
}
