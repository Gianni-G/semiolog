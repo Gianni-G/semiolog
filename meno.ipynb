{
    "cells": [
        {
            "cell_type": "code",
            "execution_count": 1,
            "metadata": {},
            "outputs": [],
            "source": [
                "import semiolog as slg"
            ]
        },
        {
            "cell_type": "code",
            "execution_count": 2,
            "metadata": {},
            "outputs": [
                {
                    "name": "stdout",
                    "output_type": "stream",
                    "text": [
                        "SLG: Checking config correctness...\n",
                        "SLG: Config correct!\n",
                        "SLG Warning: models/abacus/corpus/train.txt does not exist.\n",
                        "Corpus will not be loaded from file.\n",
                        "\n",
                        "SLG Warning: models/abacus/vocabulary/merges.txt does not exist.\n",
                        "Vocabulary will not be loaded from file.\n",
                        "\n"
                    ]
                }
            ],
            "source": [
                "semiotic = slg.Cenematic(\"abacus\")"
            ]
        },
        {
            "cell_type": "code",
            "execution_count": 3,
            "metadata": {},
            "outputs": [
                {
                    "name": "stdout",
                    "output_type": "stream",
                    "text": [
                        "\n",
                        "SLG: Dataset loaded from the following files: [\"Toti Rigatelli_L_1984_Gori_Praticha d'alcibra_S.txt\", \"Franci_R_2015_Un trattato d'abaco pisano della fine del XIII secolo (MS)_Working copy.txt\", 'Simi_A_1992_Anonimo fiorentino_Regole di geometria e della cosa_S.txt', 'Arrighi_G_1967{c}_Trascelta di Giovanni di Bartolo_S.txt', 'Arrighi_G_1999_Anonimo_Algorismus_S.txt', 'Arrighi_G_1964_(ps)-Paolo_S.txt', \"Arrighi_G_1989{a}_Livero de l'abbecho_S.txt\", \"Arrighi_G_1973_Scuola lucchese--LIbro d'abaco_S.txt\", \"Franci_R_1983{a}_Gilio_Questioni d'algebra_S.txt\", \"Jens Hoyrup - Jacopo da Firenze's Tractatus Algorismi and Early Italian Abbacus Culture (Science Networks. Historical Studies) (2007).txt\", 'Arrighi_G_1967{a}_Mazzingi-fioretti_S.txt', 'Simi_A_1994_Alcibra amuchabile_S.txt', \"Arrighi_G_1974_P-M-Calandri[Benedetto]_Tractato-d'abbacho_S.txt\", \"Franci_R_2015_Un trattato d'abaco pisano della fine del XIII secolo_S_OK.txt\", 'Arrighi_G_1987{f}_Gherardi+Liber habaci_S.txt', 'Franci_R_2001_Dardi-Aliabraa argibra_S.txt', 'Arrighi_G_1969_Filippo Calandri_Trattato di Aritmetica_S.txt', 'Gregori_S_&Grugnetti_1998__Anonimo_Libro di conti e mercatanzie_S.txt', \"Arrighi_G_1970_Piero-Trattato d'abbaco_S.txt\", 'Arrighi_G_1964{a}_Guglielmo_De arithmetica compendiose tractata_S.txt', \"Pieraccini_L_1983_Maestro Biagio_Chasi exemplari alla regola dell'argibra_S.txt\", \"Franci_R_1988{c}_&Pancanti_Trattato d'algibra_S.txt\", \"Arrighi_G_1966{b}_Paolo dell'Abbaco_Regoluzze_S.txt\", 'Gino Arrighi - Maestro Umbro (sec. XIII), LIVERO DE L’ABBECHO (1987).txt', 'Simi_A_1995_Jacopo-Riccardiana 2236_S.txt', \"Arrighi_G_1987_Giovanni de' Danti_Tractato de l'algorisimo_S.txt\", 'Paolo Gherardi, Gino Arrighi - OPERA MATEMATICA - Libro ài ragioni - Liber habaci-Maria Pacini Pazzi (1987).txt'].\n",
                        "\n",
                        "Corpus built\n"
                    ]
                }
            ],
            "source": [
                "semiotic.corpus.build(\n",
                "    split_sent=False,\n",
                "    keep_source=True\n",
                ")"
            ]
        },
        {
            "cell_type": "code",
            "execution_count": 4,
            "metadata": {},
            "outputs": [
                {
                    "data": {
                        "text/plain": [
                            "DatasetDict({\n",
                            "    train: Dataset({\n",
                            "        features: ['text', 'source'],\n",
                            "        num_rows: 21780\n",
                            "    })\n",
                            "    dev: Dataset({\n",
                            "        features: ['text', 'source'],\n",
                            "        num_rows: 1210\n",
                            "    })\n",
                            "    test: Dataset({\n",
                            "        features: ['text', 'source'],\n",
                            "        num_rows: 1211\n",
                            "    })\n",
                            "})"
                        ]
                    },
                    "execution_count": 4,
                    "metadata": {},
                    "output_type": "execute_result"
                }
            ],
            "source": [
                "semiotic.corpus.dataset"
            ]
        },
        {
            "cell_type": "code",
            "execution_count": 18,
            "metadata": {},
            "outputs": [
                {
                    "name": "stdout",
                    "output_type": "stream",
                    "text": [
                        "Computing in parallel\n",
                        "Normalize and jobs data...\n",
                        "... computed in 2.118035078048706 secs.\n",
                        "\n",
                        "Build alphabet...\n",
                        "... computed in 0.00043272972106933594 secs.\n",
                        "\n",
                        "Alphabet Size: 56\n",
                        "Special Tokens Size: 5\n",
                        "Terms to compute: 1939\n",
                        "\n",
                        "Enter loop\n"
                    ]
                },
                {
                    "data": {
                        "application/vnd.jupyter.widget-view+json": {
                            "model_id": "951ca7fd5f5a441aaaacaffdb1f412c5",
                            "version_major": 2,
                            "version_minor": 0
                        },
                        "text/plain": [
                            "  0%|          | 0/1939 [00:00<?, ?it/s]"
                        ]
                    },
                    "metadata": {},
                    "output_type": "display_data"
                },
                {
                    "name": "stdout",
                    "output_type": "stream",
                    "text": [
                        "Compute freq...\n",
                        "... computed in 0.05408000946044922 secs.\n",
                        "\n",
                        "Vocabulary built\n",
                        "\n",
                        "Syntagmatic and Paradigmatic updated with the new vocabulary\n",
                        "\n"
                    ]
                }
            ],
            "source": [
                "semiotic.vocab.build(\n",
                "    save = False,\n",
                "    vocab_size=2000,\n",
                "    parallel = True,\n",
                "    save_step=20\n",
                "    )"
            ]
        },
        {
            "cell_type": "code",
            "execution_count": 17,
            "metadata": {},
            "outputs": [
                {
                    "data": {
                        "text/plain": [
                            "['i',\n",
                            " 'have',\n",
                            " 'm',\n",
                            " 'ad',\n",
                            " 'em',\n",
                            " 'y',\n",
                            " 'pl',\n",
                            " 'an',\n",
                            " 'sand',\n",
                            " 'im',\n",
                            " 'ust',\n",
                            " 'st',\n",
                            " 'ic',\n",
                            " 'k',\n",
                            " 'tothe',\n",
                            " 'm']"
                        ]
                    },
                    "execution_count": 17,
                    "metadata": {},
                    "output_type": "execute_result"
                }
            ],
            "source": [
                "sent = \"I have made my plans and I must stick to them\"\n",
                "sent_seq = semiotic(sent)\n",
                "sent_seq.chain.labels"
            ]
        },
        {
            "cell_type": "code",
            "execution_count": 19,
            "metadata": {},
            "outputs": [
                {
                    "data": {
                        "text/plain": [
                            "['ihave', 'made', 'my', 'plan', 'sand', 'i', 'must', 'st', 'ick', 'to', 'them']"
                        ]
                    },
                    "execution_count": 19,
                    "metadata": {},
                    "output_type": "execute_result"
                }
            ],
            "source": [
                "sent_seq = semiotic(sent)\n",
                "sent_seq.chain.labels"
            ]
        },
        {
            "cell_type": "code",
            "execution_count": null,
            "metadata": {},
            "outputs": [],
            "source": []
        }
    ],
    "metadata": {
        "interpreter": {
            "hash": "ac2eaa0ea0ebeafcc7822e65e46aa9d4f966f30b695406963e145ea4a91cd4fc"
        },
        "kernelspec": {
            "display_name": "Python 3.9.5 64-bit",
            "name": "python3"
        },
        "language_info": {
            "codemirror_mode": {
                "name": "ipython",
                "version": 3
            },
            "file_extension": ".py",
            "mimetype": "text/x-python",
            "name": "python",
            "nbconvert_exporter": "python",
            "pygments_lexer": "ipython3",
            "version": "3.9.10"
        },
        "orig_nbformat": 4
    },
    "nbformat": 4,
    "nbformat_minor": 2
}
