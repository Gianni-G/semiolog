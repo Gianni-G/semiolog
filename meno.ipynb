{
    "cells": [
        {
            "cell_type": "code",
            "execution_count": 1,
            "metadata": {},
            "outputs": [],
            "source": [
                "import semiolog as slg"
            ]
        },
        {
            "cell_type": "code",
            "execution_count": 2,
            "metadata": {},
            "outputs": [
                {
                    "name": "stdout",
                    "output_type": "stream",
                    "text": [
                        "SLG: Checking config correctness...\n",
                        "SLG: Config correct!\n",
                        "SLG Warning: models/abacus/corpus/train.txt does not exist.\n",
                        "Corpus will not be loaded from file.\n",
                        "\n",
                        "SLG Warning: models/abacus/vocabulary/merges.txt does not exist.\n",
                        "Vocabulary will not be loaded from file.\n",
                        "\n"
                    ]
                }
            ],
            "source": [
                "semiotic = slg.Cenematic(\"abacus\")"
            ]
        },
        {
            "cell_type": "code",
            "execution_count": 3,
            "metadata": {},
            "outputs": [
                {
                    "name": "stdout",
                    "output_type": "stream",
                    "text": [
                        "\n",
                        "SLG: Dataset loaded from the following files: [\"Toti Rigatelli_L_1984_Gori_Praticha d'alcibra_S.txt\", \"Franci_R_2015_Un trattato d'abaco pisano della fine del XIII secolo (MS)_Working copy.txt\", 'Simi_A_1992_Anonimo fiorentino_Regole di geometria e della cosa_S.txt', 'Arrighi_G_1967{c}_Trascelta di Giovanni di Bartolo_S.txt', 'Arrighi_G_1999_Anonimo_Algorismus_S.txt', 'Arrighi_G_1964_(ps)-Paolo_S.txt', \"Arrighi_G_1989{a}_Livero de l'abbecho_S.txt\", \"Arrighi_G_1973_Scuola lucchese--LIbro d'abaco_S.txt\", \"Franci_R_1983{a}_Gilio_Questioni d'algebra_S.txt\", \"Jens Hoyrup - Jacopo da Firenze's Tractatus Algorismi and Early Italian Abbacus Culture (Science Networks. Historical Studies) (2007).txt\", 'Arrighi_G_1967{a}_Mazzingi-fioretti_S.txt', 'Simi_A_1994_Alcibra amuchabile_S.txt', \"Arrighi_G_1974_P-M-Calandri[Benedetto]_Tractato-d'abbacho_S.txt\", \"Franci_R_2015_Un trattato d'abaco pisano della fine del XIII secolo_S_OK.txt\", 'Arrighi_G_1987{f}_Gherardi+Liber habaci_S.txt', 'Franci_R_2001_Dardi-Aliabraa argibra_S.txt', 'Arrighi_G_1969_Filippo Calandri_Trattato di Aritmetica_S.txt', 'Gregori_S_&Grugnetti_1998__Anonimo_Libro di conti e mercatanzie_S.txt', \"Arrighi_G_1970_Piero-Trattato d'abbaco_S.txt\", 'Arrighi_G_1964{a}_Guglielmo_De arithmetica compendiose tractata_S.txt', \"Pieraccini_L_1983_Maestro Biagio_Chasi exemplari alla regola dell'argibra_S.txt\", \"Franci_R_1988{c}_&Pancanti_Trattato d'algibra_S.txt\", \"Arrighi_G_1966{b}_Paolo dell'Abbaco_Regoluzze_S.txt\", 'Gino Arrighi - Maestro Umbro (sec. XIII), LIVERO DE L’ABBECHO (1987).txt', 'Simi_A_1995_Jacopo-Riccardiana 2236_S.txt', \"Arrighi_G_1987_Giovanni de' Danti_Tractato de l'algorisimo_S.txt\", 'Paolo Gherardi, Gino Arrighi - OPERA MATEMATICA - Libro ài ragioni - Liber habaci-Maria Pacini Pazzi (1987).txt'].\n",
                        "\n",
                        "Corpus built\n"
                    ]
                }
            ],
            "source": [
                "semiotic.corpus.build(\n",
                "    split_sent=False,\n",
                "    keep_source=True\n",
                ")"
            ]
        },
        {
            "cell_type": "code",
            "execution_count": 4,
            "metadata": {},
            "outputs": [
                {
                    "data": {
                        "text/plain": [
                            "DatasetDict({\n",
                            "    train: Dataset({\n",
                            "        features: ['text', 'source'],\n",
                            "        num_rows: 21780\n",
                            "    })\n",
                            "    dev: Dataset({\n",
                            "        features: ['text', 'source'],\n",
                            "        num_rows: 1210\n",
                            "    })\n",
                            "    test: Dataset({\n",
                            "        features: ['text', 'source'],\n",
                            "        num_rows: 1211\n",
                            "    })\n",
                            "})"
                        ]
                    },
                    "execution_count": 4,
                    "metadata": {},
                    "output_type": "execute_result"
                }
            ],
            "source": [
                "semiotic.corpus.dataset"
            ]
        },
        {
            "cell_type": "code",
            "execution_count": 5,
            "metadata": {},
            "outputs": [
                {
                    "name": "stderr",
                    "output_type": "stream",
                    "text": [
                        "100%|██████████| 22/22 [00:00<00:00, 95.86ba/s]\n"
                    ]
                }
            ],
            "source": [
                "meno_corpus = semiotic.corpus.train.filter(lambda paragraph: \"meno\" in paragraph[\"text\"])"
            ]
        },
        {
            "cell_type": "code",
            "execution_count": 6,
            "metadata": {},
            "outputs": [
                {
                    "data": {
                        "text/plain": [
                            "{'text': ['cubi e poi dimezare i ciensi e multiplicare per se medesmo e porre sopra le cose e quello che fa la sua radice meno il dimezamento di ciensi, cotanto varrà la chosa.',\n",
                            "  'Ancora truovami quella di 20. Poni sia 4; dì: 4 via 4 fa 16, fino in 20 è meno 4. Dunque parti la radice per quello che è meno, cioè per 4, e viene 1 e riman 0. Però fa secondo la regola di prima spetie e troverai che 4.1/2 si è la più vicina radice di 20.',\n",
                            "  'la quinta parte del primo el primo ten cho’ el 1/18 e ’l sechondo 1/3 del 1/3, adonqua la quinta parte d’esso primo tiene 10/518 del sechondo gioè 1/90 e la quinta parte del tergo gioè 1/15 donqua el secondo tiene la quantitade del tergo meno 1/90 de la seconda e 1/15 del tergo. Adonqua el sechondo tiene 14/15 del tergo meno 1/90 em se medesimo em pergiò 14/15 del tergo vaso tiene la quantitade del sechondo e più 1/90 d’esso sechondo gioè 91/90. L’altro tergo vaso tiene la quantitade del sechondo e la quinta parte del primo, el quale 1/5 ène sechondodiecemo 1/90 del sechondo 1/15 del tergo; adonqua el tergo tiene la quantitade del sechondo e 1 /90 del sechondo e 1/15 del tergo; adonqua el tergo tiene la quantitade del sechondo e 1/90 d’esso medesmo e 1/15 del tergo. Cumunamente togleamo el quindecimo del tergo vaso sirà 14/15 del tergo vaso 91/90 del sechondo. Chusì se chonosce quista quistione e de’ scioglela chusì che devemo trovare 2 numere degle quagle l’uno sia 91/90 de l’altro e mo’ multiplicha 91, ch’è de sopre da la verga de 90, per 15, egl quagle sonno de sotta da 14 e sironno 1365, el qual è maiure trovato. Anchora multiplicha 14 per 90 e sironno 1260 e lo qual è l’altro numero, egle quagle 2 numere podemo retornare a meno-94r re parte gioè em || 35 gioè 10/57 egl quagle sonno e ve’ se regola e verà per lo tenuto del sechondo vaso 36 e per lo tenuto del tergo 39 e per lo tenuto del primo 15 gioè che devemo agiognere el 1/18 de 36 gioè 2 per lo 1/3 de 39 gioè 13 e veie che fa 15, sechondo ditto avemo de sopre e sì fa’ le semeglante ragione.',\n",
                            "  \"25 1. , cioè debbono venire 2 chose meno 25 !♦ e meno 5 1. , che è il merito delle 100 1., a 1 d. per 1. meno al mese, che fanno l'anno 5 1. , le qualj 5 1. , agunte a 25 1. meno, fanno meno 20 1.. Ora diraj che a partire 10000 in 1 chosa, ne verrà 2 chose meno 20 1., dove se si moltiplicha 2 chose meno 20 per una chosa, doverrebbe tare 10000 1. e però moltiplicha 2 chose e 20 per una chosa, fanno 2 censj meno 20 chose e questo è igualj a 10000 1. dove, oservando la sexta reghola, cioè prima raguagliando, dando a ognj parte 20 chose e araj che 2 censj fi'eno igualj a 10000 e 20 chose che, rechando 1 a uno censo, aremo che uno censo sono igualj a 5000 e I l 10 chose; dimeza\\tle\\tchose, sono 5; moltiplicha in sè,\\t1\",\n",
                            "  \"’\\tsfora le parti; to' via da omni parte 100 resta 2 et 96 meno 28.\",\n",
                            "  'el consolare de le quale le libre 6 sonno de moneta eh e ad onzie 7 e libre 1 de ciascuna de quille 3 monete che remangono esse de ciascuna de le 3 monete, uugualmente mettere eie vorraie mette la prima consolatione 1 fiada e la seconda 2 e la terga 3 ed averaie ella somma dela predicta consolatione gioè libra 1 de moneta la quale è ad onzie 3 e libre 2 de quilla ch’è a 4 e libre 3 de quilla ch’è a 5 e libre 10 de quilla ch’è a 7. Da chapo se vuogle che la multiplicatione de quille che tu eie metteraie de quilla ch’è ad onzie 3 sì cho’ metterà e de quilla ch’è ad onzie 5, facamo uguale multiplicatione de quille ch’en eie mettaie e de quilla ch’è 28r ad onzie 4 cusì || e sia la somma de tutto el consolare libre 20. Pone la prima consolatione 1 fiada, la seconda 2, la terga 4 ed averaie per la parte d’esse propositione sonno libre 18 de le quale libr. 11 sonno de quille ch’è ad onzie 7 e libre 4 de quilla ch’è ad onzie 5 e libre 2 de quilla ch’è ad ongie 4 e libra 1 de quille ch’è ad onzie 3 e sonno libre de le predicte 3 monete menore e la propositione contina en perciò che s. 4 sonno a 2 e chusì 2 sonno alo vuoglesi cho uno ène a 2, chusì 2 sonno a 4 ed en pergio la multiplichatione de 1 ène 4 e 4 multiplicati per 2 en se medesimo a ciò che la somma de quisto consolare attorniamo en libre 2 en quista altra propositione e’ multiplica 20 per lo modo de la compagina, gioè per 1 e per 2 e per 4 e per Ile ciaschuna multiplicatione parte per 15, che ne viene de la moneta ch’è ad onze 3 libr. 1/9 1 e de quista ch’è ad onzie 4 libre 1/9 2 e de quilla ch’è ad onzie 5 libre 4/9 4 e de quilla ch’è ad onzie 7 libre 4/9 12.',\n",
                            "  'Se vuoi multipricare R di R di 20 e R di 3 meno 2 via R di R di 20 è R di 3 meno 2, multiprica prima R di R di 20 e R di 3 per sé medesimo, cioè R di R di 20 per sé fa R di 20, e R di 3 via R di 3 fa 3, recho R di 20 più 3, ora mul tiprica R di R di 20 via R di\\t3\\tfa\\tR\\tdi 180, el quale si',\n",
                            "  \"/I3/ Truova I numaro che trattone e 2/5 e 2 più e' rimanente multipricato per 6 faccia quel medesimo numaro. Fa cosi: pone chel numaro fusse I cosa, trane 2/5 e 2 più resta 3/5 meno 2, multiprica per 6 fa 3e3/5 di cosa meno 12 numari e sonno uguali a I cosa. Da 12 a ciascuna parte, ài che 3e3/5 di cosa sonno uguali a 12 numari. Trae I cosa da ciascuna parte, rimane che 2e3/5 di cosa sonno uguali a 12 numari. Parte 12 per 2e3/5 Vienne 4e8/l3, e tanto vale la cosa, che tu ponesti in quel numaro fosse I cosa, e 2 cose di chel nume_ ro è 4e8/l3. Et.c.f.l.s.r.. /c.45 v. /\",\n",
                            "  \"161 v Quando gli censi di censi e chubi s'aguagliano a' censi prima si parta ne' censi di censi e poi si dimezi i chubi e l'una metade si multripichi per se medesimo e ciò che fa s1agiungha a censi e Ila radice della somma meno il dimeza mento de' chubi.chotanto varà La chosa.\",\n",
                            "  \"Faremo l'altra posizione e però che Ila chosa vaglia 12, sichè 1 1/2 chose meno ’ 18 per insino allo 276 avi 258, cho tanto vagliono le 3 1/2 borse, sichè nella borsa arà 73 5/7. Or va al'altra parte e dirai le 73 chose vagliono 876, or va ale 7 borse, varano 516, agiunto alo 664 ch'era cho' Ile borse fa 1180, dove fu detto doveva fare 876. Dunque ci vie ne più 304 e dirai nella sechonda posizione per 12 ch'io puosi che valesse la chosa mi viene più 304. Chosì prese le fatte due posizioni ed 'seminate ti verà che Ila chosa vaglia 16. Se vorai la valuta della borsa tieni il modo che ssi bienne nel disaminare le posizioni, chosì troverai che Ila borsa varà 72 e saputo la valuta della chosa ed anche de la perla (sic!) e definita la nostra quistione dove al prime fu dato una chosa, sapiamo che '1 primo aveva 16 e serba, al sechondo fue dato 9/8 di chosa più 1/8 di borsa meno 7, sai che 9/8 di chosa si vagliono 18 e Ilo 1/8 della borsa vale 9, abiamo 27. Di questo trato lo 7 ch'egli aveva debito re sta 20, chotanto aveva il sechondo e serba e se al terzo fu dato 3/8 di borsa più 7 meno 5/8 di chosa, sapiamo che li 3/8 della borsa sono 27 e più 1 abiamo 34, di questo tra to gli 5/8 della chosa ch'egli aveva debito, coene 10, re sta che '1 terzo abia 24 e chosì serba simile per sapere quant’à in ciaschuna borsa; nella prima ane 72, nella sechonda ane più 28, sichè e n'à 100, nella terza cine 20\"],\n",
                            " 'source': ['Gregori_S_&Grugnetti_1998__Anonimo_Libro di conti e mercatanzie_S',\n",
                            "  'Simi_A_1992_Anonimo fiorentino_Regole di geometria e della cosa_S',\n",
                            "  \"Arrighi_G_1989{a}_Livero de l'abbecho_S\",\n",
                            "  \"Pieraccini_L_1983_Maestro Biagio_Chasi exemplari alla regola dell'argibra_S\",\n",
                            "  \"Arrighi_G_1970_Piero-Trattato d'abbaco_S\",\n",
                            "  \"Arrighi_G_1989{a}_Livero de l'abbecho_S\",\n",
                            "  \"Franci_R_1983{a}_Gilio_Questioni d'algebra_S\",\n",
                            "  \"Franci_R_1983{a}_Gilio_Questioni d'algebra_S\",\n",
                            "  \"Franci_R_1988{c}_&Pancanti_Trattato d'algibra_S\",\n",
                            "  \"Franci_R_1988{c}_&Pancanti_Trattato d'algibra_S\"]}"
                        ]
                    },
                    "execution_count": 6,
                    "metadata": {},
                    "output_type": "execute_result"
                }
            ],
            "source": [
                "meno_corpus[:10]"
            ]
        },
        {
            "cell_type": "code",
            "execution_count": 18,
            "metadata": {},
            "outputs": [
                {
                    "name": "stdout",
                    "output_type": "stream",
                    "text": [
                        "Computing in parallel\n",
                        "Normalize and jobs data...\n",
                        "... computed in 2.118035078048706 secs.\n",
                        "\n",
                        "Build alphabet...\n",
                        "... computed in 0.00043272972106933594 secs.\n",
                        "\n",
                        "Alphabet Size: 56\n",
                        "Special Tokens Size: 5\n",
                        "Terms to compute: 1939\n",
                        "\n",
                        "Enter loop\n"
                    ]
                },
                {
                    "data": {
                        "application/vnd.jupyter.widget-view+json": {
                            "model_id": "951ca7fd5f5a441aaaacaffdb1f412c5",
                            "version_major": 2,
                            "version_minor": 0
                        },
                        "text/plain": [
                            "  0%|          | 0/1939 [00:00<?, ?it/s]"
                        ]
                    },
                    "metadata": {},
                    "output_type": "display_data"
                },
                {
                    "name": "stdout",
                    "output_type": "stream",
                    "text": [
                        "Compute freq...\n",
                        "... computed in 0.05408000946044922 secs.\n",
                        "\n",
                        "Vocabulary built\n",
                        "\n",
                        "Syntagmatic and Paradigmatic updated with the new vocabulary\n",
                        "\n"
                    ]
                }
            ],
            "source": [
                "semiotic.vocab.build(\n",
                "    save = False,\n",
                "    vocab_size=2000,\n",
                "    parallel = True,\n",
                "    save_step=20\n",
                "    )"
            ]
        },
        {
            "cell_type": "code",
            "execution_count": 17,
            "metadata": {},
            "outputs": [
                {
                    "data": {
                        "text/plain": [
                            "['i',\n",
                            " 'have',\n",
                            " 'm',\n",
                            " 'ad',\n",
                            " 'em',\n",
                            " 'y',\n",
                            " 'pl',\n",
                            " 'an',\n",
                            " 'sand',\n",
                            " 'im',\n",
                            " 'ust',\n",
                            " 'st',\n",
                            " 'ic',\n",
                            " 'k',\n",
                            " 'tothe',\n",
                            " 'm']"
                        ]
                    },
                    "execution_count": 17,
                    "metadata": {},
                    "output_type": "execute_result"
                }
            ],
            "source": [
                "sent = \"I have made my plans and I must stick to them\"\n",
                "sent_seq = semiotic(sent)\n",
                "sent_seq.chain.labels"
            ]
        },
        {
            "cell_type": "code",
            "execution_count": 19,
            "metadata": {},
            "outputs": [
                {
                    "data": {
                        "text/plain": [
                            "['ihave', 'made', 'my', 'plan', 'sand', 'i', 'must', 'st', 'ick', 'to', 'them']"
                        ]
                    },
                    "execution_count": 19,
                    "metadata": {},
                    "output_type": "execute_result"
                }
            ],
            "source": [
                "sent_seq = semiotic(sent)\n",
                "sent_seq.chain.labels"
            ]
        },
        {
            "cell_type": "code",
            "execution_count": null,
            "metadata": {},
            "outputs": [],
            "source": []
        }
    ],
    "metadata": {
        "interpreter": {
            "hash": "ac2eaa0ea0ebeafcc7822e65e46aa9d4f966f30b695406963e145ea4a91cd4fc"
        },
        "kernelspec": {
            "display_name": "Python 3.9.5 64-bit",
            "name": "python3"
        },
        "language_info": {
            "codemirror_mode": {
                "name": "ipython",
                "version": 3
            },
            "file_extension": ".py",
            "mimetype": "text/x-python",
            "name": "python",
            "nbconvert_exporter": "python",
            "pygments_lexer": "ipython3",
            "version": "3.9.10"
        },
        "orig_nbformat": 4
    },
    "nbformat": 4,
    "nbformat_minor": 2
}
